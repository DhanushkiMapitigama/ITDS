{
 "cells": [
  {
   "cell_type": "markdown",
   "id": "c1745993",
   "metadata": {
    "deletable": false
   },
   "source": [
    "# [Introduction to Data Science](http://datascience-intro.github.io/1MS041-2022/)    \n",
    "## 1MS041, 2022 \n",
    "&copy;2022 Raazesh Sainudiin, Benny Avelin. [Attribution 4.0 International     (CC BY 4.0)](https://creativecommons.org/licenses/by/4.0/)"
   ]
  },
  {
   "cell_type": "markdown",
   "id": "5894523c",
   "metadata": {},
   "source": [
    "## Second notebook on Random variables\n",
    "\n",
    "Lets take a look again at the spam dataset and look at our concepts there"
   ]
  },
  {
   "cell_type": "code",
   "execution_count": 1,
   "id": "45b3edcb",
   "metadata": {},
   "outputs": [
    {
     "data": {
      "text/plain": [
       "[('Go until jurong point, crazy.. Available only in bugis n great world la e buffet... Cine there got amore wat...',\n",
       "  0),\n",
       " ('Ok lar... Joking wif u oni...', 0)]"
      ]
     },
     "execution_count": 1,
     "metadata": {},
     "output_type": "execute_result"
    }
   ],
   "source": [
    "from Utils import load_sms\n",
    "sms_data = load_sms()\n",
    "sms_data[:2]"
   ]
  },
  {
   "cell_type": "markdown",
   "id": "f0b2a6fe",
   "metadata": {},
   "source": [
    "Let X represents each SMS text (an entry in the list), and let $Y$ represent whether text is spam or not i.e. $Y \\in \\{0,1\\}$. Thus $\\mathbb{P}(Y = 1)$ is the probability that we get a spam. The goal is to estimate:\n",
    "$$\n",
    "    \\mathbb{P}(Y = 1 | \\text{\"free\" or \"prize\" is in } X) \\enspace .\n",
    "$$\n",
    "That is, the probability that the SMS is spam given that \"free\" or \"prize\" occurs in the SMS. \n",
    "Hint: it is good to remove the upper/lower case of words so that we can also find \"Free\" and \"Prize\"; this can be done with `text.lower()` if `text` a string.\n",
    "\n",
    "To do this we can create a new random variable $Z$ which is $1$ if \"free\" or \"prize\" appears in $X$."
   ]
  },
  {
   "cell_type": "code",
   "execution_count": 2,
   "id": "76c8c9c4",
   "metadata": {},
   "outputs": [],
   "source": [
    "interesting_words=set(['free','prize'])\n",
    "TF10 = {True: 1, False: 0}\n",
    "Z_obs = [TF10[not interesting_words.isdisjoint([word.lower() for word in line[0].split(' ')])] for line in sms_data]"
   ]
  },
  {
   "cell_type": "code",
   "execution_count": 3,
   "id": "9d654368",
   "metadata": {},
   "outputs": [
    {
     "data": {
      "text/plain": [
       "[0, 0, 1, 0, 0, 0, 0, 0, 1, 1]"
      ]
     },
     "execution_count": 3,
     "metadata": {},
     "output_type": "execute_result"
    }
   ],
   "source": [
    "Z_obs[:10]"
   ]
  },
  {
   "cell_type": "code",
   "execution_count": 4,
   "id": "19703639",
   "metadata": {},
   "outputs": [
    {
     "data": {
      "text/plain": [
       "[0, 0, 1, 0, 0, 1, 0, 0, 1, 1]"
      ]
     },
     "execution_count": 4,
     "metadata": {},
     "output_type": "execute_result"
    }
   ],
   "source": [
    "Y_obs = [y for x,y in sms_data]\n",
    "Y_obs[:10]"
   ]
  },
  {
   "cell_type": "code",
   "execution_count": 61,
   "id": "20eff611",
   "metadata": {},
   "outputs": [],
   "source": [
    "import numpy as np\n",
    "def F_X_12(x):\n",
    "    TF10 = {True: 1, False: 0}\n",
    "    return np.mean([TF10[(x1 <= x[0]) and (x2 <= x[1])] for x1,x2 in zip (Y_obs,Z_obs)])"
   ]
  },
  {
   "cell_type": "markdown",
   "id": "8ddd7ffd",
   "metadata": {},
   "source": [
    "This is the JDF for this problem"
   ]
  },
  {
   "cell_type": "code",
   "execution_count": 62,
   "id": "10e9fdc8",
   "metadata": {},
   "outputs": [
    {
     "name": "stdout",
     "output_type": "stream",
     "text": [
      "\t\tz2 <= 0 \tz2 <= 1\n",
      "y1 <= 0 \t0.86\t\t0.87\t\t\n",
      "\n",
      "y1 <= 1 \t0.96\t\t1.00\t\t\n",
      "\n"
     ]
    }
   ],
   "source": [
    "print(\"\\t\\tz2 <= 0 \\tz2 <= 1\")\n",
    "for x1 in range(0,2):\n",
    "    print(\"y1 <= %d \\t\" % x1,end='')\n",
    "    for x2 in range(0,2):\n",
    "        print(\"%.2f\" % (F_X_12((x1,x2))),end='\\t\\t')\n",
    "    print('\\n')"
   ]
  },
  {
   "cell_type": "code",
   "execution_count": 7,
   "id": "96636b26",
   "metadata": {},
   "outputs": [
    {
     "data": {
      "text/plain": [
       "0.9551328068916008"
      ]
     },
     "execution_count": 7,
     "metadata": {},
     "output_type": "execute_result"
    }
   ],
   "source": [
    "F_X_12((1,0))"
   ]
  },
  {
   "cell_type": "code",
   "execution_count": 8,
   "id": "4adb2b09",
   "metadata": {},
   "outputs": [
    {
     "data": {
      "text/plain": [
       "False"
      ]
     },
     "execution_count": 8,
     "metadata": {},
     "output_type": "execute_result"
    }
   ],
   "source": [
    "F_X_12((0,0)) == F_X_12((0,1))*F_X_12((1,0))"
   ]
  },
  {
   "cell_type": "code",
   "execution_count": 9,
   "id": "9cb2840b",
   "metadata": {},
   "outputs": [
    {
     "data": {
      "text/plain": [
       "0.8270846721557743"
      ]
     },
     "execution_count": 9,
     "metadata": {},
     "output_type": "execute_result"
    }
   ],
   "source": [
    "F_X_12((0,1))*F_X_12((1,0))"
   ]
  },
  {
   "cell_type": "code",
   "execution_count": 10,
   "id": "3989ceeb",
   "metadata": {},
   "outputs": [
    {
     "data": {
      "text/plain": [
       "0.827084672155774"
      ]
     },
     "execution_count": 10,
     "metadata": {},
     "output_type": "execute_result"
    }
   ],
   "source": [
    "# Are they indepdentent? If so, then the JDF is just the product of the \n",
    "# DFs for Y and Z, but\n",
    "0.865936826992103*0.955132806891601"
   ]
  },
  {
   "cell_type": "markdown",
   "id": "1dd04abd",
   "metadata": {},
   "source": [
    "Which is not 0.858, so they are not independent. So lets try to estimate the probability that $Y=1$ given that $Z = 1$. Lets again do that by filtering"
   ]
  },
  {
   "cell_type": "code",
   "execution_count": 11,
   "id": "26611376",
   "metadata": {},
   "outputs": [
    {
     "data": {
      "text/plain": [
       "0.812"
      ]
     },
     "execution_count": 11,
     "metadata": {},
     "output_type": "execute_result"
    }
   ],
   "source": [
    "np.mean([y for z,y in zip(Z_obs,Y_obs) if z == 1])"
   ]
  },
  {
   "cell_type": "markdown",
   "id": "f1c3fdac",
   "metadata": {},
   "source": [
    "Compare that with the marginal probability of $Y = 1$, which is according to our JDF 1-0.866 = 0.134"
   ]
  },
  {
   "cell_type": "code",
   "execution_count": 12,
   "id": "a6c40030",
   "metadata": {},
   "outputs": [
    {
     "data": {
      "text/plain": [
       "0.13406317300789664"
      ]
     },
     "execution_count": 12,
     "metadata": {},
     "output_type": "execute_result"
    }
   ],
   "source": [
    "# Or we can just compute it directly\n",
    "np.mean(Y_obs)"
   ]
  },
  {
   "cell_type": "markdown",
   "id": "7c0883f2",
   "metadata": {},
   "source": [
    "What we see from this is that knowing that the words \"free\" or \"prize\" appeared in the sms text, we are much more certain that it is a spam. We also see that looking directly at the JDF this can be hard to see, although it is equivalent."
   ]
  },
  {
   "cell_type": "markdown",
   "id": "f99cf29f",
   "metadata": {},
   "source": [
    "## Moments etc"
   ]
  },
  {
   "cell_type": "code",
   "execution_count": 13,
   "id": "7f64c5db",
   "metadata": {},
   "outputs": [],
   "source": [
    "import numpy as np\n",
    "x = np.random.normal(size=100)"
   ]
  },
  {
   "cell_type": "code",
   "execution_count": 14,
   "id": "6487286c",
   "metadata": {
    "scrolled": true
   },
   "outputs": [
    {
     "data": {
      "text/plain": [
       "array([-1.60134302, -1.28906197,  1.93971397,  2.52281858,  0.53953384,\n",
       "       -2.7645476 ,  1.25492116, -0.55057419,  1.24821179,  0.28964304,\n",
       "       -0.60443248, -1.36060623,  1.651227  , -1.15519394,  0.1606454 ,\n",
       "       -0.38778905,  0.37239099,  0.60904312, -0.99858765, -1.14558265,\n",
       "        1.9734236 ,  0.38309785,  0.34704152,  1.13627003, -0.51590922,\n",
       "       -1.71574122,  0.7838328 ,  0.79541101, -1.25666358, -1.03152676,\n",
       "       -0.39911225, -0.1228037 ,  0.62649672,  0.29730338, -0.3338335 ,\n",
       "        0.5110353 , -1.67912628, -0.15151192, -1.71723157,  0.58113864,\n",
       "        0.56884112,  0.74043449,  0.30981541, -0.58027176, -0.39066055,\n",
       "        1.57633852, -0.90937859, -1.09338787, -1.54404398, -0.27893451,\n",
       "       -0.34842388,  0.29619616, -0.95360943, -0.52032863,  0.91181005,\n",
       "        0.40804382,  0.38008066,  0.03883902, -1.08265284, -0.80542249,\n",
       "       -0.37878079, -0.63552627, -0.35592166, -0.03175781,  0.05341598,\n",
       "        0.76122113,  0.65130315,  0.92696214, -0.28498709, -0.41825056,\n",
       "       -0.15830699,  0.24510184,  0.68165252,  0.87676945,  1.67932689,\n",
       "        0.97674339, -0.13303986,  0.66412136, -0.28232106, -1.50677271,\n",
       "       -0.98765952, -1.81072251,  0.9318139 ,  0.2431737 ,  0.85176742,\n",
       "       -0.83467907,  0.75333815,  0.41430732,  0.56939154, -0.12847426,\n",
       "       -1.88658178,  0.26011807, -1.10966983, -0.11758429,  0.15269698,\n",
       "       -0.13024577, -0.52204005, -1.22405914, -1.56229197, -0.11250866])"
      ]
     },
     "execution_count": 14,
     "metadata": {},
     "output_type": "execute_result"
    }
   ],
   "source": [
    "x"
   ]
  },
  {
   "cell_type": "markdown",
   "id": "55cae321",
   "metadata": {},
   "source": [
    "## Sample mean"
   ]
  },
  {
   "cell_type": "code",
   "execution_count": 15,
   "id": "daa4c033",
   "metadata": {},
   "outputs": [
    {
     "data": {
      "text/plain": [
       "-0.08953651075137653"
      ]
     },
     "execution_count": 15,
     "metadata": {},
     "output_type": "execute_result"
    }
   ],
   "source": [
    "np.mean(x)"
   ]
  },
  {
   "cell_type": "markdown",
   "id": "cd950864",
   "metadata": {},
   "source": [
    "## Sample variance"
   ]
  },
  {
   "cell_type": "code",
   "execution_count": 16,
   "id": "25b8e8e5",
   "metadata": {},
   "outputs": [
    {
     "data": {
      "text/plain": [
       "0.9428692819847428"
      ]
     },
     "execution_count": 16,
     "metadata": {},
     "output_type": "execute_result"
    }
   ],
   "source": [
    "np.var(x)"
   ]
  },
  {
   "cell_type": "markdown",
   "id": "9c204f2e",
   "metadata": {},
   "source": [
    "Or by doing it yourself"
   ]
  },
  {
   "cell_type": "code",
   "execution_count": 17,
   "id": "ec5e13e7",
   "metadata": {},
   "outputs": [
    {
     "data": {
      "text/plain": [
       "0.9428692819847428"
      ]
     },
     "execution_count": 17,
     "metadata": {},
     "output_type": "execute_result"
    }
   ],
   "source": [
    "mu = np.mean(x)\n",
    "np.mean(np.power(x-mu,2))"
   ]
  },
  {
   "cell_type": "markdown",
   "id": "cf20b0cd",
   "metadata": {},
   "source": [
    "Higher moments, we can use `scipy`"
   ]
  },
  {
   "cell_type": "code",
   "execution_count": 18,
   "id": "d7f53793",
   "metadata": {},
   "outputs": [],
   "source": [
    "from scipy.stats import skew, kurtosis"
   ]
  },
  {
   "cell_type": "code",
   "execution_count": 19,
   "id": "943a6aae",
   "metadata": {},
   "outputs": [
    {
     "data": {
      "text/plain": [
       "-0.023284809884430522"
      ]
     },
     "execution_count": 19,
     "metadata": {},
     "output_type": "execute_result"
    }
   ],
   "source": [
    "skew(x)"
   ]
  },
  {
   "cell_type": "code",
   "execution_count": 20,
   "id": "6747ad12",
   "metadata": {},
   "outputs": [
    {
     "data": {
      "text/plain": [
       "2.8774910601892647"
      ]
     },
     "execution_count": 20,
     "metadata": {},
     "output_type": "execute_result"
    }
   ],
   "source": [
    "kurtosis(x,fisher=False)"
   ]
  },
  {
   "cell_type": "markdown",
   "id": "c33f7eda",
   "metadata": {},
   "source": [
    "## Moments and tail behavior"
   ]
  },
  {
   "cell_type": "code",
   "execution_count": 21,
   "id": "66b8e0bb",
   "metadata": {},
   "outputs": [],
   "source": [
    "def standardize(data):\n",
    "    mean = np.mean(data)\n",
    "    std = np.sqrt(np.var(data))\n",
    "    return (data-mean)/std"
   ]
  },
  {
   "cell_type": "code",
   "execution_count": 22,
   "id": "606c80d4",
   "metadata": {},
   "outputs": [
    {
     "data": {
      "text/plain": [
       "(-3.0, 5.0)"
      ]
     },
     "execution_count": 22,
     "metadata": {},
     "output_type": "execute_result"
    },
    {
     "data": {
      "image/png": "[encoded data removed]",
      "text/plain": [
       "<Figure size 432x288 with 1 Axes>"
      ]
     },
     "metadata": {
      "needs_background": "light"
     },
     "output_type": "display_data"
    }
   ],
   "source": [
    "import numpy as np\n",
    "chi2 = np.random.chisquare(4,size=10000)\n",
    "normal = np.random.normal(size=10000)\n",
    "import matplotlib.pyplot as plt\n",
    "_=plt.hist(standardize(chi2),bins=50,alpha=0.5)\n",
    "_=plt.hist(standardize(normal),bins=50,alpha=0.5)\n",
    "plt.xlim(-3,5)"
   ]
  },
  {
   "cell_type": "code",
   "execution_count": 23,
   "id": "3e98e305",
   "metadata": {},
   "outputs": [],
   "source": [
    "from scipy.stats import skew, kurtosis\n",
    "def print_basic_stats(data):\n",
    "    print(\"mean: %.2f\\tstd: %.2f\\tskew: %.2f\\tkurtosis: %.2f\" % (np.mean(data),np.std(data),skew(data),kurtosis(data,fisher=False)))"
   ]
  },
  {
   "cell_type": "code",
   "execution_count": 24,
   "id": "b7140dec",
   "metadata": {},
   "outputs": [
    {
     "name": "stdout",
     "output_type": "stream",
     "text": [
      "mean: -0.01\tstd: 1.00\tskew: -0.02\tkurtosis: 2.96\n"
     ]
    }
   ],
   "source": [
    "print_basic_stats(normal)"
   ]
  },
  {
   "cell_type": "code",
   "execution_count": 25,
   "id": "e6bff131",
   "metadata": {},
   "outputs": [
    {
     "name": "stdout",
     "output_type": "stream",
     "text": [
      "mean: 4.04\tstd: 2.84\tskew: 1.37\tkurtosis: 5.70\n"
     ]
    }
   ],
   "source": [
    "print_basic_stats(chi2)"
   ]
  },
  {
   "cell_type": "code",
   "execution_count": 40,
   "id": "c9edcdd5",
   "metadata": {},
   "outputs": [
    {
     "name": "stdout",
     "output_type": "stream",
     "text": [
      "mean: -0.00\tstd: 1.00\tskew: 0.38\tkurtosis: 3.01\n"
     ]
    }
   ],
   "source": [
    "print_basic_stats(standardize(np.sqrt(chi2)))"
   ]
  },
  {
   "cell_type": "code",
   "execution_count": 43,
   "id": "e6bbafd9",
   "metadata": {},
   "outputs": [
    {
     "data": {
      "text/plain": [
       "-0.04151059068430487"
      ]
     },
     "execution_count": 43,
     "metadata": {},
     "output_type": "execute_result"
    }
   ],
   "source": [
    "np.mean(np.power(normal,3)) # Skewness"
   ]
  },
  {
   "cell_type": "code",
   "execution_count": 54,
   "id": "5cdbe2f1",
   "metadata": {},
   "outputs": [
    {
     "data": {
      "text/plain": [
       "-75.80657751441144"
      ]
     },
     "execution_count": 54,
     "metadata": {},
     "output_type": "execute_result"
    }
   ],
   "source": [
    "np.mean(np.power(normal,9)) "
   ]
  },
  {
   "cell_type": "markdown",
   "id": "9a624b83",
   "metadata": {},
   "source": [
    "## Transformations of random variables"
   ]
  },
  {
   "cell_type": "markdown",
   "id": "4a05ac9b",
   "metadata": {},
   "source": [
    "Consider a Binomial random variable"
   ]
  },
  {
   "cell_type": "code",
   "execution_count": 76,
   "id": "a8b13f4f",
   "metadata": {},
   "outputs": [
    {
     "data": {
      "text/plain": [
       "array([4.18626211e-02, 9.27291786e-01, 4.19173812e-02, 9.71242216e-01,\n",
       "       6.22254726e-02, 1.45127434e-01, 3.35169855e-01, 5.88070183e-01,\n",
       "       4.30628298e-01, 3.65933115e-01, 4.63170116e-01, 8.16370580e-01,\n",
       "       8.52364549e-01, 6.50019601e-01, 5.29050573e-02, 5.18452439e-01,\n",
       "       7.29889222e-01, 9.28344110e-01, 5.96989481e-01, 6.69902026e-01,\n",
       "       6.74491308e-01, 6.94797507e-01, 8.46389319e-01, 3.62168803e-01,\n",
       "       8.71569534e-01, 1.06288755e-01, 9.22716720e-01, 9.85548190e-01,\n",
       "       3.94981639e-01, 8.62592968e-02, 2.04274489e-01, 9.90470501e-01,\n",
       "       6.68102195e-02, 5.40406325e-01, 4.24513714e-01, 7.55414132e-02,\n",
       "       4.41907511e-01, 7.01160649e-01, 6.30088389e-01, 6.12577666e-01,\n",
       "       6.22248609e-01, 6.74789804e-01, 2.90745711e-01, 7.61277878e-01,\n",
       "       5.39796753e-01, 9.63515149e-01, 7.81958855e-01, 7.77543754e-02,\n",
       "       1.54280132e-01, 4.69497161e-01, 8.73310160e-01, 1.42361584e-01,\n",
       "       1.38497591e-01, 3.61269878e-01, 5.90203180e-01, 5.55041562e-01,\n",
       "       5.56962906e-01, 7.20342222e-01, 3.79240464e-01, 3.44165724e-01,\n",
       "       1.98588988e-02, 2.30993283e-01, 1.69708143e-01, 2.66478141e-02,\n",
       "       9.80875428e-01, 1.90595791e-01, 2.35748732e-01, 6.95658374e-01,\n",
       "       1.32667293e-01, 8.19650554e-01, 7.77273136e-01, 6.89116074e-01,\n",
       "       8.97844664e-02, 1.03568019e-01, 5.85073445e-01, 6.51531789e-01,\n",
       "       4.26760231e-01, 2.93495464e-01, 2.73172298e-01, 8.83876638e-01,\n",
       "       3.35711311e-01, 6.05109638e-01, 5.54594431e-01, 2.72511716e-01,\n",
       "       2.14822701e-01, 1.44140854e-01, 4.12917728e-01, 2.77763593e-01,\n",
       "       7.68244635e-01, 8.83803614e-01, 5.43018347e-02, 5.62594939e-02,\n",
       "       8.51770193e-01, 1.18119477e-01, 8.17810854e-01, 1.96759815e-02,\n",
       "       3.50736874e-01, 9.07442561e-01, 8.90763048e-01, 9.24073114e-01,\n",
       "       9.56819446e-01, 2.34202698e-01, 7.00061422e-01, 1.62655775e-05,\n",
       "       8.76262760e-02, 4.20236333e-01, 7.41925391e-01, 8.45290138e-01,\n",
       "       1.03935535e-01, 4.47450064e-01, 1.89349780e-02, 8.78399588e-01,\n",
       "       6.57515173e-01, 3.98754746e-01, 6.71742770e-02, 7.38209193e-02,\n",
       "       9.93438020e-01, 6.57094169e-01, 7.10660965e-01, 9.82771247e-01,\n",
       "       2.36994534e-01, 6.40114183e-02, 2.75938237e-01, 4.80869994e-01,\n",
       "       7.51663785e-01, 7.74799774e-01, 3.72546402e-01, 6.55964192e-01,\n",
       "       9.64026676e-01, 3.22710778e-01, 8.03031555e-01, 2.36866647e-01,\n",
       "       5.90937234e-01, 2.54765084e-01, 2.58193022e-01, 2.91102643e-01,\n",
       "       5.22301750e-01, 5.83923210e-01, 6.89950542e-01, 3.45056709e-01,\n",
       "       4.24923885e-01, 3.59359397e-01, 4.81930067e-01, 5.56245666e-01,\n",
       "       1.50993580e-01, 1.79419613e-01, 4.52609908e-01, 8.35953990e-01,\n",
       "       4.50373764e-01, 8.65669984e-01, 2.84901724e-01, 9.75169196e-01,\n",
       "       3.58015535e-01, 4.19101778e-01, 8.92030632e-01, 6.36022381e-01,\n",
       "       3.40025615e-01, 5.45854891e-01, 8.93894494e-01, 8.43166250e-02,\n",
       "       2.77535794e-01, 6.27844392e-01, 3.78000812e-01, 7.07954246e-01,\n",
       "       6.21032047e-01, 5.20751817e-01, 4.20800176e-01, 6.61184921e-01,\n",
       "       2.23266268e-01, 8.10844747e-01, 6.18114828e-01, 7.34351577e-02,\n",
       "       6.16962393e-01, 8.65817874e-01, 6.75793439e-01, 3.54549234e-01,\n",
       "       8.77283149e-01, 2.89744772e-01, 2.77939607e-01, 6.18304344e-02,\n",
       "       5.54687838e-02, 9.92769345e-02, 4.23667584e-01, 2.01861025e-01,\n",
       "       2.59203244e-01, 6.12490801e-01, 3.81572949e-02, 3.89093673e-01,\n",
       "       4.55718229e-01, 1.46162607e-01, 8.06379368e-01, 7.68776798e-01,\n",
       "       5.57223892e-01, 9.32713056e-01, 9.62743603e-01, 9.09953819e-01,\n",
       "       4.53041916e-01, 8.98597562e-01, 1.97262546e-01, 7.00357792e-01,\n",
       "       1.76848138e-01, 7.68008178e-01, 5.36458482e-01, 5.55474503e-01,\n",
       "       5.51377745e-01, 8.84244238e-01, 2.46402385e-01, 3.07189868e-01,\n",
       "       4.31773431e-01, 6.42616461e-01, 8.52034534e-01, 2.16571744e-01,\n",
       "       9.76549232e-01, 8.99298876e-01, 4.52950864e-01, 4.70214502e-01,\n",
       "       5.88189672e-01, 1.76359625e-01, 5.89250288e-01, 6.37502743e-01,\n",
       "       9.43336338e-01, 5.48851278e-01, 4.35034125e-01, 9.21651705e-01,\n",
       "       2.87199325e-01, 3.65848008e-01, 1.58560461e-01, 4.44726056e-01,\n",
       "       5.28591436e-01, 4.20877171e-01, 6.25795161e-01, 2.77534320e-01,\n",
       "       2.93839487e-01, 6.92026568e-01, 8.80750962e-01, 3.44555760e-01,\n",
       "       7.11638918e-01, 9.90259932e-01, 9.38469749e-01, 6.20176391e-01,\n",
       "       7.46300133e-01, 2.01148009e-01, 8.64920795e-01, 5.86632519e-01,\n",
       "       2.15275464e-01, 8.91247350e-01, 7.08039702e-01, 4.71848216e-01,\n",
       "       9.92999734e-01, 1.43467260e-01, 4.47500131e-01, 9.64016071e-01,\n",
       "       5.29780515e-01, 7.94396902e-01, 4.16653773e-01, 9.74148708e-01,\n",
       "       9.85366535e-01, 1.63425614e-01, 9.46002060e-01, 2.46717406e-01,\n",
       "       5.45000744e-01, 6.62541499e-01, 8.48363177e-02, 5.25998320e-01,\n",
       "       6.33007987e-02, 7.11571262e-01, 9.90337240e-01, 3.96309732e-01,\n",
       "       6.44676641e-01, 1.67020469e-01, 8.22801303e-02, 1.68951634e-01,\n",
       "       4.73557867e-01, 4.90213011e-01, 6.64552540e-01, 7.89708795e-01,\n",
       "       6.23284867e-01, 6.84427337e-01, 8.18067192e-01, 9.53019175e-01,\n",
       "       4.30887555e-01, 7.43255430e-01, 3.62143145e-01, 1.40784946e-01,\n",
       "       3.71837963e-01, 3.02082961e-01, 5.22290990e-01, 5.05728037e-01,\n",
       "       8.32522142e-01, 5.38418086e-01, 1.86510120e-01, 5.09312021e-01,\n",
       "       1.88832094e-01, 1.63696844e-01, 3.69422673e-01, 2.57980448e-01,\n",
       "       5.30259602e-01, 8.69279920e-01, 3.68321142e-01, 6.56325225e-01,\n",
       "       9.94108183e-01, 5.98527167e-01, 5.22309740e-01, 8.64109202e-01,\n",
       "       7.90339689e-01, 8.65586434e-01, 7.77582268e-01, 3.59581413e-01,\n",
       "       6.42148213e-01, 2.56246208e-01, 8.75889472e-01, 5.46400984e-02,\n",
       "       2.68510360e-01, 1.31864718e-01, 7.15834406e-01, 5.60428527e-01,\n",
       "       4.85846712e-01, 1.36870079e-01, 8.48704567e-01, 1.75574098e-01,\n",
       "       1.17720544e-01, 9.58278262e-01, 7.30240350e-01, 4.58587219e-01,\n",
       "       9.20756531e-01, 6.51651823e-01, 1.10906744e-01, 5.83771033e-01,\n",
       "       9.88524975e-01, 1.34772576e-01, 4.42029644e-01, 5.29906915e-01,\n",
       "       6.90040597e-02, 1.41452549e-01, 1.04663013e-01, 4.50586742e-01,\n",
       "       1.47265638e-01, 1.31320672e-01, 4.23870777e-01, 1.30401507e-01,\n",
       "       9.48489258e-02, 7.98478912e-01, 5.72689760e-01, 5.21041094e-01,\n",
       "       5.90558072e-01, 7.16967140e-01, 8.60012559e-01, 2.84654847e-01,\n",
       "       8.20743221e-01, 9.04835972e-01, 7.23081176e-01, 2.60378511e-01,\n",
       "       3.01348326e-01, 9.01327206e-01, 5.96777353e-01, 6.14449787e-01,\n",
       "       4.71994711e-01, 5.85842988e-01, 7.95611531e-01, 1.51675105e-02,\n",
       "       8.05818822e-01, 4.62787642e-01, 2.44234000e-01, 7.42118558e-02,\n",
       "       6.06122082e-01, 3.53652248e-01, 5.82026437e-01, 2.17675699e-01,\n",
       "       4.19557350e-01, 9.53593636e-01, 7.16963670e-01, 6.68541920e-01,\n",
       "       9.85349758e-01, 7.20720921e-01, 3.73815433e-01, 5.28229942e-01,\n",
       "       5.49487276e-01, 2.97704473e-01, 4.15134284e-01, 2.54661546e-02,\n",
       "       9.57888306e-01, 9.33347385e-01, 4.73569181e-01, 5.75449205e-01,\n",
       "       6.95581897e-02, 8.86976543e-01, 1.83527774e-01, 2.16269134e-01,\n",
       "       1.84574672e-01, 3.42196037e-01, 4.13310442e-01, 6.95045096e-01,\n",
       "       6.50058776e-02, 4.19083865e-02, 6.58352114e-01, 9.72318508e-01,\n",
       "       9.23252628e-01, 2.86592690e-01, 8.90572998e-01, 5.10610418e-01,\n",
       "       2.34801185e-01, 8.41194207e-01, 2.80341138e-01, 6.28309660e-01,\n",
       "       1.24228615e-01, 5.44933704e-01, 4.54978000e-02, 8.14936515e-02,\n",
       "       8.70958888e-01, 6.62512176e-02, 1.65393213e-01, 9.88383545e-03,\n",
       "       5.90483894e-01, 6.40411662e-01, 6.95048288e-01, 5.64267779e-01,\n",
       "       5.54091235e-01, 7.45327897e-01, 3.70608405e-01, 5.68981277e-01,\n",
       "       2.00708097e-02, 1.00191290e-01, 5.88953983e-01, 7.59064807e-01,\n",
       "       1.88499598e-01, 4.91794063e-01, 8.94308755e-01, 5.46868991e-01,\n",
       "       1.49040890e-01, 8.71891606e-01, 4.81730958e-02, 3.76841151e-01,\n",
       "       8.62671249e-01, 7.68748313e-01, 7.33953921e-01, 8.24198374e-01,\n",
       "       2.12336639e-01, 5.49128642e-01, 5.98008986e-01, 1.24307883e-01,\n",
       "       6.86448216e-01, 8.81325918e-01, 3.73286592e-01, 8.87458940e-01,\n",
       "       1.48026933e-01, 7.84425139e-01, 4.35467780e-01, 6.13756913e-01,\n",
       "       5.59004078e-01, 6.19840576e-01, 1.52031513e-01, 4.29996040e-01,\n",
       "       6.15360782e-02, 2.44893742e-01, 3.29669400e-01, 3.76594495e-01,\n",
       "       4.17574523e-01, 7.71414595e-01, 4.45637140e-01, 4.83430226e-02,\n",
       "       8.26701941e-01, 2.63705343e-01, 2.96851341e-01, 1.10214955e-01,\n",
       "       6.46231321e-01, 5.91882887e-01, 3.36854279e-01, 2.49789001e-01,\n",
       "       3.32987004e-01, 9.82717883e-01, 3.83541784e-01, 1.01454445e-01,\n",
       "       7.06917981e-01, 5.65790796e-01, 3.03379085e-01, 3.20876635e-01,\n",
       "       7.18373683e-01, 8.89462319e-01, 7.52662637e-01, 1.92070870e-01,\n",
       "       6.16248663e-01, 3.83069208e-01, 3.14001417e-01, 5.95724576e-01,\n",
       "       5.00281934e-01, 2.62614984e-01, 2.46440329e-01, 9.55606766e-01,\n",
       "       9.24569522e-01, 2.13372602e-01, 2.61763492e-01, 6.14451971e-01,\n",
       "       7.13353985e-01, 5.59767919e-01, 8.19574441e-01, 9.03962567e-01,\n",
       "       6.59661356e-01, 5.97254998e-01, 2.42697953e-01, 3.48508826e-01,\n",
       "       2.57801104e-01, 2.80842935e-01, 7.07813224e-01, 4.31392987e-01,\n",
       "       5.07633595e-01, 2.85041003e-01, 3.33955823e-01, 6.94967332e-01,\n",
       "       7.43423769e-01, 8.95341120e-01, 8.87354900e-01, 7.69655714e-01,\n",
       "       1.93796399e-01, 7.54047856e-01, 2.12500413e-01, 8.76317931e-01,\n",
       "       5.36804614e-01, 7.94970705e-01, 7.15063095e-02, 5.22789417e-01,\n",
       "       8.48691499e-01, 5.57597944e-01, 1.72715809e-01, 5.37056173e-01,\n",
       "       9.15441599e-01, 6.19180961e-02, 2.61130924e-01, 4.43064441e-01,\n",
       "       9.26946757e-01, 1.68856073e-01, 7.30316331e-01, 1.42299173e-01,\n",
       "       4.53684749e-01, 3.73811671e-01, 4.80692807e-01, 4.14033366e-01,\n",
       "       3.89700809e-01, 3.62105184e-01, 9.40247880e-01, 3.76899410e-01,\n",
       "       6.63200177e-01, 6.39697562e-02, 4.46291032e-01, 3.90245752e-01,\n",
       "       3.46840930e-01, 8.04159269e-01, 1.36471410e-01, 8.31312591e-01,\n",
       "       4.73967953e-01, 2.91495921e-01, 9.48066900e-01, 5.15389061e-01,\n",
       "       2.59619108e-01, 2.79339286e-01, 9.34278871e-01, 7.94271156e-01,\n",
       "       7.51255537e-01, 5.71049762e-01, 5.70915501e-01, 6.60948716e-01,\n",
       "       5.79122991e-01, 3.23035192e-01, 3.06711010e-01, 2.73168246e-01,\n",
       "       1.14566210e-01, 8.09742526e-04, 1.35527599e-01, 1.42916075e-02,\n",
       "       8.93994889e-01, 1.75003261e-01, 7.99930968e-01, 2.75307962e-01,\n",
       "       6.44234466e-01, 3.34417092e-01, 4.75950438e-01, 8.06380054e-01,\n",
       "       2.34667425e-01, 6.20155721e-01, 6.98806249e-01, 8.98215729e-01,\n",
       "       7.41206411e-01, 3.96230077e-02, 3.41592677e-01, 9.98263104e-01,\n",
       "       4.90945342e-01, 8.39440563e-01, 3.28636047e-01, 6.72114629e-01,\n",
       "       7.68771390e-01, 3.32433618e-01, 4.57776936e-01, 9.96029969e-01,\n",
       "       6.90676773e-01, 9.16876722e-02, 3.94472646e-01, 5.40286799e-01,\n",
       "       5.23648713e-02, 9.50275795e-01, 8.56782597e-01, 5.86275404e-01,\n",
       "       4.53441181e-01, 4.83709569e-01, 6.96639874e-01, 7.54721861e-01,\n",
       "       1.46059785e-01, 4.72810141e-01, 7.27125243e-01, 7.92275387e-01,\n",
       "       9.55501961e-01, 1.72622603e-01, 1.89173427e-01, 5.76027982e-01,\n",
       "       8.60287343e-01, 7.72110830e-01, 4.67366051e-01, 8.74040660e-01,\n",
       "       1.57088427e-01, 6.42292698e-01, 3.23428874e-03, 1.15210131e-01,\n",
       "       9.40537710e-01, 7.64816324e-01, 9.54884606e-01, 3.74996885e-01,\n",
       "       8.37324861e-01, 9.07430432e-01, 6.62541804e-01, 2.30856810e-01,\n",
       "       1.65018115e-01, 8.71863967e-01, 4.75329041e-01, 4.95613212e-02,\n",
       "       2.51310061e-01, 5.49130294e-01, 4.51972487e-01, 7.38136165e-02,\n",
       "       9.19439712e-02, 7.89833613e-01, 8.99265830e-02, 3.54015854e-01,\n",
       "       6.87475337e-01, 4.88048843e-01, 1.01899295e-01, 6.52159807e-01,\n",
       "       4.19249169e-01, 4.67199263e-01, 7.68559903e-01, 8.40864190e-01,\n",
       "       9.54352184e-01, 8.86519176e-01, 4.91989821e-01, 3.04931195e-01,\n",
       "       6.64577848e-01, 2.69768971e-01, 6.63091299e-01, 8.32125337e-01,\n",
       "       9.69175084e-01, 5.94831254e-01, 6.05171043e-01, 1.61187352e-01,\n",
       "       4.22520406e-01, 2.12532696e-01, 6.73897452e-01, 6.02072711e-01,\n",
       "       2.43812639e-01, 3.39923210e-02, 5.61371564e-01, 7.04137308e-01,\n",
       "       7.35659237e-01, 1.31236777e-01, 5.22848353e-01, 6.25328104e-01,\n",
       "       3.18268363e-01, 2.25464789e-01, 7.85170930e-02, 2.84376671e-01,\n",
       "       3.56151153e-01, 8.84432926e-02, 7.16382219e-01, 1.86177277e-01,\n",
       "       4.47689148e-01, 7.89629868e-01, 3.59706524e-01, 1.99519452e-01,\n",
       "       3.02867633e-02, 8.29632249e-01, 4.37885146e-01, 1.78870701e-03,\n",
       "       6.59075538e-02, 8.23121186e-02, 5.31139939e-01, 4.38874023e-01,\n",
       "       2.18432771e-01, 1.65224011e-01, 4.99546854e-01, 6.53286143e-01,\n",
       "       6.94426899e-01, 7.88885740e-01, 2.41939593e-01, 9.94881994e-01,\n",
       "       5.89661994e-01, 3.20604852e-01, 5.60729341e-01, 6.50429826e-01,\n",
       "       5.06173688e-01, 9.57696642e-01, 4.32987555e-01, 5.94465368e-02,\n",
       "       4.02493202e-01, 8.58888158e-02, 2.54869542e-01, 3.67858661e-01,\n",
       "       5.57430161e-01, 1.53053776e-01, 1.99315834e-04, 8.12620783e-02,\n",
       "       9.46632015e-01, 9.22791075e-01, 9.46623422e-01, 2.01543228e-01,\n",
       "       1.28906629e-01, 3.50179070e-01, 8.56602593e-01, 3.21140145e-01,\n",
       "       5.23042594e-01, 8.77632206e-01, 6.90496605e-01, 5.93060034e-01,\n",
       "       7.94140351e-01, 4.34565812e-01, 5.39213076e-01, 4.81945755e-01,\n",
       "       2.13184002e-01, 3.18203746e-01, 9.94820369e-01, 6.20424584e-02,\n",
       "       4.94419184e-01, 7.95663961e-01, 7.60774378e-01, 5.77864695e-01,\n",
       "       6.25444060e-01, 7.06469173e-01, 3.52833874e-01, 3.26748033e-01,\n",
       "       4.67225932e-01, 6.80960439e-01, 5.35916359e-01, 2.60202855e-01,\n",
       "       9.66777724e-02, 2.41978581e-01, 3.87022391e-02, 2.09305320e-01,\n",
       "       7.69674406e-01, 4.32630675e-01, 8.82169281e-02, 5.64386171e-01,\n",
       "       1.92435247e-01, 4.34024824e-01, 2.39160030e-01, 8.70285216e-02,\n",
       "       9.14720049e-02, 5.30027729e-01, 1.95833351e-01, 7.19298703e-01,\n",
       "       5.11818833e-02, 9.56561716e-01, 9.31264269e-01, 7.51393044e-03,\n",
       "       1.81842821e-01, 6.09593091e-01, 5.30980528e-01, 5.53479545e-01,\n",
       "       6.99930074e-01, 9.43426872e-01, 6.98338922e-02, 1.09345171e-01,\n",
       "       8.58517058e-01, 2.37567621e-01, 7.96159027e-01, 9.30831102e-01,\n",
       "       2.07577631e-01, 4.12530648e-01, 1.34824571e-01, 5.65731402e-03,\n",
       "       2.30758500e-01, 4.26923305e-01, 8.45339972e-01, 4.23163872e-01,\n",
       "       1.10376167e-01, 3.06594471e-01, 1.20445580e-02, 1.01289715e-01,\n",
       "       9.69911122e-01, 6.58221916e-01, 3.78004275e-01, 6.38162374e-01,\n",
       "       1.70425469e-01, 8.45988629e-01, 7.48075000e-01, 4.11366880e-01,\n",
       "       1.75868554e-01, 2.36647873e-01, 8.65726214e-01, 7.73568514e-01,\n",
       "       7.40853862e-01, 8.96850067e-01, 9.40549932e-01, 1.17139675e-01,\n",
       "       8.77907224e-01, 7.15638738e-01, 9.83685542e-01, 1.04361426e-01,\n",
       "       4.44138886e-01, 6.92138480e-01, 1.07488822e-01, 2.02382095e-01,\n",
       "       5.42937059e-01, 3.32061781e-01, 6.72526388e-01, 2.03626675e-01,\n",
       "       7.76068838e-01, 7.71517276e-01, 2.03597845e-01, 8.56724228e-01,\n",
       "       2.94921498e-01, 6.89541065e-02, 1.12463249e-01, 5.17013918e-01,\n",
       "       2.75371657e-01, 6.10667580e-01, 8.47290233e-01, 2.58554440e-01,\n",
       "       8.12185265e-02, 6.50734906e-01, 9.87385583e-01, 6.25031286e-01,\n",
       "       8.74653874e-01, 2.07460398e-01, 6.57675760e-01, 1.99796641e-01,\n",
       "       4.61864541e-01, 7.71994421e-01, 2.12437116e-01, 3.11220238e-01,\n",
       "       6.98947780e-01, 6.52512813e-01, 2.02041061e-01, 7.15845267e-01,\n",
       "       7.32330428e-01, 8.45035676e-01, 6.38023530e-01, 5.15484663e-01,\n",
       "       2.10966039e-01, 9.33133237e-01, 9.89075347e-01, 2.46572871e-01,\n",
       "       1.97645220e-01, 7.06130722e-01, 4.26139383e-01, 5.13336659e-01,\n",
       "       4.37192059e-01, 1.46531585e-01, 9.36464863e-01, 5.98227612e-01,\n",
       "       4.70411641e-01, 8.29667437e-01, 4.06745491e-01, 3.07320068e-01,\n",
       "       4.30327130e-01, 4.77106046e-01, 6.71866911e-01, 3.81269810e-01,\n",
       "       2.99637026e-01, 1.45984505e-01, 6.36625028e-01, 9.17168863e-01,\n",
       "       3.88618146e-01, 8.07755450e-01, 2.22116012e-01, 7.33427768e-02,\n",
       "       1.13968867e-01, 5.85163898e-01, 6.55548109e-01, 3.35374136e-02,\n",
       "       3.50523484e-01, 4.06210084e-01, 2.70438093e-01, 1.27770203e-01,\n",
       "       1.27237890e-01, 1.32034620e-01, 6.69232076e-01, 3.88384134e-01,\n",
       "       7.39837142e-01, 2.69278260e-01, 6.07973079e-01, 4.50490446e-01,\n",
       "       3.36068320e-01, 1.17577741e-01, 1.71390188e-01, 2.77014075e-02,\n",
       "       7.87717035e-01, 2.32056187e-03, 8.31093878e-01, 2.61452048e-01,\n",
       "       7.10829082e-01, 1.24507691e-01, 8.98531334e-01, 9.64642453e-01,\n",
       "       3.26034926e-01, 5.26408247e-01, 5.44500323e-01, 7.66237518e-01,\n",
       "       4.16417956e-01, 4.92026577e-01, 4.75700174e-01, 4.77829161e-01,\n",
       "       4.86240999e-02, 5.31231435e-01, 8.33598533e-02, 2.47409223e-01,\n",
       "       4.88427528e-01, 5.38384993e-02, 6.39827613e-01, 6.80398794e-01,\n",
       "       4.41548458e-01, 2.95899561e-01, 2.86112442e-01, 6.93656063e-01,\n",
       "       9.19011479e-01, 1.91844070e-01, 9.84282893e-01, 2.93853892e-01,\n",
       "       9.33526345e-01, 7.18775604e-01, 4.99870640e-01, 8.07593715e-01,\n",
       "       6.12568627e-01, 8.41319692e-01, 4.32723361e-01, 3.48168479e-01,\n",
       "       8.72185692e-01, 7.28442148e-02, 2.57508933e-02, 9.41330016e-01,\n",
       "       4.40789722e-01, 3.34648507e-01, 6.92517807e-01, 6.32206205e-01,\n",
       "       2.13580457e-01, 1.29271662e-01, 2.69846930e-01, 6.68066487e-01,\n",
       "       3.51107280e-01, 9.58400803e-01, 1.54751328e-01, 8.76294876e-01,\n",
       "       1.61688542e-01, 2.55773686e-01, 4.82901540e-01, 2.02682046e-01,\n",
       "       4.78455122e-01, 2.13941364e-01, 9.81868871e-01, 5.98907182e-01,\n",
       "       5.43402605e-01, 3.30304786e-01, 4.52152141e-01, 5.78044886e-01,\n",
       "       2.90079150e-02, 7.01707549e-01, 2.69203587e-02, 7.83831167e-01,\n",
       "       4.26022257e-01, 6.30640466e-01, 8.59577417e-01, 2.24942054e-01,\n",
       "       1.46282712e-01, 6.22285329e-01, 2.99045071e-01, 7.26803217e-01,\n",
       "       2.90661275e-01, 5.60066909e-01, 5.00065494e-02, 4.91204654e-02,\n",
       "       6.41578521e-01, 5.48582681e-01, 5.42256424e-01, 3.62554114e-01,\n",
       "       6.50941607e-01, 5.15342346e-01, 8.28716606e-01, 4.50578610e-01,\n",
       "       9.44760168e-01, 3.74447861e-01, 4.64166561e-01, 5.84981245e-01,\n",
       "       6.70334165e-01, 6.45527025e-01, 9.16402369e-01, 5.14329489e-01])"
      ]
     },
     "execution_count": 76,
     "metadata": {},
     "output_type": "execute_result"
    }
   ],
   "source": [
    "n = 10\n",
    "p = 0.5\n",
    "#x = np.random.binomial(n,p,size=1000)\n",
    "x = np.random.uniform(0,1, size=1000)\n",
    "x"
   ]
  },
  {
   "cell_type": "markdown",
   "id": "b7c9e98f",
   "metadata": {},
   "source": [
    "Lets plot the empirical density"
   ]
  },
  {
   "cell_type": "code",
   "execution_count": 77,
   "id": "3b3bc590",
   "metadata": {},
   "outputs": [
    {
     "data": {
      "image/png": "[encoded data removed]",
      "text/plain": [
       "<Figure size 432x288 with 1 Axes>"
      ]
     },
     "metadata": {
      "needs_background": "light"
     },
     "output_type": "display_data"
    }
   ],
   "source": [
    "from Utils import makeEMF,makeEDF,plotEDF,plotEMF\n",
    "plotEMF(makeEMF(x))"
   ]
  },
  {
   "cell_type": "markdown",
   "id": "6b265cd9",
   "metadata": {},
   "source": [
    "If we had the function $g(x) = \\sin(x/3)$"
   ]
  },
  {
   "cell_type": "code",
   "execution_count": 78,
   "id": "d21cccaa",
   "metadata": {},
   "outputs": [
    {
     "data": {
      "image/png": "[encoded data removed]",
      "text/plain": [
       "<Figure size 432x288 with 1 Axes>"
      ]
     },
     "metadata": {
      "needs_background": "light"
     },
     "output_type": "display_data"
    }
   ],
   "source": [
    "plotEMF(makeEMF(np.power(x, 2)))"
   ]
  },
  {
   "cell_type": "code",
   "execution_count": 122,
   "id": "de9a229b",
   "metadata": {},
   "outputs": [
    {
     "data": {
      "text/plain": [
       "Text(0.5, 1.0, 'Correct Plot:\\nBut uses to many lines to unpack li')"
      ]
     },
     "execution_count": 122,
     "metadata": {},
     "output_type": "execute_result"
    },
    {
     "data": {
      "image/png": "[encoded data removed]",
      "text/plain": [
       "<Figure size 432x288 with 1 Axes>"
      ]
     },
     "metadata": {
      "needs_background": "light"
     },
     "output_type": "display_data"
    }
   ],
   "source": [
    "#plotEDF(makeEDF(np.power(x, 2)))\n",
    "\n",
    "mean_x1 = []\n",
    "mean_x1_10 = []\n",
    "mean_x2 = []\n",
    "mean_x3 = []\n",
    "x3_var = []\n",
    "x4_var = []\n",
    "mean_x3_3 = []\n",
    "mean_x3_4 = []\n",
    "mean_x4 = []\n",
    "num = []\n",
    "for n in range(1,10000):\n",
    "    num.append(n)\n",
    "    x1 = np.random.binomial(1,p=0.5,size=n)\n",
    "    x2 = np.random.uniform(0,1, size=n)\n",
    "    x3 = np.random.normal(size=n)\n",
    "    x4 = np.random.exponential(size=n)\n",
    "    mean_x1_10.append(np.mean(np.power(x1, 10)))\n",
    "    mean_x1.append(np.mean(np.power(x1, 1)))\n",
    "    mean_x2.append(np.mean(x2))\n",
    "    mean_x3_3.append(np.mean(np.power(x3, 3)))\n",
    "    mean_x3_4.append(np.mean(np.power(x3, 3)))\n",
    "    x3_var.append(np.var(x3))\n",
    "    x4_var.append(np.var(x4))\n",
    "    mean_x3.append(np.mean(x3))\n",
    "    mean_x4.append(np.mean(x4))\n",
    "    \n",
    "#plt.plot(num, mean_x3_4, 'b')\n",
    "#plt.plot(num, mean_x3_3, 'r')\n",
    "#plt.plot(num, mean_x4, 'y')\n",
    "#plt.plot(num, mean_x3, 'g')\n",
    "plt.plot(num, x4_var, 'g')\n",
    "plt.plot(num, x3_var, 'orange')\n",
    "\n",
    "plt.plot(num, mean_x1_10, 'pink')\n",
    "\n",
    "plt.title('Correct Plot:\\nBut uses to many lines to unpack li')   \n",
    "    \n",
    "    "
   ]
  },
  {
   "cell_type": "markdown",
   "id": "7862e811",
   "metadata": {},
   "source": [
    "Can we compute this thing?\n",
    "What is $\\sin^{[-1]}$?\n",
    "\n",
    "Since $X$ is discrete, we can check what $\\mathbb{Y}$ is, since $\\mathbb{X}=\\{0,1,\\ldots,10\\}$."
   ]
  },
  {
   "cell_type": "code",
   "execution_count": 33,
   "id": "ae0bc83f",
   "metadata": {},
   "outputs": [],
   "source": [
    "Y_space = np.sort(np.sin(np.arange(0,11)))\n",
    "sin_inv = dict(zip(np.sin(np.arange(0,11)),np.arange(0,11)))"
   ]
  },
  {
   "cell_type": "code",
   "execution_count": 64,
   "id": "f414a813",
   "metadata": {},
   "outputs": [
    {
     "data": {
      "image/png": "[encoded data removed]",
      "text/plain": [
       "<Figure size 432x288 with 1 Axes>"
      ]
     },
     "metadata": {
      "needs_background": "light"
     },
     "output_type": "display_data"
    }
   ],
   "source": [
    "from scipy.special import binom as binomial\n",
    "plotEMF([(y,binomial(n,sin_inv[y])*(p**sin_inv[y])*((1-p)**(n-sin_inv[y]))) for y in Y_space])"
   ]
  },
  {
   "cell_type": "code",
   "execution_count": 65,
   "id": "3f143f9b",
   "metadata": {},
   "outputs": [
    {
     "ename": "NameError",
     "evalue": "name 'emfToEdf' is not defined",
     "output_type": "error",
     "traceback": [
      "\u001b[1;31m---------------------------------------------------------------------------\u001b[0m",
      "\u001b[1;31mNameError\u001b[0m                                 Traceback (most recent call last)",
      "Input \u001b[1;32mIn [65]\u001b[0m, in \u001b[0;36m<cell line: 1>\u001b[1;34m()\u001b[0m\n\u001b[1;32m----> 1\u001b[0m plotEDF(\u001b[43memfToEdf\u001b[49m([(y,binomial(n,sin_inv[y])\u001b[38;5;241m*\u001b[39m(p\u001b[38;5;241m*\u001b[39m\u001b[38;5;241m*\u001b[39msin_inv[y])\u001b[38;5;241m*\u001b[39m((\u001b[38;5;241m1\u001b[39m\u001b[38;5;241m-\u001b[39mp)\u001b[38;5;241m*\u001b[39m\u001b[38;5;241m*\u001b[39m(n\u001b[38;5;241m-\u001b[39msin_inv[y]))) \u001b[38;5;28;01mfor\u001b[39;00m y \u001b[38;5;129;01min\u001b[39;00m Y_space]))\n",
      "\u001b[1;31mNameError\u001b[0m: name 'emfToEdf' is not defined"
     ]
    }
   ],
   "source": [
    "plotEDF(emfToEdf([(y,binomial(n,sin_inv[y])*(p**sin_inv[y])*((1-p)**(n-sin_inv[y]))) for y in Y_space]))"
   ]
  },
  {
   "cell_type": "code",
   "execution_count": null,
   "id": "7fb3f8c3",
   "metadata": {},
   "outputs": [],
   "source": []
  }
 ],
 "metadata": {
  "kernelspec": {
   "display_name": "Python 3 (ipykernel)",
   "language": "python",
   "name": "python3"
  },
  "language_info": {
   "codemirror_mode": {
    "name": "ipython",
    "version": 3
   },
   "file_extension": ".py",
   "mimetype": "text/x-python",
   "name": "python",
   "nbconvert_exporter": "python",
   "pygments_lexer": "ipython3",
   "version": "3.9.12"
  },
  "lx_course_instance": "2022",
  "lx_course_name": "Introduction to Data Science",
  "lx_course_number": "1MS041"
 },
 "nbformat": 4,
 "nbformat_minor": 5
}
