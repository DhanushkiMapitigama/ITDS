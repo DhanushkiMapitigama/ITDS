{
 "cells": [
  {
   "cell_type": "markdown",
   "id": "b57af789",
   "metadata": {
    "deletable": false
   },
   "source": [
    "# [Introduction to Data Science](http://datascience-intro.github.io/1MS041-2022/)    \n",
    "## 1MS041, 2022 \n",
    "&copy;2022 Raazesh Sainudiin, Benny Avelin. [Attribution 4.0 International     (CC BY 4.0)](https://creativecommons.org/licenses/by/4.0/)"
   ]
  },
  {
   "cell_type": "markdown",
   "id": "fbe78263",
   "metadata": {},
   "source": [
    "## Problem 5, Chap 1"
   ]
  },
  {
   "cell_type": "code",
   "execution_count": 1,
   "id": "83c3bcab",
   "metadata": {},
   "outputs": [],
   "source": [
    "import numpy as np"
   ]
  },
  {
   "cell_type": "code",
   "execution_count": 2,
   "id": "3db6d717",
   "metadata": {},
   "outputs": [],
   "source": [
    "def true_event(sequence):\n",
    "    if (np.sum(sequence) == 2):\n",
    "        if (sequence[-1] == 1):\n",
    "            return 1\n",
    "    \n",
    "    return 0"
   ]
  },
  {
   "cell_type": "code",
   "execution_count": 3,
   "id": "42244405",
   "metadata": {},
   "outputs": [
    {
     "name": "stdout",
     "output_type": "stream",
     "text": [
      "[1 1 0 0]\n"
     ]
    },
    {
     "data": {
      "text/plain": [
       "0"
      ]
     },
     "execution_count": 3,
     "metadata": {},
     "output_type": "execute_result"
    }
   ],
   "source": [
    "k = 4\n",
    "x = np.random.randint(0,2,size=k)\n",
    "print(x)\n",
    "true_event(x)"
   ]
  },
  {
   "cell_type": "code",
   "execution_count": 4,
   "id": "20ebbea1",
   "metadata": {},
   "outputs": [],
   "source": [
    "def true_event_vector(sequence):\n",
    "    return (np.sum(x,axis=1) == 2)*(x[:,-1] == 1)"
   ]
  },
  {
   "cell_type": "code",
   "execution_count": 5,
   "id": "622fe24f",
   "metadata": {},
   "outputs": [],
   "source": [
    "k = 4"
   ]
  },
  {
   "cell_type": "code",
   "execution_count": 6,
   "id": "85358b98",
   "metadata": {},
   "outputs": [
    {
     "data": {
      "text/plain": [
       "array([[1, 1, 0, 1],\n",
       "       [0, 0, 0, 0],\n",
       "       [1, 0, 0, 1],\n",
       "       [0, 1, 0, 0],\n",
       "       [1, 0, 0, 1],\n",
       "       [0, 1, 0, 0],\n",
       "       [1, 0, 0, 1],\n",
       "       [1, 0, 0, 0],\n",
       "       [0, 1, 0, 0],\n",
       "       [1, 0, 0, 1]])"
      ]
     },
     "execution_count": 6,
     "metadata": {},
     "output_type": "execute_result"
    }
   ],
   "source": [
    "x = np.random.randint(0,2,size=(10,k))\n",
    "x"
   ]
  },
  {
   "cell_type": "code",
   "execution_count": 7,
   "id": "be4a4dc0",
   "metadata": {},
   "outputs": [
    {
     "data": {
      "text/plain": [
       "0.4"
      ]
     },
     "execution_count": 7,
     "metadata": {},
     "output_type": "execute_result"
    }
   ],
   "source": [
    "np.mean(true_event_vector(x))"
   ]
  },
  {
   "cell_type": "code",
   "execution_count": 8,
   "id": "e6e33281",
   "metadata": {},
   "outputs": [
    {
     "data": {
      "text/plain": [
       "0.1875"
      ]
     },
     "execution_count": 8,
     "metadata": {},
     "output_type": "execute_result"
    }
   ],
   "source": [
    "(k-1)*((1/2)**k)"
   ]
  },
  {
   "cell_type": "markdown",
   "id": "53b55e7c",
   "metadata": {},
   "source": [
    "## Problem 10, Chap 1"
   ]
  },
  {
   "cell_type": "code",
   "execution_count": 9,
   "id": "9920f0a9",
   "metadata": {},
   "outputs": [],
   "source": [
    "import numpy as np"
   ]
  },
  {
   "cell_type": "code",
   "execution_count": 10,
   "id": "c26b5a46",
   "metadata": {},
   "outputs": [
    {
     "data": {
      "text/plain": [
       "0.335"
      ]
     },
     "execution_count": 10,
     "metadata": {},
     "output_type": "execute_result"
    }
   ],
   "source": [
    "door = np.random.randint(1,4,size=1000)\n",
    "np.mean(door == 1) # Probability when not switching"
   ]
  },
  {
   "cell_type": "code",
   "execution_count": 11,
   "id": "f2f584d1",
   "metadata": {},
   "outputs": [],
   "source": [
    "from random import randint\n",
    "host = [] # Door opened by host\n",
    "for d in door:\n",
    "    if (d == 1):\n",
    "        # Randomly open either 2 or 3\n",
    "        host.append(randint(2,3))\n",
    "    elif (d == 2):\n",
    "        host.append(3)\n",
    "    elif (d == 3):\n",
    "        host.append(2)"
   ]
  },
  {
   "cell_type": "code",
   "execution_count": 12,
   "id": "ebc0928b",
   "metadata": {},
   "outputs": [],
   "source": [
    "switch_success = [] # If switching was a success\n",
    "for d,h in zip(door,host):\n",
    "    if (h == 2) and d==3: # Switching from 1 to 3 was a success\n",
    "        switch_success.append(1)\n",
    "    elif (h == 3) and d==2: # Switching from 1 to 2 was a success\n",
    "        switch_success.append(1)\n",
    "    else:\n",
    "        switch_success.append(0)"
   ]
  },
  {
   "cell_type": "code",
   "execution_count": 13,
   "id": "f32be21c",
   "metadata": {},
   "outputs": [
    {
     "data": {
      "text/plain": [
       "0.665"
      ]
     },
     "execution_count": 13,
     "metadata": {},
     "output_type": "execute_result"
    }
   ],
   "source": [
    "np.mean(switch_success)"
   ]
  },
  {
   "cell_type": "markdown",
   "id": "91417ed9",
   "metadata": {},
   "source": [
    "## Some fun with text"
   ]
  },
  {
   "cell_type": "code",
   "execution_count": 14,
   "id": "c90fa0b0",
   "metadata": {},
   "outputs": [
    {
     "ename": "UnicodeDecodeError",
     "evalue": "'charmap' codec can't decode byte 0x9d in position 1129: character maps to <undefined>",
     "output_type": "error",
     "traceback": [
      "\u001b[1;31m---------------------------------------------------------------------------\u001b[0m",
      "\u001b[1;31mUnicodeDecodeError\u001b[0m                        Traceback (most recent call last)",
      "Input \u001b[1;32mIn [14]\u001b[0m, in \u001b[0;36m<cell line: 2>\u001b[1;34m()\u001b[0m\n\u001b[0;32m      1\u001b[0m \u001b[38;5;28;01mimport\u001b[39;00m \u001b[38;5;21;01mnumpy\u001b[39;00m \u001b[38;5;28;01mas\u001b[39;00m \u001b[38;5;21;01mnp\u001b[39;00m\n\u001b[0;32m      2\u001b[0m \u001b[38;5;28;01mwith\u001b[39;00m \u001b[38;5;28mopen\u001b[39m(\u001b[38;5;124m'\u001b[39m\u001b[38;5;124mdata/pride_and_prejudice.txt\u001b[39m\u001b[38;5;124m'\u001b[39m,mode\u001b[38;5;241m=\u001b[39m\u001b[38;5;124m'\u001b[39m\u001b[38;5;124mr\u001b[39m\u001b[38;5;124m'\u001b[39m) \u001b[38;5;28;01mas\u001b[39;00m f:\n\u001b[1;32m----> 3\u001b[0m     txt \u001b[38;5;241m=\u001b[39m \u001b[43mf\u001b[49m\u001b[38;5;241;43m.\u001b[39;49m\u001b[43mread\u001b[49m\u001b[43m(\u001b[49m\u001b[43m)\u001b[49m\n",
      "File \u001b[1;32m~\\anaconda3\\lib\\encodings\\cp1252.py:23\u001b[0m, in \u001b[0;36mIncrementalDecoder.decode\u001b[1;34m(self, input, final)\u001b[0m\n\u001b[0;32m     22\u001b[0m \u001b[38;5;28;01mdef\u001b[39;00m \u001b[38;5;21mdecode\u001b[39m(\u001b[38;5;28mself\u001b[39m, \u001b[38;5;28minput\u001b[39m, final\u001b[38;5;241m=\u001b[39m\u001b[38;5;28;01mFalse\u001b[39;00m):\n\u001b[1;32m---> 23\u001b[0m     \u001b[38;5;28;01mreturn\u001b[39;00m \u001b[43mcodecs\u001b[49m\u001b[38;5;241;43m.\u001b[39;49m\u001b[43mcharmap_decode\u001b[49m\u001b[43m(\u001b[49m\u001b[38;5;28;43minput\u001b[39;49m\u001b[43m,\u001b[49m\u001b[38;5;28;43mself\u001b[39;49m\u001b[38;5;241;43m.\u001b[39;49m\u001b[43merrors\u001b[49m\u001b[43m,\u001b[49m\u001b[43mdecoding_table\u001b[49m\u001b[43m)\u001b[49m[\u001b[38;5;241m0\u001b[39m]\n",
      "\u001b[1;31mUnicodeDecodeError\u001b[0m: 'charmap' codec can't decode byte 0x9d in position 1129: character maps to <undefined>"
     ]
    }
   ],
   "source": [
    "import numpy as np\n",
    "with open('data/pride_and_prejudice.txt',mode='r') as f:\n",
    "    txt = f.read()"
   ]
  },
  {
   "cell_type": "code",
   "execution_count": null,
   "id": "f0cc8267",
   "metadata": {},
   "outputs": [],
   "source": [
    "print(txt[:1000])"
   ]
  },
  {
   "cell_type": "code",
   "execution_count": null,
   "id": "374f2f5f",
   "metadata": {},
   "outputs": [],
   "source": [
    "letters = [l.lower() for l in txt if l.isalpha()]"
   ]
  },
  {
   "cell_type": "code",
   "execution_count": null,
   "id": "bc27f5c2",
   "metadata": {},
   "outputs": [],
   "source": [
    "# Lets convert everthing to numbers for processing"
   ]
  },
  {
   "cell_type": "code",
   "execution_count": null,
   "id": "33bdc1f5",
   "metadata": {},
   "outputs": [],
   "source": [
    "ord('h')"
   ]
  },
  {
   "cell_type": "code",
   "execution_count": null,
   "id": "c0be4045",
   "metadata": {},
   "outputs": [],
   "source": [
    "chr(104)"
   ]
  },
  {
   "cell_type": "code",
   "execution_count": null,
   "id": "97884c16",
   "metadata": {},
   "outputs": [],
   "source": [
    "ascii_ = [ord(l) for l in letters]"
   ]
  },
  {
   "cell_type": "code",
   "execution_count": null,
   "id": "6bc56af2",
   "metadata": {},
   "outputs": [],
   "source": [
    "from Utils import makeEMF"
   ]
  },
  {
   "cell_type": "code",
   "execution_count": null,
   "id": "b8a0a9c8",
   "metadata": {},
   "outputs": [],
   "source": [
    "emf = makeEMF(ascii_)"
   ]
  },
  {
   "cell_type": "code",
   "execution_count": null,
   "id": "6dc14f7c",
   "metadata": {},
   "outputs": [],
   "source": [
    "from Utils import plotEMF\n",
    "plotEMF(emf,force_display=False)\n",
    "import matplotlib.pyplot as plt\n",
    "_=plt.xticks(emf[:,0],[chr(int(i)) for i in emf[:,0]])"
   ]
  },
  {
   "cell_type": "code",
   "execution_count": null,
   "id": "131f2d85",
   "metadata": {},
   "outputs": [],
   "source": [
    "alphaRelFreqs = [73/1000,9/1000,30/1000,44/1000,130/1000,28/1000,16/1000,35/1000,74/1000,\n",
    "                 2/1000,3/1000,35/1000, 25/1000,78/1000,74/1000,27/1000,3/1000,77/1000,63/1000,\n",
    "                 93/1000,27/1000,13/1000,16/1000,5/1000,19/1000,1/1000]\n",
    "plotEMF(list(zip(emf[:,0],alphaRelFreqs)),force_display=False)\n",
    "_=plt.xticks(emf[:,0],[chr(int(i)) for i in emf[:,0]])"
   ]
  },
  {
   "cell_type": "code",
   "execution_count": null,
   "id": "925375ed",
   "metadata": {},
   "outputs": [],
   "source": [
    "plotEMF(emf,force_display=False)\n",
    "plotEMF(list(zip(emf[:,0],alphaRelFreqs)),force_display=False)\n",
    "_=plt.xticks(emf[:,0],[chr(int(i)) for i in emf[:,0]])"
   ]
  },
  {
   "cell_type": "code",
   "execution_count": null,
   "id": "4702a1ed",
   "metadata": {},
   "outputs": [],
   "source": [
    "alphabet = sorted(list(set(letters)))\n",
    "shuffled_alphabet = alphabet.copy()\n",
    "np.random.shuffle(shuffled_alphabet)"
   ]
  },
  {
   "cell_type": "code",
   "execution_count": null,
   "id": "83eea4e4",
   "metadata": {},
   "outputs": [],
   "source": [
    "encryption = dict(zip(alphabet,shuffled_alphabet))"
   ]
  },
  {
   "cell_type": "code",
   "execution_count": null,
   "id": "58a24de9",
   "metadata": {},
   "outputs": [],
   "source": [
    "encrypted_text = ''.join([encryption.get(a.lower(),a) for a in txt])\n",
    "print(encrypted_text[:200])"
   ]
  },
  {
   "cell_type": "code",
   "execution_count": null,
   "id": "4dab5fde",
   "metadata": {},
   "outputs": [],
   "source": [
    "letters_2 = [l.lower() for l in encrypted_text if l.isalpha()]"
   ]
  },
  {
   "cell_type": "code",
   "execution_count": null,
   "id": "e58c5e1c",
   "metadata": {},
   "outputs": [],
   "source": [
    "ascii_2 = [ord(l) for l in letters_2]"
   ]
  },
  {
   "cell_type": "code",
   "execution_count": null,
   "id": "f49f8f54",
   "metadata": {},
   "outputs": [],
   "source": [
    "emf2 = makeEMF(ascii_2)\n",
    "from Utils import plotEMF\n",
    "plotEMF(emf2,force_display=False)\n",
    "import matplotlib.pyplot as plt\n",
    "_=plt.xticks(emf2[:,0],[chr(int(i)) for i in emf2[:,0]])\n",
    "alphaRelFreqs = [73/1000,9/1000,30/1000,44/1000,130/1000,28/1000,16/1000,35/1000,74/1000,\n",
    "                 2/1000,3/1000,35/1000, 25/1000,78/1000,74/1000,27/1000,3/1000,77/1000,63/1000,\n",
    "                 93/1000,27/1000,13/1000,16/1000,5/1000,19/1000,1/1000]\n",
    "plotEMF(list(zip(emf[:,0],alphaRelFreqs)),force_display=False)\n",
    "_=plt.xticks(emf[:,0],[chr(int(i)) for i in emf[:,0]])"
   ]
  },
  {
   "cell_type": "code",
   "execution_count": null,
   "id": "4278823f",
   "metadata": {},
   "outputs": [],
   "source": [
    "from Utils import makeFreq\n",
    "sorted(makeFreq([''.join(l) for l in list(zip(letters[10000:-1],letters[10001:]))]),key=lambda x: int(x[1]),reverse=True)"
   ]
  },
  {
   "cell_type": "code",
   "execution_count": null,
   "id": "1332af63",
   "metadata": {},
   "outputs": [],
   "source": [
    "from Utils import makeFreq\n",
    "sorted(makeFreq([''.join(l) for l in list(zip(letters_2[:10000],letters_2[1:10000]))]),key=lambda x: int(x[1]),reverse=True)"
   ]
  },
  {
   "cell_type": "code",
   "execution_count": null,
   "id": "fbe49dfe",
   "metadata": {},
   "outputs": [],
   "source": [
    "translation = {'u':'t','f':'h','x':'e'}"
   ]
  },
  {
   "cell_type": "code",
   "execution_count": null,
   "id": "df4e2bc9",
   "metadata": {},
   "outputs": [],
   "source": [
    "print(''.join([translation.get(a,'|'+a+'|') for a in encrypted_text if a.isalpha() or a in ' -;.\\n'][:1000]))"
   ]
  },
  {
   "cell_type": "code",
   "execution_count": null,
   "id": "38efcb2e",
   "metadata": {},
   "outputs": [],
   "source": []
  }
 ],
 "metadata": {
  "kernelspec": {
   "display_name": "Python 3 (ipykernel)",
   "language": "python",
   "name": "python3"
  },
  "language_info": {
   "codemirror_mode": {
    "name": "ipython",
    "version": 3
   },
   "file_extension": ".py",
   "mimetype": "text/x-python",
   "name": "python",
   "nbconvert_exporter": "python",
   "pygments_lexer": "ipython3",
   "version": "3.9.12"
  },
  "lx_course_instance": "2022",
  "lx_course_name": "Introduction to Data Science",
  "lx_course_number": "1MS041"
 },
 "nbformat": 4,
 "nbformat_minor": 5
}
