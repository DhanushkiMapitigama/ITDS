{
 "cells": [
  {
   "cell_type": "markdown",
   "id": "cc1b2143",
   "metadata": {
    "deletable": false
   },
   "source": [
    "# [Introduction to Data Science](http://datascience-intro.github.io/1MS041-2022/)    \n",
    "## 1MS041, 2022 \n",
    "&copy;2022 Raazesh Sainudiin, Benny Avelin. [Attribution 4.0 International     (CC BY 4.0)](https://creativecommons.org/licenses/by/4.0/)"
   ]
  },
  {
   "cell_type": "code",
   "execution_count": 1,
   "id": "04abbbfb",
   "metadata": {},
   "outputs": [],
   "source": [
    "from Utils import showURL"
   ]
  },
  {
   "cell_type": "code",
   "execution_count": 2,
   "id": "d1fc9a9b",
   "metadata": {},
   "outputs": [
    {
     "data": {
      "text/html": [
       "\n",
       "        <iframe\n",
       "            width=\"95%\"\n",
       "            height=\"600\"\n",
       "            src=\"https://en.wikipedia.org/wiki/Normal_distribution\"\n",
       "            frameborder=\"0\"\n",
       "            allowfullscreen\n",
       "            \n",
       "        ></iframe>\n",
       "        "
      ],
      "text/plain": [
       "<IPython.lib.display.IFrame at 0x243b801f3d0>"
      ]
     },
     "execution_count": 2,
     "metadata": {},
     "output_type": "execute_result"
    }
   ],
   "source": [
    "showURL('https://en.wikipedia.org/wiki/Normal_distribution')"
   ]
  },
  {
   "cell_type": "code",
   "execution_count": 3,
   "id": "fb1da9ff",
   "metadata": {},
   "outputs": [],
   "source": [
    "import numpy as np"
   ]
  },
  {
   "cell_type": "code",
   "execution_count": 4,
   "id": "3dadb341",
   "metadata": {},
   "outputs": [],
   "source": [
    "lam = 2"
   ]
  },
  {
   "cell_type": "markdown",
   "id": "094a6147",
   "metadata": {},
   "source": [
    "$$f(x) = \\lambda*e^{-\\lambda x}$$"
   ]
  },
  {
   "cell_type": "code",
   "execution_count": 5,
   "id": "692bccfe",
   "metadata": {},
   "outputs": [],
   "source": [
    "from sympy import var, integrate, exp"
   ]
  },
  {
   "cell_type": "code",
   "execution_count": 6,
   "id": "edcd7fe0",
   "metadata": {},
   "outputs": [],
   "source": [
    "l = var('l')\n",
    "x = var('x')"
   ]
  },
  {
   "cell_type": "code",
   "execution_count": 7,
   "id": "fb8daffe",
   "metadata": {},
   "outputs": [
    {
     "data": {
      "text/latex": [
       "$\\displaystyle l e^{- l x}$"
      ],
      "text/plain": [
       "l*exp(-l*x)"
      ]
     },
     "execution_count": 7,
     "metadata": {},
     "output_type": "execute_result"
    }
   ],
   "source": [
    "f = l*exp(-l*x)\n",
    "f"
   ]
  },
  {
   "cell_type": "code",
   "execution_count": 8,
   "id": "56840b6b",
   "metadata": {},
   "outputs": [],
   "source": [
    "y = var('y')\n",
    "f_y = integrate(f,(x,0,y))"
   ]
  },
  {
   "cell_type": "code",
   "execution_count": 9,
   "id": "addf0a9c",
   "metadata": {},
   "outputs": [
    {
     "data": {
      "text/latex": [
       "$\\displaystyle 1 - e^{- l y}$"
      ],
      "text/plain": [
       "1 - exp(-l*y)"
      ]
     },
     "execution_count": 9,
     "metadata": {},
     "output_type": "execute_result"
    }
   ],
   "source": [
    "f_y"
   ]
  },
  {
   "cell_type": "code",
   "execution_count": 10,
   "id": "21deb05b",
   "metadata": {},
   "outputs": [],
   "source": [
    "from sympy import solve"
   ]
  },
  {
   "cell_type": "code",
   "execution_count": 11,
   "id": "09c0b3bf",
   "metadata": {},
   "outputs": [],
   "source": [
    "# -(1/l)*ln(-x+1) = y"
   ]
  },
  {
   "cell_type": "code",
   "execution_count": 12,
   "id": "cf8ec5a6",
   "metadata": {},
   "outputs": [],
   "source": [
    "x = np.random.uniform(0,1,10000)"
   ]
  },
  {
   "cell_type": "code",
   "execution_count": 13,
   "id": "9b761c59",
   "metadata": {},
   "outputs": [],
   "source": [
    "y = -(1/lam)*np.log(-x+1)"
   ]
  },
  {
   "cell_type": "code",
   "execution_count": 14,
   "id": "f94b36f1",
   "metadata": {},
   "outputs": [
    {
     "data": {
      "text/plain": [
       "[<matplotlib.lines.Line2D at 0x243bbeb1940>]"
      ]
     },
     "execution_count": 14,
     "metadata": {},
     "output_type": "execute_result"
    },
    {
     "data": {
      "image/png": "[encoded data removed]",
      "text/plain": [
       "<Figure size 432x288 with 1 Axes>"
      ]
     },
     "metadata": {
      "needs_background": "light"
     },
     "output_type": "display_data"
    }
   ],
   "source": [
    "import matplotlib.pyplot as plt\n",
    "_=plt.hist(y,density=True,bins=100)\n",
    "z = np.linspace(0,4,100)\n",
    "plt.plot(z,lam*np.exp(-lam*z))"
   ]
  },
  {
   "cell_type": "code",
   "execution_count": null,
   "id": "2abbccf5",
   "metadata": {},
   "outputs": [],
   "source": []
  },
  {
   "cell_type": "code",
   "execution_count": 15,
   "id": "5b67bed2",
   "metadata": {},
   "outputs": [
    {
     "data": {
      "text/html": [
       "\n",
       "        <iframe\n",
       "            width=\"95%\"\n",
       "            height=\"600\"\n",
       "            src=\"https://www.sympy.org/en/index.html\"\n",
       "            frameborder=\"0\"\n",
       "            allowfullscreen\n",
       "            \n",
       "        ></iframe>\n",
       "        "
      ],
      "text/plain": [
       "<IPython.lib.display.IFrame at 0x243bbfd9b80>"
      ]
     },
     "execution_count": 15,
     "metadata": {},
     "output_type": "execute_result"
    }
   ],
   "source": [
    "showURL('https://www.sympy.org/en/index.html')"
   ]
  },
  {
   "cell_type": "code",
   "execution_count": 16,
   "id": "f01c7754",
   "metadata": {},
   "outputs": [
    {
     "name": "stderr",
     "output_type": "stream",
     "text": [
      "'ls' is not recognized as an internal or external command,\n",
      "operable program or batch file.\n"
     ]
    }
   ],
   "source": [
    "!ls data"
   ]
  },
  {
   "cell_type": "code",
   "execution_count": 17,
   "id": "b5349309",
   "metadata": {},
   "outputs": [
    {
     "name": "stderr",
     "output_type": "stream",
     "text": [
      "'head' is not recognized as an internal or external command,\n",
      "operable program or batch file.\n"
     ]
    }
   ],
   "source": [
    "!head -n 100 data/co2_mm_mlo.txt"
   ]
  },
  {
   "cell_type": "code",
   "execution_count": 18,
   "id": "04f56079",
   "metadata": {},
   "outputs": [],
   "source": [
    "with open('data/co2_mm_mlo.txt',mode='r') as f:\n",
    "    current_line = f.readline()\n",
    "    while (current_line[0] == '#'):\n",
    "        current_line = f.readline()\n",
    "    "
   ]
  },
  {
   "cell_type": "code",
   "execution_count": 19,
   "id": "f0c88c60",
   "metadata": {},
   "outputs": [
    {
     "data": {
      "text/plain": [
       "'1958   3    1958.208      315.71      315.71      314.62     -1\\n'"
      ]
     },
     "execution_count": 19,
     "metadata": {},
     "output_type": "execute_result"
    }
   ],
   "source": [
    "current_line"
   ]
  },
  {
   "cell_type": "code",
   "execution_count": 20,
   "id": "4a68c54e",
   "metadata": {},
   "outputs": [
    {
     "data": {
      "text/plain": [
       "['1958', '3', '1958.208', '315.71', '315.71', '314.62', '-1\\n']"
      ]
     },
     "execution_count": 20,
     "metadata": {},
     "output_type": "execute_result"
    }
   ],
   "source": [
    "[d for d in current_line.split(' ') if len(d) > 0]"
   ]
  },
  {
   "cell_type": "code",
   "execution_count": 21,
   "id": "f634f71d",
   "metadata": {},
   "outputs": [],
   "source": [
    "import re"
   ]
  },
  {
   "cell_type": "code",
   "execution_count": 22,
   "id": "9d697603",
   "metadata": {},
   "outputs": [
    {
     "data": {
      "text/plain": [
       "['1958', '3', '1958.208', '315.71', '315.71', '314.62', '-1']"
      ]
     },
     "execution_count": 22,
     "metadata": {},
     "output_type": "execute_result"
    }
   ],
   "source": [
    "data_line = re.sub('\\n','',re.sub(' +',' ',current_line)).split(' ')\n",
    "data_line"
   ]
  },
  {
   "cell_type": "code",
   "execution_count": 23,
   "id": "b788cf71",
   "metadata": {},
   "outputs": [],
   "source": [
    "schema = [int,int,float,float,float,float,int]"
   ]
  },
  {
   "cell_type": "code",
   "execution_count": 24,
   "id": "b4b397da",
   "metadata": {},
   "outputs": [
    {
     "data": {
      "text/plain": [
       "[1958, 3, 1958.208, 315.71, 315.71, 314.62, -1]"
      ]
     },
     "execution_count": 24,
     "metadata": {},
     "output_type": "execute_result"
    }
   ],
   "source": [
    "[sch(d) for sch,d in zip(schema,data_line)]"
   ]
  },
  {
   "cell_type": "code",
   "execution_count": 25,
   "id": "43c37412",
   "metadata": {},
   "outputs": [],
   "source": [
    "data = []\n",
    "with open('data/co2_mm_mlo.txt',mode='r') as f:\n",
    "    current_line = f.readline()\n",
    "    while (current_line[0] == '#'):\n",
    "        current_line = f.readline()\n",
    "    data_line = re.sub('\\n','',re.sub(' +',' ',current_line)).split(' ')\n",
    "    data_line_typed = [sch(d) for sch,d in zip(schema,data_line)]\n",
    "    data.append(data_line_typed)\n",
    "    for line in f:\n",
    "        data_line = re.sub('\\n','',re.sub(' +',' ',line)).split(' ')\n",
    "        data_line_typed = [sch(d) for sch,d in zip(schema,data_line)]\n",
    "        data.append(data_line_typed)"
   ]
  },
  {
   "cell_type": "code",
   "execution_count": 26,
   "id": "747ed401",
   "metadata": {},
   "outputs": [
    {
     "data": {
      "text/plain": [
       "array([[ 1.958000e+03,  3.000000e+00,  1.958208e+03, ...,  3.157100e+02,\n",
       "         3.146200e+02, -1.000000e+00],\n",
       "       [ 1.958000e+03,  4.000000e+00,  1.958292e+03, ...,  3.174500e+02,\n",
       "         3.152900e+02, -1.000000e+00],\n",
       "       [ 1.958000e+03,  5.000000e+00,  1.958375e+03, ...,  3.175000e+02,\n",
       "         3.147100e+02, -1.000000e+00],\n",
       "       ...,\n",
       "       [ 2.018000e+03,  9.000000e+00,  2.018708e+03, ...,  4.055100e+02,\n",
       "         4.090900e+02,  2.900000e+01],\n",
       "       [ 2.018000e+03,  1.000000e+01,  2.018792e+03, ...,  4.060000e+02,\n",
       "         4.093800e+02,  3.000000e+01],\n",
       "       [ 2.018000e+03,  1.100000e+01,  2.018875e+03, ...,  4.080200e+02,\n",
       "         4.099800e+02,  2.400000e+01]])"
      ]
     },
     "execution_count": 26,
     "metadata": {},
     "output_type": "execute_result"
    }
   ],
   "source": [
    "import numpy as np\n",
    "data_array = np.array(data,dtype=float)\n",
    "data_array"
   ]
  },
  {
   "cell_type": "code",
   "execution_count": 27,
   "id": "00475467",
   "metadata": {},
   "outputs": [
    {
     "data": {
      "text/plain": [
       "(729, 7)"
      ]
     },
     "execution_count": 27,
     "metadata": {},
     "output_type": "execute_result"
    }
   ],
   "source": [
    "data_array.shape"
   ]
  },
  {
   "cell_type": "code",
   "execution_count": 28,
   "id": "383008d7",
   "metadata": {},
   "outputs": [
    {
     "data": {
      "text/plain": [
       "(729,)"
      ]
     },
     "execution_count": 28,
     "metadata": {},
     "output_type": "execute_result"
    }
   ],
   "source": [
    "data_array[:,4:5].reshape(-1).shape"
   ]
  },
  {
   "cell_type": "code",
   "execution_count": 29,
   "id": "d34ed8cc",
   "metadata": {},
   "outputs": [],
   "source": [
    "average = data_array[:,4]"
   ]
  },
  {
   "cell_type": "code",
   "execution_count": 30,
   "id": "841adf61",
   "metadata": {},
   "outputs": [
    {
     "data": {
      "image/png": "[encoded data removed]",
      "text/plain": [
       "<Figure size 432x288 with 1 Axes>"
      ]
     },
     "metadata": {
      "needs_background": "light"
     },
     "output_type": "display_data"
    }
   ],
   "source": [
    "import matplotlib.pyplot as plt\n",
    "_=plt.hist(average)"
   ]
  },
  {
   "cell_type": "code",
   "execution_count": 31,
   "id": "4e19ed54",
   "metadata": {},
   "outputs": [
    {
     "name": "stdout",
     "output_type": "stream",
     "text": [
      "mean: 353.79\tstd: 27.53\tskew: 0.34\tkurtosis: 1.93\n"
     ]
    }
   ],
   "source": [
    "from Utils import basic_stats\n",
    "basic_stats(average)"
   ]
  },
  {
   "cell_type": "code",
   "execution_count": 32,
   "id": "88ace46c",
   "metadata": {},
   "outputs": [],
   "source": [
    "from Utils import makeEMF, makeEDF,plotEDF"
   ]
  },
  {
   "cell_type": "code",
   "execution_count": 33,
   "id": "875f040e",
   "metadata": {},
   "outputs": [
    {
     "data": {
      "image/png": "[encoded data removed]",
      "text/plain": [
       "<Figure size 432x288 with 1 Axes>"
      ]
     },
     "metadata": {
      "needs_background": "light"
     },
     "output_type": "display_data"
    }
   ],
   "source": [
    "plotEDF(makeEDF(average))"
   ]
  }
 ],
 "metadata": {
  "kernelspec": {
   "display_name": "Python 3 (ipykernel)",
   "language": "python",
   "name": "python3"
  },
  "language_info": {
   "codemirror_mode": {
    "name": "ipython",
    "version": 3
   },
   "file_extension": ".py",
   "mimetype": "text/x-python",
   "name": "python",
   "nbconvert_exporter": "python",
   "pygments_lexer": "ipython3",
   "version": "3.9.12"
  },
  "lx_course_instance": "2022",
  "lx_course_name": "Introduction to Data Science",
  "lx_course_number": "1MS041"
 },
 "nbformat": 4,
 "nbformat_minor": 5
}
