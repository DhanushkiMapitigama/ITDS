{
 "cells": [
  {
   "cell_type": "markdown",
   "id": "6dbc392a",
   "metadata": {
    "deletable": false
   },
   "source": [
    "# [Introduction to Data Science](http://datascience-intro.github.io/1MS041-2022/)    \n",
    "## 1MS041, 2022 \n",
    "&copy;2022 Raazesh Sainudiin, Benny Avelin. [Attribution 4.0 International     (CC BY 4.0)](https://creativecommons.org/licenses/by/4.0/)"
   ]
  },
  {
   "cell_type": "code",
   "execution_count": 1,
   "id": "7a983f61",
   "metadata": {},
   "outputs": [
    {
     "name": "stderr",
     "output_type": "stream",
     "text": [
      "'ls' is not recognized as an internal or external command,\n",
      "operable program or batch file.\n"
     ]
    }
   ],
   "source": [
    "!ls data"
   ]
  },
  {
   "cell_type": "markdown",
   "id": "80cc06ed",
   "metadata": {},
   "source": [
    "# Estimation of mean\n",
    "\n",
    "* Load data\n",
    "* Make assumptions\n",
    "* Estimate mean\n",
    "* Write down confidence interval"
   ]
  },
  {
   "cell_type": "code",
   "execution_count": 2,
   "id": "da48f425",
   "metadata": {},
   "outputs": [
    {
     "name": "stderr",
     "output_type": "stream",
     "text": [
      "'head' is not recognized as an internal or external command,\n",
      "operable program or batch file.\n"
     ]
    }
   ],
   "source": [
    "!head -n 3 data/NYPowerBall.csv"
   ]
  },
  {
   "cell_type": "code",
   "execution_count": 3,
   "id": "32661200",
   "metadata": {},
   "outputs": [],
   "source": [
    "import csv\n",
    "data = []\n",
    "\n",
    "with open('data/NYPowerBall.csv',mode='r') as f:\n",
    "    csv_reader = csv.reader(f)\n",
    "    header = next(csv_reader)\n",
    "    \n",
    "    for line in csv_reader:\n",
    "        data.append(line)"
   ]
  },
  {
   "cell_type": "code",
   "execution_count": 4,
   "id": "a3c48016",
   "metadata": {},
   "outputs": [
    {
     "data": {
      "text/plain": [
       "[1, 2, 2, 3]"
      ]
     },
     "execution_count": 4,
     "metadata": {},
     "output_type": "execute_result"
    }
   ],
   "source": [
    "[1,2]+[2,3]"
   ]
  },
  {
   "cell_type": "code",
   "execution_count": 6,
   "id": "1e245b09",
   "metadata": {},
   "outputs": [
    {
     "name": "stdout",
     "output_type": "stream",
     "text": [
      "[1, 2, 3, 7, 39, 25, 5, 13, 28, 38, 63, 21, 10, 17, 18, 43, 65, 13, 2, 12, 16, 29, 54, 6, 8, 12, 20, 21, 32, 10, 23, 25, 47, 48, 50, 24, 5, 8, 41, 65, 66, 20, 14, 29, 31, 56, 61, 1, 7, 36, 48, 57, 58, 24, 6, 19, 37, 49, 59, 22, 3, 7, 15, 27, 69, 19, 8, 12, 42, 46, 56, 12, 12, 42, 51, 53, 62, 25, 5, 25, 38, 52, 67, 24, 21, 28, 30, 40, 59, 26, 15, 29, 31, 37, 43, 16, 8, 38, 43, 52, 55, 17, 4, 9, 21, 29, 64, 26, 14, 32, 34, 46, 61, 10, 9, 11, 36, 37, 38, 11, 10, 11, 47, 55, 58, 26, 4, 19, 59, 68, 69, 21, 11, 33, 51, 56, 58, 18, 7, 14, 23, 38, 55, 18, 6, 8, 20, 52, 68, 5, 7, 42, 49, 62, 69, 23, 5, 29, 34, 53, 57, 24, 26, 28, 34, 42, 50, 25, 15, 21, 24, 32, 65, 11, 7, 25, 39, 40, 47, 20, 8, 12, 13, 19, 27, 4, 3, 21, 45, 53, 56, 22, 16, 54, 57, 62, 69, 23, 3, 57, 64, 68, 69, 15, 11, 14, 32, 43, 65, 15, 8, 23, 27, 42, 60, 7, 1, 22, 27, 53, 67, 15, 41, 53, 59, 63, 66, 3, 9, 17, 34, 59, 64, 22, 1, 2, 7, 30, 50, 8, 24, 61, 63, 64, 69, 18, 4, 39, 48, 50, 51, 11, 2, 18, 19, 24, 34, 3, 6, 28, 48, 63, 64, 24, 3, 13, 20, 32, 33, 21, 6, 15, 50, 59, 60, 13, 11, 54, 55, 61, 66, 9, 25, 41, 53, 57, 67, 12, 20, 25, 54, 57, 63, 8, 1, 7, 45, 47, 69, 13, 24, 34, 52, 61, 67, 16, 12, 15, 28, 47, 48, 16, 5, 43, 56, 62, 68, 24, 10, 21, 30, 43, 63, 17, 3, 11, 38, 44, 58, 2, 5, 22, 32, 38, 58, 26, 22, 27, 46, 56, 65, 13, 2, 18, 41, 44, 64, 26, 9, 23, 56, 58, 68, 1, 1, 10, 27, 28, 36, 12, 22, 41, 42, 49, 67, 11, 19, 21, 27, 46, 47, 7, 1, 10, 43, 45, 64, 22, 4, 7, 15, 41, 44, 10, 3, 9, 20, 42, 61, 24, 7, 28, 37, 62, 63, 15, 16, 29, 43, 45, 56, 25, 4, 14, 23, 27, 56, 13, 9, 45, 57, 58, 65, 9, 13, 20, 38, 45, 55, 1, 6, 10, 15, 25, 36, 14, 23, 28, 41, 53, 56, 14, 23, 25, 37, 44, 64, 7, 17, 23, 26, 46, 68, 20, 1, 21, 31, 45, 49, 21, 20, 54, 56, 61, 64, 7, 3, 6, 9, 17, 56, 25, 17, 19, 21, 22, 51, 19, 22, 42, 45, 55, 56, 14, 11, 16, 38, 50, 69, 19, 14, 29, 36, 57, 61, 17, 5, 14, 31, 40, 50, 6, 20, 22, 28, 45, 50, 8, 17, 18, 39, 56, 64, 12, 40, 50, 54, 62, 69, 19, 9, 10, 12, 17, 23, 9, 17, 19, 26, 61, 62, 15, 16, 18, 27, 55, 67, 18, 2, 17, 20, 38, 39, 20, 8, 24, 42, 54, 64, 24, 8, 24, 52, 55, 61, 21, 6, 8, 26, 52, 53, 21, 10, 33, 45, 53, 56, 24, 3, 4, 18, 29, 61, 25, 22, 57, 59, 60, 66, 7, 6, 12, 24, 41, 68, 9, 43, 44, 54, 61, 69, 22, 6, 13, 19, 36, 51, 18, 13, 17, 25, 36, 40, 5, 12, 30, 59, 65, 69, 16, 24, 25, 38, 62, 63, 6, 7, 15, 31, 34, 36, 8, 13, 26, 39, 44, 62, 2, 37, 39, 44, 46, 69, 26, 1, 13, 27, 41, 59, 20, 23, 34, 35, 40, 47, 10, 15, 23, 27, 48, 53, 6, 4, 7, 14, 46, 59, 22, 17, 21, 26, 47, 54, 7, 5, 9, 11, 33, 64, 21, 26, 28, 47, 49, 58, 3, 3, 33, 37, 51, 57, 21, 14, 25, 35, 58, 69, 24, 7, 24, 33, 49, 50, 4, 12, 61, 30, 29, 33, 26, 2, 18, 37, 39, 42, 12, 28, 36, 41, 51, 58, 24, 3, 9, 16, 56, 60, 3, 1, 3, 13, 15, 44, 25, 1, 20, 61, 64, 69, 20, 9, 35, 37, 50, 63, 11, 2, 24, 28, 51, 58, 7, 25, 36, 37, 55, 60, 6, 19, 20, 50, 55, 62, 9, 28, 30, 32, 36, 58, 6, 24, 26, 28, 59, 63, 16, 8, 13, 27, 53, 54, 4, 35, 37, 46, 51, 61, 13, 17, 28, 31, 32, 39, 26, 23, 32, 44, 48, 50, 25, 4, 6, 16, 30, 56, 18, 12, 14, 20, 21, 34, 22, 12, 14, 26, 48, 51, 13, 3, 6, 19, 26, 44, 1, 27, 35, 38, 57, 66, 10, 18, 22, 29, 54, 57, 8, 14, 41, 42, 45, 69, 4, 30, 49, 54, 66, 69, 8, 32, 37, 56, 66, 69, 11, 1, 3, 13, 19, 69, 23, 10, 49, 61, 63, 65, 7, 22, 23, 62, 63, 66, 24, 8, 12, 25, 41, 64, 15, 8, 10, 21, 23, 25, 22, 24, 45, 55, 56, 57, 19, 39, 48, 53, 67, 68, 26, 17, 18, 24, 25, 31, 24, 17, 24, 35, 57, 63, 19, 6, 20, 29, 57, 59, 22, 8, 14, 32, 58, 67, 17, 6, 21, 41, 52, 62, 26, 19, 28, 43, 67, 69, 7, 7, 15, 32, 38, 66, 15, 6, 7, 16, 23, 26, 4, 17, 19, 39, 43, 68, 13, 9, 15, 43, 60, 64, 4, 20, 24, 26, 35, 49, 19, 12, 30, 36, 47, 62, 9, 11, 21, 28, 33, 45, 11, 1, 16, 54, 63, 69, 18, 1, 28, 40, 45, 48, 12, 7, 19, 21, 42, 69, 12, 5, 32, 44, 53, 60, 9, 50, 51, 59, 61, 63, 4, 9, 40, 63, 64, 66, 17, 1, 2, 18, 23, 61, 9, 8, 10, 29, 40, 59, 26, 4, 9, 16, 54, 68, 21, 19, 42, 45, 48, 53, 16, 29, 37, 46, 53, 68, 8, 10, 22, 32, 36, 58, 10, 14, 46, 61, 65, 68, 13, 10, 13, 32, 53, 62, 21, 5, 22, 43, 57, 63, 24, 5, 21, 57, 66, 69, 13, 3, 9, 21, 41, 54, 25, 4, 33, 39, 46, 60, 6, 5, 10, 28, 55, 67, 9, 28, 32, 33, 38, 62, 15, 5, 22, 45, 47, 54, 3, 4, 11, 39, 45, 48, 9, 17, 20, 32, 63, 68, 19, 29, 31, 46, 56, 62, 8, 11, 21, 31, 41, 59, 21, 17, 18, 49, 59, 66, 9, 22, 23, 24, 45, 62, 5, 1, 15, 18, 26, 51, 26, 21, 39, 41, 48, 63, 6, 1, 19, 37, 40, 52, 15, 5, 22, 26, 45, 61, 13, 8, 14, 61, 63, 68, 24, 23, 36, 51, 53, 60, 15, 8, 20, 46, 53, 54, 13, 9, 32, 36, 44, 65, 1, 8, 15, 31, 36, 62, 11, 18, 31, 32, 45, 48, 16, 2, 9, 27, 29, 42, 9, 13, 25, 44, 54, 67, 5, 16, 30, 41, 48, 53, 16, 1, 26, 41, 50, 57, 11, 23, 33, 42, 46, 59, 4, 2, 18, 19, 22, 63, 19, 10, 16, 40, 52, 55, 17, 10, 16, 40, 52, 55, 17, 6, 32, 47, 62, 65, 19, 10, 13, 28, 52, 61, 2, 3, 7, 9, 31, 33, 20, 5, 28, 33, 38, 42, 19, 5, 9, 17, 37, 64, 2, 14, 20, 42, 49, 66, 5, 6, 13, 16, 17, 52, 25, 9, 43, 57, 60, 64, 10, 12, 20, 39, 49, 69, 17, 18, 28, 62, 66, 68, 22, 23, 25, 45, 52, 67, 2, 9, 40, 41, 53, 58, 12, 23, 55, 59, 64, 69, 13, 1, 3, 13, 16, 43, 24, 3, 12, 24, 37, 63, 10, 16, 17, 29, 41, 42, 4, 1, 3, 28, 57, 67, 9, 16, 23, 30, 44, 58, 4, 28, 38, 42, 51, 52, 21, 25, 33, 40, 54, 68, 3, 1, 8, 16, 40, 48, 10, 18, 26, 37, 39, 66, 15, 12, 21, 32, 44, 66, 15, 41, 48, 49, 53, 64, 20, 8, 10, 26, 27, 33, 22, 3, 14, 18, 25, 45, 7, 17, 19, 21, 37, 44, 16, 7, 32, 41, 47, 61, 3, 16, 24, 28, 43, 61, 21, 28, 41, 61, 63, 65, 7, 8, 17, 20, 27, 52, 24, 1, 25, 28, 31, 54, 2, 21, 31, 50, 51, 69, 8, 13, 18, 37, 54, 61, 5, 19, 20, 21, 42, 48, 23, 2, 3, 16, 48, 56, 24, 1, 28, 33, 55, 56, 22, 10, 16, 38, 43, 63, 23, 23, 49, 57, 64, 67, 20, 16, 30, 34, 37, 44, 16, 3, 54, 61, 64, 68, 9, 8, 18, 27, 29, 60, 15, 2, 12, 50, 61, 64, 1, 30, 38, 52, 53, 62, 1, 7, 15, 20, 29, 41, 22, 1, 28, 63, 67, 69, 17, 9, 19, 51, 55, 62, 14, 10, 11, 23, 28, 31, 14, 3, 17, 49, 55, 68, 8, 22, 23, 29, 33, 55, 21, 7, 39, 50, 59, 67, 25, 5, 10, 24, 56, 61, 12, 4, 32, 48, 49, 63, 20, 9, 11, 25, 64, 65, 16, 3, 6, 21, 60, 68, 24, 33, 44, 49, 50, 52, 8, 38, 44, 60, 64, 69, 6, 23, 56, 61, 64, 67, 12, 20, 33, 36, 47, 52, 12, 9, 11, 27, 66, 67, 2, 11, 17, 21, 23, 32, 5, 10, 47, 50, 65, 68, 24, 5, 7, 23, 35, 39, 11, 6, 25, 35, 58, 66, 5, 11, 17, 40, 50, 62, 26, 3, 15, 29, 54, 57, 10, 10, 28, 32, 61, 64, 12, 2, 24, 31, 57, 66, 18, 10, 34, 39, 59, 63, 4, 23, 29, 37, 60, 64, 6, 3, 27, 36, 56, 69, 25, 14, 40, 42, 43, 52, 17, 2, 23, 41, 53, 63, 11, 4, 22, 24, 31, 33, 10, 20, 27, 36, 41, 58, 7, 12, 25, 37, 60, 69, 20, 16, 20, 22, 43, 64, 17, 23, 30, 33, 40, 69, 12, 6, 33, 34, 58, 59, 12, 11, 24, 41, 59, 64, 15, 5, 7, 9, 23, 32, 26, 23, 25, 39, 54, 67, 11, 13, 27, 47, 64, 65, 9, 20, 32, 52, 66, 69, 23, 5, 25, 26, 44, 66, 9, 30, 47, 57, 66, 69, 3, 3, 12, 16, 32, 34, 14, 2, 25, 33, 39, 64, 17, 19, 35, 46, 59, 62, 13, 12, 25, 30, 52, 62, 8, 3, 18, 25, 32, 51, 3, 30, 33, 35, 38, 64, 22, 14, 22, 23, 41, 61, 9, 4, 28, 49, 60, 65, 25, 9, 28, 30, 40, 61, 3, 24, 44, 53, 55, 63, 19, 11, 23, 42, 52, 68, 6, 5, 8, 15, 22, 49, 25, 11, 23, 43, 54, 60, 3, 10, 12, 13, 46, 50, 21, 11, 28, 50, 57, 62, 23, 14, 23, 32, 34, 68, 3, 3, 27, 34, 59, 69, 19, 12, 13, 44, 52, 62, 6, 10, 11, 21, 22, 53, 18, 21, 31, 64, 65, 67, 5, 11, 12, 15, 16, 54, 25, 7, 17, 27, 29, 40, 25, 7, 15, 18, 19, 36, 20, 2, 3, 40, 50, 62, 5, 4, 13, 31, 36, 52, 8, 26, 28, 31, 60, 67, 23, 5, 12, 16, 31, 43, 18, 3, 12, 40, 52, 67, 21, 22, 32, 34, 40, 69, 19, 5, 39, 44, 47, 69, 24, 3, 51, 52, 61, 64, 6, 4, 8, 19, 27, 34, 10, 16, 19, 32, 34, 57, 13, 2, 11, 47, 62, 63, 17, 5, 6, 15, 29, 42, 10, 12, 36, 38, 54, 61, 22, 27, 40, 44, 59, 65, 20, 16, 38, 55, 63, 67, 25, 28, 30, 41, 59, 68, 10, 9, 10, 32, 42, 55, 6, 2, 14, 19, 30, 62, 22, 7, 10, 16, 46, 56, 1, 13, 27, 33, 47, 68, 13, 14, 18, 19, 32, 64, 9, 2, 6, 47, 66, 67, 2, 16, 29, 53, 58, 69, 21, 37, 47, 50, 52, 57, 21, 17, 40, 41, 46, 69, 6, 14, 22, 37, 45, 66, 5, 4, 26, 32, 55, 64, 18, 7, 16, 25, 50, 53, 15, 2, 12, 17, 20, 65, 17, 9, 20, 25, 47, 68, 7, 4, 54, 56, 62, 63, 10, 20, 31, 56, 60, 64, 2, 30, 32, 42, 56, 57, 11, 48, 49, 57, 62, 69, 19, 15, 20, 29, 31, 40, 1, 12, 27, 29, 43, 68, 1, 18, 30, 40, 48, 52, 9, 6, 26, 33, 44, 46, 4, 21, 39, 40, 55, 59, 17, 23, 31, 42, 50, 57, 5, 8, 29, 41, 51, 58, 5, 12, 17, 26, 43, 48, 24, 5, 7, 24, 31, 39, 7, 2, 3, 13, 16, 35, 27, 44, 45, 47, 50, 51, 8, 10, 16, 18, 29, 45, 19, 17, 22, 30, 46, 56, 16, 18, 21, 25, 28, 29, 16, 2, 22, 32, 45, 56, 12, 4, 12, 14, 21, 55, 7, 6, 8, 43, 48, 50, 7, 3, 13, 17, 42, 52, 24, 8, 13, 29, 38, 52, 28, 9, 34, 48, 52, 54, 15, 9, 11, 14, 16, 42, 19, 7, 13, 24, 49, 57, 15, 4, 22, 27, 28, 52, 35, 27, 29, 34, 41, 44, 2, 12, 31, 43, 44, 57, 11, 6, 37, 39, 45, 55, 33, 13, 16, 34, 45, 50, 11, 11, 39, 46, 52, 54, 3, 4, 15, 25, 27, 30, 18, 3, 6, 14, 18, 24, 21, 7, 24, 26, 31, 41, 25, 18, 28, 35, 46, 49, 27, 3, 5, 10, 22, 32, 7, 9, 10, 16, 20, 57, 15, 20, 21, 22, 41, 54, 7, 29, 41, 48, 52, 54, 29, 31, 32, 48, 49, 53, 25, 8, 13, 18, 27, 43, 15, 6, 8, 13, 37, 40, 11, 8, 9, 25, 56, 57, 22, 8, 15, 34, 53, 59, 23, 9, 15, 17, 31, 43, 16, 1, 12, 28, 35, 44, 25, 24, 29, 38, 48, 52, 32, 1, 25, 29, 31, 47, 7, 4, 15, 17, 35, 58, 17, 23, 24, 27, 39, 41, 30, 2, 6, 11, 30, 31, 33, 1, 26, 34, 38, 51, 6, 21, 33, 35, 38, 45, 12, 10, 14, 25, 39, 53, 18, 13, 22, 23, 29, 31, 17, 1, 16, 21, 29, 40, 30, 1, 12, 32, 42, 58, 12, 1, 19, 45, 46, 58, 29, 33, 39, 40, 41, 54, 28, 2, 30, 33, 39, 44, 1, 2, 4, 6, 12, 38, 17, 7, 19, 23, 50, 54, 14, 11, 16, 30, 38, 42, 7, 14, 25, 30, 33, 47, 8, 8, 14, 39, 46, 47, 18, 11, 24, 31, 40, 44, 27, 34, 36, 38, 42, 50, 33, 8, 12, 15, 35, 50, 32, 11, 17, 25, 28, 46, 12, 17, 19, 21, 32, 39, 8, 10, 14, 18, 34, 51, 26, 1, 9, 29, 32, 49, 22, 1, 24, 44, 45, 51, 28, 11, 13, 25, 39, 54, 19, 5, 10, 21, 34, 58, 33, 24, 36, 51, 52, 56, 22, 5, 11, 16, 26, 50, 34, 12, 24, 35, 36, 49, 1, 16, 19, 20, 29, 33, 10, 11, 12, 15, 28, 57, 23, 15, 16, 23, 27, 36, 9, 2, 4, 10, 41, 53, 22, 2, 9, 19, 28, 29, 19, 14, 15, 47, 49, 59, 10, 4, 18, 43, 46, 55, 25, 17, 27, 37, 40, 53, 35, 7, 10, 11, 14, 36, 15, 11, 12, 46, 47, 50, 22, 14, 15, 19, 31, 56, 5, 22, 31, 38, 47, 48, 15, 5, 13, 28, 43, 55, 33, 34, 44, 48, 54, 55, 10, 12, 15, 22, 43, 49, 14, 25, 30, 32, 46, 54, 26, 13, 24, 30, 42, 48, 27, 16, 17, 22, 46, 54, 35, 23, 49, 53, 54, 57, 35, 6, 36, 38, 48, 51, 17, 13, 16, 33, 35, 51, 28, 37, 39, 51, 52, 55, 11, 9, 19, 33, 38, 54, 15, 2, 11, 19, 21, 42, 34, 1, 3, 13, 25, 38, 17, 25, 28, 48, 57, 59, 16, 6, 10, 51, 54, 57, 12, 29, 30, 40, 42, 50, 16, 20, 26, 27, 36, 54, 19, 5, 7, 19, 27, 28, 20, 10, 19, 37, 38, 39, 28, 5, 16, 31, 46, 50, 18, 13, 18, 24, 25, 33, 31, 1, 4, 18, 20, 45, 7, 2, 11, 35, 52, 54, 13, 7, 14, 21, 24, 41, 26, 22, 23, 30, 37, 39, 16, 18, 25, 36, 48, 50, 23, 1, 6, 16, 37, 53, 27, 2, 14, 39, 40, 43, 13, 9, 29, 31, 43, 50, 18, 2, 16, 43, 45, 51, 35, 5, 28, 31, 52, 59, 27, 17, 24, 26, 45, 46, 19, 28, 32, 35, 36, 52, 31, 4, 8, 21, 38, 40, 3, 7, 8, 17, 48, 59, 9, 8, 37, 39, 40, 52, 24, 3, 12, 31, 34, 51, 24, 1, 8, 24, 28, 49, 24, 12, 26, 44, 46, 47, 29, 13, 30, 42, 49, 53, 29, 24, 28, 30, 38, 39, 16, 4, 10, 12, 22, 31, 3, 10, 17, 25, 45, 53, 9, 5, 15, 18, 26, 32, 35, 2, 3, 7, 23, 51, 26, 9, 25, 42, 55, 57, 14, 24, 34, 36, 57, 58, 11, 8, 18, 45, 53, 58, 35, 10, 20, 25, 50, 53, 35, 5, 6, 37, 41, 54, 26, 6, 9, 29, 52, 59, 7, 9, 33, 42, 45, 54, 30, 14, 18, 25, 33, 49, 23, 28, 30, 35, 58, 59, 15, 1, 7, 10, 22, 49, 24, 15, 27, 31, 34, 48, 1, 2, 24, 28, 32, 59, 25, 15, 16, 28, 49, 55, 18, 4, 20, 34, 39, 58, 31, 23, 32, 39, 47, 49, 22, 7, 33, 39, 52, 55, 33, 4, 31, 41, 47, 55, 1, 17, 29, 31, 48, 49, 34, 5, 15, 16, 46, 49, 26, 2, 9, 11, 19, 50, 32, 3, 7, 22, 30, 33, 20, 19, 25, 29, 36, 48, 12, 5, 6, 29, 35, 51, 21, 34, 39, 42, 44, 59, 8, 14, 26, 45, 54, 55, 20, 9, 14, 44, 48, 49, 29, 11, 21, 26, 33, 34, 29, 8, 13, 19, 22, 53, 24, 2, 3, 12, 27, 38, 17, 28, 33, 41, 44, 59, 21, 13, 28, 31, 55, 58, 15, 2, 19, 23, 34, 43, 14, 2, 5, 34, 51, 58, 9, 14, 15, 28, 37, 54, 10, 10, 14, 24, 32, 41, 30, 3, 7, 9, 26, 54, 19, 3, 8, 25, 30, 47, 13, 11, 12, 17, 38, 42, 2, 2, 3, 13, 14, 54, 4, 1, 17, 35, 49, 54, 34, 2, 9, 14, 21, 23, 3, 36, 44, 49, 52, 57, 1, 24, 25, 34, 37, 54, 29, 8, 17, 32, 57, 59, 24, 5, 12, 15, 27, 38, 7, 11, 23, 28, 32, 47, 20, 8, 12, 18, 55, 57, 2, 1, 2, 7, 9, 55, 29, 13, 14, 19, 31, 38, 25, 7, 8, 9, 24, 29, 25, 10, 15, 33, 48, 54, 34, 10, 28, 39, 47, 58, 22, 19, 20, 37, 41, 58, 14, 15, 24, 40, 48, 52, 23, 8, 35, 44, 51, 56, 18, 23, 28, 38, 39, 56, 32, 25, 36, 40, 45, 51, 8, 7, 24, 37, 39, 40, 1, 14, 25, 32, 33, 41, 34, 1, 10, 13, 18, 19, 27, 13, 20, 32, 45, 48, 17, 6, 9, 11, 31, 44, 25, 5, 26, 44, 45, 57, 29, 18, 25, 50, 55, 57, 17, 5, 12, 43, 52, 55, 10, 4, 18, 23, 32, 45, 7, 10, 29, 37, 44, 59, 10, 5, 31, 50, 55, 56, 9, 3, 9, 37, 49, 56, 32, 1, 5, 10, 15, 49, 22, 13, 23, 24, 27, 40, 17, 2, 36, 40, 49, 54, 10, 4, 6, 34, 49, 56, 29, 3, 23, 31, 34, 47, 13, 9, 33, 54, 56, 57, 5, 3, 26, 28, 34, 42, 28, 8, 10, 26, 57, 58, 4, 3, 9, 19, 33, 38, 18, 11, 12, 17, 39, 40, 5, 4, 6, 25, 42, 51, 17, 14, 47, 52, 53, 54, 5, 2, 7, 17, 49, 53, 23, 12, 17, 45, 54, 58, 13, 7, 10, 22, 32, 35, 19, 1, 17, 25, 37, 44, 20, 11, 19, 33, 42, 52, 33, 2, 19, 22, 26, 45, 24, 2, 9, 26, 45, 47, 11, 2, 7, 25, 40, 56, 20, 6, 7, 9, 19, 32, 13, 12, 17, 25, 45, 59, 19, 30, 40, 42, 46, 48, 23, 18, 21, 46, 54, 56, 23, 4, 11, 17, 43, 51, 20, 4, 12, 14, 37, 58, 13, 5, 25, 30, 58, 59, 32, 21, 24, 36, 42, 45, 15, 8, 24, 39, 49, 59, 5, 9, 23, 40, 53, 58, 6, 9, 29, 40, 44, 54, 7, 14, 25, 27, 38, 58, 6, 1, 22, 34, 38, 42, 17, 2, 8, 22, 35, 37, 6, 30, 31, 45, 55, 59, 27, 2, 13, 35, 36, 52, 11, 3, 6, 29, 40, 51, 4, 8, 28, 30, 53, 56, 16, 1, 18, 33, 39, 46, 33, 13, 19, 23, 33, 57, 28, 7, 46, 47, 52, 57, 17, 28, 36, 40, 48, 55, 1, 16, 22, 23, 42, 55, 32, 2, 11, 22, 26, 32, 19, 4, 26, 33, 36, 55, 32, 22, 28, 33, 53, 59, 14, 9, 14, 17, 49, 57, 2, 2, 6, 19, 21, 27, 25, 9, 31, 35, 41, 57, 26, 10, 13, 14, 22, 52, 11, 2, 11, 26, 34, 41, 32, 6, 13, 19, 23, 43, 16, 21, 22, 26, 30, 57, 27, 7, 12, 26, 36, 40, 17, 22, 26, 31, 54, 55, 18, 3, 23, 48, 54, 55, 5, 9, 19, 31, 56, 59, 2, 6, 8, 30, 39, 48, 20, 13, 18, 36, 48, 58, 28, 10, 12, 31, 56, 57, 33, 1, 36, 40, 52, 53, 20, 4, 7, 8, 29, 39, 24, 1, 6, 8, 12, 35, 3, 11, 23, 26, 46, 55, 27, 7, 37, 43, 48, 52, 16, 17, 29, 31, 52, 53, 31, 13, 14, 17, 43, 54, 15, 3, 7, 21, 44, 53, 16, 5, 9, 28, 32, 38, 29, 10, 37, 40, 46, 52, 12, 6, 10, 23, 41, 45, 1, 3, 8, 13, 41, 56, 16, 3, 14, 20, 34, 48, 21, 2, 5, 31, 39, 41, 29, 3, 17, 19, 25, 32, 17, 15, 16, 46, 50, 58, 29, 12, 23, 25, 27, 43, 29, 5, 6, 16, 36, 58, 3, 5, 27, 36, 38, 41, 12, 11, 16, 33, 40, 41, 34, 14, 16, 32, 47, 52, 16, 3, 22, 26, 41, 49, 18, 11, 12, 24, 43, 45, 9, 8, 28, 29, 34, 38, 35, 9, 21, 28, 32, 51, 35, 10, 14, 21, 23, 47, 7, 11, 13, 20, 27, 59, 26, 26, 30, 49, 51, 54, 25, 18, 20, 28, 35, 53, 20, 36, 46, 50, 52, 55, 14, 11, 13, 23, 43, 54, 4, 1, 18, 35, 39, 44, 11, 5, 8, 20, 23, 30, 3, 15, 23, 40, 44, 55, 14, 8, 10, 25, 36, 44, 28, 7, 23, 26, 40, 53, 21, 13, 17, 19, 27, 38, 12, 3, 10, 19, 36, 46, 3, 5, 16, 22, 23, 29, 6, 22, 32, 37, 44, 50, 34, 8, 18, 24, 30, 39, 26, 3, 15, 27, 58, 59, 20, 8, 10, 30, 44, 58, 13, 32, 42, 50, 54, 55, 32, 32, 34, 45, 52, 58, 20, 4, 7, 9, 30, 54, 25, 1, 27, 31, 45, 48, 5, 22, 32, 34, 36, 56, 33, 3, 18, 21, 23, 50, 4, 4, 21, 28, 31, 44, 10, 1, 7, 10, 23, 42, 35, 2, 5, 25, 26, 49, 18, 18, 26, 29, 35, 43, 28, 15, 26, 34, 36, 59, 35, 17, 23, 36, 55, 59, 10, 14, 18, 28, 29, 57, 8, 13, 26, 39, 41, 42, 10, 2, 16, 18, 40, 42, 33, 1, 5, 8, 39, 50, 23, 3, 20, 26, 43, 48, 1, 24, 33, 36, 48, 56, 6, 6, 20, 34, 44, 48, 29, 4, 19, 26, 42, 51, 29, 8, 11, 21, 44, 49, 22, 25, 28, 49, 54, 56, 28, 1, 6, 7, 20, 49, 23, 22, 29, 31, 47, 55, 19, 14, 26, 41, 55, 59, 1, 6, 27, 46, 51, 56, 21, 4, 13, 39, 46, 51, 1, 3, 7, 11, 15, 28, 12, 19, 30, 48, 53, 55, 18, 3, 16, 48, 56, 58, 4, 5, 6, 13, 36, 50, 13, 3, 14, 35, 38, 46, 16, 9, 31, 38, 54, 56, 20, 2, 5, 20, 23, 57, 3, 4, 16, 32, 37, 46, 13, 5, 22, 36, 49, 55, 23, 3, 5, 29, 39, 59, 29, 14, 19, 35, 39, 56, 33, 7, 15, 20, 41, 44, 22, 6, 34, 40, 46, 58, 6, 1, 3, 41, 44, 53, 30, 11, 17, 29, 56, 57, 14, 8, 14, 15, 16, 27, 26, 7, 10, 14, 33, 57, 18, 18, 22, 45, 56, 57, 27, 19, 30, 33, 48, 59, 27, 9, 10, 17, 29, 45, 33, 9, 10, 24, 52, 56, 14, 13, 14, 41, 49, 59, 14, 4, 7, 26, 53, 59, 32, 8, 13, 35, 46, 51, 30, 3, 7, 21, 28, 43, 2, 10, 24, 35, 53, 58, 22, 1, 7, 11, 55, 56, 1, 9, 12, 20, 44, 59, 23, 7, 8, 33, 38, 50, 29, 31, 39, 40, 57, 58, 33, 4, 25, 29, 34, 43, 29, 6, 8, 20, 42, 51, 16, 20, 22, 39, 46, 49, 29, 14, 15, 16, 19, 24, 2, 16, 23, 42, 44, 47, 2, 5, 13, 17, 20, 30, 18, 1, 24, 33, 45, 49, 6, 5, 14, 36, 54, 58, 27, 11, 16, 29, 50, 58, 33, 1, 15, 35, 37, 47, 8, 32, 43, 53, 55, 56, 6, 11, 14, 49, 55, 58, 30, 1, 8, 41, 46, 59, 24, 5, 14, 17, 20, 41, 5, 12, 35, 45, 46, 47, 12, 29, 30, 45, 47, 49, 35, 1, 4, 11, 23, 26, 14, 6, 11, 42, 53, 54, 7, 7, 16, 17, 39, 51, 32, 23, 28, 50, 56, 59, 5, 11, 12, 32, 52, 56, 11, 1, 10, 37, 52, 57, 11, 17, 28, 38, 39, 51, 33, 15, 23, 43, 45, 56, 7, 8, 13, 17, 34, 59, 35, 5, 33, 41, 54, 59, 13, 4, 19, 28, 29, 47, 5, 12, 24, 43, 44, 45, 7, 6, 29, 34, 44, 50, 28, 10, 30, 36, 38, 41, 1, 5, 19, 29, 45, 47, 25, 3, 21, 24, 38, 39, 24, 21, 35, 46, 47, 50, 2, 5, 23, 25, 28, 40, 34, 16, 21, 27, 41, 45, 14, 14, 16, 30, 51, 52, 19, 10, 13, 15, 31, 54, 18, 13, 28, 49, 51, 59, 33, 2, 24, 46, 52, 56, 19, 4, 19, 33, 41, 59, 9, 3, 14, 20, 39, 40, 37, 5, 18, 33, 43, 45, 8, 2, 6, 34, 35, 47, 22, 20, 37, 39, 45, 55, 28, 4, 30, 35, 57, 59, 25, 9, 16, 17, 28, 30, 11, 13, 22, 25, 39, 51, 28, 4, 35, 36, 51, 56, 8, 5, 35, 57, 58, 59, 12, 2, 33, 39, 40, 43, 26, 12, 14, 34, 39, 46, 36, 11, 16, 40, 51, 56, 38, 1, 18, 21, 39, 55, 6, 3, 8, 23, 30, 58, 13, 16, 26, 35, 52, 58, 2, 5, 10, 24, 38, 43, 1, 10, 12, 23, 43, 47, 18, 3, 27, 35, 37, 45, 31, 7, 20, 43, 46, 54, 17, 1, 12, 23, 27, 43, 31, 30, 41, 50, 51, 53, 8, 3, 4, 12, 27, 44, 26, 12, 47, 48, 52, 55, 13, 6, 20, 22, 32, 43, 11, 16, 41, 42, 50, 59, 5, 4, 19, 22, 32, 53, 24, 3, 5, 18, 27, 54, 13, 15, 25, 52, 53, 54, 2, 13, 19, 35, 47, 57, 29, 2, 12, 25, 54, 58, 14, 9, 13, 47, 49, 53, 39, 2, 17, 23, 28, 47, 36, 18, 28, 31, 48, 52, 37, 9, 12, 35, 50, 58, 4, 11, 18, 36, 41, 46, 38, 25, 30, 54, 57, 59, 6, 13, 19, 21, 28, 49, 11, 20, 40, 41, 47, 55, 19, 38, 40, 41, 51, 59, 33, 1, 7, 27, 38, 48, 30, 1, 4, 38, 40, 42, 17, 24, 28, 48, 50, 54, 25, 8, 18, 19, 32, 54, 8, 1, 9, 11, 23, 31, 6, 11, 15, 24, 50, 55, 8, 1, 11, 18, 29, 51, 32, 24, 30, 45, 57, 59, 26, 18, 36, 39, 41, 57, 12, 12, 15, 19, 46, 59, 12, 12, 21, 22, 38, 41, 18, 19, 20, 38, 41, 43, 29, 16, 18, 27, 36, 50, 8, 14, 37, 44, 45, 53, 29, 17, 19, 39, 41, 58, 21, 8, 18, 38, 46, 56, 31, 12, 20, 43, 51, 55, 11, 4, 23, 31, 42, 50, 23, 2, 8, 40, 49, 50, 36, 7, 12, 13, 42, 49, 16, 8, 17, 18, 40, 44, 16, 9, 17, 32, 43, 45, 31, 2, 11, 27, 47, 55, 15, 3, 15, 27, 29, 41, 24, 6, 13, 15, 32, 41, 3, 4, 24, 40, 44, 55, 5, 3, 11, 47, 48, 58, 19, 9, 24, 34, 36, 43, 27, 21, 33, 44, 45, 55, 7, 4, 23, 39, 49, 50, 39, 5, 14, 32, 53, 56, 11, 10, 18, 41, 55, 56, 15, 6, 22, 34, 43, 45, 23, 19, 20, 42, 56, 58, 37, 4, 10, 11, 19, 33, 27, 5, 15, 26, 28, 32, 9, 3, 11, 20, 27, 46, 8, 28, 39, 40, 48, 53, 9, 1, 4, 12, 41, 47, 3, 12, 20, 28, 40, 48, 8, 2, 23, 31, 42, 48, 21, 7, 31, 50, 51, 58, 6, 4, 13, 17, 21, 45, 10, 29, 32, 36, 39, 49, 29, 3, 12, 34, 37, 42, 36, 9, 13, 21, 23, 48, 24, 11, 32, 36, 48, 52, 19, 7, 11, 39, 42, 51, 30, 15, 37, 41, 56, 59, 5, 3, 14, 33, 53, 57, 36, 24, 28, 45, 49, 52, 2, 4, 5, 36, 47, 58, 6, 30, 31, 34, 45, 51, 23, 22, 36, 51, 56, 59, 32, 9, 13, 22, 23, 37, 31, 19, 21, 23, 40, 48, 27, 6, 7, 26, 33, 52, 24, 22, 26, 32, 38, 40, 7, 18, 22, 37, 47, 54, 36, 3, 16, 18, 20, 37, 30, 1, 17, 38, 50, 52, 24, 11, 33, 44, 46, 47, 12, 4, 11, 19, 33, 43, 14, 10, 11, 18, 32, 45, 18, 1, 8, 10, 19, 20, 23, 8, 11, 25, 41, 58, 16, 13, 24, 27, 31, 42, 22, 5, 10, 11, 12, 20, 2, 10, 30, 37, 47, 54, 39, 8, 20, 21, 32, 37, 4, 10, 12, 38, 53, 57, 1, 14, 16, 53, 54, 59, 5, 17, 30, 48, 51, 54, 29, 5, 8, 11, 40, 44, 10, 7, 12, 23, 34, 38, 33, 34, 38, 39, 45, 50, 33, 1, 7, 27, 36, 49, 39, 20, 24, 25, 53, 59, 15, 2, 7, 16, 20, 46, 34, 7, 17, 20, 39, 59, 17, 11, 12, 15, 16, 28, 11, 12, 22, 32, 34, 46, 2, 2, 6, 32, 42, 49, 35, 14, 26, 37, 41, 46, 24, 12, 20, 30, 36, 47, 25, 13, 44, 51, 52, 55, 30, 8, 16, 27, 35, 42, 30, 10, 24, 36, 52, 55, 15, 1, 18, 37, 39, 44, 13, 7, 20, 21, 34, 43, 34, 7, 17, 20, 36, 59, 33, 10, 35, 39, 51, 57, 20, 11, 14, 22, 33, 42, 38, 17, 20, 21, 40, 51, 19, 4, 22, 27, 32, 56, 13, 16, 17, 29, 31, 36, 23, 7, 10, 12, 22, 27, 26, 4, 32, 33, 47, 55, 39, 9, 33, 36, 50, 58, 31, 7, 10, 22, 23, 52, 29, 4, 22, 26, 31, 52, 30, 19, 28, 30, 37, 53, 36, 1, 16, 17, 41, 57, 15, 1, 11, 20, 25, 27, 2, 20, 30, 38, 46, 59, 27, 16, 22, 30, 51, 58, 25, 22, 27, 35, 37, 45, 3, 20, 21, 23, 38, 42, 6, 20, 21, 27, 28, 56, 4, 10, 41, 44, 48, 56, 4, 3, 10, 14, 52, 53, 3, 6, 38, 43, 47, 48, 27, 13, 30, 32, 38, 57, 25, 11, 30, 45, 47, 48, 10, 9, 30, 31, 50, 54, 39, 8, 11, 18, 29, 36, 6, 9, 12, 13, 35, 38, 30, 14, 22, 27, 32, 49, 5, 18, 34, 40, 48, 59, 25, 4, 9, 14, 39, 43, 38, 1, 3, 24, 28, 41, 10, 1, 6, 10, 13, 20, 32, 19, 20, 40, 47, 57, 29, 2, 7, 29, 55, 58, 27, 15, 21, 23, 28, 36, 20, 37, 51, 52, 53, 58, 38, 5, 22, 34, 41, 57, 31, 13, 34, 40, 47, 57, 11, 16, 23, 25, 49, 58, 20, 12, 22, 25, 28, 44, 24, 1, 12, 53, 56, 57, 5, 11, 34, 41, 49, 55, 20, 5, 21, 22, 41, 49, 15, 6, 14, 32, 38, 52, 20, 21, 22, 49, 52, 58, 34, 4, 36, 40, 44, 52, 33, 10, 15, 31, 52, 59, 4, 5, 13, 17, 45, 54, 12, 7, 21, 32, 44, 52, 10, 14, 20, 24, 39, 49, 7, 9, 36, 39, 44, 45, 9, 24, 26, 45, 48, 55, 8, 6, 16, 20, 31, 36, 8, 17, 21, 37, 41, 50, 1, 10, 29, 33, 41, 59, 15, 7, 9, 14, 45, 49, 23, 18, 47, 51, 53, 58, 30, 4, 17, 35, 50, 57, 12, 13, 27, 37, 41, 54, 32, 7, 8, 19, 26, 36, 15, 10, 14, 30, 40, 51, 1, 5, 8, 29, 37, 38, 34, 14, 22, 52, 54, 59, 4, 17, 22, 36, 37, 52, 24]\n"
     ]
    }
   ],
   "source": [
    "list_of_lists = [[int(str_number) for str_number in d[1].split(' ')] for d in data]\n",
    "numbers = sum(list_of_lists,start=[])\n",
    "print(numbers)"
   ]
  },
  {
   "cell_type": "code",
   "execution_count": 11,
   "id": "943272f7",
   "metadata": {},
   "outputs": [
    {
     "data": {
      "text/plain": [
       "5646"
      ]
     },
     "execution_count": 11,
     "metadata": {},
     "output_type": "execute_result"
    }
   ],
   "source": [
    "len(numbers)"
   ]
  },
  {
   "cell_type": "code",
   "execution_count": 12,
   "id": "a8b6df1f",
   "metadata": {},
   "outputs": [
    {
     "name": "stdout",
     "output_type": "stream",
     "text": [
      "[ 1  2  3 ... 37 52 24]\n"
     ]
    }
   ],
   "source": [
    "import numpy as np\n",
    "arr = np.array(list_of_lists)\n",
    "numbers_arr = arr.flatten()\n",
    "print(numbers_arr)"
   ]
  },
  {
   "cell_type": "code",
   "execution_count": 14,
   "id": "a95a2a50",
   "metadata": {},
   "outputs": [
    {
     "data": {
      "text/plain": [
       "array([ 1,  2,  3,  4,  5,  6,  7,  8,  9, 10, 11, 12, 13, 14, 15, 16, 17,\n",
       "       18, 19, 20, 21, 22, 23, 24, 25, 26, 27, 28, 29, 30, 31, 32, 33, 34,\n",
       "       35, 36, 37, 38, 39, 40, 41, 42, 43, 44, 45, 46, 47, 48, 49, 50, 51,\n",
       "       52, 53, 54, 55, 56, 57, 58, 59, 60, 61, 62, 63, 64, 65, 66, 67, 68,\n",
       "       69])"
      ]
     },
     "execution_count": 14,
     "metadata": {},
     "output_type": "execute_result"
    }
   ],
   "source": [
    "np.unique(numbers_arr)"
   ]
  },
  {
   "cell_type": "code",
   "execution_count": 15,
   "id": "7c5f49dd",
   "metadata": {},
   "outputs": [
    {
     "data": {
      "text/plain": [
       "69"
      ]
     },
     "execution_count": 15,
     "metadata": {},
     "output_type": "execute_result"
    }
   ],
   "source": [
    "np.max(numbers_arr)"
   ]
  },
  {
   "cell_type": "code",
   "execution_count": 16,
   "id": "0005538f",
   "metadata": {},
   "outputs": [
    {
     "data": {
      "text/plain": [
       "1"
      ]
     },
     "execution_count": 16,
     "metadata": {},
     "output_type": "execute_result"
    }
   ],
   "source": [
    "np.min(numbers_arr)"
   ]
  },
  {
   "cell_type": "markdown",
   "id": "c8c9b587",
   "metadata": {},
   "source": [
    "### Assumption about data\n",
    "\n",
    "* Integers between 1 and 69\n",
    "* We assume that the lotto draws are independent and identically distributed\n",
    "\n",
    "### What to do\n",
    "\n",
    "Compute confidence interval using Hoeffdings inequality using the bounds above"
   ]
  },
  {
   "cell_type": "markdown",
   "id": "5621c558",
   "metadata": {},
   "source": [
    "Lets say we fix a level $\\alpha \\in (0,1)$, and solve the equation\n",
    "$$\n",
    "    \\alpha = 2 e^{-\\frac{2n\\epsilon^2}{(b-a)^2}}\n",
    "$$"
   ]
  },
  {
   "cell_type": "markdown",
   "id": "1d09cb6a",
   "metadata": {},
   "source": [
    "$$\n",
    "    \\ln(\\alpha/2) = -\\frac{2n\\epsilon^2}{(b-a)^2}\n",
    "$$"
   ]
  },
  {
   "cell_type": "markdown",
   "id": "40388705",
   "metadata": {},
   "source": [
    "$$\n",
    "    -(b-a)^2\\ln(\\alpha/2)/(2n) =\\epsilon^2\n",
    "$$"
   ]
  },
  {
   "cell_type": "markdown",
   "id": "9aff9945",
   "metadata": {},
   "source": [
    "$$\n",
    "\\sqrt{(b-a)^2\\ln(2/\\alpha)/(2n)} = \\epsilon\n",
    "$$"
   ]
  },
  {
   "cell_type": "code",
   "execution_count": 17,
   "id": "5b765b90",
   "metadata": {},
   "outputs": [],
   "source": [
    "def compute_epsilon(alpha,n,a,b):\n",
    "    return np.sqrt((b-a)**2*np.log(2/alpha)/(2*n))"
   ]
  },
  {
   "cell_type": "code",
   "execution_count": 18,
   "id": "7f6ad7b1",
   "metadata": {},
   "outputs": [
    {
     "data": {
      "text/plain": [
       "1.2290532787806112"
      ]
     },
     "execution_count": 18,
     "metadata": {},
     "output_type": "execute_result"
    }
   ],
   "source": [
    "alpha = 0.05\n",
    "n = numbers_arr.shape[0]\n",
    "a = 1\n",
    "b = 69\n",
    "delta = compute_epsilon(alpha,n,a,b)\n",
    "delta"
   ]
  },
  {
   "cell_type": "code",
   "execution_count": 19,
   "id": "7d1d05e5",
   "metadata": {},
   "outputs": [
    {
     "name": "stdout",
     "output_type": "stream",
     "text": [
      "Confidencen interval for the mean is:  (28.29361763868308, 30.751724196244304)\n"
     ]
    }
   ],
   "source": [
    "conf_interval = (np.mean(numbers_arr)-delta,np.mean(numbers_arr)+delta)\n",
    "print(\"Confidencen interval for the mean is: \",conf_interval)"
   ]
  },
  {
   "cell_type": "code",
   "execution_count": 20,
   "id": "defa47ae",
   "metadata": {},
   "outputs": [],
   "source": [
    "import Utils"
   ]
  },
  {
   "cell_type": "code",
   "execution_count": 21,
   "id": "8e9270fe",
   "metadata": {},
   "outputs": [
    {
     "data": {
      "image/png": "[encoded data removed]",
      "text/plain": [
       "<Figure size 432x288 with 1 Axes>"
      ]
     },
     "metadata": {
      "needs_background": "light"
     },
     "output_type": "display_data"
    }
   ],
   "source": [
    "import matplotlib.pyplot as plt\n",
    "#_=plt.hist(numbers_arr,bins=)\n",
    "Utils.discrete_histogram(numbers_arr)"
   ]
  },
  {
   "cell_type": "markdown",
   "id": "c8ea8a9a",
   "metadata": {},
   "source": [
    "# Likelihood of parameter\n",
    "\n",
    "* Load data\n",
    "* Work with dates\n",
    "* Make assumptions\n",
    "* Write down the Risk\n",
    "* Split into two parts\n",
    "* Minimize the risk numerically on train\n",
    "* Test the risk on test\n",
    "* Make confidence intervals"
   ]
  },
  {
   "cell_type": "code",
   "execution_count": 22,
   "id": "b5758f4d",
   "metadata": {
    "scrolled": true
   },
   "outputs": [
    {
     "name": "stderr",
     "output_type": "stream",
     "text": [
      "'head' is not recognized as an internal or external command,\n",
      "operable program or batch file.\n"
     ]
    }
   ],
   "source": [
    "!head -n 10 data/earthquakes.csv"
   ]
  },
  {
   "cell_type": "code",
   "execution_count": 23,
   "id": "2d5ac062",
   "metadata": {},
   "outputs": [],
   "source": [
    "import csv\n",
    "data = []\n",
    "\n",
    "with open('data/earthquakes.csv',mode='r') as f:\n",
    "    csv_reader = csv.reader(f)\n",
    "    header = next(csv_reader)\n",
    "    \n",
    "    for line in csv_reader:\n",
    "        data.append(line)"
   ]
  },
  {
   "cell_type": "code",
   "execution_count": 24,
   "id": "1e4c0b65",
   "metadata": {},
   "outputs": [
    {
     "data": {
      "text/plain": [
       "'origintime'"
      ]
     },
     "execution_count": 24,
     "metadata": {},
     "output_type": "execute_result"
    }
   ],
   "source": [
    "header[2]"
   ]
  },
  {
   "cell_type": "code",
   "execution_count": 25,
   "id": "198f3aca",
   "metadata": {},
   "outputs": [
    {
     "data": {
      "text/plain": [
       "'2018-05-17T12:19:35.516Z'"
      ]
     },
     "execution_count": 25,
     "metadata": {},
     "output_type": "execute_result"
    }
   ],
   "source": [
    "data[0][2]"
   ]
  },
  {
   "cell_type": "code",
   "execution_count": 26,
   "id": "07d99d17",
   "metadata": {},
   "outputs": [
    {
     "data": {
      "text/plain": [
       "datetime.datetime(2018, 5, 17, 12, 19, 35, 516000)"
      ]
     },
     "execution_count": 26,
     "metadata": {},
     "output_type": "execute_result"
    }
   ],
   "source": [
    "import datetime\n",
    "#-05-17T12:19:35.516Z\n",
    "datetime.datetime.strptime(data[0][2],\"%Y-%m-%dT%H:%M:%S.%fZ\")"
   ]
  },
  {
   "cell_type": "code",
   "execution_count": 28,
   "id": "e4668833",
   "metadata": {},
   "outputs": [
    {
     "data": {
      "text/plain": [
       "[datetime.datetime(2018, 5, 17, 12, 19, 35, 516000),\n",
       " datetime.datetime(2018, 5, 17, 11, 38, 24, 646000),\n",
       " datetime.datetime(2018, 5, 17, 10, 46, 46, 526000),\n",
       " datetime.datetime(2018, 5, 17, 10, 1, 46, 378000),\n",
       " datetime.datetime(2018, 5, 17, 9, 40, 4, 992000),\n",
       " datetime.datetime(2018, 5, 17, 9, 10, 38, 932000),\n",
       " datetime.datetime(2018, 5, 17, 8, 59, 42, 531000),\n",
       " datetime.datetime(2018, 5, 17, 8, 32, 19, 667000),\n",
       " datetime.datetime(2018, 5, 17, 8, 0, 24, 390000),\n",
       " datetime.datetime(2018, 5, 17, 7, 37, 16, 451000),\n",
       " datetime.datetime(2018, 5, 17, 7, 23, 43, 991000),\n",
       " datetime.datetime(2018, 5, 17, 6, 47, 55, 131000),\n",
       " datetime.datetime(2018, 5, 17, 6, 34, 28, 900000),\n",
       " datetime.datetime(2018, 5, 17, 6, 29, 34, 123000),\n",
       " datetime.datetime(2018, 5, 17, 6, 21, 47, 580000),\n",
       " datetime.datetime(2018, 5, 17, 6, 11, 46, 36000),\n",
       " datetime.datetime(2018, 5, 17, 5, 59, 22, 258000),\n",
       " datetime.datetime(2018, 5, 17, 5, 26, 21, 628000),\n",
       " datetime.datetime(2018, 5, 17, 5, 0, 45, 993000),\n",
       " datetime.datetime(2018, 5, 17, 5, 0, 12, 631000),\n",
       " datetime.datetime(2018, 5, 17, 4, 3, 48, 957000),\n",
       " datetime.datetime(2018, 5, 17, 2, 43, 24, 810000),\n",
       " datetime.datetime(2018, 5, 17, 2, 37, 38, 987000),\n",
       " datetime.datetime(2018, 5, 17, 1, 56, 47, 664000),\n",
       " datetime.datetime(2018, 5, 17, 0, 39, 1, 97000),\n",
       " datetime.datetime(2018, 5, 17, 0, 36, 8, 104000),\n",
       " datetime.datetime(2018, 5, 17, 0, 33, 29, 685000),\n",
       " datetime.datetime(2018, 5, 17, 0, 31, 45, 867000),\n",
       " datetime.datetime(2018, 5, 17, 0, 4, 57, 418000),\n",
       " datetime.datetime(2018, 5, 16, 23, 56, 57, 505000),\n",
       " datetime.datetime(2018, 5, 16, 23, 1, 54, 267000),\n",
       " datetime.datetime(2018, 5, 16, 23, 1, 6, 501000),\n",
       " datetime.datetime(2018, 5, 16, 22, 38, 48, 177000),\n",
       " datetime.datetime(2018, 5, 16, 22, 37, 50, 406000),\n",
       " datetime.datetime(2018, 5, 16, 22, 21, 32, 840000),\n",
       " datetime.datetime(2018, 5, 16, 22, 17, 5, 31000),\n",
       " datetime.datetime(2018, 5, 16, 21, 37, 8, 180000),\n",
       " datetime.datetime(2018, 5, 16, 21, 24, 29, 917000),\n",
       " datetime.datetime(2018, 5, 16, 21, 13, 34, 328000),\n",
       " datetime.datetime(2018, 5, 16, 21, 8, 33, 121000),\n",
       " datetime.datetime(2018, 5, 16, 20, 48, 59, 587000),\n",
       " datetime.datetime(2018, 5, 16, 19, 49, 33, 853000),\n",
       " datetime.datetime(2018, 5, 16, 19, 8, 57, 227000),\n",
       " datetime.datetime(2018, 5, 16, 18, 59, 6, 1000),\n",
       " datetime.datetime(2018, 5, 16, 17, 59, 53, 926000),\n",
       " datetime.datetime(2018, 5, 16, 17, 30, 26, 965000),\n",
       " datetime.datetime(2018, 5, 16, 17, 22, 12, 873000),\n",
       " datetime.datetime(2018, 5, 16, 16, 33, 51, 853000),\n",
       " datetime.datetime(2018, 5, 16, 15, 51, 6, 423000),\n",
       " datetime.datetime(2018, 5, 16, 15, 36, 43, 977000),\n",
       " datetime.datetime(2018, 5, 16, 15, 33, 38, 50000),\n",
       " datetime.datetime(2018, 5, 16, 13, 28, 39, 838000),\n",
       " datetime.datetime(2018, 5, 16, 13, 25, 40, 514000),\n",
       " datetime.datetime(2018, 5, 16, 13, 14, 29, 878000),\n",
       " datetime.datetime(2018, 5, 16, 13, 14, 28, 946000),\n",
       " datetime.datetime(2018, 5, 16, 13, 13, 25, 190000),\n",
       " datetime.datetime(2018, 5, 16, 13, 5, 13, 150000),\n",
       " datetime.datetime(2018, 5, 16, 12, 58, 35, 481000),\n",
       " datetime.datetime(2018, 5, 16, 12, 47, 58, 88000),\n",
       " datetime.datetime(2018, 5, 16, 12, 21, 27, 591000),\n",
       " datetime.datetime(2018, 5, 16, 11, 19, 52, 875000),\n",
       " datetime.datetime(2018, 5, 16, 9, 44, 23, 879000),\n",
       " datetime.datetime(2018, 5, 16, 9, 28, 25, 324000),\n",
       " datetime.datetime(2018, 5, 16, 9, 21, 18, 966000),\n",
       " datetime.datetime(2018, 5, 16, 9, 20, 40, 301000),\n",
       " datetime.datetime(2018, 5, 16, 8, 14, 21, 107000),\n",
       " datetime.datetime(2018, 5, 16, 7, 49, 17, 50000),\n",
       " datetime.datetime(2018, 5, 16, 7, 29, 17, 715000),\n",
       " datetime.datetime(2018, 5, 16, 5, 57, 25, 243000),\n",
       " datetime.datetime(2018, 5, 16, 4, 2, 9, 17000),\n",
       " datetime.datetime(2018, 5, 16, 3, 46, 58, 689000),\n",
       " datetime.datetime(2018, 5, 16, 3, 27, 58, 257000),\n",
       " datetime.datetime(2018, 5, 16, 2, 54, 48, 167000),\n",
       " datetime.datetime(2018, 5, 16, 2, 47, 37, 412000),\n",
       " datetime.datetime(2018, 5, 16, 2, 24, 57, 594000),\n",
       " datetime.datetime(2018, 5, 16, 2, 20, 24, 660000),\n",
       " datetime.datetime(2018, 5, 16, 1, 16, 43, 963000),\n",
       " datetime.datetime(2018, 5, 16, 0, 52, 54, 707000),\n",
       " datetime.datetime(2018, 5, 16, 0, 49, 29, 119000),\n",
       " datetime.datetime(2018, 5, 16, 0, 40, 25, 577000),\n",
       " datetime.datetime(2018, 5, 16, 0, 17, 51, 490000),\n",
       " datetime.datetime(2018, 5, 16, 0, 3, 45, 736000),\n",
       " datetime.datetime(2018, 5, 15, 23, 40, 7, 222000),\n",
       " datetime.datetime(2018, 5, 15, 23, 18, 55, 639000),\n",
       " datetime.datetime(2018, 5, 15, 23, 10, 2, 843000),\n",
       " datetime.datetime(2018, 5, 15, 22, 25, 56, 237000),\n",
       " datetime.datetime(2018, 5, 15, 22, 17, 51, 180000),\n",
       " datetime.datetime(2018, 5, 15, 22, 16, 6, 631000),\n",
       " datetime.datetime(2018, 5, 15, 22, 9, 31, 363000),\n",
       " datetime.datetime(2018, 5, 15, 22, 4, 38, 980000),\n",
       " datetime.datetime(2018, 5, 15, 21, 47, 34, 174000),\n",
       " datetime.datetime(2018, 5, 15, 21, 37, 47, 744000),\n",
       " datetime.datetime(2018, 5, 15, 21, 33, 57, 136000),\n",
       " datetime.datetime(2018, 5, 15, 21, 32, 59, 503000),\n",
       " datetime.datetime(2018, 5, 15, 21, 26, 11, 139000),\n",
       " datetime.datetime(2018, 5, 15, 21, 16, 15, 429000),\n",
       " datetime.datetime(2018, 5, 15, 21, 11, 34, 53000),\n",
       " datetime.datetime(2018, 5, 15, 20, 43, 41, 978000),\n",
       " datetime.datetime(2018, 5, 15, 20, 41, 4, 480000),\n",
       " datetime.datetime(2018, 5, 15, 20, 38, 26, 297000),\n",
       " datetime.datetime(2018, 5, 15, 20, 37, 42, 46000),\n",
       " datetime.datetime(2018, 5, 15, 20, 27, 52, 83000),\n",
       " datetime.datetime(2018, 5, 15, 19, 54, 50, 628000),\n",
       " datetime.datetime(2018, 5, 15, 19, 40, 14, 642000),\n",
       " datetime.datetime(2018, 5, 15, 19, 39, 56, 958000),\n",
       " datetime.datetime(2018, 5, 15, 19, 1, 3, 754000),\n",
       " datetime.datetime(2018, 5, 15, 18, 53, 7, 466000),\n",
       " datetime.datetime(2018, 5, 15, 18, 21, 16, 529000),\n",
       " datetime.datetime(2018, 5, 15, 17, 18, 46, 656000),\n",
       " datetime.datetime(2018, 5, 15, 15, 45, 56, 621000),\n",
       " datetime.datetime(2018, 5, 15, 15, 40, 48, 691000),\n",
       " datetime.datetime(2018, 5, 15, 15, 24, 29, 132000),\n",
       " datetime.datetime(2018, 5, 15, 15, 24, 25, 281000),\n",
       " datetime.datetime(2018, 5, 15, 14, 33, 44, 456000),\n",
       " datetime.datetime(2018, 5, 15, 13, 41, 29, 791000),\n",
       " datetime.datetime(2018, 5, 15, 13, 28, 55, 984000),\n",
       " datetime.datetime(2018, 5, 15, 13, 16, 45, 739000),\n",
       " datetime.datetime(2018, 5, 15, 12, 52, 14, 863000),\n",
       " datetime.datetime(2018, 5, 15, 12, 9, 25, 953000),\n",
       " datetime.datetime(2018, 5, 15, 11, 39, 45, 327000),\n",
       " datetime.datetime(2018, 5, 15, 11, 33, 17, 620000),\n",
       " datetime.datetime(2018, 5, 15, 11, 25, 37, 835000),\n",
       " datetime.datetime(2018, 5, 15, 11, 21, 38, 115000),\n",
       " datetime.datetime(2018, 5, 15, 11, 1, 9, 764000),\n",
       " datetime.datetime(2018, 5, 15, 10, 20, 2, 246000),\n",
       " datetime.datetime(2018, 5, 15, 9, 52, 34, 43000),\n",
       " datetime.datetime(2018, 5, 15, 8, 29, 34, 15000),\n",
       " datetime.datetime(2018, 5, 15, 7, 55, 0, 563000),\n",
       " datetime.datetime(2018, 5, 15, 7, 42, 4, 508000),\n",
       " datetime.datetime(2018, 5, 15, 7, 33, 20, 967000),\n",
       " datetime.datetime(2018, 5, 15, 7, 11, 15, 154000),\n",
       " datetime.datetime(2018, 5, 15, 6, 22, 7, 953000),\n",
       " datetime.datetime(2018, 5, 15, 6, 15, 28, 818000),\n",
       " datetime.datetime(2018, 5, 15, 6, 14, 22, 670000),\n",
       " datetime.datetime(2018, 5, 15, 6, 13, 12, 281000),\n",
       " datetime.datetime(2018, 5, 15, 5, 39, 58, 539000),\n",
       " datetime.datetime(2018, 5, 15, 5, 33, 15, 775000),\n",
       " datetime.datetime(2018, 5, 15, 5, 26, 6, 861000),\n",
       " datetime.datetime(2018, 5, 15, 4, 26, 25, 637000),\n",
       " datetime.datetime(2018, 5, 15, 4, 0, 36, 752000),\n",
       " datetime.datetime(2018, 5, 15, 2, 30, 32, 212000),\n",
       " datetime.datetime(2018, 5, 15, 1, 53, 33, 716000),\n",
       " datetime.datetime(2018, 5, 15, 0, 44, 11, 539000),\n",
       " datetime.datetime(2018, 5, 15, 0, 41, 18, 828000),\n",
       " datetime.datetime(2018, 5, 15, 0, 21, 18, 564000),\n",
       " datetime.datetime(2018, 5, 15, 0, 20, 8, 922000),\n",
       " datetime.datetime(2018, 5, 15, 0, 17, 18, 250000),\n",
       " datetime.datetime(2018, 5, 15, 0, 11, 43, 678000),\n",
       " datetime.datetime(2018, 5, 14, 23, 54, 18, 398000),\n",
       " datetime.datetime(2018, 5, 14, 22, 50, 5, 783000),\n",
       " datetime.datetime(2018, 5, 14, 22, 48, 36, 844000),\n",
       " datetime.datetime(2018, 5, 14, 22, 26, 29, 679000),\n",
       " datetime.datetime(2018, 5, 14, 22, 10, 10, 303000),\n",
       " datetime.datetime(2018, 5, 14, 21, 40, 34, 377000),\n",
       " datetime.datetime(2018, 5, 14, 21, 18, 26, 217000),\n",
       " datetime.datetime(2018, 5, 14, 19, 50, 47, 533000),\n",
       " datetime.datetime(2018, 5, 14, 19, 36, 52, 556000),\n",
       " datetime.datetime(2018, 5, 14, 18, 44, 3, 225000),\n",
       " datetime.datetime(2018, 5, 14, 18, 26, 35, 865000),\n",
       " datetime.datetime(2018, 5, 14, 18, 23, 19, 371000),\n",
       " datetime.datetime(2018, 5, 14, 18, 20, 30, 691000),\n",
       " datetime.datetime(2018, 5, 14, 18, 18, 40, 14000),\n",
       " datetime.datetime(2018, 5, 14, 18, 18, 12, 445000),\n",
       " datetime.datetime(2018, 5, 14, 18, 7, 10, 317000),\n",
       " datetime.datetime(2018, 5, 14, 18, 4, 26, 677000),\n",
       " datetime.datetime(2018, 5, 14, 16, 57, 28, 798000),\n",
       " datetime.datetime(2018, 5, 14, 16, 50, 53, 549000),\n",
       " datetime.datetime(2018, 5, 14, 16, 41, 59, 478000),\n",
       " datetime.datetime(2018, 5, 14, 16, 41, 54, 593000),\n",
       " datetime.datetime(2018, 5, 14, 16, 18, 49, 970000),\n",
       " datetime.datetime(2018, 5, 14, 15, 42, 23, 83000),\n",
       " datetime.datetime(2018, 5, 14, 15, 15, 10, 110000),\n",
       " datetime.datetime(2018, 5, 14, 14, 50, 7, 178000),\n",
       " datetime.datetime(2018, 5, 14, 14, 49, 38, 609000),\n",
       " datetime.datetime(2018, 5, 14, 14, 2, 57, 971000),\n",
       " datetime.datetime(2018, 5, 14, 13, 48, 0, 807000),\n",
       " datetime.datetime(2018, 5, 14, 13, 23, 21, 137000),\n",
       " datetime.datetime(2018, 5, 14, 13, 22, 30, 256000),\n",
       " datetime.datetime(2018, 5, 14, 13, 21, 3, 5000),\n",
       " datetime.datetime(2018, 5, 14, 12, 28, 8, 219000),\n",
       " datetime.datetime(2018, 5, 14, 12, 5, 57, 55000),\n",
       " datetime.datetime(2018, 5, 14, 11, 19, 49, 286000),\n",
       " datetime.datetime(2018, 5, 14, 11, 10, 47, 933000),\n",
       " datetime.datetime(2018, 5, 14, 10, 7, 26, 403000),\n",
       " datetime.datetime(2018, 5, 14, 9, 50, 17, 697000),\n",
       " datetime.datetime(2018, 5, 14, 9, 29, 6, 944000),\n",
       " datetime.datetime(2018, 5, 14, 9, 24, 55, 775000),\n",
       " datetime.datetime(2018, 5, 14, 9, 10, 27, 16000),\n",
       " datetime.datetime(2018, 5, 14, 8, 46, 11, 406000),\n",
       " datetime.datetime(2018, 5, 14, 7, 32, 41, 833000),\n",
       " datetime.datetime(2018, 5, 14, 7, 21, 12, 620000),\n",
       " datetime.datetime(2018, 5, 14, 5, 25, 24, 394000),\n",
       " datetime.datetime(2018, 5, 14, 4, 0, 12, 99000),\n",
       " datetime.datetime(2018, 5, 14, 3, 4, 47, 986000),\n",
       " datetime.datetime(2018, 5, 14, 3, 4, 0, 896000),\n",
       " datetime.datetime(2018, 5, 14, 2, 49, 10, 895000),\n",
       " datetime.datetime(2018, 5, 14, 2, 41, 2, 752000),\n",
       " datetime.datetime(2018, 5, 14, 2, 8, 45, 356000),\n",
       " datetime.datetime(2018, 5, 14, 1, 45, 42, 233000),\n",
       " datetime.datetime(2018, 5, 14, 1, 30, 58, 295000),\n",
       " datetime.datetime(2018, 5, 14, 0, 23, 23, 829000),\n",
       " datetime.datetime(2018, 5, 13, 23, 40, 46, 402000),\n",
       " datetime.datetime(2018, 5, 13, 23, 0, 49, 867000),\n",
       " datetime.datetime(2018, 5, 13, 22, 14, 36, 67000),\n",
       " datetime.datetime(2018, 5, 13, 21, 48, 37, 205000),\n",
       " datetime.datetime(2018, 5, 13, 21, 15, 20, 792000),\n",
       " datetime.datetime(2018, 5, 13, 20, 29, 41, 679000),\n",
       " datetime.datetime(2018, 5, 13, 19, 34, 2, 827000),\n",
       " datetime.datetime(2018, 5, 13, 18, 54, 48, 508000),\n",
       " datetime.datetime(2018, 5, 13, 18, 43, 19, 950000),\n",
       " datetime.datetime(2018, 5, 13, 18, 35, 42, 96000),\n",
       " datetime.datetime(2018, 5, 13, 17, 23, 57, 591000),\n",
       " datetime.datetime(2018, 5, 13, 17, 15, 0, 916000),\n",
       " datetime.datetime(2018, 5, 13, 16, 52, 39, 68000),\n",
       " datetime.datetime(2018, 5, 13, 15, 43, 23, 736000),\n",
       " datetime.datetime(2018, 5, 13, 15, 31, 40, 651000),\n",
       " datetime.datetime(2018, 5, 13, 15, 25, 49, 498000),\n",
       " datetime.datetime(2018, 5, 13, 14, 11, 45, 907000),\n",
       " datetime.datetime(2018, 5, 13, 14, 10, 52, 569000),\n",
       " datetime.datetime(2018, 5, 13, 14, 6, 29, 941000),\n",
       " datetime.datetime(2018, 5, 13, 13, 46, 56, 668000),\n",
       " datetime.datetime(2018, 5, 13, 13, 20, 43, 252000),\n",
       " datetime.datetime(2018, 5, 13, 12, 5, 51, 690000),\n",
       " datetime.datetime(2018, 5, 13, 11, 56, 54, 451000),\n",
       " datetime.datetime(2018, 5, 13, 11, 55, 53, 492000),\n",
       " datetime.datetime(2018, 5, 13, 11, 31, 50, 79000),\n",
       " datetime.datetime(2018, 5, 13, 11, 4, 48, 715000),\n",
       " datetime.datetime(2018, 5, 13, 10, 36, 14, 150000),\n",
       " datetime.datetime(2018, 5, 13, 10, 34, 29, 155000),\n",
       " datetime.datetime(2018, 5, 13, 10, 34, 0, 61000),\n",
       " datetime.datetime(2018, 5, 13, 10, 31, 59, 155000),\n",
       " datetime.datetime(2018, 5, 13, 10, 28, 32, 665000),\n",
       " datetime.datetime(2018, 5, 13, 10, 24, 52, 322000),\n",
       " datetime.datetime(2018, 5, 13, 10, 9, 17, 750000),\n",
       " datetime.datetime(2018, 5, 13, 9, 36, 10, 168000),\n",
       " datetime.datetime(2018, 5, 13, 9, 14, 54, 784000),\n",
       " datetime.datetime(2018, 5, 13, 9, 8, 59, 827000),\n",
       " datetime.datetime(2018, 5, 13, 8, 59, 0, 377000),\n",
       " datetime.datetime(2018, 5, 13, 8, 44, 34, 758000),\n",
       " datetime.datetime(2018, 5, 13, 8, 32, 10, 711000),\n",
       " datetime.datetime(2018, 5, 13, 8, 27, 36, 989000),\n",
       " datetime.datetime(2018, 5, 13, 8, 21, 42, 845000),\n",
       " datetime.datetime(2018, 5, 13, 8, 17, 28, 719000),\n",
       " datetime.datetime(2018, 5, 13, 8, 16, 19, 541000),\n",
       " datetime.datetime(2018, 5, 13, 8, 3, 51, 569000),\n",
       " datetime.datetime(2018, 5, 13, 7, 55, 30, 937000),\n",
       " datetime.datetime(2018, 5, 13, 7, 31, 38, 98000),\n",
       " datetime.datetime(2018, 5, 13, 7, 30, 28, 277000),\n",
       " datetime.datetime(2018, 5, 13, 7, 8, 25, 22000),\n",
       " datetime.datetime(2018, 5, 13, 6, 55, 43, 286000),\n",
       " datetime.datetime(2018, 5, 13, 6, 28, 2, 727000),\n",
       " datetime.datetime(2018, 5, 13, 6, 26, 15, 478000),\n",
       " datetime.datetime(2018, 5, 13, 6, 15, 0, 738000),\n",
       " datetime.datetime(2018, 5, 13, 5, 58, 31, 177000),\n",
       " datetime.datetime(2018, 5, 13, 5, 55, 0, 499000),\n",
       " datetime.datetime(2018, 5, 13, 5, 54, 30, 838000),\n",
       " datetime.datetime(2018, 5, 13, 5, 50, 6, 632000),\n",
       " datetime.datetime(2018, 5, 13, 5, 11, 31, 469000),\n",
       " datetime.datetime(2018, 5, 13, 5, 10, 44, 178000),\n",
       " datetime.datetime(2018, 5, 13, 4, 35, 32, 545000),\n",
       " datetime.datetime(2018, 5, 13, 4, 28, 28, 171000),\n",
       " datetime.datetime(2018, 5, 13, 4, 10, 14, 708000),\n",
       " datetime.datetime(2018, 5, 13, 2, 59, 8, 633000),\n",
       " datetime.datetime(2018, 5, 13, 2, 41, 3, 983000),\n",
       " datetime.datetime(2018, 5, 13, 2, 9, 54, 71000),\n",
       " datetime.datetime(2018, 5, 13, 1, 56, 46, 639000),\n",
       " datetime.datetime(2018, 5, 13, 1, 47, 10, 510000),\n",
       " datetime.datetime(2018, 5, 13, 1, 30, 17, 748000),\n",
       " datetime.datetime(2018, 5, 13, 0, 58, 53, 433000),\n",
       " datetime.datetime(2018, 5, 13, 0, 50, 58, 536000),\n",
       " datetime.datetime(2018, 5, 13, 0, 39, 14, 295000),\n",
       " datetime.datetime(2018, 5, 13, 0, 27, 3, 243000),\n",
       " datetime.datetime(2018, 5, 12, 23, 40, 58, 860000),\n",
       " datetime.datetime(2018, 5, 12, 23, 36, 10, 88000),\n",
       " datetime.datetime(2018, 5, 12, 23, 33, 49, 794000),\n",
       " datetime.datetime(2018, 5, 12, 23, 14, 54, 887000),\n",
       " datetime.datetime(2018, 5, 12, 23, 0, 39, 12000),\n",
       " datetime.datetime(2018, 5, 12, 22, 50, 42, 657000),\n",
       " datetime.datetime(2018, 5, 12, 22, 41, 30, 669000),\n",
       " datetime.datetime(2018, 5, 12, 22, 26, 37, 672000),\n",
       " datetime.datetime(2018, 5, 12, 22, 2, 44, 178000),\n",
       " datetime.datetime(2018, 5, 12, 20, 58, 41, 152000),\n",
       " datetime.datetime(2018, 5, 12, 20, 40, 47, 456000),\n",
       " datetime.datetime(2018, 5, 12, 20, 40, 1, 622000),\n",
       " datetime.datetime(2018, 5, 12, 20, 37, 17, 192000),\n",
       " datetime.datetime(2018, 5, 12, 20, 36, 51, 510000),\n",
       " datetime.datetime(2018, 5, 12, 20, 34, 29, 554000),\n",
       " datetime.datetime(2018, 5, 12, 20, 30, 9, 756000),\n",
       " datetime.datetime(2018, 5, 12, 20, 14, 19, 717000),\n",
       " datetime.datetime(2018, 5, 12, 20, 11, 9, 416000),\n",
       " datetime.datetime(2018, 5, 12, 19, 31, 14, 392000),\n",
       " datetime.datetime(2018, 5, 12, 19, 13, 21, 120000),\n",
       " datetime.datetime(2018, 5, 12, 18, 39, 25, 497000),\n",
       " datetime.datetime(2018, 5, 12, 17, 22, 18, 949000),\n",
       " datetime.datetime(2018, 5, 12, 16, 28, 37, 665000),\n",
       " datetime.datetime(2018, 5, 12, 16, 27, 10, 147000),\n",
       " datetime.datetime(2018, 5, 12, 16, 22, 14, 414000),\n",
       " datetime.datetime(2018, 5, 12, 16, 6, 10, 516000),\n",
       " datetime.datetime(2018, 5, 12, 15, 48, 47, 686000),\n",
       " datetime.datetime(2018, 5, 12, 14, 48, 8, 710000),\n",
       " datetime.datetime(2018, 5, 12, 14, 41, 26, 534000),\n",
       " datetime.datetime(2018, 5, 12, 14, 32, 52, 1000),\n",
       " datetime.datetime(2018, 5, 12, 13, 6, 52, 27000),\n",
       " datetime.datetime(2018, 5, 12, 12, 49, 54, 373000),\n",
       " datetime.datetime(2018, 5, 12, 12, 45, 26, 62000),\n",
       " datetime.datetime(2018, 5, 12, 12, 37, 8, 275000),\n",
       " datetime.datetime(2018, 5, 12, 12, 25, 8, 674000),\n",
       " datetime.datetime(2018, 5, 12, 12, 18, 47, 603000),\n",
       " datetime.datetime(2018, 5, 12, 12, 9, 30, 874000),\n",
       " datetime.datetime(2018, 5, 12, 12, 2, 35, 304000),\n",
       " datetime.datetime(2018, 5, 12, 11, 52, 39, 965000),\n",
       " datetime.datetime(2018, 5, 12, 11, 9, 22, 256000),\n",
       " datetime.datetime(2018, 5, 12, 10, 55, 19, 194000),\n",
       " datetime.datetime(2018, 5, 12, 9, 43, 13, 939000),\n",
       " datetime.datetime(2018, 5, 12, 9, 40, 45, 290000),\n",
       " datetime.datetime(2018, 5, 12, 9, 34, 30, 71000),\n",
       " datetime.datetime(2018, 5, 12, 8, 45, 20, 869000),\n",
       " datetime.datetime(2018, 5, 12, 8, 24, 17, 624000),\n",
       " datetime.datetime(2018, 5, 12, 7, 47, 40, 320000),\n",
       " datetime.datetime(2018, 5, 12, 7, 35, 1, 861000),\n",
       " datetime.datetime(2018, 5, 12, 7, 20, 45, 854000),\n",
       " datetime.datetime(2018, 5, 12, 7, 13, 41, 326000),\n",
       " datetime.datetime(2018, 5, 12, 7, 0, 26, 761000),\n",
       " datetime.datetime(2018, 5, 12, 6, 32, 11, 187000),\n",
       " datetime.datetime(2018, 5, 12, 6, 17, 41, 143000),\n",
       " datetime.datetime(2018, 5, 12, 6, 11, 55, 166000),\n",
       " datetime.datetime(2018, 5, 12, 5, 44, 50, 101000),\n",
       " datetime.datetime(2018, 5, 12, 5, 43, 45, 711000),\n",
       " datetime.datetime(2018, 5, 12, 5, 10, 27, 125000),\n",
       " datetime.datetime(2018, 5, 12, 3, 47, 7, 796000),\n",
       " datetime.datetime(2018, 5, 12, 3, 15, 22, 642000),\n",
       " datetime.datetime(2018, 5, 12, 3, 7, 24, 387000),\n",
       " datetime.datetime(2018, 5, 12, 3, 7, 21, 266000),\n",
       " datetime.datetime(2018, 5, 12, 2, 59, 1, 438000),\n",
       " datetime.datetime(2018, 5, 12, 2, 37, 4, 980000),\n",
       " datetime.datetime(2018, 5, 12, 2, 33, 8, 403000),\n",
       " datetime.datetime(2018, 5, 12, 2, 31, 40, 210000),\n",
       " datetime.datetime(2018, 5, 12, 2, 21, 47, 753000),\n",
       " datetime.datetime(2018, 5, 12, 2, 20, 15, 543000),\n",
       " datetime.datetime(2018, 5, 12, 2, 15, 16, 126000),\n",
       " datetime.datetime(2018, 5, 12, 2, 11, 44, 979000),\n",
       " datetime.datetime(2018, 5, 12, 2, 3, 20, 77000),\n",
       " datetime.datetime(2018, 5, 12, 1, 50, 45, 626000),\n",
       " datetime.datetime(2018, 5, 12, 1, 35, 41, 541000),\n",
       " datetime.datetime(2018, 5, 12, 0, 15, 43, 620000),\n",
       " datetime.datetime(2018, 5, 12, 0, 11, 39, 483000),\n",
       " datetime.datetime(2018, 5, 11, 23, 27, 8, 81000),\n",
       " datetime.datetime(2018, 5, 11, 22, 20, 11, 896000),\n",
       " datetime.datetime(2018, 5, 11, 22, 17, 3, 592000),\n",
       " datetime.datetime(2018, 5, 11, 22, 8, 30, 289000),\n",
       " datetime.datetime(2018, 5, 11, 21, 54, 44, 504000),\n",
       " datetime.datetime(2018, 5, 11, 21, 39, 30, 117000),\n",
       " datetime.datetime(2018, 5, 11, 21, 25, 6, 336000),\n",
       " datetime.datetime(2018, 5, 11, 21, 6, 50, 677000),\n",
       " datetime.datetime(2018, 5, 11, 20, 47, 43, 662000),\n",
       " datetime.datetime(2018, 5, 11, 20, 36, 24, 648000),\n",
       " datetime.datetime(2018, 5, 11, 20, 1, 57, 326000),\n",
       " datetime.datetime(2018, 5, 11, 19, 50, 11, 165000),\n",
       " datetime.datetime(2018, 5, 11, 19, 34, 9, 664000),\n",
       " datetime.datetime(2018, 5, 11, 19, 21, 18, 893000),\n",
       " datetime.datetime(2018, 5, 11, 18, 56, 8, 762000),\n",
       " datetime.datetime(2018, 5, 11, 18, 30, 30, 462000),\n",
       " datetime.datetime(2018, 5, 11, 18, 0, 11, 36000),\n",
       " datetime.datetime(2018, 5, 11, 17, 57, 10, 371000),\n",
       " datetime.datetime(2018, 5, 11, 17, 1, 20, 202000),\n",
       " datetime.datetime(2018, 5, 11, 17, 0, 42, 855000),\n",
       " datetime.datetime(2018, 5, 11, 16, 27, 1, 160000),\n",
       " datetime.datetime(2018, 5, 11, 16, 4, 32, 967000),\n",
       " datetime.datetime(2018, 5, 11, 15, 25, 0, 845000),\n",
       " datetime.datetime(2018, 5, 11, 15, 13, 11, 82000),\n",
       " datetime.datetime(2018, 5, 11, 14, 40, 1, 467000),\n",
       " datetime.datetime(2018, 5, 11, 14, 35, 32, 765000),\n",
       " datetime.datetime(2018, 5, 11, 13, 49, 9, 376000),\n",
       " datetime.datetime(2018, 5, 11, 12, 55, 15, 759000),\n",
       " datetime.datetime(2018, 5, 11, 12, 38, 54, 732000),\n",
       " datetime.datetime(2018, 5, 11, 12, 12, 36, 343000),\n",
       " datetime.datetime(2018, 5, 11, 11, 50, 6, 19000),\n",
       " datetime.datetime(2018, 5, 11, 10, 40, 7, 226000),\n",
       " datetime.datetime(2018, 5, 11, 10, 9, 19, 347000),\n",
       " datetime.datetime(2018, 5, 11, 9, 21, 52, 442000),\n",
       " datetime.datetime(2018, 5, 11, 8, 55, 28, 410000),\n",
       " datetime.datetime(2018, 5, 11, 7, 45, 44, 23000),\n",
       " datetime.datetime(2018, 5, 11, 7, 19, 46, 46000),\n",
       " datetime.datetime(2018, 5, 11, 6, 35, 28, 907000),\n",
       " datetime.datetime(2018, 5, 11, 6, 6, 56, 14000),\n",
       " datetime.datetime(2018, 5, 11, 5, 57, 2, 290000),\n",
       " datetime.datetime(2018, 5, 11, 5, 29, 19, 86000),\n",
       " datetime.datetime(2018, 5, 11, 5, 16, 42, 830000),\n",
       " datetime.datetime(2018, 5, 11, 4, 11, 24, 904000),\n",
       " datetime.datetime(2018, 5, 11, 3, 1, 25, 538000),\n",
       " datetime.datetime(2018, 5, 11, 0, 28, 4, 510000),\n",
       " datetime.datetime(2018, 5, 10, 23, 55, 8, 414000),\n",
       " datetime.datetime(2018, 5, 10, 23, 50, 47, 422000),\n",
       " datetime.datetime(2018, 5, 10, 23, 48, 50, 646000),\n",
       " datetime.datetime(2018, 5, 10, 23, 37, 11, 663000),\n",
       " datetime.datetime(2018, 5, 10, 23, 14, 30, 988000),\n",
       " datetime.datetime(2018, 5, 10, 22, 17, 47, 636000),\n",
       " datetime.datetime(2018, 5, 10, 21, 7, 53, 394000),\n",
       " datetime.datetime(2018, 5, 10, 21, 5, 52, 628000),\n",
       " datetime.datetime(2018, 5, 10, 20, 52, 46, 105000),\n",
       " datetime.datetime(2018, 5, 10, 20, 34, 55, 125000),\n",
       " datetime.datetime(2018, 5, 10, 20, 31, 17, 974000),\n",
       " datetime.datetime(2018, 5, 10, 20, 15, 43, 302000),\n",
       " datetime.datetime(2018, 5, 10, 20, 11, 8, 141000),\n",
       " datetime.datetime(2018, 5, 10, 19, 50, 43, 466000),\n",
       " datetime.datetime(2018, 5, 10, 19, 37, 4, 558000),\n",
       " datetime.datetime(2018, 5, 10, 19, 32, 19, 712000),\n",
       " datetime.datetime(2018, 5, 10, 18, 21, 19, 748000),\n",
       " datetime.datetime(2018, 5, 10, 18, 11, 46, 330000),\n",
       " datetime.datetime(2018, 5, 10, 17, 49, 55, 250000),\n",
       " datetime.datetime(2018, 5, 10, 17, 24, 50, 476000),\n",
       " datetime.datetime(2018, 5, 10, 17, 17, 33, 107000),\n",
       " datetime.datetime(2018, 5, 10, 17, 9, 17, 722000),\n",
       " datetime.datetime(2018, 5, 10, 16, 51, 51, 192000),\n",
       " datetime.datetime(2018, 5, 10, 16, 41, 25, 995000),\n",
       " datetime.datetime(2018, 5, 10, 15, 56, 59, 626000),\n",
       " datetime.datetime(2018, 5, 10, 14, 39, 47, 201000),\n",
       " datetime.datetime(2018, 5, 10, 14, 26, 28, 216000),\n",
       " datetime.datetime(2018, 5, 10, 14, 23, 3, 370000),\n",
       " datetime.datetime(2018, 5, 10, 14, 12, 10, 912000),\n",
       " datetime.datetime(2018, 5, 10, 13, 46, 5, 925000),\n",
       " datetime.datetime(2018, 5, 10, 13, 23, 53, 269000),\n",
       " datetime.datetime(2018, 5, 10, 13, 14, 12, 967000),\n",
       " datetime.datetime(2018, 5, 10, 12, 51, 28, 65000),\n",
       " datetime.datetime(2018, 5, 10, 12, 41, 16, 274000),\n",
       " datetime.datetime(2018, 5, 10, 12, 38, 14, 100000),\n",
       " datetime.datetime(2018, 5, 10, 12, 29, 19, 196000),\n",
       " datetime.datetime(2018, 5, 10, 12, 29, 3, 571000),\n",
       " datetime.datetime(2018, 5, 10, 12, 14, 24, 337000),\n",
       " datetime.datetime(2018, 5, 10, 12, 11, 57, 16000),\n",
       " datetime.datetime(2018, 5, 10, 12, 11, 56, 396000),\n",
       " datetime.datetime(2018, 5, 10, 12, 7, 33, 344000),\n",
       " datetime.datetime(2018, 5, 10, 11, 45, 57, 913000),\n",
       " datetime.datetime(2018, 5, 10, 11, 32, 10, 973000),\n",
       " datetime.datetime(2018, 5, 10, 11, 12, 6, 116000),\n",
       " datetime.datetime(2018, 5, 10, 10, 55, 52, 50000),\n",
       " datetime.datetime(2018, 5, 10, 10, 53, 46, 473000),\n",
       " datetime.datetime(2018, 5, 10, 10, 52, 44, 963000),\n",
       " datetime.datetime(2018, 5, 10, 9, 55, 20, 954000),\n",
       " datetime.datetime(2018, 5, 10, 8, 49, 33, 681000),\n",
       " datetime.datetime(2018, 5, 10, 8, 48, 32, 370000),\n",
       " datetime.datetime(2018, 5, 10, 8, 45, 3, 127000),\n",
       " datetime.datetime(2018, 5, 10, 8, 40, 50, 623000),\n",
       " datetime.datetime(2018, 5, 10, 8, 30, 13, 811000),\n",
       " datetime.datetime(2018, 5, 10, 8, 29, 40, 445000),\n",
       " datetime.datetime(2018, 5, 10, 8, 24, 3, 444000),\n",
       " datetime.datetime(2018, 5, 10, 8, 16, 25, 786000),\n",
       " datetime.datetime(2018, 5, 10, 8, 0, 32, 188000),\n",
       " datetime.datetime(2018, 5, 10, 7, 55, 16, 348000),\n",
       " datetime.datetime(2018, 5, 10, 7, 48, 14, 337000),\n",
       " datetime.datetime(2018, 5, 10, 7, 29, 30, 384000),\n",
       " datetime.datetime(2018, 5, 10, 7, 18, 40, 177000),\n",
       " datetime.datetime(2018, 5, 10, 7, 12, 54, 210000),\n",
       " datetime.datetime(2018, 5, 10, 7, 4, 12, 636000),\n",
       " datetime.datetime(2018, 5, 10, 6, 46, 18, 629000),\n",
       " datetime.datetime(2018, 5, 10, 6, 28, 10, 472000),\n",
       " datetime.datetime(2018, 5, 10, 6, 24, 16, 770000),\n",
       " datetime.datetime(2018, 5, 10, 6, 4, 5, 196000),\n",
       " datetime.datetime(2018, 5, 10, 5, 40, 50, 211000),\n",
       " datetime.datetime(2018, 5, 10, 4, 49, 11, 130000),\n",
       " datetime.datetime(2018, 5, 10, 4, 41, 24, 555000),\n",
       " datetime.datetime(2018, 5, 10, 4, 16, 53, 601000),\n",
       " datetime.datetime(2018, 5, 10, 3, 46, 4, 888000),\n",
       " datetime.datetime(2018, 5, 10, 3, 17, 32, 59000),\n",
       " datetime.datetime(2018, 5, 10, 2, 53, 13, 351000),\n",
       " datetime.datetime(2018, 5, 10, 2, 37, 55, 686000),\n",
       " datetime.datetime(2018, 5, 10, 2, 15, 59, 3000),\n",
       " datetime.datetime(2018, 5, 10, 2, 14, 6, 842000),\n",
       " datetime.datetime(2018, 5, 10, 2, 10, 22, 868000),\n",
       " datetime.datetime(2018, 5, 10, 2, 9, 27, 347000),\n",
       " datetime.datetime(2018, 5, 10, 2, 4, 42, 529000),\n",
       " datetime.datetime(2018, 5, 10, 1, 56, 45, 341000),\n",
       " datetime.datetime(2018, 5, 10, 1, 46, 39, 430000),\n",
       " datetime.datetime(2018, 5, 10, 1, 33, 0, 306000),\n",
       " datetime.datetime(2018, 5, 10, 1, 31, 59, 704000),\n",
       " datetime.datetime(2018, 5, 9, 23, 8, 28, 854000),\n",
       " datetime.datetime(2018, 5, 9, 23, 1, 23, 923000),\n",
       " datetime.datetime(2018, 5, 9, 22, 36, 51, 574000),\n",
       " datetime.datetime(2018, 5, 9, 22, 20, 48, 843000),\n",
       " datetime.datetime(2018, 5, 9, 21, 34, 59, 513000),\n",
       " datetime.datetime(2018, 5, 9, 21, 24, 45, 327000),\n",
       " datetime.datetime(2018, 5, 9, 20, 15, 13, 733000),\n",
       " datetime.datetime(2018, 5, 9, 19, 17, 45, 554000),\n",
       " datetime.datetime(2018, 5, 9, 18, 42, 52, 81000),\n",
       " datetime.datetime(2018, 5, 9, 17, 54, 12, 38000),\n",
       " datetime.datetime(2018, 5, 9, 17, 4, 1, 530000),\n",
       " datetime.datetime(2018, 5, 9, 16, 38, 52, 372000),\n",
       " datetime.datetime(2018, 5, 9, 15, 22, 33, 563000),\n",
       " datetime.datetime(2018, 5, 9, 15, 15, 4, 72000),\n",
       " datetime.datetime(2018, 5, 9, 15, 9, 41, 167000),\n",
       " datetime.datetime(2018, 5, 9, 14, 33, 2, 326000),\n",
       " datetime.datetime(2018, 5, 9, 14, 6, 37, 864000),\n",
       " datetime.datetime(2018, 5, 9, 13, 59, 22, 491000),\n",
       " datetime.datetime(2018, 5, 9, 13, 31, 17, 226000),\n",
       " datetime.datetime(2018, 5, 9, 13, 24, 6, 729000),\n",
       " datetime.datetime(2018, 5, 9, 13, 17, 28, 57000),\n",
       " datetime.datetime(2018, 5, 9, 13, 16, 22, 280000),\n",
       " datetime.datetime(2018, 5, 9, 12, 29, 22, 260000),\n",
       " datetime.datetime(2018, 5, 9, 11, 55, 35, 340000),\n",
       " datetime.datetime(2018, 5, 9, 11, 49, 18, 974000),\n",
       " datetime.datetime(2018, 5, 9, 10, 59, 43, 383000),\n",
       " datetime.datetime(2018, 5, 9, 10, 59, 9, 609000),\n",
       " datetime.datetime(2018, 5, 9, 10, 40, 42, 235000),\n",
       " datetime.datetime(2018, 5, 9, 10, 35, 55, 847000),\n",
       " datetime.datetime(2018, 5, 9, 10, 19, 23, 740000),\n",
       " datetime.datetime(2018, 5, 9, 9, 43, 18, 514000),\n",
       " datetime.datetime(2018, 5, 9, 9, 10, 40, 921000),\n",
       " datetime.datetime(2018, 5, 9, 9, 3, 21, 467000),\n",
       " datetime.datetime(2018, 5, 9, 9, 1, 0, 352000),\n",
       " datetime.datetime(2018, 5, 9, 8, 54, 21, 272000),\n",
       " datetime.datetime(2018, 5, 9, 7, 33, 54, 152000),\n",
       " datetime.datetime(2018, 5, 9, 6, 53, 28, 692000),\n",
       " datetime.datetime(2018, 5, 9, 6, 8, 35, 932000),\n",
       " datetime.datetime(2018, 5, 9, 6, 5, 21, 865000),\n",
       " datetime.datetime(2018, 5, 9, 5, 55, 1, 660000),\n",
       " datetime.datetime(2018, 5, 9, 5, 42, 49, 553000),\n",
       " datetime.datetime(2018, 5, 9, 5, 42, 19, 866000),\n",
       " datetime.datetime(2018, 5, 9, 5, 18, 48, 768000),\n",
       " datetime.datetime(2018, 5, 9, 4, 22, 17, 51000),\n",
       " datetime.datetime(2018, 5, 9, 3, 37, 40, 620000),\n",
       " datetime.datetime(2018, 5, 9, 3, 35, 41, 841000),\n",
       " datetime.datetime(2018, 5, 9, 3, 11, 13, 700000),\n",
       " datetime.datetime(2018, 5, 9, 2, 56, 19, 141000),\n",
       " datetime.datetime(2018, 5, 9, 2, 23, 13, 103000),\n",
       " datetime.datetime(2018, 5, 9, 1, 43, 9, 464000),\n",
       " datetime.datetime(2018, 5, 9, 0, 35, 11, 34000),\n",
       " datetime.datetime(2018, 5, 9, 0, 19, 10, 363000),\n",
       " datetime.datetime(2018, 5, 9, 0, 17, 56, 20000),\n",
       " datetime.datetime(2018, 5, 9, 0, 16, 24, 581000),\n",
       " datetime.datetime(2018, 5, 8, 22, 37, 22, 110000),\n",
       " datetime.datetime(2018, 5, 8, 22, 31, 31, 721000),\n",
       " datetime.datetime(2018, 5, 8, 22, 11, 25, 550000),\n",
       " datetime.datetime(2018, 5, 8, 20, 52, 3, 648000),\n",
       " datetime.datetime(2018, 5, 8, 20, 11, 56, 609000),\n",
       " datetime.datetime(2018, 5, 8, 19, 48, 5, 448000),\n",
       " datetime.datetime(2018, 5, 8, 19, 28, 10, 194000),\n",
       " datetime.datetime(2018, 5, 8, 19, 25, 41, 64000),\n",
       " datetime.datetime(2018, 5, 8, 18, 47, 19, 665000),\n",
       " datetime.datetime(2018, 5, 8, 18, 29, 12, 422000),\n",
       " datetime.datetime(2018, 5, 8, 17, 57, 36, 527000),\n",
       " datetime.datetime(2018, 5, 8, 17, 7, 49, 196000),\n",
       " datetime.datetime(2018, 5, 8, 16, 22, 28, 569000),\n",
       " datetime.datetime(2018, 5, 8, 15, 35, 36, 709000),\n",
       " datetime.datetime(2018, 5, 8, 12, 30, 29, 989000),\n",
       " datetime.datetime(2018, 5, 8, 12, 2, 13, 521000),\n",
       " datetime.datetime(2018, 5, 8, 11, 55, 35, 872000),\n",
       " datetime.datetime(2018, 5, 8, 11, 31, 38, 464000),\n",
       " datetime.datetime(2018, 5, 8, 11, 5, 13, 263000),\n",
       " datetime.datetime(2018, 5, 8, 10, 38, 29, 226000),\n",
       " datetime.datetime(2018, 5, 8, 10, 35, 19, 960000),\n",
       " datetime.datetime(2018, 5, 8, 10, 28, 55, 383000),\n",
       " datetime.datetime(2018, 5, 8, 10, 8, 28, 405000),\n",
       " datetime.datetime(2018, 5, 8, 9, 19, 0, 999000),\n",
       " datetime.datetime(2018, 5, 8, 8, 57, 6, 532000),\n",
       " datetime.datetime(2018, 5, 8, 8, 56, 28, 998000),\n",
       " datetime.datetime(2018, 5, 8, 8, 16, 14, 844000),\n",
       " datetime.datetime(2018, 5, 8, 6, 36, 0, 325000),\n",
       " datetime.datetime(2018, 5, 8, 5, 17, 25, 262000),\n",
       " datetime.datetime(2018, 5, 8, 4, 45, 42, 641000),\n",
       " datetime.datetime(2018, 5, 8, 4, 43, 28, 457000),\n",
       " datetime.datetime(2018, 5, 8, 3, 58, 28, 851000),\n",
       " datetime.datetime(2018, 5, 8, 2, 39, 7, 179000),\n",
       " datetime.datetime(2018, 5, 8, 2, 15, 56, 493000),\n",
       " datetime.datetime(2018, 5, 8, 1, 52, 17, 714000),\n",
       " datetime.datetime(2018, 5, 8, 1, 26, 28, 540000),\n",
       " datetime.datetime(2018, 5, 8, 0, 22, 1, 604000),\n",
       " datetime.datetime(2018, 5, 7, 20, 43, 33, 578000),\n",
       " datetime.datetime(2018, 5, 7, 20, 9, 54, 502000),\n",
       " datetime.datetime(2018, 5, 7, 19, 23, 35, 523000),\n",
       " datetime.datetime(2018, 5, 7, 18, 48, 7, 681000),\n",
       " datetime.datetime(2018, 5, 7, 18, 45, 38, 720000),\n",
       " datetime.datetime(2018, 5, 7, 18, 41, 31, 281000),\n",
       " datetime.datetime(2018, 5, 7, 18, 3, 59, 943000),\n",
       " datetime.datetime(2018, 5, 7, 16, 16, 7, 421000),\n",
       " datetime.datetime(2018, 5, 7, 15, 56, 53, 804000),\n",
       " datetime.datetime(2018, 5, 7, 15, 53, 20, 646000),\n",
       " datetime.datetime(2018, 5, 7, 15, 10, 42, 607000),\n",
       " datetime.datetime(2018, 5, 7, 14, 58, 2, 598000),\n",
       " datetime.datetime(2018, 5, 7, 14, 48, 54, 941000),\n",
       " datetime.datetime(2018, 5, 7, 13, 5, 53, 228000),\n",
       " datetime.datetime(2018, 5, 7, 12, 42, 54, 411000),\n",
       " datetime.datetime(2018, 5, 7, 12, 22, 41, 215000),\n",
       " datetime.datetime(2018, 5, 7, 12, 2, 25, 375000),\n",
       " datetime.datetime(2018, 5, 7, 11, 52, 45, 728000),\n",
       " datetime.datetime(2018, 5, 7, 11, 42, 6, 173000),\n",
       " datetime.datetime(2018, 5, 7, 11, 10, 8, 570000),\n",
       " datetime.datetime(2018, 5, 7, 11, 6, 26, 125000),\n",
       " datetime.datetime(2018, 5, 7, 10, 56, 5, 726000),\n",
       " datetime.datetime(2018, 5, 7, 9, 49, 13, 129000),\n",
       " datetime.datetime(2018, 5, 7, 9, 25, 29, 193000),\n",
       " datetime.datetime(2018, 5, 7, 7, 48, 29, 463000),\n",
       " datetime.datetime(2018, 5, 7, 6, 7, 14, 955000),\n",
       " datetime.datetime(2018, 5, 7, 5, 5, 58, 877000),\n",
       " datetime.datetime(2018, 5, 7, 4, 38, 0, 536000),\n",
       " datetime.datetime(2018, 5, 7, 3, 45, 21, 868000),\n",
       " datetime.datetime(2018, 5, 7, 3, 13, 26, 159000),\n",
       " datetime.datetime(2018, 5, 7, 2, 55, 29, 397000),\n",
       " datetime.datetime(2018, 5, 7, 2, 33, 39, 161000),\n",
       " datetime.datetime(2018, 5, 7, 1, 44, 57, 613000),\n",
       " datetime.datetime(2018, 5, 7, 1, 39, 52, 243000),\n",
       " datetime.datetime(2018, 5, 7, 1, 0, 15, 487000),\n",
       " datetime.datetime(2018, 5, 6, 23, 18, 8, 812000),\n",
       " datetime.datetime(2018, 5, 6, 22, 8, 8, 247000),\n",
       " datetime.datetime(2018, 5, 6, 21, 52, 38, 702000),\n",
       " datetime.datetime(2018, 5, 6, 19, 33, 3, 370000),\n",
       " datetime.datetime(2018, 5, 6, 18, 31, 9, 293000),\n",
       " datetime.datetime(2018, 5, 6, 18, 28, 53, 861000),\n",
       " datetime.datetime(2018, 5, 6, 18, 10, 13, 264000),\n",
       " datetime.datetime(2018, 5, 6, 18, 5, 37, 173000),\n",
       " datetime.datetime(2018, 5, 6, 17, 19, 27, 953000),\n",
       " datetime.datetime(2018, 5, 6, 17, 18, 13, 1000),\n",
       " datetime.datetime(2018, 5, 6, 17, 15, 27, 413000),\n",
       " datetime.datetime(2018, 5, 6, 17, 13, 48, 351000),\n",
       " datetime.datetime(2018, 5, 6, 17, 3, 31, 596000),\n",
       " datetime.datetime(2018, 5, 6, 16, 38, 18, 161000),\n",
       " datetime.datetime(2018, 5, 6, 16, 34, 55, 471000),\n",
       " datetime.datetime(2018, 5, 6, 16, 31, 46, 706000),\n",
       " datetime.datetime(2018, 5, 6, 15, 32, 51, 768000),\n",
       " datetime.datetime(2018, 5, 6, 13, 6, 11, 246000),\n",
       " datetime.datetime(2018, 5, 6, 12, 51, 45, 685000),\n",
       " datetime.datetime(2018, 5, 6, 12, 24, 51, 860000),\n",
       " datetime.datetime(2018, 5, 6, 12, 11, 16, 288000),\n",
       " datetime.datetime(2018, 5, 6, 11, 47, 41, 373000),\n",
       " datetime.datetime(2018, 5, 6, 10, 53, 9, 330000),\n",
       " datetime.datetime(2018, 5, 6, 9, 20, 59, 182000),\n",
       " datetime.datetime(2018, 5, 6, 7, 47, 20, 379000),\n",
       " datetime.datetime(2018, 5, 6, 7, 23, 4, 433000),\n",
       " datetime.datetime(2018, 5, 6, 7, 20, 14, 101000),\n",
       " datetime.datetime(2018, 5, 6, 7, 12, 59, 713000),\n",
       " datetime.datetime(2018, 5, 6, 6, 50, 3, 464000),\n",
       " datetime.datetime(2018, 5, 6, 6, 28, 48, 488000),\n",
       " datetime.datetime(2018, 5, 6, 6, 17, 58, 335000),\n",
       " datetime.datetime(2018, 5, 6, 6, 2, 2, 94000),\n",
       " datetime.datetime(2018, 5, 6, 5, 29, 29, 868000),\n",
       " datetime.datetime(2018, 5, 6, 5, 9, 1, 799000),\n",
       " datetime.datetime(2018, 5, 6, 4, 53, 7, 830000),\n",
       " datetime.datetime(2018, 5, 6, 4, 48, 15, 252000),\n",
       " datetime.datetime(2018, 5, 6, 4, 46, 59, 488000),\n",
       " datetime.datetime(2018, 5, 6, 4, 24, 20, 700000),\n",
       " datetime.datetime(2018, 5, 6, 3, 44, 27, 959000),\n",
       " datetime.datetime(2018, 5, 6, 3, 10, 44, 325000),\n",
       " datetime.datetime(2018, 5, 6, 3, 10, 17, 215000),\n",
       " datetime.datetime(2018, 5, 6, 2, 53, 43, 621000),\n",
       " datetime.datetime(2018, 5, 6, 2, 27, 18, 548000),\n",
       " datetime.datetime(2018, 5, 6, 1, 33, 33, 402000),\n",
       " datetime.datetime(2018, 5, 6, 1, 26, 47, 411000),\n",
       " datetime.datetime(2018, 5, 6, 1, 25, 47, 183000),\n",
       " datetime.datetime(2018, 5, 6, 1, 8, 58, 28000),\n",
       " datetime.datetime(2018, 5, 6, 0, 49, 29, 847000),\n",
       " datetime.datetime(2018, 5, 6, 0, 23, 10, 694000),\n",
       " datetime.datetime(2018, 5, 5, 23, 23, 46, 795000),\n",
       " datetime.datetime(2018, 5, 5, 22, 56, 25, 137000),\n",
       " datetime.datetime(2018, 5, 5, 21, 17, 6, 941000),\n",
       " datetime.datetime(2018, 5, 5, 21, 15, 9, 680000),\n",
       " datetime.datetime(2018, 5, 5, 20, 32, 51, 255000),\n",
       " datetime.datetime(2018, 5, 5, 20, 8, 20, 803000),\n",
       " datetime.datetime(2018, 5, 5, 19, 54, 50, 15000),\n",
       " datetime.datetime(2018, 5, 5, 19, 50, 18, 692000),\n",
       " datetime.datetime(2018, 5, 5, 19, 13, 10, 381000),\n",
       " datetime.datetime(2018, 5, 5, 18, 54, 42, 875000),\n",
       " datetime.datetime(2018, 5, 5, 18, 52, 55, 830000),\n",
       " datetime.datetime(2018, 5, 5, 18, 51, 10, 367000),\n",
       " datetime.datetime(2018, 5, 5, 18, 18, 33, 27000),\n",
       " datetime.datetime(2018, 5, 5, 17, 41, 24, 871000),\n",
       " datetime.datetime(2018, 5, 5, 14, 56, 12, 234000),\n",
       " datetime.datetime(2018, 5, 5, 13, 47, 38, 746000),\n",
       " datetime.datetime(2018, 5, 5, 13, 36, 18, 392000),\n",
       " datetime.datetime(2018, 5, 5, 12, 32, 23, 657000),\n",
       " datetime.datetime(2018, 5, 5, 10, 13, 10, 29000),\n",
       " datetime.datetime(2018, 5, 5, 9, 59, 18, 488000),\n",
       " datetime.datetime(2018, 5, 5, 9, 13, 37, 341000),\n",
       " datetime.datetime(2018, 5, 5, 8, 48, 23, 184000),\n",
       " datetime.datetime(2018, 5, 5, 7, 58, 5, 706000),\n",
       " datetime.datetime(2018, 5, 5, 7, 40, 21, 606000),\n",
       " datetime.datetime(2018, 5, 5, 7, 0, 3, 862000),\n",
       " datetime.datetime(2018, 5, 5, 6, 26, 55, 805000),\n",
       " datetime.datetime(2018, 5, 5, 6, 25, 8, 431000),\n",
       " datetime.datetime(2018, 5, 5, 6, 19, 25, 380000),\n",
       " datetime.datetime(2018, 5, 5, 5, 40, 16, 125000),\n",
       " datetime.datetime(2018, 5, 5, 5, 19, 2, 951000),\n",
       " datetime.datetime(2018, 5, 5, 4, 42, 5, 858000),\n",
       " datetime.datetime(2018, 5, 5, 4, 3, 52, 899000),\n",
       " datetime.datetime(2018, 5, 5, 3, 57, 6, 777000),\n",
       " datetime.datetime(2018, 5, 5, 3, 36, 56, 93000),\n",
       " datetime.datetime(2018, 5, 5, 3, 24, 54, 68000),\n",
       " datetime.datetime(2018, 5, 5, 3, 21, 47, 128000),\n",
       " datetime.datetime(2018, 5, 5, 2, 34, 36, 544000),\n",
       " datetime.datetime(2018, 5, 5, 2, 31, 39, 367000),\n",
       " datetime.datetime(2018, 5, 5, 2, 22, 45, 532000),\n",
       " datetime.datetime(2018, 5, 5, 1, 52, 29, 118000),\n",
       " datetime.datetime(2018, 5, 5, 1, 39, 5, 384000),\n",
       " datetime.datetime(2018, 5, 5, 1, 34, 36, 459000),\n",
       " datetime.datetime(2018, 5, 5, 1, 33, 5, 23000),\n",
       " datetime.datetime(2018, 5, 5, 0, 41, 55, 948000),\n",
       " datetime.datetime(2018, 5, 5, 0, 33, 3, 372000),\n",
       " datetime.datetime(2018, 5, 4, 23, 54, 56, 351000),\n",
       " datetime.datetime(2018, 5, 4, 23, 36, 49, 775000),\n",
       " datetime.datetime(2018, 5, 4, 22, 37, 42, 835000),\n",
       " datetime.datetime(2018, 5, 4, 22, 19, 39, 714000),\n",
       " datetime.datetime(2018, 5, 4, 21, 28, 32, 75000),\n",
       " datetime.datetime(2018, 5, 4, 21, 25, 4, 259000),\n",
       " datetime.datetime(2018, 5, 4, 20, 54, 10, 887000),\n",
       " datetime.datetime(2018, 5, 4, 20, 26, 59, 312000),\n",
       " datetime.datetime(2018, 5, 4, 20, 4, 54, 609000),\n",
       " datetime.datetime(2018, 5, 4, 19, 21, 54, 552000),\n",
       " datetime.datetime(2018, 5, 4, 18, 42, 17, 69000),\n",
       " datetime.datetime(2018, 5, 4, 18, 13, 27, 315000),\n",
       " datetime.datetime(2018, 5, 4, 17, 39, 0, 535000),\n",
       " datetime.datetime(2018, 5, 4, 17, 14, 59, 156000),\n",
       " datetime.datetime(2018, 5, 4, 17, 10, 41, 618000),\n",
       " datetime.datetime(2018, 5, 4, 16, 51, 38, 213000),\n",
       " datetime.datetime(2018, 5, 4, 16, 33, 13, 690000),\n",
       " datetime.datetime(2018, 5, 4, 16, 25, 27, 833000),\n",
       " datetime.datetime(2018, 5, 4, 16, 10, 12, 181000),\n",
       " datetime.datetime(2018, 5, 4, 15, 26, 9, 34000),\n",
       " datetime.datetime(2018, 5, 4, 14, 46, 24, 373000),\n",
       " datetime.datetime(2018, 5, 4, 14, 45, 22, 506000),\n",
       " datetime.datetime(2018, 5, 4, 13, 55, 33, 257000),\n",
       " datetime.datetime(2018, 5, 4, 13, 42, 42, 317000),\n",
       " datetime.datetime(2018, 5, 4, 13, 4, 33, 767000),\n",
       " datetime.datetime(2018, 5, 4, 12, 42, 51, 4000),\n",
       " datetime.datetime(2018, 5, 4, 12, 34, 5, 778000),\n",
       " datetime.datetime(2018, 5, 4, 12, 23, 50, 222000),\n",
       " datetime.datetime(2018, 5, 4, 12, 13, 33, 85000),\n",
       " datetime.datetime(2018, 5, 4, 11, 29, 43, 939000),\n",
       " datetime.datetime(2018, 5, 4, 11, 27, 5, 164000),\n",
       " datetime.datetime(2018, 5, 4, 11, 20, 49, 520000),\n",
       " datetime.datetime(2018, 5, 4, 11, 16, 49, 256000),\n",
       " datetime.datetime(2018, 5, 4, 11, 6, 22, 275000),\n",
       " datetime.datetime(2018, 5, 4, 10, 38, 32, 329000),\n",
       " datetime.datetime(2018, 5, 4, 10, 12, 48, 222000),\n",
       " datetime.datetime(2018, 5, 4, 10, 0, 34, 309000),\n",
       " datetime.datetime(2018, 5, 4, 8, 57, 53, 378000),\n",
       " datetime.datetime(2018, 5, 4, 8, 19, 52, 906000),\n",
       " datetime.datetime(2018, 5, 4, 7, 50, 25, 584000),\n",
       " datetime.datetime(2018, 5, 4, 7, 23, 29, 231000),\n",
       " datetime.datetime(2018, 5, 4, 6, 50, 25, 115000),\n",
       " datetime.datetime(2018, 5, 4, 6, 23, 15, 141000),\n",
       " datetime.datetime(2018, 5, 4, 6, 7, 18, 945000),\n",
       " datetime.datetime(2018, 5, 4, 6, 5, 57, 126000),\n",
       " datetime.datetime(2018, 5, 4, 5, 40, 18, 887000),\n",
       " datetime.datetime(2018, 5, 4, 5, 10, 42, 193000),\n",
       " datetime.datetime(2018, 5, 4, 5, 4, 10, 735000),\n",
       " datetime.datetime(2018, 5, 4, 4, 58, 50, 927000),\n",
       " datetime.datetime(2018, 5, 4, 4, 30, 46, 637000),\n",
       " datetime.datetime(2018, 5, 4, 4, 15, 59, 328000),\n",
       " datetime.datetime(2018, 5, 4, 4, 9, 8, 135000),\n",
       " datetime.datetime(2018, 5, 4, 3, 32, 26, 274000),\n",
       " datetime.datetime(2018, 5, 4, 3, 6, 36, 735000),\n",
       " datetime.datetime(2018, 5, 4, 3, 4, 15, 325000),\n",
       " datetime.datetime(2018, 5, 4, 2, 46, 55, 570000),\n",
       " datetime.datetime(2018, 5, 4, 2, 29, 35, 830000),\n",
       " datetime.datetime(2018, 5, 4, 1, 57, 3, 127000),\n",
       " datetime.datetime(2018, 5, 4, 0, 37, 43, 335000),\n",
       " datetime.datetime(2018, 5, 4, 0, 35, 18, 273000),\n",
       " datetime.datetime(2018, 5, 4, 0, 7, 34, 465000),\n",
       " datetime.datetime(2018, 5, 4, 0, 1, 42, 193000),\n",
       " datetime.datetime(2018, 5, 3, 23, 52, 44, 64000),\n",
       " datetime.datetime(2018, 5, 3, 23, 47, 3, 140000),\n",
       " datetime.datetime(2018, 5, 3, 23, 43, 33, 928000),\n",
       " datetime.datetime(2018, 5, 3, 23, 36, 57, 898000),\n",
       " datetime.datetime(2018, 5, 3, 20, 52, 13, 959000),\n",
       " datetime.datetime(2018, 5, 3, 20, 16, 33, 725000),\n",
       " datetime.datetime(2018, 5, 3, 19, 58, 41, 959000),\n",
       " datetime.datetime(2018, 5, 3, 19, 23, 7, 978000),\n",
       " datetime.datetime(2018, 5, 3, 17, 37, 57, 586000),\n",
       " datetime.datetime(2018, 5, 3, 17, 27, 4, 732000),\n",
       " datetime.datetime(2018, 5, 3, 17, 4, 28, 431000),\n",
       " datetime.datetime(2018, 5, 3, 16, 47, 23, 332000),\n",
       " datetime.datetime(2018, 5, 3, 16, 43, 5, 878000),\n",
       " datetime.datetime(2018, 5, 3, 16, 42, 31, 64000),\n",
       " datetime.datetime(2018, 5, 3, 16, 11, 47, 269000),\n",
       " datetime.datetime(2018, 5, 3, 15, 43, 22, 592000),\n",
       " datetime.datetime(2018, 5, 3, 15, 37, 10, 59000),\n",
       " datetime.datetime(2018, 5, 3, 15, 29, 4, 672000),\n",
       " datetime.datetime(2018, 5, 3, 15, 25, 59, 835000),\n",
       " datetime.datetime(2018, 5, 3, 15, 18, 59, 811000),\n",
       " datetime.datetime(2018, 5, 3, 14, 45, 48, 825000),\n",
       " datetime.datetime(2018, 5, 3, 14, 45, 29, 889000),\n",
       " datetime.datetime(2018, 5, 3, 14, 25, 46, 924000),\n",
       " datetime.datetime(2018, 5, 3, 14, 15, 29, 342000),\n",
       " datetime.datetime(2018, 5, 3, 13, 53, 53, 354000),\n",
       " datetime.datetime(2018, 5, 3, 13, 42, 23, 714000),\n",
       " datetime.datetime(2018, 5, 3, 13, 24, 15, 699000),\n",
       " datetime.datetime(2018, 5, 3, 13, 21, 6, 289000),\n",
       " datetime.datetime(2018, 5, 3, 12, 51, 16, 527000),\n",
       " datetime.datetime(2018, 5, 3, 12, 44, 29, 249000),\n",
       " datetime.datetime(2018, 5, 3, 12, 27, 5, 604000),\n",
       " datetime.datetime(2018, 5, 3, 12, 24, 4, 531000),\n",
       " datetime.datetime(2018, 5, 3, 12, 18, 11, 488000),\n",
       " datetime.datetime(2018, 5, 3, 12, 6, 43, 124000),\n",
       " datetime.datetime(2018, 5, 3, 11, 35, 10, 515000),\n",
       " datetime.datetime(2018, 5, 3, 11, 34, 42, 184000),\n",
       " datetime.datetime(2018, 5, 3, 10, 18, 4, 327000),\n",
       " datetime.datetime(2018, 5, 3, 10, 5, 33, 718000),\n",
       " datetime.datetime(2018, 5, 3, 9, 42, 11, 729000),\n",
       " datetime.datetime(2018, 5, 3, 9, 33, 7, 978000),\n",
       " datetime.datetime(2018, 5, 3, 9, 10, 40, 572000),\n",
       " datetime.datetime(2018, 5, 3, 8, 57, 6, 601000),\n",
       " datetime.datetime(2018, 5, 3, 8, 55, 27, 900000),\n",
       " datetime.datetime(2018, 5, 3, 8, 44, 25, 586000),\n",
       " datetime.datetime(2018, 5, 3, 8, 30, 53, 101000),\n",
       " datetime.datetime(2018, 5, 3, 8, 25, 17, 99000),\n",
       " datetime.datetime(2018, 5, 3, 8, 6, 50, 592000),\n",
       " datetime.datetime(2018, 5, 3, 7, 58, 45, 418000),\n",
       " datetime.datetime(2018, 5, 3, 7, 47, 22, 393000),\n",
       " datetime.datetime(2018, 5, 3, 7, 45, 41, 886000),\n",
       " datetime.datetime(2018, 5, 3, 7, 32, 51, 61000),\n",
       " datetime.datetime(2018, 5, 3, 6, 47, 3, 858000),\n",
       " datetime.datetime(2018, 5, 3, 6, 15, 41, 578000),\n",
       " datetime.datetime(2018, 5, 3, 6, 13, 15, 654000),\n",
       " datetime.datetime(2018, 5, 3, 5, 35, 25, 995000),\n",
       " datetime.datetime(2018, 5, 3, 4, 56, 26, 864000),\n",
       " datetime.datetime(2018, 5, 3, 4, 41, 29, 648000),\n",
       " datetime.datetime(2018, 5, 3, 4, 20, 40, 597000),\n",
       " datetime.datetime(2018, 5, 3, 3, 51, 13, 849000),\n",
       " datetime.datetime(2018, 5, 3, 2, 58, 3, 312000),\n",
       " datetime.datetime(2018, 5, 3, 2, 39, 47, 648000),\n",
       " datetime.datetime(2018, 5, 3, 2, 33, 12, 130000),\n",
       " datetime.datetime(2018, 5, 3, 1, 34, 18, 439000),\n",
       " datetime.datetime(2018, 5, 3, 1, 12, 1, 533000),\n",
       " datetime.datetime(2018, 5, 3, 0, 36, 21, 758000),\n",
       " datetime.datetime(2018, 5, 3, 0, 10, 56, 917000),\n",
       " datetime.datetime(2018, 5, 2, 23, 22, 48, 778000),\n",
       " datetime.datetime(2018, 5, 2, 22, 49, 24, 523000),\n",
       " datetime.datetime(2018, 5, 2, 22, 39, 10, 658000),\n",
       " datetime.datetime(2018, 5, 2, 22, 24, 15, 727000),\n",
       " datetime.datetime(2018, 5, 2, 22, 19, 35, 367000),\n",
       " datetime.datetime(2018, 5, 2, 21, 57, 33, 853000),\n",
       " datetime.datetime(2018, 5, 2, 21, 54, 52, 474000),\n",
       " datetime.datetime(2018, 5, 2, 20, 26, 30, 731000),\n",
       " datetime.datetime(2018, 5, 2, 19, 42, 30, 45000),\n",
       " datetime.datetime(2018, 5, 2, 19, 20, 29, 991000),\n",
       " datetime.datetime(2018, 5, 2, 19, 7, 24, 109000),\n",
       " datetime.datetime(2018, 5, 2, 18, 55, 6, 515000),\n",
       " datetime.datetime(2018, 5, 2, 18, 50, 11, 899000),\n",
       " datetime.datetime(2018, 5, 2, 18, 44, 45, 853000),\n",
       " datetime.datetime(2018, 5, 2, 18, 40, 43, 707000),\n",
       " datetime.datetime(2018, 5, 2, 18, 0, 10, 287000),\n",
       " datetime.datetime(2018, 5, 2, 17, 40, 32, 664000),\n",
       " datetime.datetime(2018, 5, 2, 17, 38, 34, 190000),\n",
       " datetime.datetime(2018, 5, 2, 17, 29, 50, 540000),\n",
       " datetime.datetime(2018, 5, 2, 17, 26, 41, 170000),\n",
       " datetime.datetime(2018, 5, 2, 17, 24, 1, 757000),\n",
       " datetime.datetime(2018, 5, 2, 17, 11, 49, 907000),\n",
       " datetime.datetime(2018, 5, 2, 17, 10, 33, 874000),\n",
       " datetime.datetime(2018, 5, 2, 17, 7, 50, 783000),\n",
       " datetime.datetime(2018, 5, 2, 17, 0, 21, 517000),\n",
       " datetime.datetime(2018, 5, 2, 15, 21, 13, 362000),\n",
       " datetime.datetime(2018, 5, 2, 15, 11, 29, 90000),\n",
       " datetime.datetime(2018, 5, 2, 15, 7, 13, 670000),\n",
       " datetime.datetime(2018, 5, 2, 14, 51, 38, 739000),\n",
       " datetime.datetime(2018, 5, 2, 14, 47, 52, 85000),\n",
       " datetime.datetime(2018, 5, 2, 14, 33, 2, 738000),\n",
       " datetime.datetime(2018, 5, 2, 14, 6, 46, 707000),\n",
       " datetime.datetime(2018, 5, 2, 12, 33, 26, 909000),\n",
       " datetime.datetime(2018, 5, 2, 12, 26, 51, 708000),\n",
       " datetime.datetime(2018, 5, 2, 12, 18, 52, 636000),\n",
       " datetime.datetime(2018, 5, 2, 12, 15, 14, 866000),\n",
       " datetime.datetime(2018, 5, 2, 12, 8, 43, 655000),\n",
       " datetime.datetime(2018, 5, 2, 12, 6, 18, 321000),\n",
       " datetime.datetime(2018, 5, 2, 11, 59, 42, 950000),\n",
       " datetime.datetime(2018, 5, 2, 11, 46, 24, 226000),\n",
       " datetime.datetime(2018, 5, 2, 10, 29, 25, 932000),\n",
       " datetime.datetime(2018, 5, 2, 10, 20, 20, 616000),\n",
       " datetime.datetime(2018, 5, 2, 9, 44, 38, 291000),\n",
       " datetime.datetime(2018, 5, 2, 9, 2, 57, 662000),\n",
       " datetime.datetime(2018, 5, 2, 8, 25, 41, 549000),\n",
       " datetime.datetime(2018, 5, 2, 7, 49, 13, 210000),\n",
       " datetime.datetime(2018, 5, 2, 7, 8, 42, 377000),\n",
       " datetime.datetime(2018, 5, 2, 6, 28, 30, 617000),\n",
       " datetime.datetime(2018, 5, 2, 5, 58, 59, 684000),\n",
       " datetime.datetime(2018, 5, 2, 5, 44, 31, 939000),\n",
       " datetime.datetime(2018, 5, 2, 5, 3, 17, 143000),\n",
       " datetime.datetime(2018, 5, 2, 4, 27, 36, 796000),\n",
       " datetime.datetime(2018, 5, 2, 4, 16, 0, 557000),\n",
       " datetime.datetime(2018, 5, 2, 3, 54, 53, 32000),\n",
       " datetime.datetime(2018, 5, 2, 3, 17, 47, 922000),\n",
       " datetime.datetime(2018, 5, 2, 2, 15, 7, 312000),\n",
       " datetime.datetime(2018, 5, 2, 2, 14, 9, 153000),\n",
       " datetime.datetime(2018, 5, 2, 1, 13, 24, 794000),\n",
       " datetime.datetime(2018, 5, 2, 1, 8, 30, 877000),\n",
       " datetime.datetime(2018, 5, 2, 0, 56, 7, 579000),\n",
       " datetime.datetime(2018, 5, 1, 23, 44, 37, 534000),\n",
       " datetime.datetime(2018, 5, 1, 23, 33, 27, 767000),\n",
       " datetime.datetime(2018, 5, 1, 23, 27, 8, 533000),\n",
       " datetime.datetime(2018, 5, 1, 22, 12, 22, 393000),\n",
       " datetime.datetime(2018, 5, 1, 22, 9, 15, 931000),\n",
       " datetime.datetime(2018, 5, 1, 21, 51, 4, 240000),\n",
       " datetime.datetime(2018, 5, 1, 19, 32, 42, 684000),\n",
       " datetime.datetime(2018, 5, 1, 19, 28, 58, 928000),\n",
       " datetime.datetime(2018, 5, 1, 19, 4, 5, 723000),\n",
       " datetime.datetime(2018, 5, 1, 18, 46, 11, 19000),\n",
       " datetime.datetime(2018, 5, 1, 18, 33, 0, 310000),\n",
       " datetime.datetime(2018, 5, 1, 18, 13, 7, 719000),\n",
       " datetime.datetime(2018, 5, 1, 18, 1, 48, 551000),\n",
       " datetime.datetime(2018, 5, 1, 17, 49, 16, 877000),\n",
       " datetime.datetime(2018, 5, 1, 17, 4, 56, 563000),\n",
       " datetime.datetime(2018, 5, 1, 16, 50, 25, 654000),\n",
       " datetime.datetime(2018, 5, 1, 16, 48, 49, 260000),\n",
       " datetime.datetime(2018, 5, 1, 16, 48, 33, 464000),\n",
       " datetime.datetime(2018, 5, 1, 16, 39, 6, 408000),\n",
       " datetime.datetime(2018, 5, 1, 16, 16, 21, 966000),\n",
       " datetime.datetime(2018, 5, 1, 15, 33, 17, 724000),\n",
       " datetime.datetime(2018, 5, 1, 15, 31, 52, 962000),\n",
       " datetime.datetime(2018, 5, 1, 15, 22, 7, 874000),\n",
       " datetime.datetime(2018, 5, 1, 15, 16, 43, 537000),\n",
       " datetime.datetime(2018, 5, 1, 15, 13, 32, 354000),\n",
       " datetime.datetime(2018, 5, 1, 15, 12, 30, 513000),\n",
       " datetime.datetime(2018, 5, 1, 13, 56, 32, 940000),\n",
       " datetime.datetime(2018, 5, 1, 13, 18, 21, 133000),\n",
       " datetime.datetime(2018, 5, 1, 13, 12, 28, 545000),\n",
       " datetime.datetime(2018, 5, 1, 12, 23, 36, 264000),\n",
       " datetime.datetime(2018, 5, 1, 11, 43, 36, 182000),\n",
       " datetime.datetime(2018, 5, 1, 11, 25, 37, 395000),\n",
       " datetime.datetime(2018, 5, 1, 11, 24, 27, 193000),\n",
       " datetime.datetime(2018, 5, 1, 11, 19, 1, 163000),\n",
       " datetime.datetime(2018, 5, 1, 11, 10, 28, 258000),\n",
       " datetime.datetime(2018, 5, 1, 10, 19, 52, 374000),\n",
       " datetime.datetime(2018, 5, 1, 10, 12, 27, 355000),\n",
       " datetime.datetime(2018, 5, 1, 10, 7, 12, 444000),\n",
       " datetime.datetime(2018, 5, 1, 9, 35, 39, 295000),\n",
       " datetime.datetime(2018, 5, 1, 7, 39, 44, 749000),\n",
       " datetime.datetime(2018, 5, 1, 6, 58, 18, 86000),\n",
       " datetime.datetime(2018, 5, 1, 6, 46, 28, 267000),\n",
       " datetime.datetime(2018, 5, 1, 6, 30, 57, 661000),\n",
       " datetime.datetime(2018, 5, 1, 6, 19, 30, 565000),\n",
       " datetime.datetime(2018, 5, 1, 5, 49, 40, 699000),\n",
       " datetime.datetime(2018, 5, 1, 5, 25, 54, 267000),\n",
       " datetime.datetime(2018, 5, 1, 5, 17, 58, 982000),\n",
       " datetime.datetime(2018, 5, 1, 4, 38, 10, 413000),\n",
       " datetime.datetime(2018, 5, 1, 4, 26, 20, 266000),\n",
       " datetime.datetime(2018, 5, 1, 3, 2, 51, 150000),\n",
       " datetime.datetime(2018, 5, 1, 2, 53, 20, 4000),\n",
       " datetime.datetime(2018, 5, 1, 2, 47, 26, 443000),\n",
       " datetime.datetime(2018, 5, 1, 2, 20, 49, 356000),\n",
       " datetime.datetime(2018, 5, 1, 2, 10, 10, 579000),\n",
       " datetime.datetime(2018, 5, 1, 1, 36, 37, 698000),\n",
       " datetime.datetime(2018, 5, 1, 1, 1, 28, 964000),\n",
       " datetime.datetime(2018, 5, 1, 0, 45, 23, 996000),\n",
       " datetime.datetime(2018, 5, 1, 0, 27, 52, 214000),\n",
       " datetime.datetime(2018, 4, 30, 23, 48, 55, 154000),\n",
       " datetime.datetime(2018, 4, 30, 23, 16, 4, 15000),\n",
       " datetime.datetime(2018, 4, 30, 22, 53, 20, 672000),\n",
       " datetime.datetime(2018, 4, 30, 22, 23, 24, 715000),\n",
       " datetime.datetime(2018, 4, 30, 22, 19, 51, 995000),\n",
       " datetime.datetime(2018, 4, 30, 22, 6, 2, 219000),\n",
       " datetime.datetime(2018, 4, 30, 22, 0, 7, 307000),\n",
       " datetime.datetime(2018, 4, 30, 21, 26, 15, 563000),\n",
       " datetime.datetime(2018, 4, 30, 20, 8, 44, 440000),\n",
       " datetime.datetime(2018, 4, 30, 19, 52, 37, 444000),\n",
       " datetime.datetime(2018, 4, 30, 19, 46, 53, 777000),\n",
       " datetime.datetime(2018, 4, 30, 18, 14, 52, 11000),\n",
       " datetime.datetime(2018, 4, 30, 18, 2, 42, 521000),\n",
       " datetime.datetime(2018, 4, 30, 17, 28, 45, 676000),\n",
       " datetime.datetime(2018, 4, 30, 17, 17, 44, 459000),\n",
       " datetime.datetime(2018, 4, 30, 17, 3, 16, 387000),\n",
       " datetime.datetime(2018, 4, 30, 15, 39, 30, 83000),\n",
       " datetime.datetime(2018, 4, 30, 15, 16, 49, 160000),\n",
       " datetime.datetime(2018, 4, 30, 15, 15, 11, 993000),\n",
       " datetime.datetime(2018, 4, 30, 15, 2, 50, 900000),\n",
       " datetime.datetime(2018, 4, 30, 15, 0, 52, 442000),\n",
       " datetime.datetime(2018, 4, 30, 14, 53, 17, 98000),\n",
       " datetime.datetime(2018, 4, 30, 14, 14, 14, 723000),\n",
       " datetime.datetime(2018, 4, 30, 12, 58, 25, 333000),\n",
       " datetime.datetime(2018, 4, 30, 12, 55, 15, 959000),\n",
       " datetime.datetime(2018, 4, 30, 12, 52, 33, 382000),\n",
       " datetime.datetime(2018, 4, 30, 11, 5, 56, 620000),\n",
       " datetime.datetime(2018, 4, 30, 11, 2, 1, 250000),\n",
       " datetime.datetime(2018, 4, 30, 10, 38, 13, 465000),\n",
       " datetime.datetime(2018, 4, 30, 10, 26, 45, 685000),\n",
       " datetime.datetime(2018, 4, 30, 10, 12, 15, 745000),\n",
       " datetime.datetime(2018, 4, 30, 8, 52, 20, 139000),\n",
       " datetime.datetime(2018, 4, 30, 8, 44, 32, 244000),\n",
       " datetime.datetime(2018, 4, 30, 8, 34, 0, 675000),\n",
       " datetime.datetime(2018, 4, 30, 8, 21, 58, 623000),\n",
       " datetime.datetime(2018, 4, 30, 7, 37, 55, 745000),\n",
       " datetime.datetime(2018, 4, 30, 7, 21, 3, 791000),\n",
       " datetime.datetime(2018, 4, 30, 6, 49, 0, 694000),\n",
       " datetime.datetime(2018, 4, 30, 6, 15, 10, 799000),\n",
       " datetime.datetime(2018, 4, 30, 5, 24, 7, 915000),\n",
       " datetime.datetime(2018, 4, 30, 4, 56, 34, 163000),\n",
       " datetime.datetime(2018, 4, 30, 4, 24, 18, 645000),\n",
       " datetime.datetime(2018, 4, 30, 4, 15, 50, 218000),\n",
       " datetime.datetime(2018, 4, 30, 3, 16, 13, 104000),\n",
       " datetime.datetime(2018, 4, 30, 3, 5, 15, 804000),\n",
       " datetime.datetime(2018, 4, 30, 1, 54, 46, 163000),\n",
       " datetime.datetime(2018, 4, 30, 1, 48, 56, 42000),\n",
       " datetime.datetime(2018, 4, 30, 1, 21, 34, 163000),\n",
       " datetime.datetime(2018, 4, 30, 1, 8, 49, 336000),\n",
       " datetime.datetime(2018, 4, 30, 0, 47, 26, 191000),\n",
       " datetime.datetime(2018, 4, 30, 0, 39, 33, 246000),\n",
       " datetime.datetime(2018, 4, 29, 23, 45, 48, 555000),\n",
       " datetime.datetime(2018, 4, 29, 23, 35, 43, 412000),\n",
       " datetime.datetime(2018, 4, 29, 23, 27, 44, 952000),\n",
       " datetime.datetime(2018, 4, 29, 23, 16, 59, 886000),\n",
       " datetime.datetime(2018, 4, 29, 23, 9, 58, 354000),\n",
       " datetime.datetime(2018, 4, 29, 23, 1, 11, 506000),\n",
       " datetime.datetime(2018, 4, 29, 23, 0, 7, 596000),\n",
       " datetime.datetime(2018, 4, 29, 22, 53, 38, 595000),\n",
       " ...]"
      ]
     },
     "execution_count": 28,
     "metadata": {},
     "output_type": "execute_result"
    }
   ],
   "source": [
    "origin_time = [datetime.datetime.strptime(d[2],\"%Y-%m-%dT%H:%M:%S.%fZ\") for d in data]\n",
    "origin_time"
   ]
  },
  {
   "cell_type": "code",
   "execution_count": 30,
   "id": "29ecc627",
   "metadata": {},
   "outputs": [
    {
     "name": "stdout",
     "output_type": "stream",
     "text": [
      "[datetime.datetime(2017, 6, 1, 0, 7, 4, 890000)\n",
      " datetime.datetime(2017, 6, 1, 0, 15, 55, 74000)\n",
      " datetime.datetime(2017, 6, 1, 0, 25, 6, 491000) ...\n",
      " datetime.datetime(2018, 5, 17, 10, 46, 46, 526000)\n",
      " datetime.datetime(2018, 5, 17, 11, 38, 24, 646000)\n",
      " datetime.datetime(2018, 5, 17, 12, 19, 35, 516000)]\n",
      "[datetime.timedelta(seconds=530, microseconds=184000)\n",
      " datetime.timedelta(seconds=551, microseconds=417000)\n",
      " datetime.timedelta(seconds=764, microseconds=156000) ...\n",
      " datetime.timedelta(seconds=2700, microseconds=148000)\n",
      " datetime.timedelta(seconds=3098, microseconds=120000)\n",
      " datetime.timedelta(seconds=2470, microseconds=870000)]\n"
     ]
    }
   ],
   "source": [
    "or_time_arr = np.array(origin_time)\n",
    "sort_time_arr = np.sort(or_time_arr)\n",
    "time_between_eq=np.diff(sort_time_arr)\n",
    "print(sort_time_arr)\n",
    "print(time_between_eq)"
   ]
  },
  {
   "cell_type": "code",
   "execution_count": 31,
   "id": "0f8d22ba",
   "metadata": {},
   "outputs": [],
   "source": [
    "time_between_eq_arr = np.array([d.total_seconds() for d in time_between_eq])"
   ]
  },
  {
   "cell_type": "code",
   "execution_count": 32,
   "id": "e42ce347",
   "metadata": {},
   "outputs": [
    {
     "data": {
      "image/png": "[encoded data removed]",
      "text/plain": [
       "<Figure size 432x288 with 1 Axes>"
      ]
     },
     "metadata": {
      "needs_background": "light"
     },
     "output_type": "display_data"
    }
   ],
   "source": [
    "_=plt.hist(time_between_eq_arr,bins=200)"
   ]
  },
  {
   "cell_type": "markdown",
   "id": "5aa8ec1b",
   "metadata": {},
   "source": [
    "### Assumptions on data\n",
    "\n",
    "* Exponentially distributed\n",
    "* Lets also assume that they are IID"
   ]
  },
  {
   "cell_type": "markdown",
   "id": "fe3d795b",
   "metadata": {},
   "source": [
    "The density is given by?\n",
    "$$\n",
    "    f(x) = \\lambda^\\ast e^{-\\lambda^\\ast x}\n",
    "$$"
   ]
  },
  {
   "cell_type": "markdown",
   "id": "2b494617",
   "metadata": {},
   "source": [
    "$$\n",
    "    L(f_\\lambda,x) = -\\ln(f_\\lambda(x))\n",
    "$$\n",
    "\n",
    "$$\n",
    "    E[L(f_\\lambda,x)] = E[-\\ln(f_\\lambda(x))]\n",
    "$$"
   ]
  },
  {
   "cell_type": "markdown",
   "id": "f75a5e12",
   "metadata": {},
   "source": [
    "$$\n",
    "    \\hat R(\\lambda) = \\frac{1}{n} \\sum_{i=1}^n (- \\ln(f_\\lambda(X_i))\n",
    "$$"
   ]
  },
  {
   "cell_type": "markdown",
   "id": "3378c404",
   "metadata": {},
   "source": [
    "$$\n",
    "    -\\ln(f_\\lambda(x)) = -\\ln(\\lambda) + \\lambda x\n",
    "$$"
   ]
  },
  {
   "cell_type": "code",
   "execution_count": 33,
   "id": "216525f4",
   "metadata": {},
   "outputs": [],
   "source": [
    "np.random.shuffle(time_between_eq_arr)\n",
    "total_n = len(time_between_eq_arr)\n",
    "train_n = int(total_n*0.5)\n",
    "test_n = total_n-train_n\n",
    "\n",
    "train_data, test_data = (time_between_eq_arr[:train_n],time_between_eq_arr[train_n:])"
   ]
  },
  {
   "cell_type": "code",
   "execution_count": 34,
   "id": "a32094d7",
   "metadata": {},
   "outputs": [
    {
     "data": {
      "text/plain": [
       "array([ 2930.726,  1733.625,  2921.137, ..., 10753.058,  2013.019,\n",
       "         571.026])"
      ]
     },
     "execution_count": 34,
     "metadata": {},
     "output_type": "execute_result"
    }
   ],
   "source": [
    "train_data"
   ]
  },
  {
   "cell_type": "code",
   "execution_count": 35,
   "id": "3c0171ad",
   "metadata": {},
   "outputs": [
    {
     "data": {
      "text/plain": [
       "array([1173.273, 2234.259,  617.137, ..., 1305.583,  455.145, 3602.589])"
      ]
     },
     "execution_count": 35,
     "metadata": {},
     "output_type": "execute_result"
    }
   ],
   "source": [
    "test_data"
   ]
  },
  {
   "cell_type": "code",
   "execution_count": 36,
   "id": "dc52d835",
   "metadata": {},
   "outputs": [],
   "source": [
    "# define the objective/cost/loss function we want to minimise\n",
    "def empirical_risk_train(l):\n",
    "    return np.mean(-np.log(l)+l*train_data)"
   ]
  },
  {
   "cell_type": "code",
   "execution_count": 37,
   "id": "9e2dcc81",
   "metadata": {},
   "outputs": [
    {
     "data": {
      "text/plain": [
       "8.349629371396718"
      ]
     },
     "execution_count": 37,
     "metadata": {},
     "output_type": "execute_result"
    }
   ],
   "source": [
    "empirical_risk_train(0.001)"
   ]
  },
  {
   "cell_type": "code",
   "execution_count": 39,
   "id": "6d1c757d",
   "metadata": {},
   "outputs": [
    {
     "data": {
      "text/plain": [
       "0.0006950000000000012"
      ]
     },
     "execution_count": 39,
     "metadata": {},
     "output_type": "execute_result"
    }
   ],
   "source": [
    "from scipy import optimize\n",
    "result = optimize.minimize(empirical_risk_train,0.0001,method='Nelder-Mead')\n",
    "l_hat = result['x'][0]\n",
    "l_hat"
   ]
  },
  {
   "cell_type": "code",
   "execution_count": 40,
   "id": "bb3c334f",
   "metadata": {},
   "outputs": [
    {
     "data": {
      "text/plain": [
       "1438.8489208633068"
      ]
     },
     "execution_count": 40,
     "metadata": {},
     "output_type": "execute_result"
    }
   ],
   "source": [
    "1/l_hat"
   ]
  },
  {
   "cell_type": "markdown",
   "id": "47cfc1c6",
   "metadata": {},
   "source": [
    "Lets consider the loss\n",
    "$$\n",
    "    L(c,x) = |c-x|\n",
    "$$\n",
    "The risk then becomes\n",
    "$$\n",
    "    R(c) = E[L(c,x)] = E[|c-x|]\n",
    "$$"
   ]
  },
  {
   "cell_type": "markdown",
   "id": "ba87d0f4",
   "metadata": {},
   "source": [
    "So, for our problem, since we have estimated $\\hat \\lambda$ we can test it as a method of prediction by estimating the following quantity\n",
    "$$\n",
    "    E[|1/\\hat \\lambda - X| \\mid \\hat \\lambda]\n",
    "$$"
   ]
  },
  {
   "cell_type": "markdown",
   "id": "3eecdef4",
   "metadata": {},
   "source": [
    "We could use our testing data to estimate the above, i.e.\n",
    "$$\n",
    "    \\frac{1}{n_{test}} \\sum_{X_i \\in \\text{ testing data}} |1/\\hat \\lambda - X_i|\n",
    "$$"
   ]
  },
  {
   "cell_type": "code",
   "execution_count": 41,
   "id": "2979ddb7",
   "metadata": {},
   "outputs": [
    {
     "data": {
      "text/plain": [
       "1113.2668024711552"
      ]
     },
     "execution_count": 41,
     "metadata": {},
     "output_type": "execute_result"
    }
   ],
   "source": [
    "np.mean(np.abs(1/l_hat - test_data))"
   ]
  },
  {
   "cell_type": "code",
   "execution_count": 42,
   "id": "9ac3874f",
   "metadata": {},
   "outputs": [
    {
     "data": {
      "text/plain": [
       "1113.676851479066"
      ]
     },
     "execution_count": 42,
     "metadata": {},
     "output_type": "execute_result"
    }
   ],
   "source": [
    "np.mean(np.abs(test_data-np.mean(test_data)))"
   ]
  },
  {
   "cell_type": "markdown",
   "id": "c0281ccf",
   "metadata": {},
   "source": [
    "# Logistic Regression\n",
    "\n",
    "* Load the data\n",
    "* Separate the data into two parts\n",
    "* Scale the training data (standard scaling)\n",
    "* Convert labels to -1 1 for better numerics\n",
    "* Solve the minimal risk problem\n",
    "* Tranform the test data with the scaling of the train data\n",
    "* Test the model\n",
    "* Confidence interval around prediction"
   ]
  },
  {
   "cell_type": "code",
   "execution_count": 43,
   "id": "91443c01",
   "metadata": {},
   "outputs": [
    {
     "name": "stderr",
     "output_type": "stream",
     "text": [
      "'head' is not recognized as an internal or external command,\n",
      "operable program or batch file.\n"
     ]
    }
   ],
   "source": [
    "!head -n 10 data/CORIS.csv"
   ]
  },
  {
   "cell_type": "code",
   "execution_count": 44,
   "id": "02f89f0a",
   "metadata": {},
   "outputs": [],
   "source": [
    "# Load data\n",
    "# Standard scale\n",
    "# Convert labels to -1,1\n",
    "# Solve the likelihood problem"
   ]
  },
  {
   "cell_type": "code",
   "execution_count": 45,
   "id": "ff4a371e",
   "metadata": {},
   "outputs": [
    {
     "ename": "NameError",
     "evalue": "name 'Y1' is not defined",
     "output_type": "error",
     "traceback": [
      "\u001b[1;31m---------------------------------------------------------------------------\u001b[0m",
      "\u001b[1;31mNameError\u001b[0m                                 Traceback (most recent call last)",
      "Input \u001b[1;32mIn [45]\u001b[0m, in \u001b[0;36m<cell line: 14>\u001b[1;34m()\u001b[0m\n\u001b[0;32m     12\u001b[0m parameter_bounding_box\u001b[38;5;241m=\u001b[39m((\u001b[38;5;241m-\u001b[39m\u001b[38;5;241m10\u001b[39m, \u001b[38;5;241m2\u001b[39m), (\u001b[38;5;241m-\u001b[39m\u001b[38;5;241m10\u001b[39m, \u001b[38;5;241m2\u001b[39m)) \u001b[38;5;66;03m# specify the constraints for each parameter\u001b[39;00m\n\u001b[0;32m     13\u001b[0m initial_arguments \u001b[38;5;241m=\u001b[39m np\u001b[38;5;241m.\u001b[39marray([\u001b[38;5;241m0\u001b[39m, \u001b[38;5;241m0\u001b[39m]) \u001b[38;5;66;03m# point in 2D to initialise the minimize algorithm\u001b[39;00m\n\u001b[1;32m---> 14\u001b[0m result \u001b[38;5;241m=\u001b[39m \u001b[43moptimize\u001b[49m\u001b[38;5;241;43m.\u001b[39;49m\u001b[43mminimize\u001b[49m\u001b[43m(\u001b[49m\u001b[43mf\u001b[49m\u001b[43m,\u001b[49m\u001b[43m \u001b[49m\u001b[43minitial_arguments\u001b[49m\u001b[43m,\u001b[49m\u001b[43m \u001b[49m\u001b[43mbounds\u001b[49m\u001b[38;5;241;43m=\u001b[39;49m\u001b[43mparameter_bounding_box\u001b[49m\u001b[43m,\u001b[49m\u001b[43m)\u001b[49m \u001b[38;5;66;03m# just call the minimize method!\u001b[39;00m\n\u001b[0;32m     15\u001b[0m result\n",
      "File \u001b[1;32m~\\anaconda3\\lib\\site-packages\\scipy\\optimize\\_minimize.py:623\u001b[0m, in \u001b[0;36mminimize\u001b[1;34m(fun, x0, args, method, jac, hess, hessp, bounds, constraints, tol, callback, options)\u001b[0m\n\u001b[0;32m    620\u001b[0m     \u001b[38;5;28;01mreturn\u001b[39;00m _minimize_newtoncg(fun, x0, args, jac, hess, hessp, callback,\n\u001b[0;32m    621\u001b[0m                               \u001b[38;5;241m*\u001b[39m\u001b[38;5;241m*\u001b[39moptions)\n\u001b[0;32m    622\u001b[0m \u001b[38;5;28;01melif\u001b[39;00m meth \u001b[38;5;241m==\u001b[39m \u001b[38;5;124m'\u001b[39m\u001b[38;5;124ml-bfgs-b\u001b[39m\u001b[38;5;124m'\u001b[39m:\n\u001b[1;32m--> 623\u001b[0m     \u001b[38;5;28;01mreturn\u001b[39;00m _minimize_lbfgsb(fun, x0, args, jac, bounds,\n\u001b[0;32m    624\u001b[0m                             callback\u001b[38;5;241m=\u001b[39mcallback, \u001b[38;5;241m*\u001b[39m\u001b[38;5;241m*\u001b[39moptions)\n\u001b[0;32m    625\u001b[0m \u001b[38;5;28;01melif\u001b[39;00m meth \u001b[38;5;241m==\u001b[39m \u001b[38;5;124m'\u001b[39m\u001b[38;5;124mtnc\u001b[39m\u001b[38;5;124m'\u001b[39m:\n\u001b[0;32m    626\u001b[0m     \u001b[38;5;28;01mreturn\u001b[39;00m _minimize_tnc(fun, x0, args, jac, bounds, callback\u001b[38;5;241m=\u001b[39mcallback,\n\u001b[0;32m    627\u001b[0m                          \u001b[38;5;241m*\u001b[39m\u001b[38;5;241m*\u001b[39moptions)\n",
      "File \u001b[1;32m~\\anaconda3\\lib\\site-packages\\scipy\\optimize\\lbfgsb.py:306\u001b[0m, in \u001b[0;36m_minimize_lbfgsb\u001b[1;34m(fun, x0, args, jac, bounds, disp, maxcor, ftol, gtol, eps, maxfun, maxiter, iprint, callback, maxls, finite_diff_rel_step, **unknown_options)\u001b[0m\n\u001b[0;32m    303\u001b[0m     \u001b[38;5;28;01melse\u001b[39;00m:\n\u001b[0;32m    304\u001b[0m         iprint \u001b[38;5;241m=\u001b[39m disp\n\u001b[1;32m--> 306\u001b[0m sf \u001b[38;5;241m=\u001b[39m \u001b[43m_prepare_scalar_function\u001b[49m\u001b[43m(\u001b[49m\u001b[43mfun\u001b[49m\u001b[43m,\u001b[49m\u001b[43m \u001b[49m\u001b[43mx0\u001b[49m\u001b[43m,\u001b[49m\u001b[43m \u001b[49m\u001b[43mjac\u001b[49m\u001b[38;5;241;43m=\u001b[39;49m\u001b[43mjac\u001b[49m\u001b[43m,\u001b[49m\u001b[43m \u001b[49m\u001b[43margs\u001b[49m\u001b[38;5;241;43m=\u001b[39;49m\u001b[43margs\u001b[49m\u001b[43m,\u001b[49m\u001b[43m \u001b[49m\u001b[43mepsilon\u001b[49m\u001b[38;5;241;43m=\u001b[39;49m\u001b[43meps\u001b[49m\u001b[43m,\u001b[49m\n\u001b[0;32m    307\u001b[0m \u001b[43m                              \u001b[49m\u001b[43mbounds\u001b[49m\u001b[38;5;241;43m=\u001b[39;49m\u001b[43mnew_bounds\u001b[49m\u001b[43m,\u001b[49m\n\u001b[0;32m    308\u001b[0m \u001b[43m                              \u001b[49m\u001b[43mfinite_diff_rel_step\u001b[49m\u001b[38;5;241;43m=\u001b[39;49m\u001b[43mfinite_diff_rel_step\u001b[49m\u001b[43m)\u001b[49m\n\u001b[0;32m    310\u001b[0m func_and_grad \u001b[38;5;241m=\u001b[39m sf\u001b[38;5;241m.\u001b[39mfun_and_grad\n\u001b[0;32m    312\u001b[0m fortran_int \u001b[38;5;241m=\u001b[39m _lbfgsb\u001b[38;5;241m.\u001b[39mtypes\u001b[38;5;241m.\u001b[39mintvar\u001b[38;5;241m.\u001b[39mdtype\n",
      "File \u001b[1;32m~\\anaconda3\\lib\\site-packages\\scipy\\optimize\\optimize.py:261\u001b[0m, in \u001b[0;36m_prepare_scalar_function\u001b[1;34m(fun, x0, jac, args, bounds, epsilon, finite_diff_rel_step, hess)\u001b[0m\n\u001b[0;32m    257\u001b[0m     bounds \u001b[38;5;241m=\u001b[39m (\u001b[38;5;241m-\u001b[39mnp\u001b[38;5;241m.\u001b[39minf, np\u001b[38;5;241m.\u001b[39minf)\n\u001b[0;32m    259\u001b[0m \u001b[38;5;66;03m# ScalarFunction caches. Reuse of fun(x) during grad\u001b[39;00m\n\u001b[0;32m    260\u001b[0m \u001b[38;5;66;03m# calculation reduces overall function evaluations.\u001b[39;00m\n\u001b[1;32m--> 261\u001b[0m sf \u001b[38;5;241m=\u001b[39m \u001b[43mScalarFunction\u001b[49m\u001b[43m(\u001b[49m\u001b[43mfun\u001b[49m\u001b[43m,\u001b[49m\u001b[43m \u001b[49m\u001b[43mx0\u001b[49m\u001b[43m,\u001b[49m\u001b[43m \u001b[49m\u001b[43margs\u001b[49m\u001b[43m,\u001b[49m\u001b[43m \u001b[49m\u001b[43mgrad\u001b[49m\u001b[43m,\u001b[49m\u001b[43m \u001b[49m\u001b[43mhess\u001b[49m\u001b[43m,\u001b[49m\n\u001b[0;32m    262\u001b[0m \u001b[43m                    \u001b[49m\u001b[43mfinite_diff_rel_step\u001b[49m\u001b[43m,\u001b[49m\u001b[43m \u001b[49m\u001b[43mbounds\u001b[49m\u001b[43m,\u001b[49m\u001b[43m \u001b[49m\u001b[43mepsilon\u001b[49m\u001b[38;5;241;43m=\u001b[39;49m\u001b[43mepsilon\u001b[49m\u001b[43m)\u001b[49m\n\u001b[0;32m    264\u001b[0m \u001b[38;5;28;01mreturn\u001b[39;00m sf\n",
      "File \u001b[1;32m~\\anaconda3\\lib\\site-packages\\scipy\\optimize\\_differentiable_functions.py:140\u001b[0m, in \u001b[0;36mScalarFunction.__init__\u001b[1;34m(self, fun, x0, args, grad, hess, finite_diff_rel_step, finite_diff_bounds, epsilon)\u001b[0m\n\u001b[0;32m    137\u001b[0m     \u001b[38;5;28mself\u001b[39m\u001b[38;5;241m.\u001b[39mf \u001b[38;5;241m=\u001b[39m fun_wrapped(\u001b[38;5;28mself\u001b[39m\u001b[38;5;241m.\u001b[39mx)\n\u001b[0;32m    139\u001b[0m \u001b[38;5;28mself\u001b[39m\u001b[38;5;241m.\u001b[39m_update_fun_impl \u001b[38;5;241m=\u001b[39m update_fun\n\u001b[1;32m--> 140\u001b[0m \u001b[38;5;28;43mself\u001b[39;49m\u001b[38;5;241;43m.\u001b[39;49m\u001b[43m_update_fun\u001b[49m\u001b[43m(\u001b[49m\u001b[43m)\u001b[49m\n\u001b[0;32m    142\u001b[0m \u001b[38;5;66;03m# Gradient evaluation\u001b[39;00m\n\u001b[0;32m    143\u001b[0m \u001b[38;5;28;01mif\u001b[39;00m callable(grad):\n",
      "File \u001b[1;32m~\\anaconda3\\lib\\site-packages\\scipy\\optimize\\_differentiable_functions.py:233\u001b[0m, in \u001b[0;36mScalarFunction._update_fun\u001b[1;34m(self)\u001b[0m\n\u001b[0;32m    231\u001b[0m \u001b[38;5;28;01mdef\u001b[39;00m \u001b[38;5;21m_update_fun\u001b[39m(\u001b[38;5;28mself\u001b[39m):\n\u001b[0;32m    232\u001b[0m     \u001b[38;5;28;01mif\u001b[39;00m \u001b[38;5;129;01mnot\u001b[39;00m \u001b[38;5;28mself\u001b[39m\u001b[38;5;241m.\u001b[39mf_updated:\n\u001b[1;32m--> 233\u001b[0m         \u001b[38;5;28;43mself\u001b[39;49m\u001b[38;5;241;43m.\u001b[39;49m\u001b[43m_update_fun_impl\u001b[49m\u001b[43m(\u001b[49m\u001b[43m)\u001b[49m\n\u001b[0;32m    234\u001b[0m         \u001b[38;5;28mself\u001b[39m\u001b[38;5;241m.\u001b[39mf_updated \u001b[38;5;241m=\u001b[39m \u001b[38;5;28;01mTrue\u001b[39;00m\n",
      "File \u001b[1;32m~\\anaconda3\\lib\\site-packages\\scipy\\optimize\\_differentiable_functions.py:137\u001b[0m, in \u001b[0;36mScalarFunction.__init__.<locals>.update_fun\u001b[1;34m()\u001b[0m\n\u001b[0;32m    136\u001b[0m \u001b[38;5;28;01mdef\u001b[39;00m \u001b[38;5;21mupdate_fun\u001b[39m():\n\u001b[1;32m--> 137\u001b[0m     \u001b[38;5;28mself\u001b[39m\u001b[38;5;241m.\u001b[39mf \u001b[38;5;241m=\u001b[39m \u001b[43mfun_wrapped\u001b[49m\u001b[43m(\u001b[49m\u001b[38;5;28;43mself\u001b[39;49m\u001b[38;5;241;43m.\u001b[39;49m\u001b[43mx\u001b[49m\u001b[43m)\u001b[49m\n",
      "File \u001b[1;32m~\\anaconda3\\lib\\site-packages\\scipy\\optimize\\_differentiable_functions.py:134\u001b[0m, in \u001b[0;36mScalarFunction.__init__.<locals>.fun_wrapped\u001b[1;34m(x)\u001b[0m\n\u001b[0;32m    130\u001b[0m \u001b[38;5;28mself\u001b[39m\u001b[38;5;241m.\u001b[39mnfev \u001b[38;5;241m+\u001b[39m\u001b[38;5;241m=\u001b[39m \u001b[38;5;241m1\u001b[39m\n\u001b[0;32m    131\u001b[0m \u001b[38;5;66;03m# Send a copy because the user may overwrite it.\u001b[39;00m\n\u001b[0;32m    132\u001b[0m \u001b[38;5;66;03m# Overwriting results in undefined behaviour because\u001b[39;00m\n\u001b[0;32m    133\u001b[0m \u001b[38;5;66;03m# fun(self.x) will change self.x, with the two no longer linked.\u001b[39;00m\n\u001b[1;32m--> 134\u001b[0m \u001b[38;5;28;01mreturn\u001b[39;00m \u001b[43mfun\u001b[49m\u001b[43m(\u001b[49m\u001b[43mnp\u001b[49m\u001b[38;5;241;43m.\u001b[39;49m\u001b[43mcopy\u001b[49m\u001b[43m(\u001b[49m\u001b[43mx\u001b[49m\u001b[43m)\u001b[49m\u001b[43m,\u001b[49m\u001b[43m \u001b[49m\u001b[38;5;241;43m*\u001b[39;49m\u001b[43margs\u001b[49m\u001b[43m)\u001b[49m\n",
      "Input \u001b[1;32mIn [45]\u001b[0m, in \u001b[0;36mf\u001b[1;34m(x)\u001b[0m\n\u001b[0;32m      5\u001b[0m \u001b[38;5;28;01mdef\u001b[39;00m \u001b[38;5;21mf\u001b[39m(x):\n\u001b[1;32m----> 6\u001b[0m     \u001b[38;5;28;01mreturn\u001b[39;00m np\u001b[38;5;241m.\u001b[39msum(np\u001b[38;5;241m.\u001b[39mlog(\u001b[38;5;241m1\u001b[39m\u001b[38;5;241m+\u001b[39mnp\u001b[38;5;241m.\u001b[39mexp(\u001b[38;5;241m-\u001b[39m\u001b[43mY1\u001b[49m\u001b[38;5;241m*\u001b[39m(x[\u001b[38;5;241m0\u001b[39m] \u001b[38;5;241m+\u001b[39m x[\u001b[38;5;241m1\u001b[39m]\u001b[38;5;241m*\u001b[39mX_sc[:,\u001b[38;5;241m9\u001b[39m]))))\n",
      "\u001b[1;31mNameError\u001b[0m: name 'Y1' is not defined"
     ]
    }
   ],
   "source": [
    "import numpy as np\n",
    "from scipy import optimize\n",
    "\n",
    "# define the objective/cost/loss function we want to minimise\n",
    "def f(x):\n",
    "    return np.sum(np.log(1+np.exp(-Y1*(x[0] + x[1]*X_sc[:,9]))))\n",
    "\n",
    "# multi-dimensional optimisation is syntactically similar to 1D, \n",
    "# but we are using Gradient and Hessian information from numerical evaluation of f to \n",
    "# iteratively improve the solution along the steepest direction, etc. \n",
    "# It 'LBFGS' method you will see in scientific computing\n",
    "parameter_bounding_box=((-10, 2), (-10, 2)) # specify the constraints for each parameter\n",
    "initial_arguments = np.array([0, 0]) # point in 2D to initialise the minimize algorithm\n",
    "result = optimize.minimize(f, initial_arguments, bounds=parameter_bounding_box,) # just call the minimize method!\n",
    "result"
   ]
  },
  {
   "cell_type": "code",
   "execution_count": null,
   "id": "c5e7de95",
   "metadata": {},
   "outputs": [],
   "source": []
  }
 ],
 "metadata": {
  "kernelspec": {
   "display_name": "Python 3 (ipykernel)",
   "language": "python",
   "name": "python3"
  },
  "language_info": {
   "codemirror_mode": {
    "name": "ipython",
    "version": 3
   },
   "file_extension": ".py",
   "mimetype": "text/x-python",
   "name": "python",
   "nbconvert_exporter": "python",
   "pygments_lexer": "ipython3",
   "version": "3.9.12"
  },
  "lx_course_instance": "2022",
  "lx_course_name": "Introduction to Data Science",
  "lx_course_number": "1MS041"
 },
 "nbformat": 4,
 "nbformat_minor": 5
}
