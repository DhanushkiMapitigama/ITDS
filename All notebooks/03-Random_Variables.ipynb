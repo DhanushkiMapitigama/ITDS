{
 "cells": [
  {
   "cell_type": "markdown",
   "id": "c1745993",
   "metadata": {
    "deletable": false
   },
   "source": [
    "# [Introduction to Data Science](http://datascience-intro.github.io/1MS041-2022/)    \n",
    "## 1MS041, 2022 \n",
    "&copy;2022 Raazesh Sainudiin, Benny Avelin. [Attribution 4.0 International     (CC BY 4.0)](https://creativecommons.org/licenses/by/4.0/)"
   ]
  },
  {
   "cell_type": "markdown",
   "id": "5894523c",
   "metadata": {},
   "source": [
    "## Second notebook on Random variables\n",
    "\n",
    "Lets take a look again at the spam dataset and look at our concepts there"
   ]
  },
  {
   "cell_type": "code",
   "execution_count": 1,
   "id": "45b3edcb",
   "metadata": {},
   "outputs": [
    {
     "data": {
      "text/plain": [
       "[('Go until jurong point, crazy.. Available only in bugis n great world la e buffet... Cine there got amore wat...',\n",
       "  0),\n",
       " ('Ok lar... Joking wif u oni...', 0)]"
      ]
     },
     "execution_count": 1,
     "metadata": {},
     "output_type": "execute_result"
    }
   ],
   "source": [
    "from Utils import load_sms\n",
    "sms_data = load_sms()\n",
    "sms_data[:2]"
   ]
  },
  {
   "cell_type": "markdown",
   "id": "f0b2a6fe",
   "metadata": {},
   "source": [
    "Let X represents each SMS text (an entry in the list), and let $Y$ represent whether text is spam or not i.e. $Y \\in \\{0,1\\}$. Thus $\\mathbb{P}(Y = 1)$ is the probability that we get a spam. The goal is to estimate:\n",
    "$$\n",
    "    \\mathbb{P}(Y = 1 | \\text{\"free\" or \"prize\" is in } X) \\enspace .\n",
    "$$\n",
    "That is, the probability that the SMS is spam given that \"free\" or \"prize\" occurs in the SMS. \n",
    "Hint: it is good to remove the upper/lower case of words so that we can also find \"Free\" and \"Prize\"; this can be done with `text.lower()` if `text` a string.\n",
    "\n",
    "To do this we can create a new random variable $Z$ which is $1$ if \"free\" or \"prize\" appears in $X$."
   ]
  },
  {
   "cell_type": "code",
   "execution_count": 2,
   "id": "76c8c9c4",
   "metadata": {},
   "outputs": [],
   "source": [
    "interesting_words=set(['free','prize'])\n",
    "TF10 = {True: 1, False: 0}\n",
    "Z_obs = [TF10[not interesting_words.isdisjoint([word.lower() for word in line[0].split(' ')])] for line in sms_data]"
   ]
  },
  {
   "cell_type": "code",
   "execution_count": 3,
   "id": "9d654368",
   "metadata": {},
   "outputs": [
    {
     "data": {
      "text/plain": [
       "[0, 0, 1, 0, 0, 0, 0, 0, 1, 1]"
      ]
     },
     "execution_count": 3,
     "metadata": {},
     "output_type": "execute_result"
    }
   ],
   "source": [
    "Z_obs[:10]"
   ]
  },
  {
   "cell_type": "code",
   "execution_count": 4,
   "id": "19703639",
   "metadata": {},
   "outputs": [
    {
     "data": {
      "text/plain": [
       "[0, 0, 1, 0, 0, 1, 0, 0, 1, 1]"
      ]
     },
     "execution_count": 4,
     "metadata": {},
     "output_type": "execute_result"
    }
   ],
   "source": [
    "Y_obs = [y for x,y in sms_data]\n",
    "Y_obs[:10]"
   ]
  },
  {
   "cell_type": "code",
   "execution_count": 5,
   "id": "20eff611",
   "metadata": {},
   "outputs": [],
   "source": [
    "import numpy as np\n",
    "def F_X_12(x):\n",
    "    TF10 = {True: 1, False: 0}\n",
    "    return np.mean([TF10[(x1 <= x[0]) and (x2 <= x[1])] for x1,x2 in zip (Y_obs,Z_obs)])"
   ]
  },
  {
   "cell_type": "markdown",
   "id": "8ddd7ffd",
   "metadata": {},
   "source": [
    "This is the JDF for this problem"
   ]
  },
  {
   "cell_type": "code",
   "execution_count": 6,
   "id": "10e9fdc8",
   "metadata": {},
   "outputs": [
    {
     "name": "stdout",
     "output_type": "stream",
     "text": [
      "\t\tz2 <= 0 \tz2 <= 1\n",
      "y1 <= 0 \t0.86\t\t0.87\t\t\n",
      "\n",
      "y1 <= 1 \t0.96\t\t1.00\t\t\n",
      "\n"
     ]
    }
   ],
   "source": [
    "print(\"\\t\\tz2 <= 0 \\tz2 <= 1\")\n",
    "for x1 in range(0,2):\n",
    "    print(\"y1 <= %d \\t\" % x1,end='')\n",
    "    for x2 in range(0,2):\n",
    "        print(\"%.2f\" % (F_X_12((x1,x2))),end='\\t\\t')\n",
    "    print('\\n')"
   ]
  },
  {
   "cell_type": "code",
   "execution_count": 7,
   "id": "96636b26",
   "metadata": {},
   "outputs": [
    {
     "data": {
      "text/plain": [
       "0.9551328068916008"
      ]
     },
     "execution_count": 7,
     "metadata": {},
     "output_type": "execute_result"
    }
   ],
   "source": [
    "F_X_12((1,0))"
   ]
  },
  {
   "cell_type": "code",
   "execution_count": 8,
   "id": "4adb2b09",
   "metadata": {},
   "outputs": [
    {
     "data": {
      "text/plain": [
       "False"
      ]
     },
     "execution_count": 8,
     "metadata": {},
     "output_type": "execute_result"
    }
   ],
   "source": [
    "F_X_12((0,0)) == F_X_12((0,1))*F_X_12((1,0))"
   ]
  },
  {
   "cell_type": "code",
   "execution_count": 9,
   "id": "9cb2840b",
   "metadata": {},
   "outputs": [
    {
     "data": {
      "text/plain": [
       "0.8270846721557743"
      ]
     },
     "execution_count": 9,
     "metadata": {},
     "output_type": "execute_result"
    }
   ],
   "source": [
    "F_X_12((0,1))*F_X_12((1,0))"
   ]
  },
  {
   "cell_type": "code",
   "execution_count": 10,
   "id": "3989ceeb",
   "metadata": {},
   "outputs": [
    {
     "data": {
      "text/plain": [
       "0.827084672155774"
      ]
     },
     "execution_count": 10,
     "metadata": {},
     "output_type": "execute_result"
    }
   ],
   "source": [
    "# Are they indepdentent? If so, then the JDF is just the product of the \n",
    "# DFs for Y and Z, but\n",
    "0.865936826992103*0.955132806891601"
   ]
  },
  {
   "cell_type": "markdown",
   "id": "1dd04abd",
   "metadata": {},
   "source": [
    "Which is not 0.858, so they are not independent. So lets try to estimate the probability that $Y=1$ given that $Z = 1$. Lets again do that by filtering"
   ]
  },
  {
   "cell_type": "code",
   "execution_count": 11,
   "id": "26611376",
   "metadata": {},
   "outputs": [
    {
     "data": {
      "text/plain": [
       "0.812"
      ]
     },
     "execution_count": 11,
     "metadata": {},
     "output_type": "execute_result"
    }
   ],
   "source": [
    "np.mean([y for z,y in zip(Z_obs,Y_obs) if z == 1])"
   ]
  },
  {
   "cell_type": "markdown",
   "id": "f1c3fdac",
   "metadata": {},
   "source": [
    "Compare that with the marginal probability of $Y = 1$, which is according to our JDF 1-0.866 = 0.134"
   ]
  },
  {
   "cell_type": "code",
   "execution_count": 12,
   "id": "a6c40030",
   "metadata": {},
   "outputs": [
    {
     "data": {
      "text/plain": [
       "0.13406317300789664"
      ]
     },
     "execution_count": 12,
     "metadata": {},
     "output_type": "execute_result"
    }
   ],
   "source": [
    "# Or we can just compute it directly\n",
    "np.mean(Y_obs)"
   ]
  },
  {
   "cell_type": "markdown",
   "id": "7c0883f2",
   "metadata": {},
   "source": [
    "What we see from this is that knowing that the words \"free\" or \"prize\" appeared in the sms text, we are much more certain that it is a spam. We also see that looking directly at the JDF this can be hard to see, although it is equivalent."
   ]
  },
  {
   "cell_type": "markdown",
   "id": "f99cf29f",
   "metadata": {},
   "source": [
    "## Moments etc"
   ]
  },
  {
   "cell_type": "code",
   "execution_count": 13,
   "id": "7f64c5db",
   "metadata": {},
   "outputs": [],
   "source": [
    "import numpy as np\n",
    "x = np.random.normal(size=100)"
   ]
  },
  {
   "cell_type": "code",
   "execution_count": 14,
   "id": "6487286c",
   "metadata": {
    "scrolled": true
   },
   "outputs": [
    {
     "data": {
      "text/plain": [
       "array([ 0.9779408 , -1.82096002, -1.41825327,  1.1824478 ,  0.42830425,\n",
       "        0.3631051 ,  0.00415442, -0.91508469,  1.18525871, -0.02120081,\n",
       "        0.10875259, -1.14020521,  1.51121772, -0.34327924, -0.11663052,\n",
       "        0.29369306, -0.58676692,  1.0436514 ,  0.53954274, -0.89297968,\n",
       "        0.8615047 ,  1.51465563, -0.88748896, -0.41025608,  2.1551467 ,\n",
       "        0.30907698,  0.98674107, -0.17592342, -0.88262183,  0.98644476,\n",
       "       -0.35718391,  0.84300875,  1.95641087, -1.91011792,  0.18667248,\n",
       "       -0.55443501,  1.1820367 , -0.61728334, -1.28520236, -0.26998889,\n",
       "       -0.77725481,  0.65183064,  0.85921952, -0.65310159, -0.89269049,\n",
       "        3.06401957,  0.33610458, -0.34806097, -0.62133283, -1.33722722,\n",
       "       -1.70530115, -0.29956294,  0.40932678,  0.03296779, -0.11719959,\n",
       "        0.90170089,  1.3165244 ,  0.86548001,  0.30634628,  0.08163466,\n",
       "       -0.25483559, -0.48663186,  0.08425664,  0.06830052, -0.6093532 ,\n",
       "       -0.2895124 , -0.42872978,  0.70933037, -0.21264877,  0.51560727,\n",
       "       -0.9119263 ,  0.15421972, -1.32562906,  0.37011405, -1.78443596,\n",
       "        0.72885627,  1.0822539 , -0.75685016, -0.47261322, -1.02527796,\n",
       "       -1.7598942 ,  1.24970769,  0.65344382,  0.87921042,  0.1757136 ,\n",
       "        0.15592782, -0.83136418,  1.26107725, -0.09658021,  1.39030966,\n",
       "       -1.97652486,  0.30329625,  0.36288793,  0.8434674 , -0.55155036,\n",
       "       -0.11038479, -1.30959911, -0.01914297, -1.66123131,  0.21467257])"
      ]
     },
     "execution_count": 14,
     "metadata": {},
     "output_type": "execute_result"
    }
   ],
   "source": [
    "x"
   ]
  },
  {
   "cell_type": "markdown",
   "id": "55cae321",
   "metadata": {},
   "source": [
    "## Sample mean"
   ]
  },
  {
   "cell_type": "code",
   "execution_count": 15,
   "id": "daa4c033",
   "metadata": {},
   "outputs": [
    {
     "data": {
      "text/plain": [
       "0.004152656628697149"
      ]
     },
     "execution_count": 15,
     "metadata": {},
     "output_type": "execute_result"
    }
   ],
   "source": [
    "np.mean(x)"
   ]
  },
  {
   "cell_type": "markdown",
   "id": "cd950864",
   "metadata": {},
   "source": [
    "## Sample variance"
   ]
  },
  {
   "cell_type": "code",
   "execution_count": 16,
   "id": "25b8e8e5",
   "metadata": {},
   "outputs": [
    {
     "data": {
      "text/plain": [
       "0.9265325044255871"
      ]
     },
     "execution_count": 16,
     "metadata": {},
     "output_type": "execute_result"
    }
   ],
   "source": [
    "np.var(x)"
   ]
  },
  {
   "cell_type": "markdown",
   "id": "9c204f2e",
   "metadata": {},
   "source": [
    "Or by doing it yourself"
   ]
  },
  {
   "cell_type": "code",
   "execution_count": 17,
   "id": "ec5e13e7",
   "metadata": {},
   "outputs": [
    {
     "data": {
      "text/plain": [
       "0.9265325044255871"
      ]
     },
     "execution_count": 17,
     "metadata": {},
     "output_type": "execute_result"
    }
   ],
   "source": [
    "mu = np.mean(x)\n",
    "np.mean(np.power(x-mu,2))"
   ]
  },
  {
   "cell_type": "markdown",
   "id": "cf20b0cd",
   "metadata": {},
   "source": [
    "Higher moments, we can use `scipy`"
   ]
  },
  {
   "cell_type": "code",
   "execution_count": 18,
   "id": "d7f53793",
   "metadata": {},
   "outputs": [],
   "source": [
    "from scipy.stats import skew, kurtosis"
   ]
  },
  {
   "cell_type": "code",
   "execution_count": 19,
   "id": "943a6aae",
   "metadata": {},
   "outputs": [
    {
     "data": {
      "text/plain": [
       "0.15642469047221008"
      ]
     },
     "execution_count": 19,
     "metadata": {},
     "output_type": "execute_result"
    }
   ],
   "source": [
    "skew(x)"
   ]
  },
  {
   "cell_type": "code",
   "execution_count": 20,
   "id": "6747ad12",
   "metadata": {},
   "outputs": [
    {
     "data": {
      "text/plain": [
       "3.0647436766886518"
      ]
     },
     "execution_count": 20,
     "metadata": {},
     "output_type": "execute_result"
    }
   ],
   "source": [
    "kurtosis(x,fisher=False)"
   ]
  },
  {
   "cell_type": "markdown",
   "id": "c33f7eda",
   "metadata": {},
   "source": [
    "## Moments and tail behavior"
   ]
  },
  {
   "cell_type": "code",
   "execution_count": 21,
   "id": "66b8e0bb",
   "metadata": {},
   "outputs": [],
   "source": [
    "def standardize(data):\n",
    "    mean = np.mean(data)\n",
    "    std = np.sqrt(np.var(data))\n",
    "    return (data-mean)/std"
   ]
  },
  {
   "cell_type": "code",
   "execution_count": 22,
   "id": "606c80d4",
   "metadata": {},
   "outputs": [
    {
     "data": {
      "text/plain": [
       "(-3.0, 5.0)"
      ]
     },
     "execution_count": 22,
     "metadata": {},
     "output_type": "execute_result"
    },
    {
     "data": {
      "image/png": "[encoded data removed]",
      "text/plain": [
       "<Figure size 432x288 with 1 Axes>"
      ]
     },
     "metadata": {
      "needs_background": "light"
     },
     "output_type": "display_data"
    }
   ],
   "source": [
    "import numpy as np\n",
    "chi2 = np.random.chisquare(4,size=10000)\n",
    "normal = np.random.normal(size=10000)\n",
    "import matplotlib.pyplot as plt\n",
    "_=plt.hist(standardize(chi2),bins=50,alpha=0.5)\n",
    "_=plt.hist(standardize(normal),bins=50,alpha=0.5)\n",
    "plt.xlim(-3,5)"
   ]
  },
  {
   "cell_type": "code",
   "execution_count": 23,
   "id": "3e98e305",
   "metadata": {},
   "outputs": [],
   "source": [
    "from scipy.stats import skew, kurtosis\n",
    "def print_basic_stats(data):\n",
    "    print(\"mean: %.2f\\tstd: %.2f\\tskew: %.2f\\tkurtosis: %.2f\" % (np.mean(data),np.std(data),skew(data),kurtosis(data,fisher=False)))"
   ]
  },
  {
   "cell_type": "code",
   "execution_count": 24,
   "id": "b7140dec",
   "metadata": {},
   "outputs": [
    {
     "name": "stdout",
     "output_type": "stream",
     "text": [
      "mean: -0.01\tstd: 1.00\tskew: -0.02\tkurtosis: 2.94\n"
     ]
    }
   ],
   "source": [
    "print_basic_stats(normal)"
   ]
  },
  {
   "cell_type": "code",
   "execution_count": 25,
   "id": "e6bff131",
   "metadata": {},
   "outputs": [
    {
     "name": "stdout",
     "output_type": "stream",
     "text": [
      "mean: 3.99\tstd: 2.84\tskew: 1.42\tkurtosis: 5.91\n"
     ]
    }
   ],
   "source": [
    "print_basic_stats(chi2)"
   ]
  },
  {
   "cell_type": "code",
   "execution_count": 26,
   "id": "c9edcdd5",
   "metadata": {},
   "outputs": [
    {
     "name": "stdout",
     "output_type": "stream",
     "text": [
      "mean: -0.00\tstd: 1.00\tskew: 0.42\tkurtosis: 3.08\n"
     ]
    }
   ],
   "source": [
    "print_basic_stats(standardize(np.sqrt(chi2)))"
   ]
  },
  {
   "cell_type": "code",
   "execution_count": 27,
   "id": "e6bbafd9",
   "metadata": {},
   "outputs": [
    {
     "data": {
      "text/plain": [
       "-0.05118620482141925"
      ]
     },
     "execution_count": 27,
     "metadata": {},
     "output_type": "execute_result"
    }
   ],
   "source": [
    "np.mean(np.power(normal,3)) # Skewness"
   ]
  },
  {
   "cell_type": "code",
   "execution_count": 28,
   "id": "5cdbe2f1",
   "metadata": {},
   "outputs": [
    {
     "data": {
      "text/plain": [
       "-30.34263139174127"
      ]
     },
     "execution_count": 28,
     "metadata": {},
     "output_type": "execute_result"
    }
   ],
   "source": [
    "np.mean(np.power(normal,9)) "
   ]
  },
  {
   "cell_type": "markdown",
   "id": "9a624b83",
   "metadata": {},
   "source": [
    "## Transformations of random variables"
   ]
  },
  {
   "cell_type": "markdown",
   "id": "4a05ac9b",
   "metadata": {},
   "source": [
    "Consider a Binomial random variable"
   ]
  },
  {
   "cell_type": "code",
   "execution_count": 29,
   "id": "a8b13f4f",
   "metadata": {},
   "outputs": [
    {
     "data": {
      "text/plain": [
       "array([7.25463200e-03, 7.46120171e-01, 5.66796368e-01, 4.82506263e-01,\n",
       "       6.77622412e-01, 8.66152106e-01, 5.02445234e-01, 8.34931534e-01,\n",
       "       7.32937217e-02, 7.94695557e-01, 7.75097131e-01, 3.85337414e-01,\n",
       "       2.11427755e-01, 1.66243632e-01, 4.12760354e-02, 6.87085539e-01,\n",
       "       2.59224763e-01, 3.77168188e-01, 2.34773658e-01, 8.78197854e-01,\n",
       "       8.45191052e-01, 4.31175750e-01, 9.94739483e-01, 1.17514924e-01,\n",
       "       8.28934120e-01, 7.85275105e-01, 6.30520837e-01, 6.43576013e-01,\n",
       "       3.38607176e-01, 4.17600004e-02, 9.51322460e-02, 5.80721256e-01,\n",
       "       8.69355394e-01, 9.18812319e-01, 5.04463944e-01, 7.56575983e-01,\n",
       "       7.98329181e-01, 7.88667395e-01, 9.84221661e-01, 5.82851248e-01,\n",
       "       5.11108333e-01, 3.94106845e-01, 1.57582509e-01, 1.93358886e-01,\n",
       "       1.23996371e-01, 7.44229811e-01, 4.71975239e-01, 6.39241024e-01,\n",
       "       8.54138837e-01, 9.43558541e-01, 1.12342878e-01, 9.21067965e-01,\n",
       "       6.27052569e-01, 8.31513005e-02, 7.36574727e-02, 9.69110110e-01,\n",
       "       6.21048506e-01, 5.99222172e-01, 2.07478380e-01, 7.38129499e-01,\n",
       "       6.74503162e-02, 4.38512193e-01, 4.32661775e-01, 7.72431653e-01,\n",
       "       9.23497340e-01, 7.40606774e-01, 9.90812864e-01, 4.46535545e-01,\n",
       "       9.82130007e-01, 5.29387385e-01, 5.44653535e-01, 7.22008020e-01,\n",
       "       1.07139056e-01, 5.46945485e-01, 9.19191477e-01, 3.86295170e-01,\n",
       "       4.20745506e-01, 5.06768730e-01, 6.46844196e-02, 9.46333372e-01,\n",
       "       7.25544623e-01, 5.22078753e-01, 6.33338931e-01, 8.93968101e-01,\n",
       "       9.84445372e-01, 2.61677875e-01, 3.61203329e-01, 6.98526356e-01,\n",
       "       8.90119097e-01, 7.72127518e-01, 5.92597272e-01, 6.90157065e-02,\n",
       "       3.30780707e-01, 7.05874762e-01, 6.98988766e-01, 7.41558739e-01,\n",
       "       3.47490083e-01, 4.99649896e-02, 8.46686793e-01, 4.47275173e-01,\n",
       "       2.19440344e-01, 5.75368302e-01, 6.04926903e-01, 9.08890074e-01,\n",
       "       6.57411635e-01, 3.14726699e-01, 6.20191286e-02, 8.68239022e-01,\n",
       "       7.19243834e-01, 7.18791748e-01, 6.29950404e-01, 8.83795397e-01,\n",
       "       3.52023359e-01, 7.64149196e-02, 3.23693174e-02, 7.84031331e-01,\n",
       "       1.00283715e-01, 5.88603561e-01, 8.95142092e-02, 4.94122076e-01,\n",
       "       1.91293876e-01, 1.56451581e-01, 2.67564432e-01, 8.92674606e-02,\n",
       "       3.35331938e-01, 6.34350976e-01, 4.95900448e-01, 4.45006332e-01,\n",
       "       2.00310794e-01, 9.18138704e-01, 8.16224393e-01, 2.80706695e-01,\n",
       "       5.66899115e-01, 5.32200222e-01, 4.16835981e-01, 3.71757483e-01,\n",
       "       2.15657900e-03, 3.79411179e-01, 3.64971371e-01, 2.99506463e-01,\n",
       "       8.88390073e-01, 9.50671591e-01, 5.43924533e-01, 3.69268847e-01,\n",
       "       4.62390816e-01, 4.43985242e-01, 1.96900135e-01, 5.23176721e-01,\n",
       "       2.23028134e-01, 7.66817594e-01, 3.95800314e-02, 6.43006233e-01,\n",
       "       7.02854237e-01, 7.29661189e-01, 6.31350940e-02, 7.72503054e-01,\n",
       "       2.85709218e-01, 8.76718264e-01, 9.03863042e-01, 1.85732253e-01,\n",
       "       9.65137635e-01, 7.76513929e-01, 8.36721667e-01, 4.00402454e-01,\n",
       "       1.42284638e-01, 1.26351624e-01, 7.01034467e-01, 8.79948829e-01,\n",
       "       3.18008893e-01, 6.58938351e-01, 2.22106366e-01, 6.93368233e-01,\n",
       "       3.28856383e-01, 5.77643181e-01, 7.45703289e-01, 6.82864879e-01,\n",
       "       7.69164015e-01, 6.04070311e-01, 5.23760217e-01, 4.05456882e-01,\n",
       "       3.90934950e-01, 5.67787939e-01, 5.99090745e-01, 7.98134253e-01,\n",
       "       6.05841600e-01, 7.71532049e-01, 2.47314546e-01, 7.60520338e-01,\n",
       "       3.55849461e-01, 6.66247396e-01, 8.40951589e-01, 1.94436626e-01,\n",
       "       8.91415598e-01, 5.20255735e-03, 9.61399725e-01, 4.89828048e-01,\n",
       "       5.19385361e-01, 6.35384005e-03, 1.65162408e-01, 7.05350106e-01,\n",
       "       2.19974494e-01, 1.87427715e-02, 5.82643156e-01, 4.21756527e-01,\n",
       "       2.17474327e-01, 4.37641339e-01, 5.21041588e-01, 2.93971071e-01,\n",
       "       4.98514614e-01, 8.11231274e-01, 8.96756164e-01, 2.60291754e-01,\n",
       "       7.17271375e-01, 3.54388572e-02, 5.19835063e-02, 4.76545627e-01,\n",
       "       5.94319637e-01, 8.17468999e-01, 3.81717797e-01, 6.03632897e-01,\n",
       "       3.17273136e-01, 4.77429373e-02, 6.36043509e-01, 4.50452658e-01,\n",
       "       3.29886094e-01, 1.52844206e-01, 1.27157561e-01, 2.33188274e-01,\n",
       "       3.53713111e-01, 7.88964291e-01, 9.29388902e-01, 2.07758022e-01,\n",
       "       7.09998792e-01, 7.42981305e-01, 3.54330449e-01, 6.98936175e-01,\n",
       "       7.71753851e-01, 5.19210289e-01, 7.46633342e-01, 4.59544206e-02,\n",
       "       2.41851519e-01, 9.22622880e-01, 9.64099311e-01, 8.19101277e-01,\n",
       "       9.37902315e-01, 2.50080132e-01, 6.34135023e-01, 6.65134218e-02,\n",
       "       4.21984319e-01, 8.44259504e-01, 4.82843594e-02, 3.85758324e-01,\n",
       "       2.45266276e-02, 6.87126027e-01, 9.60464804e-01, 4.51271339e-01,\n",
       "       5.59976216e-01, 8.50273891e-01, 4.71525116e-01, 9.45376904e-01,\n",
       "       7.00382361e-01, 9.41538893e-01, 8.92211889e-01, 1.51905281e-01,\n",
       "       4.05549565e-01, 5.33214632e-01, 9.39383246e-02, 1.40174770e-01,\n",
       "       7.34919973e-03, 2.58030387e-01, 4.48250445e-01, 8.17376316e-01,\n",
       "       7.91010431e-01, 1.64549893e-01, 2.33896515e-01, 9.03502448e-01,\n",
       "       3.02376848e-01, 7.68811966e-01, 4.20592448e-01, 4.50846624e-01,\n",
       "       9.43126301e-01, 9.05036924e-01, 7.28954938e-02, 1.34419246e-01,\n",
       "       6.24020692e-01, 6.01613493e-01, 8.46377254e-01, 5.68595792e-01,\n",
       "       6.37941498e-01, 3.02163959e-01, 8.08776667e-01, 8.41295053e-01,\n",
       "       4.45472837e-01, 7.54453538e-01, 3.44133683e-01, 7.12774437e-01,\n",
       "       8.63899398e-01, 4.18062356e-01, 2.48356518e-01, 3.73494459e-01,\n",
       "       3.26301363e-01, 6.16458035e-01, 7.10979517e-02, 4.97705213e-01,\n",
       "       3.06658055e-01, 7.67790552e-02, 5.32661339e-01, 5.80673582e-01,\n",
       "       2.17203485e-01, 7.81226727e-01, 9.23621264e-01, 2.22997006e-01,\n",
       "       2.97223851e-02, 7.81396276e-01, 5.96431893e-01, 4.76145804e-01,\n",
       "       3.92465499e-01, 7.92869320e-01, 6.19114339e-01, 5.28465744e-01,\n",
       "       9.68523400e-01, 7.63821928e-02, 9.78769722e-01, 6.39964978e-01,\n",
       "       3.22937971e-01, 4.37271889e-01, 6.45498605e-01, 9.92435251e-01,\n",
       "       6.72985826e-01, 7.66040877e-01, 9.98058519e-01, 4.18010884e-01,\n",
       "       6.61378645e-01, 1.75396565e-01, 4.83836167e-01, 6.74749753e-01,\n",
       "       7.49255179e-01, 7.14468907e-01, 6.37013336e-01, 6.26109821e-01,\n",
       "       8.78567643e-01, 1.84621181e-01, 6.82190375e-01, 3.42686000e-01,\n",
       "       8.04302960e-01, 6.00819914e-02, 9.06194408e-01, 3.64123786e-01,\n",
       "       6.26602092e-01, 1.46118133e-01, 9.95204781e-01, 9.27557250e-01,\n",
       "       8.56226569e-01, 2.86223005e-01, 9.32812271e-01, 8.57552120e-02,\n",
       "       4.32378004e-01, 3.64032655e-01, 3.51347938e-01, 3.57033787e-01,\n",
       "       6.13683546e-01, 8.19892811e-02, 4.66983029e-01, 7.91485193e-01,\n",
       "       3.17501738e-01, 9.47172663e-01, 3.45640446e-01, 5.28908091e-01,\n",
       "       1.00372793e-02, 5.89221074e-01, 6.76045714e-01, 6.18548732e-01,\n",
       "       1.13712535e-02, 8.27519026e-01, 2.81366088e-01, 7.81705483e-01,\n",
       "       8.79456537e-01, 5.49466879e-01, 1.90593593e-01, 8.48572300e-02,\n",
       "       6.37261597e-02, 9.70015920e-01, 1.15306971e-01, 4.71261120e-01,\n",
       "       1.45929401e-01, 6.35229319e-01, 1.16722635e-01, 2.34660093e-01,\n",
       "       9.93557030e-01, 6.03900962e-02, 3.64146592e-01, 4.84731771e-01,\n",
       "       8.79224954e-01, 4.00825067e-02, 9.03735583e-01, 5.09817140e-01,\n",
       "       3.16544031e-02, 2.99891525e-01, 4.80336830e-01, 6.90087128e-01,\n",
       "       5.64908533e-03, 4.10067700e-03, 4.37152776e-01, 1.00673001e-01,\n",
       "       4.32336984e-01, 6.55960815e-01, 3.29697999e-01, 7.49781511e-01,\n",
       "       8.07791771e-01, 2.79101817e-02, 8.01415326e-01, 5.49210260e-01,\n",
       "       3.04377088e-01, 6.48338989e-03, 6.94838269e-01, 5.36109440e-01,\n",
       "       4.32817755e-01, 1.15356769e-01, 4.62993737e-01, 2.60002069e-01,\n",
       "       7.35476790e-01, 4.18387445e-01, 6.64203421e-01, 2.91525018e-01,\n",
       "       8.52994785e-01, 3.77480843e-02, 8.91959044e-01, 4.17242174e-01,\n",
       "       6.74764779e-01, 7.70218210e-01, 6.40696178e-01, 8.66108913e-01,\n",
       "       7.47170947e-01, 7.83415597e-01, 6.47895037e-01, 8.18204900e-01,\n",
       "       8.79873292e-01, 3.70914191e-01, 7.73758950e-01, 7.59122987e-01,\n",
       "       8.59076081e-01, 2.06496043e-01, 6.38298826e-01, 2.56467871e-01,\n",
       "       7.22698566e-01, 1.80004530e-01, 6.79990664e-01, 6.07563891e-01,\n",
       "       8.71513450e-01, 2.97397353e-01, 5.17142512e-01, 9.29388638e-01,\n",
       "       6.52809000e-01, 5.94811943e-01, 7.13186784e-01, 7.83311430e-01,\n",
       "       6.63566173e-01, 3.44066535e-01, 2.30657441e-02, 3.18580175e-01,\n",
       "       7.22127352e-01, 6.10560033e-01, 3.28987774e-01, 1.21211073e-01,\n",
       "       6.46716767e-01, 4.11962383e-01, 9.50792444e-01, 4.89811919e-01,\n",
       "       5.22744397e-01, 8.57665008e-01, 4.38951554e-01, 2.51823652e-01,\n",
       "       3.44342392e-01, 7.68757082e-01, 1.56787420e-01, 9.76347162e-02,\n",
       "       6.81727046e-01, 7.67285325e-01, 9.83474784e-01, 7.75960082e-01,\n",
       "       1.45807957e-01, 9.41558347e-01, 5.81980538e-01, 3.05745384e-01,\n",
       "       5.30277200e-01, 5.94574967e-01, 4.15026996e-01, 1.36060682e-01,\n",
       "       9.02129475e-01, 4.94054655e-01, 5.93323967e-01, 9.27830400e-01,\n",
       "       2.84677952e-01, 9.89097790e-01, 1.56316742e-01, 8.94876888e-01,\n",
       "       3.89788702e-01, 6.78565011e-01, 5.38686870e-01, 4.98069896e-01,\n",
       "       7.34441812e-01, 1.27238277e-02, 2.61460552e-04, 3.68017551e-01,\n",
       "       4.15072651e-01, 2.43266200e-01, 9.21059118e-01, 2.42870642e-01,\n",
       "       3.38218180e-01, 6.23520998e-01, 1.99842502e-01, 8.79012069e-01,\n",
       "       5.22522614e-01, 8.71455933e-01, 1.63328025e-01, 7.98261613e-01,\n",
       "       2.41894697e-01, 8.58124519e-01, 7.52292160e-01, 5.71886819e-01,\n",
       "       5.87526051e-01, 7.14656008e-01, 2.12411346e-01, 3.52071080e-01,\n",
       "       1.04627398e-01, 4.15239692e-02, 4.36877469e-01, 7.36628171e-01,\n",
       "       4.22114752e-01, 3.51644977e-02, 4.14972168e-01, 5.43688489e-01,\n",
       "       5.23775353e-01, 3.70346947e-01, 1.58380428e-01, 3.28412491e-01,\n",
       "       4.15351281e-01, 4.54580360e-01, 9.52116920e-01, 4.12282199e-01,\n",
       "       6.82508801e-01, 5.11046270e-01, 3.82221905e-01, 4.35670230e-01,\n",
       "       5.53493027e-01, 2.78645710e-01, 4.06324951e-03, 2.01015105e-01,\n",
       "       7.29154970e-01, 4.71282322e-01, 2.11146372e-01, 4.15286968e-01,\n",
       "       1.46355461e-01, 1.29318667e-01, 1.03718128e-01, 3.64247695e-01,\n",
       "       7.70123117e-01, 1.20656940e-01, 4.36828311e-02, 8.85447167e-01,\n",
       "       1.76498168e-01, 4.75500752e-01, 9.01465131e-01, 2.36369507e-02,\n",
       "       7.53858147e-02, 4.51211896e-01, 9.19435842e-04, 8.22182495e-01,\n",
       "       9.21745973e-01, 2.43271815e-01, 6.97374445e-02, 7.51835736e-01,\n",
       "       7.70566110e-01, 1.02797215e-01, 6.63668804e-01, 6.36116569e-01,\n",
       "       4.62469815e-01, 5.25314479e-01, 3.41563322e-01, 8.68329939e-01,\n",
       "       2.52280931e-01, 3.19183463e-01, 4.26622543e-01, 3.21443297e-01,\n",
       "       2.20602326e-01, 2.46979959e-01, 8.16568747e-01, 5.44979395e-01,\n",
       "       2.34224238e-01, 3.98789219e-01, 1.84204628e-01, 5.34156443e-02,\n",
       "       3.04056765e-01, 2.20408427e-01, 8.72678636e-02, 4.23340879e-01,\n",
       "       2.67564410e-01, 2.16221337e-01, 6.44254534e-01, 4.02255155e-01,\n",
       "       6.96389377e-01, 5.67033900e-01, 4.29096432e-01, 7.31268135e-02,\n",
       "       4.80488048e-01, 2.87518678e-01, 4.91587771e-01, 6.85108008e-02,\n",
       "       3.92602142e-01, 1.42983433e-01, 8.50809755e-01, 2.76323727e-01,\n",
       "       2.03568071e-01, 4.07712640e-01, 5.27770772e-01, 4.74883883e-02,\n",
       "       7.67605096e-01, 2.67782009e-01, 7.91326246e-01, 5.00323701e-01,\n",
       "       3.02303822e-01, 9.13805826e-01, 7.70015014e-01, 1.04324371e-01,\n",
       "       2.31740106e-01, 6.14136543e-01, 2.47250278e-01, 3.88188933e-01,\n",
       "       7.21623396e-01, 3.92840511e-01, 7.20768062e-01, 6.76815310e-01,\n",
       "       3.99427515e-01, 9.00574273e-01, 6.65175527e-01, 8.22196357e-02,\n",
       "       3.07188391e-01, 1.00215891e-01, 8.91936785e-01, 9.45577774e-01,\n",
       "       9.32267274e-02, 8.43558691e-01, 5.84328612e-01, 4.98545336e-01,\n",
       "       4.16891368e-01, 9.44316445e-01, 3.12341690e-01, 4.47224640e-01,\n",
       "       8.65063492e-02, 7.47407723e-01, 5.86563414e-01, 9.19249614e-01,\n",
       "       3.02913277e-01, 3.84699208e-01, 4.08606357e-01, 5.97155644e-01,\n",
       "       2.65609144e-01, 6.01067387e-01, 1.17664718e-01, 8.44372411e-01,\n",
       "       3.23197945e-01, 4.22762978e-01, 2.73859241e-01, 4.14706591e-01,\n",
       "       8.24112826e-01, 3.93198222e-01, 6.78510531e-01, 9.18005552e-01,\n",
       "       9.04426421e-01, 9.41167757e-01, 4.70782123e-01, 2.43732848e-01,\n",
       "       7.16124960e-01, 9.71987331e-01, 9.31977098e-01, 5.38157671e-01,\n",
       "       9.83020929e-01, 6.49478363e-01, 6.00940999e-01, 8.33946085e-01,\n",
       "       3.59070170e-01, 4.33362542e-01, 5.47168926e-01, 9.22186936e-01,\n",
       "       6.89888843e-01, 2.09816239e-01, 1.92942116e-01, 3.57165649e-01,\n",
       "       3.36121004e-01, 8.28667232e-01, 9.43981483e-01, 1.95005866e-02,\n",
       "       5.25489906e-01, 4.51259882e-01, 1.80147267e-01, 6.77796396e-01,\n",
       "       6.81194803e-01, 9.54221613e-01, 1.81928429e-01, 4.66407189e-01,\n",
       "       3.64522728e-01, 7.25129377e-01, 2.51277345e-01, 7.66230038e-01,\n",
       "       6.68261321e-01, 8.01586078e-02, 3.01996248e-01, 3.23387526e-01,\n",
       "       4.66049664e-01, 3.41157923e-01, 3.63054622e-01, 2.19351469e-01,\n",
       "       5.77172938e-01, 2.50731008e-01, 5.14895269e-01, 1.55574972e-01,\n",
       "       9.80223908e-01, 9.82505068e-01, 9.68443089e-01, 5.18498837e-01,\n",
       "       8.89639869e-02, 3.02430716e-01, 3.11515279e-01, 2.16184913e-01,\n",
       "       3.42426382e-01, 5.91243568e-01, 7.67095577e-01, 4.43414679e-01,\n",
       "       7.13403357e-01, 8.86021131e-01, 1.65485499e-01, 7.06655143e-01,\n",
       "       1.07733048e-03, 6.92879453e-01, 3.44192775e-01, 8.36246958e-01,\n",
       "       9.59475028e-01, 8.38073813e-01, 3.78499884e-02, 4.54199561e-01,\n",
       "       9.61979498e-01, 5.30044198e-01, 2.18815665e-01, 9.66908844e-01,\n",
       "       1.73273366e-01, 8.17259917e-01, 7.46908484e-01, 5.54531926e-01,\n",
       "       1.05419108e-01, 8.49730162e-01, 3.59259774e-01, 9.49260908e-01,\n",
       "       8.26865671e-01, 9.25174749e-01, 3.87208622e-01, 3.97822208e-01,\n",
       "       5.53385419e-01, 1.84213660e-01, 9.91715988e-02, 4.89919301e-01,\n",
       "       9.61046599e-01, 2.10330521e-01, 8.29021495e-02, 2.79682797e-01,\n",
       "       7.20067855e-01, 1.29313444e-01, 5.24222642e-01, 4.50154205e-01,\n",
       "       5.78661126e-01, 6.76082158e-01, 1.19703428e-01, 9.41687730e-01,\n",
       "       8.09338490e-02, 1.96512591e-01, 6.53961380e-01, 1.62068344e-01,\n",
       "       5.75689026e-01, 1.73688754e-01, 8.16852395e-02, 3.46722542e-01,\n",
       "       2.48785581e-01, 7.88842137e-01, 3.80140105e-01, 8.11581567e-01,\n",
       "       7.60064682e-01, 3.95772532e-01, 3.46224089e-01, 3.22311528e-01,\n",
       "       3.17238966e-01, 5.53879859e-02, 5.78539013e-01, 4.08995183e-01,\n",
       "       6.04650881e-01, 1.02351029e-01, 4.12450485e-01, 6.75253503e-01,\n",
       "       1.66719014e-01, 9.40505347e-01, 6.85483810e-01, 1.31847749e-01,\n",
       "       8.53859517e-01, 7.85816035e-01, 5.07978314e-01, 4.04219645e-01,\n",
       "       5.40163456e-01, 5.93113929e-01, 7.90205796e-01, 7.80727774e-01,\n",
       "       3.89485389e-01, 9.48681560e-01, 3.81898759e-01, 1.19020029e-01,\n",
       "       1.61190986e-01, 3.97051027e-01, 4.79867825e-01, 7.72367078e-01,\n",
       "       7.73682458e-01, 7.42475751e-01, 7.80481156e-01, 6.39767167e-01,\n",
       "       3.06320182e-01, 6.97850549e-01, 1.01423674e-01, 7.58043311e-01,\n",
       "       9.02827471e-01, 3.35513536e-01, 4.14344495e-01, 4.19115441e-01,\n",
       "       7.62125778e-01, 3.11446314e-01, 1.83133808e-01, 1.64901296e-01,\n",
       "       6.54374128e-01, 4.41179906e-02, 6.36356774e-02, 1.67142331e-01,\n",
       "       2.29198335e-01, 6.02742279e-01, 1.56435242e-03, 3.70694057e-01,\n",
       "       4.00897046e-01, 9.53189165e-01, 3.56692885e-02, 6.25029079e-01,\n",
       "       6.37817898e-01, 3.14777428e-01, 7.01348402e-01, 1.01247144e-01,\n",
       "       9.12845981e-01, 1.45078140e-01, 8.24179775e-02, 8.15010618e-01,\n",
       "       6.21435689e-01, 2.13612604e-01, 1.03225066e-01, 7.12243006e-01,\n",
       "       2.11997648e-01, 1.90405349e-01, 2.44609490e-01, 4.57468262e-02,\n",
       "       6.44616299e-02, 4.42433978e-01, 2.40710586e-01, 3.69038717e-02,\n",
       "       8.72342552e-01, 1.38215270e-02, 4.57835341e-01, 6.68435042e-01,\n",
       "       3.85144059e-01, 4.31477269e-01, 1.22751871e-01, 1.22150013e-01,\n",
       "       8.84692333e-01, 3.83457063e-01, 3.01179201e-01, 3.19549781e-01,\n",
       "       8.23148703e-01, 3.42161398e-01, 9.52530416e-01, 7.95919490e-01,\n",
       "       6.36134609e-01, 2.59033375e-01, 1.74912693e-02, 9.38023853e-01,\n",
       "       3.79754137e-01, 4.62660778e-01, 2.17338050e-01, 4.83747427e-01,\n",
       "       1.04885841e-01, 2.36933247e-01, 1.58076746e-01, 8.04780974e-01,\n",
       "       1.03919769e-01, 4.75697283e-01, 7.35951343e-01, 4.33904649e-01,\n",
       "       2.03194193e-01, 8.25381693e-01, 7.42493633e-01, 8.15289893e-01,\n",
       "       4.08464456e-01, 1.35563414e-01, 6.86917935e-01, 3.74322789e-01,\n",
       "       6.97165790e-01, 1.88045284e-01, 5.55470545e-02, 2.32050087e-01,\n",
       "       1.55025584e-01, 4.18761892e-02, 6.16687341e-01, 6.02993374e-01,\n",
       "       9.32193912e-02, 1.03736245e-02, 4.58846565e-01, 7.81777030e-01,\n",
       "       4.50688235e-01, 8.29122202e-01, 4.67982502e-01, 7.77373314e-01,\n",
       "       7.70276749e-03, 5.95254170e-01, 3.95953186e-01, 4.06059018e-01,\n",
       "       7.48845823e-01, 4.90132142e-01, 5.44025383e-01, 5.12277946e-01,\n",
       "       1.56121572e-01, 2.14178665e-01, 4.82338683e-01, 7.67507344e-01,\n",
       "       1.25203550e-01, 9.75509955e-01, 6.58922421e-01, 5.05531414e-01,\n",
       "       5.63335119e-01, 5.90544532e-01, 3.75534266e-01, 1.28380771e-01,\n",
       "       1.01321677e-01, 1.05168465e-01, 1.07984976e-01, 1.02329572e-01,\n",
       "       2.70934785e-01, 5.35656898e-01, 2.65208954e-02, 7.42552453e-01,\n",
       "       8.87743014e-01, 4.06382371e-01, 5.07497778e-01, 1.15252018e-01,\n",
       "       6.32761937e-01, 9.47247044e-01, 6.43906352e-01, 4.45625215e-01,\n",
       "       9.53169894e-01, 4.43133700e-01, 9.90413727e-01, 7.55672125e-02,\n",
       "       4.46691550e-01, 6.26933478e-01, 4.77944489e-01, 6.97462054e-02,\n",
       "       2.34618641e-01, 8.75372675e-01, 3.98165227e-01, 9.71636741e-01,\n",
       "       1.77428462e-01, 8.91002050e-02, 8.60715448e-01, 9.15087985e-01,\n",
       "       1.31861730e-01, 7.31312876e-02, 3.39137592e-01, 7.11542785e-01,\n",
       "       5.13589551e-01, 9.06081585e-01, 3.53968122e-01, 6.63290743e-01,\n",
       "       3.36649585e-01, 4.81880002e-01, 3.29537786e-01, 7.14713012e-01,\n",
       "       9.88498061e-02, 4.85294668e-01, 6.24059754e-03, 6.89580281e-01,\n",
       "       8.58241511e-01, 4.71377276e-01, 4.61863888e-01, 4.16343922e-01,\n",
       "       3.01767763e-01, 9.09109562e-01, 1.93649872e-02, 3.45209056e-01,\n",
       "       7.32824475e-01, 3.77851470e-01, 6.62765887e-01, 3.40904294e-01])"
      ]
     },
     "execution_count": 29,
     "metadata": {},
     "output_type": "execute_result"
    }
   ],
   "source": [
    "n = 10\n",
    "p = 0.5\n",
    "#x = np.random.binomial(n,p,size=1000)\n",
    "x = np.random.uniform(0,1, size=1000)\n",
    "x"
   ]
  },
  {
   "cell_type": "markdown",
   "id": "b7c9e98f",
   "metadata": {},
   "source": [
    "Lets plot the empirical density"
   ]
  },
  {
   "cell_type": "code",
   "execution_count": 30,
   "id": "3b3bc590",
   "metadata": {},
   "outputs": [
    {
     "data": {
      "image/png": "[encoded data removed]",
      "text/plain": [
       "<Figure size 432x288 with 1 Axes>"
      ]
     },
     "metadata": {
      "needs_background": "light"
     },
     "output_type": "display_data"
    }
   ],
   "source": [
    "from Utils import makeEMF,makeEDF,plotEDF,plotEMF\n",
    "plotEMF(makeEMF(x))"
   ]
  },
  {
   "cell_type": "markdown",
   "id": "6b265cd9",
   "metadata": {},
   "source": [
    "If we had the function $g(x) = \\sin(x/3)$"
   ]
  },
  {
   "cell_type": "code",
   "execution_count": 31,
   "id": "d21cccaa",
   "metadata": {},
   "outputs": [
    {
     "data": {
      "image/png": "[encoded data removed]",
      "text/plain": [
       "<Figure size 432x288 with 1 Axes>"
      ]
     },
     "metadata": {
      "needs_background": "light"
     },
     "output_type": "display_data"
    }
   ],
   "source": [
    "plotEMF(makeEMF(np.power(x, 2)))"
   ]
  },
  {
   "cell_type": "code",
   "execution_count": 37,
   "id": "de9a229b",
   "metadata": {},
   "outputs": [
    {
     "name": "stdout",
     "output_type": "stream",
     "text": [
      "sub-gaussian mean\n",
      "mean: -0.00\tstd: 0.04\tskew: -2.93\tkurtosis: 35.00\n",
      "sub-exp mean\n",
      "mean: -0.00\tstd: 1.00\tskew: -0.86\tkurtosis: 14.86\n",
      "sub-gaus var\n",
      "mean: 0.25\tstd: 0.03\tskew: -2.19\tkurtosis: 22.26\n",
      "sub-exp var\n",
      "mean: 0.98\tstd: 0.19\tskew: 0.51\tkurtosis: 10.29\n",
      "sub-gaus 3 mom\n",
      "mean: -0.00\tstd: 0.04\tskew: -1.39\tkurtosis: 21.84\n",
      "sub-gaus 4 mom\n",
      "mean: -0.00\tstd: 0.04\tskew: -1.39\tkurtosis: 21.84\n",
      "burn 10 mom\n",
      "mean: 0.50\tstd: 0.04\tskew: 0.12\tkurtosis: 48.41\n"
     ]
    },
    {
     "data": {
      "text/plain": [
       "Text(0.5, 1.0, 'Correct Plot:\\nBut uses to many lines to unpack li')"
      ]
     },
     "execution_count": 37,
     "metadata": {},
     "output_type": "execute_result"
    },
    {
     "data": {
      "image/png": "[encoded data removed]",
      "text/plain": [
       "<Figure size 432x288 with 1 Axes>"
      ]
     },
     "metadata": {
      "needs_background": "light"
     },
     "output_type": "display_data"
    }
   ],
   "source": [
    "#plotEDF(makeEDF(np.power(x, 2)))\n",
    "\n",
    "mean_x1 = []\n",
    "mean_x1_10 = []\n",
    "mean_x2 = []\n",
    "mean_x3 = []\n",
    "x3_var = []\n",
    "x4_var = []\n",
    "mean_x3_3 = []\n",
    "mean_x3_4 = []\n",
    "mean_x4 = []\n",
    "num = []\n",
    "for n in range(1,1000):\n",
    "    num.append(n)\n",
    "    x1 = np.random.binomial(1,p=0.5,size=n)\n",
    "    x2 = np.random.uniform(0,1, size=n)\n",
    "    x3 = np.random.normal(scale=0.5, size=n)\n",
    "    x3_ = np.random.normal(scale=1, size=n)\n",
    "    x4 = np.random.exponential(size=n)\n",
    "    mean_x1_10.append(np.mean(np.power(x1, 10)))\n",
    "    mean_x1.append(np.mean(np.power(x1, 1)))\n",
    "    mean_x2.append(np.mean(x2))\n",
    "    mean_x3_3.append(np.mean(np.power(x3, 3)))\n",
    "    mean_x3_4.append(np.mean(np.power(x3, 4)))\n",
    "    x3_var.append(np.var(x3))\n",
    "    x4_var.append(np.var(x4))\n",
    "    mean_x3.append(np.mean(x3))\n",
    "    mean_x4.append(np.mean(x4))\n",
    "_=plt.hist(standardize(x3_),bins=50,alpha=0.5)    \n",
    "_=plt.hist(standardize(x3),bins=50,alpha=0.5)\n",
    "plt.xlim(-3,5)\n",
    "\n",
    "print('sub-gaussian mean')\n",
    "print_basic_stats(mean_x3)\n",
    "print('sub-exp mean')\n",
    "print_basic_stats(standardize(mean_x4))\n",
    "print('sub-gaus var')\n",
    "print_basic_stats(x3_var)\n",
    "print('sub-exp var')\n",
    "print_basic_stats(x4_var)\n",
    "print('sub-gaus 3 mom')\n",
    "print_basic_stats(mean_x3_3)\n",
    "print('sub-gaus 4 mom')\n",
    "print_basic_stats(mean_x3_4)\n",
    "print('burn 10 mom')\n",
    "print_basic_stats(mean_x1_10)\n",
    "#plt.plot(num, mean_x3_4, 'b')\n",
    "#plt.plot(num, mean_x3_3, 'r')\n",
    "#plt.plot(num, mean_x4, 'y')\n",
    "#plt.plot(num, mean_x3, 'g')\n",
    "\n",
    "#plt.plot(num, x4_var, 'g')\n",
    "#plt.plot(num, x3_var, 'orange')\n",
    "\n",
    "plt.plot(num, mean_x1_10, 'pink')\n",
    "\n",
    "plt.title('Correct Plot:\\nBut uses to many lines to unpack li')   \n",
    "    \n",
    "    "
   ]
  },
  {
   "cell_type": "markdown",
   "id": "7862e811",
   "metadata": {},
   "source": [
    "Can we compute this thing?\n",
    "What is $\\sin^{[-1]}$?\n",
    "\n",
    "Since $X$ is discrete, we can check what $\\mathbb{Y}$ is, since $\\mathbb{X}=\\{0,1,\\ldots,10\\}$."
   ]
  },
  {
   "cell_type": "code",
   "execution_count": 33,
   "id": "ae0bc83f",
   "metadata": {},
   "outputs": [],
   "source": [
    "Y_space = np.sort(np.sin(np.arange(0,11)))\n",
    "sin_inv = dict(zip(np.sin(np.arange(0,11)),np.arange(0,11)))"
   ]
  },
  {
   "cell_type": "code",
   "execution_count": 34,
   "id": "f414a813",
   "metadata": {},
   "outputs": [
    {
     "data": {
      "image/png": "[encoded data removed]",
      "text/plain": [
       "<Figure size 432x288 with 1 Axes>"
      ]
     },
     "metadata": {
      "needs_background": "light"
     },
     "output_type": "display_data"
    }
   ],
   "source": [
    "from scipy.special import binom as binomial\n",
    "plotEMF([(y,binomial(n,sin_inv[y])*(p**sin_inv[y])*((1-p)**(n-sin_inv[y]))) for y in Y_space])"
   ]
  },
  {
   "cell_type": "code",
   "execution_count": 35,
   "id": "3f143f9b",
   "metadata": {},
   "outputs": [
    {
     "ename": "NameError",
     "evalue": "name 'emfToEdf' is not defined",
     "output_type": "error",
     "traceback": [
      "\u001b[1;31m---------------------------------------------------------------------------\u001b[0m",
      "\u001b[1;31mNameError\u001b[0m                                 Traceback (most recent call last)",
      "Input \u001b[1;32mIn [35]\u001b[0m, in \u001b[0;36m<cell line: 1>\u001b[1;34m()\u001b[0m\n\u001b[1;32m----> 1\u001b[0m plotEDF(\u001b[43memfToEdf\u001b[49m([(y,binomial(n,sin_inv[y])\u001b[38;5;241m*\u001b[39m(p\u001b[38;5;241m*\u001b[39m\u001b[38;5;241m*\u001b[39msin_inv[y])\u001b[38;5;241m*\u001b[39m((\u001b[38;5;241m1\u001b[39m\u001b[38;5;241m-\u001b[39mp)\u001b[38;5;241m*\u001b[39m\u001b[38;5;241m*\u001b[39m(n\u001b[38;5;241m-\u001b[39msin_inv[y]))) \u001b[38;5;28;01mfor\u001b[39;00m y \u001b[38;5;129;01min\u001b[39;00m Y_space]))\n",
      "\u001b[1;31mNameError\u001b[0m: name 'emfToEdf' is not defined"
     ]
    }
   ],
   "source": [
    "plotEDF(emfToEdf([(y,binomial(n,sin_inv[y])*(p**sin_inv[y])*((1-p)**(n-sin_inv[y]))) for y in Y_space]))"
   ]
  },
  {
   "cell_type": "code",
   "execution_count": null,
   "id": "7fb3f8c3",
   "metadata": {},
   "outputs": [],
   "source": []
  }
 ],
 "metadata": {
  "kernelspec": {
   "display_name": "Python 3 (ipykernel)",
   "language": "python",
   "name": "python3"
  },
  "language_info": {
   "codemirror_mode": {
    "name": "ipython",
    "version": 3
   },
   "file_extension": ".py",
   "mimetype": "text/x-python",
   "name": "python",
   "nbconvert_exporter": "python",
   "pygments_lexer": "ipython3",
   "version": "3.9.12"
  },
  "lx_course_instance": "2022",
  "lx_course_name": "Introduction to Data Science",
  "lx_course_number": "1MS041"
 },
 "nbformat": 4,
 "nbformat_minor": 5
}
