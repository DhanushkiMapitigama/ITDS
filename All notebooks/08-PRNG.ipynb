{
 "cells": [
  {
   "cell_type": "markdown",
   "metadata": {
    "deletable": false
   },
   "source": [
    "# [Introduction to Data Science](http://datascience-intro.github.io/1MS041-2022/)    \n",
    "## 1MS041, 2022 \n",
    "&copy;2022 Raazesh Sainudiin, Benny Avelin. [Attribution 4.0 International     (CC BY 4.0)](https://creativecommons.org/licenses/by/4.0/)"
   ]
  },
  {
   "cell_type": "markdown",
   "metadata": {},
   "source": [
    "# Linear Congruential Generators, and Pseudo-Random Numbers"
   ]
  },
  {
   "cell_type": "markdown",
   "metadata": {},
   "source": [
    "## What's this all about?\n",
    "\n",
    "### Question: \n",
    "\n",
    "How can we produce realisations from Uniform$(0,1)$, the **fundamental random variable**?\n",
    "\n",
    "i.e., how can we produce samples $(x_1, x_2, \\ldots, x_n)$ from $X_1, X_2, \\ldots, X_n$ $\\overset{IID}{\\thicksim}$ Uniform$(0,1)$?\n",
    "\n",
    "What is python doing when we ask for `random()`?"
   ]
  },
  {
   "cell_type": "code",
   "execution_count": 1,
   "metadata": {
    "scrolled": true
   },
   "outputs": [
    {
     "data": {
      "text/plain": [
       "0.3990819186876845"
      ]
     },
     "execution_count": 1,
     "metadata": {},
     "output_type": "execute_result"
    }
   ],
   "source": [
    "from random import random as rnd\n",
    "rnd()"
   ]
  },
  {
   "cell_type": "markdown",
   "metadata": {},
   "source": [
    "### Answer:\n",
    "\n",
    "Modular arithmetic and number theory gives us pseudo-random number generators.\n",
    "\n",
    " \n",
    "\n",
    "### Question:\n",
    "\n",
    "What can we do with samples from a Uniform$(0,1)$ RV?  Why bother?\n",
    "\n",
    "### Answer:\n",
    "\n",
    "We can use them to sample or simulate from other, more complex, random variables.  These simulations can be used to understand real-world phenomenon such as:\n",
    "\n",
    "- modelling traffic queues on land, air or sea for supply chain management\n",
    "- estimate missing data in a statistical survey to better manage or administer\n",
    "- helping a hospital to manage critical care for pre-term babies\n",
    "- helping [NZ's Department of Conservation](https://www.doc.govt.nz/) to minimise the extinction probability of various marine organisms\n",
    "- helping the [Swedish Agency for Marine and Water Management](https://www.havochvatten.se/en/start.html) towards [sustainable consumption of its red-listed](https://en.wikipedia.org/wiki/Eel#Sustainable_consumption) [Eel](https://en.wikipedia.org/wiki/Brantevik_Eel) populations\n",
    "- help the Government find if certain fishing boats are illegally under-reporting their catches from its nation's waters\n",
    "- find cheaper air tickets for a vacation\n",
    "- make money in the stock market\n",
    "- etc., etc.\n",
    "- various physical systems can be modeled. See http://en.wikipedia.org/wiki/Monte_Carlo_method for a bigger picture.\n",
    "\n",
    "See how the modern history of *Monte Carlo Methods* starts in Los Alamos!"
   ]
  },
  {
   "cell_type": "code",
   "execution_count": 2,
   "metadata": {
    "scrolled": true
   },
   "outputs": [
    {
     "data": {
      "text/html": [
       "\n",
       "        <iframe\n",
       "            width=\"95%\"\n",
       "            height=\"600\"\n",
       "            src=\"https://en.wikipedia.org/wiki/Monte_Carlo_method\"\n",
       "            frameborder=\"0\"\n",
       "            allowfullscreen\n",
       "            \n",
       "        ></iframe>\n",
       "        "
      ],
      "text/plain": [
       "<IPython.lib.display.IFrame at 0x176fe63beb0>"
      ]
     },
     "execution_count": 2,
     "metadata": {},
     "output_type": "execute_result"
    }
   ],
   "source": [
    "def showURL(url, ht=500):\n",
    "    \"\"\"Return an IFrame of the url to show in notebook with height ht\"\"\"\n",
    "    from IPython.display import IFrame\n",
    "    return IFrame(url, width='95%', height=ht)\n",
    "showURL('https://en.wikipedia.org/wiki/Monte_Carlo_method',600)"
   ]
  },
  {
   "cell_type": "markdown",
   "metadata": {},
   "source": [
    "**Remark:** When **mathematical models become too complicated** to explain a complex phenomenon of interest (eg. traffic or supply-chain management, predictive maintenance of an expensive component in a national grid/system of power plant, etc.), you have little choice but to resort to **modular arithmetic based simulations with pseudo-random numbers**. \n",
    "\n",
    "[John von Neumann](https://en.wikipedia.org/wiki/John_von_Neumann) invented such a pseudo-random number generator called the [middle-square method](https://en.wikipedia.org/wiki/Middle-square_method#History) for solving complex problems in the [Manhattan Project](https://en.wikipedia.org/wiki/Manhattan_Project). \n",
    "\n",
    "![](https://upload.wikimedia.org/wikipedia/commons/thumb/5/5e/JohnvonNeumann-LosAlamos.gif/330px-JohnvonNeumann-LosAlamos.gif)\n",
    "![](https://upload.wikimedia.org/wikipedia/commons/thumb/8/8d/Trinity_shot_color.jpg/330px-Trinity_shot_color.jpg)\n",
    "\n",
    "Finally, statistical inference methods you are about to see can be combined with simulation to conduct **simulation-intensive statistical inference**! These are called Monte Carlo methods and the naming has an interesting folk-tale from Los Alamos."
   ]
  },
  {
   "cell_type": "markdown",
   "metadata": {},
   "source": [
    "## Linear Congruential Generators\n",
    "\n",
    "A linear congruential generator (LCG) is a simple *pseudo-random number generator (PRNG)* - a simple way of imitating samples or realizations from the Uniform$(0,1)$.  \n",
    "\n",
    "\"Pseudo-random\" means that the numbers are not really random [From Ancient Greek pseudo means “false, lying”)].\n",
    "\n",
    "We will look at what we mean by that as we find out about linear congruential generators. \n",
    "\n",
    "The theory behind LCGs is easy to understand, and they are easily implemented and fast.\n",
    "\n",
    "To make a LCG we need:\n",
    "\n",
    "- a modulus $m$ ($m > 0$)\n",
    "- an integer multiplier $a$ ($0 \\le a < m$)\n",
    "- an integer increment $c$ ($0 \\le c < m$)\n",
    "- an integer seed $x_0$ ($0 \\le x_0 < m$)\n",
    "- an integer sequence length $n$\n",
    "\n",
    "Using these inputs, the LCG generates numbers $x_1, x_2, \\ldots x_{n-1} $ where $x_{i+1}$ is calculated from $x_i$ as defined by the following recurrence relation:\n",
    "\n",
    "$$x_{i+1} \\gets mod \\left(a x_i + c , m \\right)$$\n",
    "\n",
    "In the above expression $\\gets$ denotes \"gets\" as in variable assignment.\n",
    "\n",
    "$x_0,x_1,\\ldots,x_{n-1}$ is the sequence of pseudo-random numbers called the linear congruential sequence.\n",
    "\n",
    "\n",
    "\n",
    "We can define a function parameterised by $(m,a,c,x_0,n)$ to give us a linear congruential sequence in the form of a list. \n",
    "\n",
    "(Remember about function parameters?  The function **parameters** here are `m`, `a`, `c`, `x0`, and `n`.  Note that the **return value** of the function is a list.  "
   ]
  },
  {
   "cell_type": "markdown",
   "metadata": {},
   "source": [
    "### Implementing the LCG\n",
    "\n",
    "Let's see how we can define a function for our LCG next.'"
   ]
  },
  {
   "cell_type": "code",
   "execution_count": 3,
   "metadata": {
    "scrolled": true
   },
   "outputs": [],
   "source": [
    "def linConGen(m, a, b, x0, n):\n",
    "    '''A linear congruential sequence generator.\n",
    "    \n",
    "    Param m is the integer modulus to use in the generator.\n",
    "    Param a is the integer multiplier.\n",
    "    Param b is the integer increment.\n",
    "    Param x0 is the integer seed.\n",
    "    Param n is the integer number of desired pseudo-random numbers.\n",
    "    \n",
    "    Returns a list of n pseudo-random integer modulo m numbers.'''\n",
    "    \n",
    "    x = x0 # the seed\n",
    "    retValue = [x % m]  # start the list with x=x0\n",
    "    for i in range(2, n+1, 1):\n",
    "        x = (a * x + b) % m # the generator, using modular arithmetic\n",
    "        retValue.append(x) # append the new x to the list\n",
    "    return retValue"
   ]
  },
  {
   "cell_type": "code",
   "execution_count": 4,
   "metadata": {},
   "outputs": [
    {
     "data": {
      "text/plain": [
       "[1, 4, 7, 0, 3]"
      ]
     },
     "execution_count": 4,
     "metadata": {},
     "output_type": "execute_result"
    }
   ],
   "source": [
    "linConGen(10,1,3,1,5)"
   ]
  },
  {
   "cell_type": "markdown",
   "metadata": {},
   "source": [
    "You know enough Python to understand what every line in the above function `linConGen` is doing!"
   ]
  },
  {
   "cell_type": "markdown",
   "metadata": {},
   "source": [
    "The function is merely implementing the pseudocode or algorithm of the linear congruential generator using a for-loop and modular arithmetic:  note that the generator produces integers modulo $m$.\n",
    "\n",
    "### Linear Congruential Generators:  the Good, the Bad, and the Ugly\n",
    "\n",
    "Are all linear congruential generators as good as each other?  What makes a good LCG?\n",
    "\n",
    "One desirable property of a LCG is to have the longest possible period.   \n",
    "\n",
    "The **period** is the length of sequence we can get before we get a repeat.  The longest possible period a LCG can have is $m$.  Lets look at an example.  "
   ]
  },
  {
   "cell_type": "code",
   "execution_count": 5,
   "metadata": {
    "scrolled": true
   },
   "outputs": [
    {
     "data": {
      "text/plain": [
       "[1, 9, 8, 6, 2, 11, 12, 14, 1, 9, 8, 6, 2, 11, 12, 14, 1, 9]"
      ]
     },
     "execution_count": 5,
     "metadata": {},
     "output_type": "execute_result"
    }
   ],
   "source": [
    "# first assign values to some variables to pass as arguments to the function\n",
    "m  = 17  # set modulus to 17\n",
    "a  = 2   # set multiplier to 2\n",
    "b  = 7   # set increment to 7\n",
    "x0 = 1   # set seed to 1\n",
    "n  = 18  # set length of sequence to 18 = 1 + maximal period \n",
    "L1 = linConGen(m, a, b, x0, n) # use our linConGren function to make the sequence\n",
    "L1                    # this sequence repeats itself with period 8"
   ]
  },
  {
   "cell_type": "markdown",
   "metadata": {},
   "source": [
    "You should be able to see the repeating pattern `1, 9, 8, 6, 2, 11, 12, 14`.  If you can't you can see that the sequence actually contains 8 unique numbers by making a set out of it:"
   ]
  },
  {
   "cell_type": "code",
   "execution_count": 6,
   "metadata": {
    "scrolled": true
   },
   "outputs": [
    {
     "data": {
      "text/plain": [
       "{1, 2, 6, 8, 9, 11, 12, 14}"
      ]
     },
     "execution_count": 6,
     "metadata": {},
     "output_type": "execute_result"
    }
   ],
   "source": [
    "set(L1)"
   ]
  },
  {
   "cell_type": "markdown",
   "metadata": {},
   "source": [
    "Changing the seed $x_0$ will, at best, make the sequence repeat itself over other numbers but with the same period:"
   ]
  },
  {
   "cell_type": "code",
   "execution_count": 7,
   "metadata": {
    "scrolled": true
   },
   "outputs": [
    {
     "data": {
      "text/plain": [
       "[3, 13, 16, 5, 0, 7, 4, 15, 3, 13, 16, 5, 0, 7, 4, 15, 3, 13]"
      ]
     },
     "execution_count": 7,
     "metadata": {},
     "output_type": "execute_result"
    }
   ],
   "source": [
    "x0 = 3             # leave m, a, c as it is but just change the seed from 1 to 3 here\n",
    "L2 = linConGen(m, a, b, x0, n)\n",
    "L2                 # changing the seed makes this sequence repeat itself over other numbers but also with period 8"
   ]
  },
  {
   "cell_type": "code",
   "execution_count": 8,
   "metadata": {
    "scrolled": true
   },
   "outputs": [
    {
     "data": {
      "text/plain": [
       "{0, 3, 4, 5, 7, 13, 15, 16}"
      ]
     },
     "execution_count": 8,
     "metadata": {},
     "output_type": "execute_result"
    }
   ],
   "source": [
    "set(L2)"
   ]
  },
  {
   "cell_type": "markdown",
   "metadata": {},
   "source": [
    "At worst, a different `seed` specified by `x0` might make the sequence get stuck immediately:"
   ]
  },
  {
   "cell_type": "code",
   "execution_count": 9,
   "metadata": {
    "scrolled": true
   },
   "outputs": [
    {
     "data": {
      "text/plain": [
       "[10, 10, 10, 10, 10, 10, 10, 10, 10, 10, 10, 10, 10, 10, 10, 10, 10, 10]"
      ]
     },
     "execution_count": 9,
     "metadata": {},
     "output_type": "execute_result"
    }
   ],
   "source": [
    "x0 = 10            # leave m, a, c as it is but just change the seed to 10\n",
    "L3 = linConGen(m, a, b, x0, n)\n",
    "L3"
   ]
  },
  {
   "cell_type": "code",
   "execution_count": 10,
   "metadata": {
    "scrolled": true
   },
   "outputs": [
    {
     "data": {
      "text/plain": [
       "{10}"
      ]
     },
     "execution_count": 10,
     "metadata": {},
     "output_type": "execute_result"
    }
   ],
   "source": [
    "set(L3)"
   ]
  },
  {
   "cell_type": "markdown",
   "metadata": {},
   "source": [
    "An LCG is just a discrete determinstic dynamical system and each seed acts as the initial condition with different behaviours. The behaviour above can be seen as a *fixed point* at 10 for this LCG initialized at 10."
   ]
  },
  {
   "cell_type": "code",
   "execution_count": 11,
   "metadata": {
    "scrolled": true
   },
   "outputs": [
    {
     "data": {
      "text/plain": [
       "{0, 1, 2, 3, 4, 5, 6, 7, 8, 9, 10, 11, 12, 13, 14, 15, 16}"
      ]
     },
     "execution_count": 11,
     "metadata": {},
     "output_type": "execute_result"
    }
   ],
   "source": [
    "set(L3).union(set(L2)).union(set(L1))"
   ]
  },
  {
   "cell_type": "markdown",
   "metadata": {},
   "source": [
    "Thus, the three sequences with different initial conditions or seeds cover all the points in our **Ring of integers modulo 17**."
   ]
  },
  {
   "cell_type": "markdown",
   "metadata": {},
   "source": [
    "What about changing the multiplier $a$?"
   ]
  },
  {
   "cell_type": "code",
   "execution_count": 12,
   "metadata": {
    "scrolled": true
   },
   "outputs": [
    {
     "data": {
      "text/plain": [
       "[1, 10, 3, 16, 4, 2, 13, 12, 9, 0, 7, 11, 6, 8, 14, 15, 1, 10]"
      ]
     },
     "execution_count": 12,
     "metadata": {},
     "output_type": "execute_result"
    }
   ],
   "source": [
    "m  = 17 # same as before\n",
    "a  = 3  # change the multiplier from 2 to 3 here\n",
    "b  = 7  # same as before\n",
    "x0 = 1  # set seed at 1 \n",
    "n  = 18 # set length of sequence to 18 = 1 + maximal period\n",
    "L4 = linConGen(m, a, b, x0, n)\n",
    "L4"
   ]
  },
  {
   "cell_type": "code",
   "execution_count": 13,
   "metadata": {
    "scrolled": true
   },
   "outputs": [
    {
     "data": {
      "text/plain": [
       "{0, 1, 2, 3, 4, 6, 7, 8, 9, 10, 11, 12, 13, 14, 15, 16}"
      ]
     },
     "execution_count": 13,
     "metadata": {},
     "output_type": "execute_result"
    }
   ],
   "source": [
    "set(L4)"
   ]
  },
  {
   "cell_type": "code",
   "execution_count": 14,
   "metadata": {
    "scrolled": true
   },
   "outputs": [
    {
     "data": {
      "text/plain": [
       "[5, 5, 5, 5, 5, 5, 5, 5, 5, 5, 5, 5, 5, 5, 5, 5, 5, 5]"
      ]
     },
     "execution_count": 14,
     "metadata": {},
     "output_type": "execute_result"
    }
   ],
   "source": [
    "x0 = 5  # just change the seed to 5\n",
    "linConGen(m, a, b, x0, n)"
   ]
  },
  {
   "cell_type": "markdown",
   "metadata": {},
   "source": [
    "We want an LCG with a **full period** of $m$ so that we can use it with any seed and not get stuck at fixed points or short periodic sequences. This is a minimal requirement for simulation purposes that we will employ such sequences for.  Is there anyway to know what makes a LCG with a full period?  \n",
    "\n",
    "It turns out that an LCG will have a full period if and only if:\n",
    "\n",
    "- $b$ and $m$ are relatively prime or coprime.  i.e. the **greatest common divisor (gcd)** of $b$ and $m$ is $1$; and\n",
    "- $a-1$ is divisible by all **prime factors** of $m$; and\n",
    "- $a-1$ is a multiple of 4 if $m$ is a multiple of 4.\n",
    "\n",
    "(Different conditions apply when $c=0$.  The Proposition and Proof for this are in Knuth, The Art of Computer Programming, vol. 2, section 3.3).\n",
    "\n",
    "Python has a function `gcd` which can calculate the greatest common divisor of two numbers:"
   ]
  },
  {
   "cell_type": "code",
   "execution_count": 15,
   "metadata": {},
   "outputs": [],
   "source": [
    "m = 34359738368"
   ]
  },
  {
   "cell_type": "code",
   "execution_count": 16,
   "metadata": {},
   "outputs": [
    {
     "data": {
      "text/plain": [
       "1"
      ]
     },
     "execution_count": 16,
     "metadata": {},
     "output_type": "execute_result"
    }
   ],
   "source": [
    "from math import gcd\n",
    "\n",
    "gcd(m,65568931)"
   ]
  },
  {
   "cell_type": "code",
   "execution_count": 17,
   "metadata": {},
   "outputs": [
    {
     "data": {
      "text/plain": [
       "[2]"
      ]
     },
     "execution_count": 17,
     "metadata": {},
     "output_type": "execute_result"
    }
   ],
   "source": [
    "from sympy.ntheory import primefactors as prime_factors\n",
    "prime_factors(m)"
   ]
  },
  {
   "cell_type": "code",
   "execution_count": 18,
   "metadata": {
    "scrolled": true
   },
   "outputs": [
    {
     "data": {
      "text/plain": [
       "2356001"
      ]
     },
     "execution_count": 18,
     "metadata": {},
     "output_type": "execute_result"
    }
   ],
   "source": [
    "k=589000\n",
    "a = k*4+1\n",
    "a"
   ]
  },
  {
   "cell_type": "code",
   "execution_count": 19,
   "metadata": {},
   "outputs": [
    {
     "data": {
      "text/plain": [
       "[2, 5, 19, 31]"
      ]
     },
     "execution_count": 19,
     "metadata": {},
     "output_type": "execute_result"
    }
   ],
   "source": [
    "prime_factors(a-1)"
   ]
  },
  {
   "cell_type": "code",
   "execution_count": 20,
   "metadata": {
    "scrolled": true
   },
   "outputs": [
    {
     "data": {
      "text/plain": [
       "0"
      ]
     },
     "execution_count": 20,
     "metadata": {},
     "output_type": "execute_result"
    }
   ],
   "source": [
    "(a-1) % 4"
   ]
  },
  {
   "cell_type": "code",
   "execution_count": 21,
   "metadata": {},
   "outputs": [
    {
     "data": {
      "text/plain": [
       "257"
      ]
     },
     "execution_count": 21,
     "metadata": {},
     "output_type": "execute_result"
    }
   ],
   "source": [
    "ourLCG = linConGen(m,a,b,1,256+1)\n",
    "len(set(ourLCG))"
   ]
  },
  {
   "cell_type": "markdown",
   "metadata": {},
   "source": [
    "Python can also help us to calculate **prime factors** with the `prime_factors` function:"
   ]
  },
  {
   "cell_type": "code",
   "execution_count": 22,
   "metadata": {},
   "outputs": [],
   "source": [
    "from sympy.ntheory import primefactors as prime_factors"
   ]
  },
  {
   "cell_type": "code",
   "execution_count": 23,
   "metadata": {
    "scrolled": true
   },
   "outputs": [
    {
     "data": {
      "text/plain": [
       "[2]"
      ]
     },
     "execution_count": 23,
     "metadata": {},
     "output_type": "execute_result"
    }
   ],
   "source": [
    "prime_factors(m)"
   ]
  },
  {
   "cell_type": "code",
   "execution_count": 24,
   "metadata": {
    "scrolled": true
   },
   "outputs": [
    {
     "data": {
      "text/plain": [
       "[2, 25504980841, 149674443424853]"
      ]
     },
     "execution_count": 24,
     "metadata": {},
     "output_type": "execute_result"
    }
   ],
   "source": [
    "prime_factors(7634887623876428376482746)"
   ]
  },
  {
   "cell_type": "markdown",
   "metadata": {},
   "source": [
    "$(m, a, c, x0, n) = (256, 137, 123, 13, 256)$ gives a linear congruential sequence with the longest possible period of 256.  Let us see how these parameters satisfy the above three requirements while those earlier with $m=17$, $a=2$, and $c=7$ do not."
   ]
  },
  {
   "cell_type": "code",
   "execution_count": 25,
   "metadata": {
    "scrolled": true
   },
   "outputs": [],
   "source": [
    "(m,a,c,x0,n)=(256, 137, 123, 13, 256) # faster way to assign a bunch of parameters"
   ]
  },
  {
   "cell_type": "code",
   "execution_count": 26,
   "metadata": {
    "scrolled": true
   },
   "outputs": [
    {
     "data": {
      "text/plain": [
       "1"
      ]
     },
     "execution_count": 26,
     "metadata": {},
     "output_type": "execute_result"
    }
   ],
   "source": [
    "gcd(29451, 65536)         # checking if the greatest common divisor of c and m is indeed 1"
   ]
  },
  {
   "cell_type": "code",
   "execution_count": 27,
   "metadata": {
    "scrolled": true
   },
   "outputs": [
    {
     "data": {
      "text/plain": [
       "[2]"
      ]
     },
     "execution_count": 27,
     "metadata": {},
     "output_type": "execute_result"
    }
   ],
   "source": [
    "prime_factors(m)   # it is easy to get a list of all the prime factors of m"
   ]
  },
  {
   "cell_type": "code",
   "execution_count": 28,
   "metadata": {
    "scrolled": true
   },
   "outputs": [
    {
     "data": {
      "text/plain": [
       "0"
      ]
     },
     "execution_count": 28,
     "metadata": {},
     "output_type": "execute_result"
    }
   ],
   "source": [
    "(a-1) % 2             # checking if a-1=136 is divisible by 2, the only prime factors of m"
   ]
  },
  {
   "cell_type": "code",
   "execution_count": 29,
   "metadata": {
    "scrolled": true
   },
   "outputs": [
    {
     "data": {
      "text/plain": [
       "[0]"
      ]
     },
     "execution_count": 29,
     "metadata": {},
     "output_type": "execute_result"
    }
   ],
   "source": [
    "[ (a-1)%x for x in prime_factors(m) ]  \n",
    "# a list comprehension check for an m with more prime factors"
   ]
  },
  {
   "cell_type": "code",
   "execution_count": 30,
   "metadata": {
    "scrolled": true
   },
   "outputs": [
    {
     "data": {
      "text/plain": [
       "0"
      ]
     },
     "execution_count": 30,
     "metadata": {},
     "output_type": "execute_result"
    }
   ],
   "source": [
    "m % 4         # m is a multiple of 4 check"
   ]
  },
  {
   "cell_type": "code",
   "execution_count": 31,
   "metadata": {
    "scrolled": true
   },
   "outputs": [
    {
     "data": {
      "text/plain": [
       "0"
      ]
     },
     "execution_count": 31,
     "metadata": {},
     "output_type": "execute_result"
    }
   ],
   "source": [
    "(a-1) % 4       # if m is a multiple of 4 then a-1 is also a multiple of 4"
   ]
  },
  {
   "cell_type": "code",
   "execution_count": 32,
   "metadata": {
    "scrolled": true
   },
   "outputs": [
    {
     "data": {
      "text/plain": [
       "(256, 137, 123, 13, 256)"
      ]
     },
     "execution_count": 32,
     "metadata": {},
     "output_type": "execute_result"
    }
   ],
   "source": [
    "(m, a, c, x0, n)  # therefore these parameter values satisfy all conditions to have maximum period length m"
   ]
  },
  {
   "cell_type": "markdown",
   "metadata": {},
   "source": [
    "Thus, the parameters $(m,  a,  c,  x_0,  n) = (256, 137, 123, 13, 256)$  do indeed satisfy the three conditions to guarantee the longest possible period of 256.  \n",
    "\n",
    "In contrast, for the LCG example earlier with $m=17$, $a=2$, and $c=7$, although $m$ and $c$ are relatively prime, i.e., $gcd(m,c)=1$, we have the violation that $a-1=2-1=1$ is not divisible by the only prime factor $17$ of $m=17$.  Thus, we cannot get a period of maximal length $17$ in that example."
   ]
  },
  {
   "cell_type": "code",
   "execution_count": 33,
   "metadata": {
    "scrolled": true
   },
   "outputs": [
    {
     "data": {
      "text/plain": [
       "[1]"
      ]
     },
     "execution_count": 33,
     "metadata": {},
     "output_type": "execute_result"
    }
   ],
   "source": [
    "[ (2-1)%x for x in prime_factors(17) ]"
   ]
  },
  {
   "cell_type": "markdown",
   "metadata": {},
   "source": [
    "Let us see if the parameters $(m, a, c, x_0, n) = (256, 137, 123, 13, 256)$  that satisfy the three conditions to guarantee the longest possible period of 256 do indeed produce such a sequence:"
   ]
  },
  {
   "cell_type": "code",
   "execution_count": 34,
   "metadata": {
    "scrolled": true
   },
   "outputs": [
    {
     "name": "stdout",
     "output_type": "stream",
     "text": [
      "[13, 3718, 52663, 54240, 9537, 50202, 49323, 51508, 14837, 44334, 2847, 6664, 36393, 39362, 64787, 38492, 29149, 22998, 59015, 3632, 13585, 48490, 6011, 20868, 10181, 38014, 57327, 12376, 39417, 44818, 36835, 31404, 56237, 56614, 30551, 128, 15585, 61114, 58955, 37332, 3477, 46030, 11455, 65192, 40393, 64610, 39603, 5884, 15741, 39030, 32807, 43728, 15537, 22538, 11547, 35364, 60261, 2846, 61839, 34040, 39321, 33202, 7555, 27468, 38733, 35782, 247, 3360, 13441, 63834, 60395, 14964, 49461, 39534, 11871, 49992, 36201, 16130, 6227, 30620, 59677, 46870, 63943, 10096, 9297, 53930, 8891, 41668, 36613, 25022, 58159, 47512, 31033, 13394, 35619, 15340, 13037, 6758, 27287, 63936, 3105, 58362, 53643, 49940, 21717, 24846, 4095, 26600, 23817, 24994, 30195, 47164, 29885, 46518, 21351, 33808, 60401, 11594, 63579, 39780, 4773, 39006, 46287, 52792, 14553, 50930, 55491, 60556, 44685, 35078, 46135, 50784, 50113, 44698, 38699, 11188, 51317, 1966, 53663, 60552, 3241, 25666, 45971, 55516, 57437, 37974, 36103, 49328, 37777, 26602, 44539, 29700, 30277, 44798, 26223, 49880, 55417, 14738, 1635, 32044, 2605, 55206, 56791, 29440, 23393, 22842, 15563, 29780, 7189, 36430, 29503, 20776, 40009, 18146, 53555, 55676, 11261, 21238, 42663, 56656, 6961, 33418, 17307, 11428, 47589, 42398, 63503, 38776, 22553, 35890, 5123, 60876, 17869, 1606, 59255, 65440, 54017, 58330, 49771, 40180, 20405, 62702, 62687, 38344, 3049, 2434, 52947, 47644, 22429, 61846, 41031, 55792, 33489, 32042, 47419, 50500, 56709, 31806, 27055, 19480, 47033, 48850, 419, 15980, 24941, 5350, 53527, 27712, 10913, 20090, 10251, 42388, 25429, 15246, 22143, 47720, 23433, 44066, 44147, 31420, 25405, 28726, 31207, 46736, 51825, 22474, 3803, 15844, 57637, 13022, 47951, 57528, 63321, 53618, 53059, 28428]\n"
     ]
    }
   ],
   "source": [
    "(m,a,b,x0,n)=(65536, 10361, 97, 13, 256) # faster way to assign a bunch of parameters\n",
    "ourLcg = linConGen(m,a,b,x0,n)\n",
    "print(ourLcg)"
   ]
  },
  {
   "cell_type": "code",
   "execution_count": 35,
   "metadata": {
    "scrolled": true
   },
   "outputs": [
    {
     "name": "stdout",
     "output_type": "stream",
     "text": [
      "256\n"
     ]
    }
   ],
   "source": [
    "S = set(ourLcg)  # sort it in a set to see if it indeed has maximal period of 256\n",
    "print(len(S))"
   ]
  },
  {
   "cell_type": "code",
   "execution_count": 36,
   "metadata": {},
   "outputs": [],
   "source": [
    "sample = linConGen(m,a,b,x0,256*10)"
   ]
  },
  {
   "cell_type": "markdown",
   "metadata": {},
   "source": [
    "This looks pretty good, it seems to verify that it is indeed a pseudorandom sequence. Lets try to take this modulo $K$, where $M$ is divisible by $K$. For us, $M = 256$ so we can take for instance $K = 8$. Lets see what happens"
   ]
  },
  {
   "cell_type": "code",
   "execution_count": 37,
   "metadata": {},
   "outputs": [],
   "source": [
    "from math import floor"
   ]
  },
  {
   "cell_type": "code",
   "execution_count": 38,
   "metadata": {},
   "outputs": [],
   "source": [
    "sample_8 = [floor((s / (256))*8) for s in sample]"
   ]
  },
  {
   "cell_type": "markdown",
   "metadata": {},
   "source": [
    "It still retains the pseudo-randomness, but what is the period of the sequence `sample_8`?"
   ]
  },
  {
   "cell_type": "code",
   "execution_count": 39,
   "metadata": {},
   "outputs": [],
   "source": [
    "for period in range(2,300):\n",
    "    found = True\n",
    "    for i in range(period):\n",
    "        if (sample_8[i] != sample_8[i+period]):\n",
    "            found = False\n",
    "            break\n",
    "    if found == True:\n",
    "        print(period)\n",
    "        break"
   ]
  },
  {
   "cell_type": "code",
   "execution_count": 40,
   "metadata": {},
   "outputs": [
    {
     "name": "stdout",
     "output_type": "stream",
     "text": [
      "[0, 116, 1645, 1695, 298, 1568, 1541, 1609, 463, 1385, 88, 208, 1137, 1230, 2024, 1202, 910, 718, 1844, 113, 424, 1515, 187, 652, 318, 1187, 1791, 386, 1231, 1400, 1151, 981, 1757, 1769, 954, 4, 487, 1909, 1842, 1166, 108, 1438, 357, 2037, 1262, 2019, 1237, 183, 491, 1219, 1025, 1366, 485, 704, 360, 1105, 1883, 88, 1932, 1063, 1228, 1037, 236, 858, 1210, 1118, 7, 105, 420, 1994, 1887, 467, 1545, 1235, 370, 1562, 1131, 504, 194, 956, 1864, 1464, 1998, 315, 290, 1685, 277, 1302, 1144, 781, 1817, 1484, 969, 418, 1113, 479, 407, 211, 852, 1998, 97, 1823, 1676, 1560, 678, 776, 127, 831, 744, 781, 943, 1473, 933, 1453, 667, 1056, 1887, 362, 1986, 1243, 149, 1218, 1446, 1649, 454, 1591, 1734, 1892, 1396, 1096, 1441, 1587, 1566, 1396, 1209, 349, 1603, 61, 1676, 1892, 101, 802, 1436, 1734, 1794, 1186, 1128, 1541, 1180, 831, 1391, 928, 946, 1399, 819, 1558, 1731, 460, 51, 1001, 81, 1725, 1774, 920, 731, 713, 486, 930, 224, 1138, 921, 649, 1250, 567, 1673, 1739, 351, 663, 1333, 1770, 217, 1044, 540, 357, 1487, 1324, 1984, 1211, 704, 1121, 160, 1902, 558, 50, 1851, 2045, 1688, 1822, 1555, 1255, 637, 1959, 1958, 1198, 95, 76, 1654, 1488, 700, 1932, 1282, 1743, 1046, 1001, 1481, 1578, 1772, 993, 845, 608, 1469, 1526, 13, 499, 779, 167, 1672, 866, 341, 627, 320, 1324, 794, 476, 691, 1491, 732, 1377, 1379, 981, 793, 897, 975, 1460, 1619, 702, 118, 495, 1801, 406, 1498, 1797, 1978, 1675, 1658, 888, 744, 28, 1237, 1479, 786, 1224, 877, 1137, 695, 785, 1216, 1528, 1113, 374, 848, 218, 630, 1654, 412, 921, 1936, 147, 547, 1204, 1574, 1611, 1895, 682, 183, 1568, 999, 1021, 453, 1681, 546, 1836, 975, 1565, 1178, 694, 340, 838, 1485, 1309, 1238, 1163, 61, 1247, 211, 107, 1641, 126, 1997, 1384, 720, 1657, 1091, 512, 2036, 1359, 180, 1205, 84, 898, 1954, 1030, 1647, 1937, 908, 1650, 1223, 2043, 1777, 635, 1498, 834, 1107, 1696, 1066, 2020, 1584, 352, 566, 1123, 1802, 317, 637, 1854, 352, 1205, 1921, 1780, 1969, 586, 961, 519, 1151, 123, 444, 1782, 585, 1479, 1012, 1088, 910, 176, 1255, 103, 720, 1973, 1815, 489, 653, 341, 1283, 1864, 1351, 1042, 298, 1795, 1405, 1642, 1550, 1945, 1454, 1759, 1582, 1932, 92, 1008, 1033, 1371, 6, 1052, 545, 1925, 1835, 1509, 756, 1164, 77, 1994, 260, 750, 1514, 74, 1744, 301, 644, 1511, 1751, 1480, 154, 1823, 923, 1854, 683, 628, 1947, 1041, 825, 1637, 1366, 704, 1219, 369, 1870, 458, 456, 538, 1, 1969, 1226, 1759, 497, 755, 71, 1599, 1949, 530, 1729, 1724, 900, 909, 695, 1748, 40, 1507, 1704, 1289, 8, 1942, 1302, 2010, 1443, 1829, 128, 1478, 891, 783, 869, 1359, 1038, 470, 71, 1268, 478, 504, 420, 820, 1898, 503, 510, 1681, 1841, 82, 980, 1417, 949, 904, 421, 1694, 1909, 539, 1523, 79, 1264, 650, 829, 283, 1704, 852, 1026, 1924, 1819, 763, 708, 521, 203, 2045, 513, 1833, 1591, 220, 1083, 1382, 478, 1047, 1009, 830, 1602, 45, 930, 1843, 1506, 928, 1488, 1988, 829, 1263, 1274, 880, 213, 665, 927, 185, 296, 800, 1089, 1566, 1720, 1282, 350, 542, 1028, 1729, 1400, 827, 907, 1756, 782, 2035, 1999, 978, 1183, 1736, 847, 1061, 1197, 1593, 138, 1620, 1463, 1221, 514, 222, 572, 238, 565, 581, 1214, 307, 933, 263, 1979, 1043, 209, 934, 1461, 16, 1080, 161, 299, 936, 92, 1655, 1180, 1373, 1980, 938, 650, 942, 1239, 1721, 1396, 1306, 559, 1571, 2009, 35, 578, 106, 1083, 840, 1938, 1036, 1304, 1288, 1182, 1931, 1266, 997, 997, 358, 1608, 1629, 2025, 28, 921, 754, 809, 559, 1895, 35, 36, 1566, 1073, 1135, 348, 616, 1142, 1624, 335, 1423, 696, 1117, 639, 1553, 373, 1277, 1899, 624, 815, 1722, 658, 299, 613, 18, 1654, 193, 406, 1927, 1430, 1972, 836, 920, 625, 1155, 494, 708, 1929, 1453, 19, 909, 1884, 436, 53, 1138, 1132, 1814, 1234, 1010, 312, 1109, 108, 143, 63, 2032, 1410, 199, 1027, 102, 1683, 796, 1795, 1081, 1569, 1549, 958, 488, 1707, 25, 1206, 2034, 688, 1986, 1129, 1241, 1202, 903, 1369, 1819, 1839, 487, 517, 1338, 1193, 356, 1260, 1461, 1951, 124, 144, 1803, 656, 1457, 1904, 1982, 2046, 1922, 1035, 1613, 616, 1134, 227, 311, 1101, 759, 118, 1790, 47, 412, 1350, 1568, 140, 1756, 466, 1311, 2022, 313, 153, 634, 188, 1841, 1053, 1200, 1421, 1862, 1757, 579, 219, 2039, 856, 434, 1317, 1987, 1040, 380, 1258, 1324, 899, 35, 684, 1713, 1075, 1061, 233, 721, 159, 1028, 547, 14, 838, 1599, 217, 1254, 1706, 341, 1930, 2011, 1354, 968, 184, 1900, 421, 1047, 1762, 536, 1597, 193, 1159, 1633, 1424, 72, 1065, 710, 544, 298, 70, 1478, 1644, 489, 864, 1507, 1267, 260, 2038, 411, 55, 1274, 135, 1904, 695, 1101, 1941, 1505, 1778, 1404, 1951, 877, 1898, 1798, 804, 1686, 1693, 1901, 1190, 1499, 1805, 1327, 1699, 1979, 825, 1742, 925, 696, 1440, 713, 1555, 1360, 196, 1951, 132, 1541, 1828, 978, 1394, 854, 831, 1505, 1884, 962, 1943, 1099, 193, 1483, 1706, 1426, 1059, 2032, 762, 52, 1024, 176, 1798, 691, 730, 1677, 1357, 910, 816, 5, 81, 324, 1921, 922, 657, 599, 591, 1995, 1676, 1350, 1561, 791, 1732, 144, 1374, 1024, 1463, 695, 672, 261, 1511, 569, 93, 165, 467, 1432, 279, 354, 1018, 851, 1869, 442, 1758, 489, 1406, 47, 1278, 2012, 1580, 832, 217, 939, 982, 364, 1265, 981, 251, 309, 964, 1756, 29, 282, 2004, 830, 954, 1946, 928, 1917, 1620, 823, 423, 536, 618, 623, 1131, 398, 635, 964, 1643, 1121, 265, 1461, 550, 272, 147, 1729, 542, 1562, 920, 1386, 209, 513, 1178, 47, 193, 835, 1559, 1423, 1133, 98, 657, 1036, 1620, 2013, 1159, 548, 248, 51, 1656, 1625, 1752, 2022, 742, 1834, 627, 1397, 1104, 790, 1611, 1887, 1333, 159, 1246, 1062, 23, 1604, 174, 584, 1908, 644, 1082, 71, 1486, 993, 513, 1186, 1444, 217, 1157, 1496, 373, 2030, 1605, 619, 963, 1951, 448, 218, 1805, 1643, 376, 1956, 1490, 724, 2027, 1355, 660, 857, 1947, 77, 2001, 1657, 775, 1836, 11, 694, 1198, 103, 1473, 1678, 1810, 637, 882, 131, 1202, 1008, 928, 1812, 13, 831, 202, 192, 933, 1769, 1391, 1033, 504, 1392, 1041, 1902, 1416, 1362, 1838, 366, 212, 1297, 328, 139, 1627, 812, 1246, 835, 159, 1570, 1135, 24, 543, 1141, 637, 1417, 1370, 1188, 391, 533, 1234, 1326, 1036, 1086, 773, 1173, 1166, 643, 629, 343, 1419, 867, 1441, 502, 389, 1376, 1800, 1265, 763, 1784, 300, 199, 1132, 1709, 1676, 1018, 90, 766, 423, 1289, 324, 618, 1279, 627, 425, 883, 786, 698, 1035, 1176, 1634, 1116, 744, 1112, 366, 1499, 194, 309, 1717, 1462, 24, 429, 185, 620, 873, 1090, 505, 639, 1335, 1907, 1268, 1134, 1, 447, 1068, 1720, 1606, 424, 543, 2015, 648, 1453, 335, 1633, 1861, 1101, 1083, 192, 1791, 1034, 1378, 1403, 1077, 866, 1862, 785, 358, 215, 1126, 4, 276, 744, 1857, 723, 1470, 20, 601, 509, 483, 1757, 44, 1028, 5, 1474, 828, 1894, 674, 834, 1544, 677, 1084, 1503, 783, 1088, 1874, 1047, 1235, 694, 1635, 1132, 1491, 1161, 1009, 1373, 142, 56, 635, 1385, 1926, 1090, 1152, 786, 1337, 1833, 1154, 1239, 1065, 1899, 1279, 311, 1749, 906, 121, 1716, 1980, 517, 367, 972, 352, 347, 608, 1793, 1600, 14, 1486, 1746, 219, 1181, 1592, 446, 947, 1415, 1565, 1607, 326, 334, 2047, 748, 1046, 1648, 1628, 1580, 1698, 879, 950, 1673, 873, 1738, 652, 641, 1261, 1792, 1373, 150, 1453, 659, 1707, 1863, 40, 2, 245, 1299, 1760, 1484, 1722, 124, 1107, 627, 636, 1, 771, 1141, 1721, 545, 1391, 596, 1523, 1374, 1558, 655, 681, 54, 1914, 933, 1882, 299, 1050, 1048, 1672, 1724, 1653, 615, 690, 1896, 269, 1297, 1623, 433, 1632, 664, 1017, 1046, 240, 378, 1558, 1302, 828, 57, 1840, 819, 1987, 1364, 454, 1259, 263, 1866, 87, 192, 391, 1181, 1381, 1329, 962, 972, 879, 189, 570, 854, 1268, 486, 1901, 445, 1142, 1835, 1501, 1407, 1139, 1803, 9, 1310, 1901, 8, 112, 1817, 2019, 160, 404, 495, 84, 1877, 1524, 1058, 834, 678, 15, 1073, 812, 274, 615, 155, 657, 283, 1914, 2018, 1011, 320, 458, 132, 464, 0, 982, 259, 1706, 989, 29, 2014, 1280, 853, 289, 916, 1873, 1258, 353, 679, 31, 1819, 860, 918, 489, 103, 404, 1248, 1838, 1872, 1671, 1287, 624, 597, 1207, 649, 1581, 2037, 1699, 1000, 1255, 1714, 1738, 1955, 285, 1290, 1966, 1081, 1358, 383, 974, 44, 1020, 656, 1449, 507, 1958, 1724, 1985, 37, 715, 1157, 1172, 300, 2029, 618, 1700, 910, 394, 1770, 112, 1485, 548, 135, 1143, 1640, 1082, 1471, 1339, 990, 587, 1300, 1339, 1201, 1753, 1285, 1782, 1888, 1123, 1041, 1262, 618, 1384, 186, 417, 1105, 1130, 383, 1937, 915, 999, 1247, 317, 1714, 1633, 348, 292, 1069, 1623, 1396, 456, 643, 1608, 1961, 1448, 54, 182, 1658, 1859, 965, 32, 102, 283, 943, 1797, 1007, 1454, 1654, 2023, 1940, 1918, 664, 1348, 468, 266, 1687, 414, 305, 1233, 242, 1908, 1065, 1365, 40, 325, 318, 1301, 699, 403, 1775, 1680, 1834, 733, 955, 1096, 1012, 1954, 1572, 187, 1947, 612, 1193, 1643, 157, 1441, 1481, 2007, 1404, 987, 6, 1918, 1207, 1937, 478, 2018, 1229, 834, 467, 898, 1088, 368, 1636, 1245, 399, 1178, 1552, 1653, 825, 1855, 1881, 712, 1984, 993, 190, 1112, 1442, 1278, 190, 1444, 865, 1304, 1499, 299, 1916, 1710, 1683, 367, 114, 1087, 360, 239, 1221, 77, 1241, 554, 756, 1367, 1893, 1954, 382, 1500, 1934, 981, 1765, 1118, 979, 325, 423, 859, 691, 625, 70, 1365, 688, 472, 321, 1227, 584, 508, 791, 1084, 2045, 1372, 1098, 1578, 590, 1655, 857, 1300, 1978, 1999, 1731, 889, 1731, 994, 1290, 987, 1512, 1330, 1196, 184, 936, 1598, 1067, 1170, 1669, 389, 518, 488, 1277, 393, 1212, 825, 1426, 201, 719, 775, 1731, 452, 702, 977, 1807, 1788, 776, 22, 1272, 751, 559, 600, 1789, 31, 1713, 1301, 925, 267, 1808, 719, 346, 50, 459, 1541, 1714, 22, 1377, 310, 551, 822, 84, 1764, 568, 1041, 291, 398, 1380, 1321, 1613, 947, 557, 252, 1620, 2005, 1810, 524, 1974, 114, 658, 728, 245, 12, 815, 1503, 144, 290, 1895, 1443, 1286, 1587, 1468, 1187, 1241, 449, 1197, 1374, 1672, 1611, 697, 598, 146, 1616, 1634, 1545, 377, 1106, 1575, 761, 1979, 719, 135, 933, 474, 1097, 1028, 652, 1621, 831, 1820, 560, 939, 560, 81, 1296, 94, 926, 1570, 1451, 749, 520, 1806, 1667, 471, 2029, 407, 534, 926, 1999, 1084, 742, 1728, 1068, 1404, 882, 447, 1926, 985, 1593, 794, 1116, 1489, 1469, 336, 1325, 486, 1149, 739, 1147, 1687, 1272, 1618, 1221, 611, 432, 540, 138, 972, 1315, 1219, 588, 337, 467, 1221, 1161, 369, 575, 164, 451, 686, 230, 1759, 1145, 902, 74, 1525, 1834, 635, 746, 1128, 1112, 1548, 837, 183, 1666, 1208, 989, 353, 39, 1281, 1840, 1256, 969, 1382, 1984, 458, 998, 1126, 12, 1673, 768, 131, 659, 420, 918, 59, 471, 410, 39, 528, 87, 1261, 821, 1153, 146, 540, 1855, 1549, 1290, 1958, 1732, 1334, 61, 1037, 1094, 123, 1197, 1487, 579, 1627, 1241, 878, 829, 1368, 832, 873, 435, 1008, 612, 1087, 36, 165, 1220, 1138, 274, 502, 1247, 641, 1788, 1634, 1335, 1259, 1121, 1131, 74, 562, 963, 656, 154, 212, 1952, 1872, 166, 1875, 634, 301, 749, 1070, 1744, 1701, 497, 1508, 1825, 1594, 49, 759, 1519, 1643, 44, 486, 1465, 1463, 1124, 304, 254, 672, 1879, 1879, 576, 933, 903, 729, 1021, 1861, 883, 568, 183, 1026, 410, 1011, 749, 90, 126, 1673, 1310, 719, 670, 124, 460, 480, 633, 75, 886, 1036, 657, 1141, 1179, 2005, 1380, 892, 1981, 954, 1396, 990, 1882, 1594, 1344, 1053, 1524, 1495, 1863, 696, 1546, 271, 1547, 1582, 539, 1636, 1035, 1281, 1193, 1109, 966, 1456, 51, 353, 1982, 1722, 1848, 1034, 625, 1697, 1082, 719, 1633, 995, 439, 1071, 1549, 1282, 561, 1708, 1012, 125, 39, 196, 664, 1235, 1560, 249, 1144, 134, 1670, 1482, 1043, 533, 1008, 1462, 1003, 2047, 213, 1855, 1662, 198, 1975, 228, 1614, 744, 788, 292, 1498, 1255, 1390, 1665, 1953, 1346, 324, 1913, 1573, 632, 277, 654, 997, 779, 1891, 1599, 864, 1402, 1709, 267, 1816, 68, 370, 372, 395, 491, 564, 1529, 1339, 237, 881, 1305, 1191, 972, 1963, 1366, 590, 263, 353, 1326, 178, 1821, 786, 803, 594, 1168, 1856, 1460, 429, 2015, 106, 864, 325, 1929, 271, 681, 920, 528, 945, 526, 808, 1522, 718, 14, 628, 433, 232, 811, 1019, 972, 126, 483, 575, 706, 1039, 696, 1983, 1301, 1565, 1065, 1786, 324, 295, 1205, 626, 1486, 1964, 734, 1189, 309, 1070, 1315, 21, 503, 299, 515, 1857, 1686, 293, 0, 1192, 1425, 1691, 1432, 716, 1383, 1036, 333, 1068, 1178, 1018, 414, 839, 425, 228, 1290, 671, 787, 1353, 531, 1202, 1882, 939, 1848, 1026, 1276, 1672, 760, 782, 635, 98, 981, 1109, 1622, 952, 77, 601, 1804, 777, 1762, 1945, 799, 215, 1555, 1684, 270, 1953, 1119, 460, 1880, 486, 72, 959, 1151, 552, 77, 1775, 1793, 741, 749, 1499, 1376, 1695, 1706, 770, 1563, 2005, 514, 230, 1969, 262, 887, 518, 164, 1204, 392, 225, 1907, 1374, 692, 2041, 669, 1411, 1405, 460, 164, 1957, 98, 220, 6, 1602, 482, 1960, 1861, 988, 127, 175, 1248, 754, 695, 1651, 1878, 1539, 1804, 883, 1321, 1937, 1021, 558, 1240, 539, 9, 1318, 1250, 32, 434, 1753, 969, 1058, 1911, 457, 11, 159, 2007, 117, 42, 25, 340, 1372, 677, 1295, 620, 768, 1531, 512, 417, 992, 174, 366, 1394, 635, 317, 1496, 1118, 339, 1575, 445, 1255, 742, 1518, 1951, 1420, 438, 1808, 508, 1228, 66, 15, 854, 297, 265, 1898, 1580, 289, 1677, 928, 1277, 822, 845, 819, 587, 1511, 456, 1186, 149, 1971, 1152, 1644, 602, 1820, 1523, 1811, 540, 673, 163, 1301, 601, 193, 1807, 1780, 1427, 2046, 950, 815, 1609, 1750, 282, 69, 1786, 971, 442, 1208, 552, 1372, 21, 1799, 594, 520, 1709, 1457, 503, 81, 0, 1848, 921, 1718, 1680, 538, 438, 950, 1244, 1241, 1744, 1491, 1379, 1524, 1382, 907, 679, 1002, 2039, 864, 1831, 1341, 261, 977, 1378, 108, 783, 861, 2010, 1014, 148, 134, 269, 1629, 1046, 459, 893, 1567, 19, 1451, 425, 446, 1805, 680, 1552, 1977, 899, 1856, 820, 1679, 2036, 501, 916, 1218, 1762, 326, 431, 209, 716, 946, 7, 315, 1585, 1979, 282, 1154, 915, 992, 1898, 292, 1392, 1696, 1398, 1443, 1610, 1661, 1469, 126, 160, 501, 705, 52, 1777, 1930, 1793, 839, 959, 1467, 1276, 54, 393, 775, 1844, 1408, 718, 1520, 39, 423, 528, 1269, 599, 809, 461, 1685, 67, 136, 1159, 338, 1130, 67, 1213, 938, 334, 217, 1262, 1055, 366, 204, 1948, 304, 1865, 1691, 1862, 348, 1377, 197, 1643, 805, 1588, 1484, 1933, 1290, 1092, 1070, 1322, 1418, 528, 621, 452, 807, 535, 1800, 2010, 1119, 1755, 126, 491, 1972, 731, 1361, 633, 933, 150, 1024, 1027, 1713, 654, 778, 264, 1882, 833, 241, 1034, 1055, 1329, 1075, 1927, 895, 733, 850, 1537, 1020, 1732, 1229, 503, 1044, 872, 1827, 1512, 585, 840, 214, 1110, 1306, 227, 101, 1984, 774, 1723, 1103, 677, 655, 1870, 790, 1927, 564, 1310, 824, 228, 116, 682, 823, 318, 977, 625, 402, 788, 713, 1781, 1224, 229, 990, 693, 859, 1331, 1423, 48, 970, 637, 1627, 488, 1172, 834, 1220, 603, 1083, 516, 1865, 1035, 317, 321, 1129, 375, 540, 891, 678, 1310, 1367, 817, 126, 386, 365, 738, 1139, 290, 1248]\n"
     ]
    }
   ],
   "source": [
    "print(sample_8)"
   ]
  },
  {
   "cell_type": "code",
   "execution_count": 41,
   "metadata": {},
   "outputs": [
    {
     "data": {
      "text/plain": [
       "<matplotlib.collections.PathCollection at 0x17681abb610>"
      ]
     },
     "execution_count": 41,
     "metadata": {},
     "output_type": "execute_result"
    },
    {
     "data": {
      "image/png": "[encoded data removed]",
      "text/plain": [
       "<Figure size 432x288 with 1 Axes>"
      ]
     },
     "metadata": {
      "needs_background": "light"
     },
     "output_type": "display_data"
    }
   ],
   "source": [
    "from matplotlib import pyplot as plt\n",
    "plt.scatter(sample_8[:-1],sample_8[1:],alpha=0.005)"
   ]
  },
  {
   "cell_type": "markdown",
   "metadata": {},
   "source": [
    "ourLcg is an example of a **good** LCG to some extent, but the plot above tells us that there is some issues. "
   ]
  },
  {
   "cell_type": "code",
   "execution_count": 42,
   "metadata": {},
   "outputs": [
    {
     "data": {
      "text/plain": [
       "<matplotlib.collections.PathCollection at 0x1768321e730>"
      ]
     },
     "execution_count": 42,
     "metadata": {},
     "output_type": "execute_result"
    },
    {
     "data": {
      "image/png": "[encoded data removed]",
      "text/plain": [
       "<Figure size 432x288 with 1 Axes>"
      ]
     },
     "metadata": {
      "needs_background": "light"
     },
     "output_type": "display_data"
    }
   ],
   "source": [
    "from random import randint\n",
    "sample_8_python = [randint(0,7) for i in range(256*10)]\n",
    "plt.scatter(sample_8_python[:-1],sample_8_python[1:],alpha=0.005)"
   ]
  },
  {
   "cell_type": "markdown",
   "metadata": {},
   "source": [
    "The next example will demonstrate what can go wrong if our $m,a,c$ is not so good.\n",
    "\n",
    "Consider $m= 256$, $a = 136$, $c = 3$, $x_0 = 0$, $n = 15$. "
   ]
  },
  {
   "cell_type": "code",
   "execution_count": 43,
   "metadata": {
    "scrolled": true
   },
   "outputs": [
    {
     "data": {
      "text/plain": [
       "1"
      ]
     },
     "execution_count": 43,
     "metadata": {},
     "output_type": "execute_result"
    }
   ],
   "source": [
    "m,a,c,x0,n = 256, 136, 3, 0, 15\n",
    "gcd(m,c)"
   ]
  },
  {
   "cell_type": "code",
   "execution_count": 44,
   "metadata": {
    "scrolled": true
   },
   "outputs": [
    {
     "data": {
      "text/plain": [
       "[2]"
      ]
     },
     "execution_count": 44,
     "metadata": {},
     "output_type": "execute_result"
    }
   ],
   "source": [
    "prime_factors(m)"
   ]
  },
  {
   "cell_type": "markdown",
   "metadata": {},
   "source": [
    "But, since $a-1=$135 is not divisible by 2, the only prime factor of $m=$256, we get into the fixed point 91 no matter where we start from.  \n",
    "\n",
    "### YouTry \n",
    "\n",
    "See if changing the seed $x_0$ makes a difference?"
   ]
  },
  {
   "cell_type": "code",
   "execution_count": 45,
   "metadata": {
    "scrolled": true
   },
   "outputs": [
    {
     "data": {
      "text/plain": [
       "[0, 3, 155, 91, 91, 91, 91, 91, 91, 91, 91, 91, 91, 91, 91]"
      ]
     },
     "execution_count": 45,
     "metadata": {},
     "output_type": "execute_result"
    }
   ],
   "source": [
    "linConGen(m, a, c, x0, n)"
   ]
  },
  {
   "cell_type": "code",
   "execution_count": null,
   "metadata": {
    "scrolled": true
   },
   "outputs": [],
   "source": []
  },
  {
   "cell_type": "markdown",
   "metadata": {},
   "source": [
    "We can look at the linear congruential sequence generated by $(m,a,c,x_0,n)=(256,137,0,123,256)$ from Knuth's classic [The Art of Computer Programming, vol. 2, Sec. 3.3.4, Table 1, Line 5] and compare it with `ourLcg`."
   ]
  },
  {
   "cell_type": "code",
   "execution_count": 46,
   "metadata": {
    "scrolled": true
   },
   "outputs": [
    {
     "name": "stdout",
     "output_type": "stream",
     "text": [
      "[1, 137, 81, 89, 161, 41, 241, 249, 65, 201, 145, 153, 225, 105, 49, 57, 129, 9, 209, 217, 33, 169, 113, 121, 193, 73, 17, 25, 97, 233, 177, 185, 1, 137, 81, 89, 161, 41, 241, 249, 65, 201, 145, 153, 225, 105, 49, 57, 129, 9, 209, 217, 33, 169, 113, 121, 193, 73, 17, 25, 97, 233, 177, 185, 1, 137, 81, 89, 161, 41, 241, 249, 65, 201, 145, 153, 225, 105, 49, 57, 129, 9, 209, 217, 33, 169, 113, 121, 193, 73, 17, 25, 97, 233, 177, 185, 1, 137, 81, 89, 161, 41, 241, 249, 65, 201, 145, 153, 225, 105, 49, 57, 129, 9, 209, 217, 33, 169, 113, 121, 193, 73, 17, 25, 97, 233, 177, 185, 1, 137, 81, 89, 161, 41, 241, 249, 65, 201, 145, 153, 225, 105, 49, 57, 129, 9, 209, 217, 33, 169, 113, 121, 193, 73, 17, 25, 97, 233, 177, 185, 1, 137, 81, 89, 161, 41, 241, 249, 65, 201, 145, 153, 225, 105, 49, 57, 129, 9, 209, 217, 33, 169, 113, 121, 193, 73, 17, 25, 97, 233, 177, 185, 1, 137, 81, 89, 161, 41, 241, 249]\n"
     ]
    }
   ],
   "source": [
    "m, a, c, x0, n = 256, 137, 0, 123, 256\n",
    "lcgKnuth334T1L5 = linConGen(m, a, c, 1, 200)\n",
    "print(lcgKnuth334T1L5)"
   ]
  },
  {
   "cell_type": "code",
   "execution_count": 47,
   "metadata": {
    "scrolled": true
   },
   "outputs": [
    {
     "name": "stdout",
     "output_type": "stream",
     "text": [
      "{1, 129, 137, 9, 145, 17, 153, 25, 161, 33, 41, 169, 49, 177, 57, 185, 65, 193, 201, 73, 81, 209, 89, 217, 225, 121, 97, 105, 233, 241, 113, 249}\n"
     ]
    }
   ],
   "source": [
    "print(set(lcgKnuth334T1L5))"
   ]
  },
  {
   "cell_type": "markdown",
   "metadata": {},
   "source": [
    "Note that although `ourLcg` has maximal period of 256,  `lcgKnuth334T1L5` has period of  32.  Let us look at them as  points.\n",
    "\n",
    "We can plot each number in the sequence, say `ourLcg`, against its index in the sequence -- i.e. plot the first number 13 against 0 as the tuple (0, 13), the second number against 1 as the tuple (1, 112), etc.   \n",
    "\n",
    "To do this, we need to make a list of the index values, which is simple using `range(256)` which as you know will give us a list of numbers from 0 to 255 going up in steps of 1.   Then we can `zip` this list with the sequence itself to make the `list` of the desired `tuples`."
   ]
  },
  {
   "cell_type": "markdown",
   "metadata": {},
   "source": [
    "Then we plot using `points` for `ourLcg` and for `lcgKnuth334T1L5`."
   ]
  },
  {
   "cell_type": "code",
   "execution_count": 48,
   "metadata": {
    "scrolled": true
   },
   "outputs": [
    {
     "name": "stdout",
     "output_type": "stream",
     "text": [
      "1\n"
     ]
    }
   ],
   "source": [
    "#?text\n",
    "import numpy as np\n",
    "for i in range (200):\n",
    "    (m,a,b,x0,n)=(2147483648, 2356001, 65568931, i, i) # faster way to assign a bunch of parameters\n",
    "    ourLcg = linConGen(m,a,b,x0,n)\n",
    "    if (len(np.unique(ourLcg)) != i):\n",
    "        print(len(np.unique(ourLcg)))"
   ]
  },
  {
   "cell_type": "code",
   "execution_count": 49,
   "metadata": {},
   "outputs": [
    {
     "name": "stdout",
     "output_type": "stream",
     "text": [
      "1\n",
      "0\n",
      "0\n",
      "[2]\n"
     ]
    },
    {
     "data": {
      "text/plain": [
       "[0]"
      ]
     },
     "execution_count": 49,
     "metadata": {},
     "output_type": "execute_result"
    }
   ],
   "source": [
    "print(gcd(m,b))\n",
    "print((a-1) % 4)  \n",
    "print(m % 4) \n",
    "print(prime_factors(m))\n",
    "val = [ (a-1)%x for x in prime_factors(m) ]  \n",
    "val"
   ]
  },
  {
   "cell_type": "code",
   "execution_count": 50,
   "metadata": {},
   "outputs": [
    {
     "ename": "ValueError",
     "evalue": "x and y must be the same size",
     "output_type": "error",
     "traceback": [
      "\u001b[1;31m---------------------------------------------------------------------------\u001b[0m",
      "\u001b[1;31mValueError\u001b[0m                                Traceback (most recent call last)",
      "Input \u001b[1;32mIn [50]\u001b[0m, in \u001b[0;36m<cell line: 4>\u001b[1;34m()\u001b[0m\n\u001b[0;32m      1\u001b[0m fig,ax \u001b[38;5;241m=\u001b[39m plt\u001b[38;5;241m.\u001b[39msubplots(nrows\u001b[38;5;241m=\u001b[39m\u001b[38;5;241m1\u001b[39m,ncols\u001b[38;5;241m=\u001b[39m\u001b[38;5;241m2\u001b[39m)\n\u001b[0;32m      3\u001b[0m ax[\u001b[38;5;241m0\u001b[39m]\u001b[38;5;241m.\u001b[39mscatter(\u001b[38;5;28mrange\u001b[39m(\u001b[38;5;28mlen\u001b[39m(ourLcg)),ourLcg)\n\u001b[1;32m----> 4\u001b[0m \u001b[43max\u001b[49m\u001b[43m[\u001b[49m\u001b[38;5;241;43m1\u001b[39;49m\u001b[43m]\u001b[49m\u001b[38;5;241;43m.\u001b[39;49m\u001b[43mscatter\u001b[49m\u001b[43m(\u001b[49m\u001b[38;5;28;43mrange\u001b[39;49m\u001b[43m(\u001b[49m\u001b[38;5;28;43mlen\u001b[39;49m\u001b[43m(\u001b[49m\u001b[43mourLcg\u001b[49m\u001b[43m)\u001b[49m\u001b[43m)\u001b[49m\u001b[43m,\u001b[49m\u001b[43mlcgKnuth334T1L5\u001b[49m\u001b[43m)\u001b[49m\n",
      "File \u001b[1;32m~\\anaconda3\\lib\\site-packages\\matplotlib\\__init__.py:1412\u001b[0m, in \u001b[0;36m_preprocess_data.<locals>.inner\u001b[1;34m(ax, data, *args, **kwargs)\u001b[0m\n\u001b[0;32m   1409\u001b[0m \u001b[38;5;129m@functools\u001b[39m\u001b[38;5;241m.\u001b[39mwraps(func)\n\u001b[0;32m   1410\u001b[0m \u001b[38;5;28;01mdef\u001b[39;00m \u001b[38;5;21minner\u001b[39m(ax, \u001b[38;5;241m*\u001b[39margs, data\u001b[38;5;241m=\u001b[39m\u001b[38;5;28;01mNone\u001b[39;00m, \u001b[38;5;241m*\u001b[39m\u001b[38;5;241m*\u001b[39mkwargs):\n\u001b[0;32m   1411\u001b[0m     \u001b[38;5;28;01mif\u001b[39;00m data \u001b[38;5;129;01mis\u001b[39;00m \u001b[38;5;28;01mNone\u001b[39;00m:\n\u001b[1;32m-> 1412\u001b[0m         \u001b[38;5;28;01mreturn\u001b[39;00m func(ax, \u001b[38;5;241m*\u001b[39m\u001b[38;5;28mmap\u001b[39m(sanitize_sequence, args), \u001b[38;5;241m*\u001b[39m\u001b[38;5;241m*\u001b[39mkwargs)\n\u001b[0;32m   1414\u001b[0m     bound \u001b[38;5;241m=\u001b[39m new_sig\u001b[38;5;241m.\u001b[39mbind(ax, \u001b[38;5;241m*\u001b[39margs, \u001b[38;5;241m*\u001b[39m\u001b[38;5;241m*\u001b[39mkwargs)\n\u001b[0;32m   1415\u001b[0m     auto_label \u001b[38;5;241m=\u001b[39m (bound\u001b[38;5;241m.\u001b[39marguments\u001b[38;5;241m.\u001b[39mget(label_namer)\n\u001b[0;32m   1416\u001b[0m                   \u001b[38;5;129;01mor\u001b[39;00m bound\u001b[38;5;241m.\u001b[39mkwargs\u001b[38;5;241m.\u001b[39mget(label_namer))\n",
      "File \u001b[1;32m~\\anaconda3\\lib\\site-packages\\matplotlib\\axes\\_axes.py:4369\u001b[0m, in \u001b[0;36mAxes.scatter\u001b[1;34m(self, x, y, s, c, marker, cmap, norm, vmin, vmax, alpha, linewidths, edgecolors, plotnonfinite, **kwargs)\u001b[0m\n\u001b[0;32m   4367\u001b[0m y \u001b[38;5;241m=\u001b[39m np\u001b[38;5;241m.\u001b[39mma\u001b[38;5;241m.\u001b[39mravel(y)\n\u001b[0;32m   4368\u001b[0m \u001b[38;5;28;01mif\u001b[39;00m x\u001b[38;5;241m.\u001b[39msize \u001b[38;5;241m!=\u001b[39m y\u001b[38;5;241m.\u001b[39msize:\n\u001b[1;32m-> 4369\u001b[0m     \u001b[38;5;28;01mraise\u001b[39;00m \u001b[38;5;167;01mValueError\u001b[39;00m(\u001b[38;5;124m\"\u001b[39m\u001b[38;5;124mx and y must be the same size\u001b[39m\u001b[38;5;124m\"\u001b[39m)\n\u001b[0;32m   4371\u001b[0m \u001b[38;5;28;01mif\u001b[39;00m s \u001b[38;5;129;01mis\u001b[39;00m \u001b[38;5;28;01mNone\u001b[39;00m:\n\u001b[0;32m   4372\u001b[0m     s \u001b[38;5;241m=\u001b[39m (\u001b[38;5;241m20\u001b[39m \u001b[38;5;28;01mif\u001b[39;00m rcParams[\u001b[38;5;124m'\u001b[39m\u001b[38;5;124m_internal.classic_mode\u001b[39m\u001b[38;5;124m'\u001b[39m] \u001b[38;5;28;01melse\u001b[39;00m\n\u001b[0;32m   4373\u001b[0m          rcParams[\u001b[38;5;124m'\u001b[39m\u001b[38;5;124mlines.markersize\u001b[39m\u001b[38;5;124m'\u001b[39m] \u001b[38;5;241m*\u001b[39m\u001b[38;5;241m*\u001b[39m \u001b[38;5;241m2.0\u001b[39m)\n",
      "\u001b[1;31mValueError\u001b[0m: x and y must be the same size"
     ]
    },
    {
     "data": {
      "image/png": "[encoded data removed]",
      "text/plain": [
       "<Figure size 432x288 with 2 Axes>"
      ]
     },
     "metadata": {
      "needs_background": "light"
     },
     "output_type": "display_data"
    }
   ],
   "source": [
    "fig,ax = plt.subplots(nrows=1,ncols=2)\n",
    "\n",
    "ax[0].scatter(range(len(ourLcg)),ourLcg)\n",
    "ax[1].scatter(range(len(ourLcg)),lcgKnuth334T1L5)"
   ]
  },
  {
   "cell_type": "markdown",
   "metadata": {},
   "source": [
    "We can see that in section 3.3.4, Table 1, line 5 in The Art of Computer Programming, Knuth is giving an example of a particularly bad LCG.  \n",
    "\n",
    "When we introducted LCGs, we said that using an LCG was a simple way to imitate independent samples from the Uniform$(0, 1)$ RV, but clearly so far we have been generating sequences of integers.  How does that help?\n",
    "\n",
    "To get a simple pseudo-random Uniform$(0,1)$ generator, we scale the linear congruential sequence over [0, 1].  We can do this by dividing each element by the largest number in the sequence (256 in the case of `ourLcg`). \n",
    "\n",
    "**Important note:** The numbers in the list returned by our `linConGen` function are integers modulo $m$."
   ]
  },
  {
   "cell_type": "code",
   "execution_count": null,
   "metadata": {
    "scrolled": true
   },
   "outputs": [],
   "source": [
    "ourLcgScaled = [x/256 for x in ourLcg]\n",
    "print(ourLcgScaled)"
   ]
  },
  {
   "cell_type": "markdown",
   "metadata": {},
   "source": [
    "This is more like it!  We could have a look at this on a plot.  Again again want tuples (index, element in scaled sequence at index position), which we can get using `range(256)` (to get the indexes 0, .., 255) and `zip`:"
   ]
  },
  {
   "cell_type": "code",
   "execution_count": null,
   "metadata": {
    "scrolled": false
   },
   "outputs": [],
   "source": [
    "plt.scatter(range(len(ourLcgScaled)),ourLcgScaled)"
   ]
  },
  {
   "cell_type": "markdown",
   "metadata": {},
   "source": [
    "Now we have points on the real line.  We could use a histogram to look at their distribution.  If we are hoping that our LCG, once we have scaled the results,  is imitating the Uniform$(0,1)$, what kind of shape would we want our histogram to be? "
   ]
  },
  {
   "cell_type": "code",
   "execution_count": null,
   "metadata": {
    "scrolled": false
   },
   "outputs": [],
   "source": [
    "_=plt.hist(ourLcgScaled,bins=40)"
   ]
  },
  {
   "cell_type": "markdown",
   "metadata": {},
   "source": [
    "Is this roughly what you expected?\n",
    "\n",
    "We could repeat this for the Knuth bad LCG example:"
   ]
  },
  {
   "cell_type": "code",
   "execution_count": null,
   "metadata": {
    "scrolled": true
   },
   "outputs": [],
   "source": [
    "# YouTry"
   ]
  },
  {
   "cell_type": "markdown",
   "metadata": {},
   "source": [
    "And show it as a histogram.  Given the pattern above, what would you expect the histogram to look like?"
   ]
  },
  {
   "cell_type": "markdown",
   "metadata": {},
   "source": [
    "### Larger LCGs\n",
    "\n",
    "The above generators are cute but not useful for simulating Lotto draws with 40 outcomes.  Minimally, we need to increase the period length with a larger modulus $m$. \n",
    "\n",
    "But remember that the quality of the pseudo-random numbers obtained from a LCG is extremely sensitive to the choice of $m$, $a$, and $c$.  \n",
    "\n",
    "To illustrate that having a large $m$ alone is not enough we next look at **RANDU**, an infamous LCG which generates sequences with strong correlations between 3 consecutive points, which can been seen if we manipulate the sequence to make 3-dimensional tuples out of groups of 3 consecutive points.  \n",
    "\n",
    "In the cell below we make our scaled sequence in one step, using a list comprehension which contains the expression to generate the LCG and the scaling.   "
   ]
  },
  {
   "cell_type": "code",
   "execution_count": null,
   "metadata": {
    "scrolled": true
   },
   "outputs": [],
   "source": [
    "from Utils import showURL\n",
    "showURL('https://en.wikipedia.org/wiki/RANDU')"
   ]
  },
  {
   "cell_type": "code",
   "execution_count": null,
   "metadata": {
    "scrolled": true
   },
   "outputs": [],
   "source": [
    "m, a, c, x0, n = 2147483648, 65539, 0, 1, 5010\n",
    "RANDU = [x/m for x in linConGen(m, a, c, x0, n)]"
   ]
  },
  {
   "cell_type": "markdown",
   "metadata": {},
   "source": [
    "Have a look at the results as a histogram:"
   ]
  },
  {
   "cell_type": "code",
   "execution_count": null,
   "metadata": {
    "scrolled": false
   },
   "outputs": [],
   "source": [
    "_=plt.hist(RANDU,bins=40)"
   ]
  },
  {
   "cell_type": "markdown",
   "metadata": {},
   "source": [
    "Now we are going to use some of the array techniques we have learned about to resize the sequence from the RANDU LCG to an array with two columns"
   ]
  },
  {
   "cell_type": "code",
   "execution_count": null,
   "metadata": {
    "scrolled": true
   },
   "outputs": [],
   "source": [
    "import numpy as np\n",
    "m, a, c, x0, n = 2147483648, 65539, 0, 1, 5010\n",
    "randu = np.array(linConGen(m, a, c, x0, n))"
   ]
  },
  {
   "cell_type": "code",
   "execution_count": null,
   "metadata": {
    "scrolled": true
   },
   "outputs": [],
   "source": [
    "randu.shape"
   ]
  },
  {
   "cell_type": "code",
   "execution_count": null,
   "metadata": {
    "scrolled": true
   },
   "outputs": [],
   "source": [
    "randu.resize(5010//2, 2) # resize the randu array to 2 columns"
   ]
  },
  {
   "cell_type": "code",
   "execution_count": null,
   "metadata": {
    "scrolled": true
   },
   "outputs": [],
   "source": [
    "randu.shape"
   ]
  },
  {
   "cell_type": "code",
   "execution_count": null,
   "metadata": {},
   "outputs": [],
   "source": [
    "plt.scatter(randu[:,0],randu[:,1])"
   ]
  },
  {
   "cell_type": "markdown",
   "metadata": {},
   "source": [
    "Let us resize the LCG to an array with three columns.  The effect will be that if our original sequence was $x_0, x_1, x_2, x_3, \\ldots, x_{n-3}, x_{n-2}, x_{n-1}$, we will get a list of triplets, tuples of length three, $(x_0, x_1, x_2), (x_3, x_4, x_5), \\ldots, (x_{n-1-2}, x_{n-1-1}, x_{n-1})$.  Unlike the pairs in 2D which seem well-scattered and random, triplets from the RANDU LCG are not very random at all! They all lie on parallel planes in 3D. "
   ]
  },
  {
   "cell_type": "code",
   "execution_count": null,
   "metadata": {},
   "outputs": [],
   "source": [
    "import plotly.graph_objects as go\n",
    "import numpy as np\n",
    "\n",
    "randu.resize(1670, 3)\n",
    "\n",
    "fig = go.Figure(data=[go.Scatter3d(x=randu[:,0], y=randu[:,1], z=randu[:,2],\n",
    "                                   mode='markers',\n",
    "                                  marker=dict(size=2))])\n",
    "fig.show()"
   ]
  },
  {
   "cell_type": "markdown",
   "metadata": {},
   "source": [
    "You can alter your perspective on this image using the mouse.  From a particular perspective you can see that something has gone horribly wrong ... **RANDU is a really ugly LCG**. \n",
    "\n",
    "The above generators are of low quality for producing pseudo-random numbers to drive statistical simulations. We end with a positive note with a LCG that is in use in the Gnu Compiler Collection. It does not have obvious problems as in small periods or as high a correlation as RANDU. "
   ]
  },
  {
   "cell_type": "code",
   "execution_count": null,
   "metadata": {
    "scrolled": false
   },
   "outputs": [],
   "source": [
    "#jmol error JmolInitCheck is not defined\n",
    "glibCGCCLcg = np.array([x/2**32 for x in linConGen(2**32, 1103515245,12345,13,5010)])\n",
    "glibCGCCLcg.resize(1670, 3) # resize the randu array to 3 columns\n",
    "fig = go.Figure(data=[go.Scatter3d(x=glibCGCCLcg[:,0], y=glibCGCCLcg[:,1], z=glibCGCCLcg[:,2],\n",
    "                                   mode='markers',\n",
    "                                  marker=dict(size=2))])\n",
    "fig.show()"
   ]
  },
  {
   "cell_type": "code",
   "execution_count": null,
   "metadata": {
    "scrolled": true
   },
   "outputs": [],
   "source": [
    "glibCGCCLcg = np.array([x/(2**32) for x in linConGen(2**32, 1103515245,12345,13,5010)])\n",
    "_=plt.hist(glibCGCCLcg,bins=40)"
   ]
  },
  {
   "cell_type": "markdown",
   "metadata": {},
   "source": [
    "**Even good LCG are not suited for realistic statistical simulation problems**. \n",
    "\n",
    "This is because of the strong correlation between successive numbers in the sequence. For instance, if an LCG is used to choose points in an n-dimensional space, the points will lie on, at most, $m^{1/n}$ hyper-planes. There are various statistical tests that one can use to test the quality of a pseudo-random number generator. For example, the spectral test checks if the points are not on a few hyper-planes. Of course, the Sample Mean, Sample Variance, etc. should be as expected. Let us check those quickly:\n",
    "\n",
    "Recall that the population mean for a Uniform$(0,1)$ RV is $\\frac{1}{2}$ and the population variance is $\\frac{1}{12}$."
   ]
  },
  {
   "cell_type": "code",
   "execution_count": null,
   "metadata": {
    "scrolled": true
   },
   "outputs": [],
   "source": [
    "glibCGCCLcg.mean()  \n",
    "# check that the mean is close to the population mean of 0.5 for Uniform(0,1) RV"
   ]
  },
  {
   "cell_type": "code",
   "execution_count": null,
   "metadata": {
    "scrolled": true
   },
   "outputs": [],
   "source": [
    "glibCGCCLcg.var()   # how about the variance"
   ]
  },
  {
   "cell_type": "code",
   "execution_count": null,
   "metadata": {
    "scrolled": true
   },
   "outputs": [],
   "source": [
    "1/12.0"
   ]
  },
  {
   "cell_type": "markdown",
   "metadata": {},
   "source": [
    "To go into this topic of how good a pseudo-random number generaror is and what \"good\" means in many different mathematical senses (in detail) is clearly beyond the scope of this course. You should just remember that using computers to generate pseudo-random numbers is not a trivial problem and use care when employing them especially in higher dimensional or less smooth problems. The mathematics behind this has one of the most beautiful roots of the subject called number theory."
   ]
  },
  {
   "cell_type": "markdown",
   "metadata": {},
   "source": [
    "### More Sophisticated Pseudo-Random Number Generators\n",
    "\n",
    "We will use a pseudo-random number generator (PRNG) called the Mersenne Twister for simulation purposes in this course.  It is based on more sophisticated theory than that of LCG but the basic principles of recurrence relations are the same. \n",
    "\n",
    "(The Mersenne Twister is a variant of the recursive relation known as a twisted generalised feedback register.  See *Makato Matsumoto and Takuji Nishimura, \"Mersenne Twister: A 623-dimensionally equidistributed uniform pseudo-random number generator, ACM Transactions on Modelling and Computer Simulation, vol. 8, no. 1, Jan. 1998, pp. 3-20.* if you have ACM access or via links at [Mersenne Twister](https://en.wikipedia.org/wiki/Mersenne_twister).\n",
    "\n",
    "The Mersenne Twister has a period of $2^{19937}-1 \\approx 10^{6000}$ (which is essentially a Very Big Number) and is currently widely used by researchers interested in statistical simulation.  "
   ]
  },
  {
   "cell_type": "code",
   "execution_count": null,
   "metadata": {
    "scrolled": true
   },
   "outputs": [],
   "source": [
    "showURL(\"https://en.wikipedia.org/wiki/Mersenne_twister\",500) \n",
    "# scroll down to see the list of Software that use Mersenne Twister as the default PRNG, including SageMath"
   ]
  },
  {
   "cell_type": "code",
   "execution_count": null,
   "metadata": {
    "scrolled": true
   },
   "outputs": [],
   "source": [
    "import random\n",
    "?random"
   ]
  },
  {
   "cell_type": "code",
   "execution_count": null,
   "metadata": {
    "scrolled": true
   },
   "outputs": [],
   "source": [
    "%%sh\n",
    "## make sure the file exists, the path to the source File for you may be different, \n",
    "## copy-paste `File:` </.../pathToFile../pyrandom.py` from above output \n",
    "## `file` gives information about a file. The source file should be `ASCII text executable`\n",
    "file /Users/avelin/opt/miniconda3/envs/sage_new/lib/python3.9/random.py"
   ]
  },
  {
   "cell_type": "code",
   "execution_count": null,
   "metadata": {
    "scrolled": true
   },
   "outputs": [],
   "source": [
    "%%sh\n",
    "## you can just uncomment next line to `cat` or concatenate the source file to see \n",
    "## what is really under the hoood! Power of SageMath/Python!!\n",
    "# cat /Users/avelin/opt/miniconda3/envs/sage_new/lib/python3.9/random.py"
   ]
  }
 ],
 "metadata": {
  "kernelspec": {
   "display_name": "Python 3 (ipykernel)",
   "language": "python",
   "name": "python3"
  },
  "language_info": {
   "codemirror_mode": {
    "name": "ipython",
    "version": 3
   },
   "file_extension": ".py",
   "mimetype": "text/x-python",
   "name": "python",
   "nbconvert_exporter": "python",
   "pygments_lexer": "ipython3",
   "version": "3.9.12"
  },
  "lx_course_instance": "2022",
  "lx_course_name": "Introduction to Data Science",
  "lx_course_number": "1MS041"
 },
 "nbformat": 4,
 "nbformat_minor": 4
}
