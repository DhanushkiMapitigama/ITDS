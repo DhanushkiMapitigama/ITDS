{
 "cells": [
  {
   "cell_type": "markdown",
   "id": "f9b14fdc",
   "metadata": {
    "deletable": false
   },
   "source": [
    "# [Introduction to Data Science](http://datascience-intro.github.io/1MS041-2022/)    \n",
    "## 1MS041, 2022 \n",
    "&copy;2022 Raazesh Sainudiin, Benny Avelin. [Attribution 4.0 International     (CC BY 4.0)](https://creativecommons.org/licenses/by/4.0/)"
   ]
  },
  {
   "cell_type": "markdown",
   "id": "172e2168",
   "metadata": {},
   "source": [
    "# Estimating the distribution function\n"
   ]
  },
  {
   "cell_type": "markdown",
   "id": "20871b03",
   "metadata": {},
   "source": [
    "Suppose we don't know what the distribution function (DF) is?  We are not trying to estimate some fixed but unknown parameter $\\theta^*$ for some RV we are assuming to be $Bernoulli(\\theta^*)$, we are trying to estimate the DF itself.  In real life, data does not come neatly labeled \"I am a realisation of a $Bernoulli$ RV\", or \"I am a realisation of an $Exponential$ RV\": an important part of inference and estimation is to make inferences about the DF itself from our observations.   \n",
    "\n",
    "### Observations from some unknown process\n",
    "<img src=\"images/unknownProcessTimesAnim.gif\" width=400>\n",
    "\n",
    "Consider the following non-parametric product experiment:\n",
    "\n",
    "$$X_1, X_2, \\ldots, X_n\\ \\overset{IID}{\\sim} F^* \\in \\{\\text{all DFs}\\}$$\n",
    "\n",
    "We want to produce a point estimate for $F^*$, which is a allowed to be any DF (\"lives in the set of all DFs\"), i.e., $F^* \\in \\{\\text{all DFs}\\}$\n",
    "\n",
    "Crucially, $\\{\\text{all DFs}\\}$, i.e., the set of all distribution functions over $\\mathbb{R}$ is infinite dimensional.\n",
    "\n",
    "<img src=\"images/TwoDFs.png\" width=400>\n",
    "\n",
    "We have already seen an estimate, made using the data, of a distribution function:  the empirical or data-based distribution function (or empirical cumulative distribution function). This can be formalized as the following process of adding indicator functions of the half-lines beginning at the data points $[X_1,+\\infty),[X_2,+\\infty),\\ldots,[X_n,+\\infty)$:\n",
    "\n",
    "$$\\widehat{F}_n (x) = \\frac{1}{n} \\sum_{i=1}^n \\mathbf{1}_{[X_i,+\\infty)}(x)$$\n",
    "\n",
    "\n",
    "where,\n",
    "\n",
    "$$\\mathbf{1}_{[X_i,+\\infty)}(x) := \\begin{cases} & 1 \\quad \\text{ if } X_i \\leq x \\\\ & 0 \\quad \\text{ if }X_i > x \\end{cases}$$\n",
    "\n",
    "Lets take a look at this for an example"
   ]
  },
  {
   "cell_type": "code",
   "execution_count": 1,
   "id": "5e6f33d9",
   "metadata": {},
   "outputs": [
    {
     "data": {
      "text/plain": [
       "array([1, 2, 3, 4], dtype=int32)"
      ]
     },
     "execution_count": 1,
     "metadata": {},
     "output_type": "execute_result"
    }
   ],
   "source": [
    "import numpy as np\n",
    "np.cumsum([1,1,1,1])"
   ]
  },
  {
   "cell_type": "code",
   "execution_count": 2,
   "id": "577240ab",
   "metadata": {},
   "outputs": [
    {
     "name": "stdout",
     "output_type": "stream",
     "text": [
      "[[0.    0.351]\n",
      " [1.    0.743]\n",
      " [2.    0.92 ]\n",
      " [3.    0.985]\n",
      " [4.    1.   ]]\n"
     ]
    },
    {
     "data": {
      "image/png": "[encoded data removed]",
      "text/plain": [
       "<Figure size 432x288 with 1 Axes>"
      ]
     },
     "metadata": {
      "needs_background": "light"
     },
     "output_type": "display_data"
    }
   ],
   "source": [
    "import numpy as np\n",
    "X = np.random.poisson(1,size=1000)\n",
    "from Utils import makeEDF, makeEMF, plotEDF\n",
    "print(makeEDF(X))\n",
    "plotEDF(makeEDF(X))"
   ]
  },
  {
   "cell_type": "markdown",
   "id": "60594fad",
   "metadata": {},
   "source": [
    "## Dvoretsky-Kiefer-Wolfowitz (DKW) Inequality\n",
    "\n",
    "Let $X_1, X_2, \\ldots, X_n \\overset{IID}{\\sim} F^* \\in \\{\\text{all DFs}\\}$\n",
    "\n",
    "and the empirical distribution function (EDF) is $\\widehat{F}_n(x) := \\displaystyle\\frac{1}{n} \\sum_{i=1}^n \\mathbf{1}_{[X_i,+\\infty)}(x)$,\n",
    "\n",
    "then, for any $\\varepsilon > 0$,\n",
    "\n",
    "$$P\\left( \\sup_x { | \\widehat{F}_n(x) - F^*(x) | > \\varepsilon  }\\right) \\leq 2 \\exp(-2n\\varepsilon^2) $$\n",
    "\n",
    "We can use this inequality to get a $1-\\alpha$ confidence band $C_n(x) := \\left[\\underline{C}_n(x), \\overline{C}_n(x)\\right]$ about our point estimate $\\widehat{F}_n$ of our possibly unknown $F^*$ such that the $F^*$ is 'trapped' by the band with probability at least $1-\\varepsilon$.\n",
    "\n",
    "$$\\begin{aligned} \\underline{C}_{\\, n}(x) &=& \\max \\{ \\widehat{F}_n(x)-\\varepsilon_n, 0 \\}, \\notag \\\\ \\overline{C}_{\\, n}(x) &=& \\min \\{ \\widehat{F}_n(x)+\\varepsilon_n, 1 \\}, \\notag \\\\ \\varepsilon_n &=& \\sqrt{ \\frac{1}{2n} \\log \\left( \\frac{2}{\\alpha}\\right)} \\\\ \\end{aligned}$$\n",
    "\n",
    "and\n",
    "\n",
    "$$P\\left(\\underline{C}_n(x) \\leq F^*(x) \\leq \\overline{C}_n(x)\\right) \\geq 1-\\alpha$$"
   ]
  },
  {
   "cell_type": "markdown",
   "id": "11f76a95",
   "metadata": {},
   "source": [
    "# Estimating the density\n",
    "\n",
    "For a discrete random variable, estimating the density (pmf) is as simple as using the empirical pmf"
   ]
  },
  {
   "cell_type": "code",
   "execution_count": 3,
   "id": "bf5933d0",
   "metadata": {},
   "outputs": [
    {
     "name": "stdout",
     "output_type": "stream",
     "text": [
      "[[0.    0.351]\n",
      " [1.    0.392]\n",
      " [2.    0.177]\n",
      " [3.    0.065]\n",
      " [4.    0.015]]\n"
     ]
    },
    {
     "data": {
      "image/png": "[encoded data removed]",
      "text/plain": [
       "<Figure size 432x288 with 1 Axes>"
      ]
     },
     "metadata": {
      "needs_background": "light"
     },
     "output_type": "display_data"
    }
   ],
   "source": [
    "from Utils import plotEMF\n",
    "print(makeEMF(X))\n",
    "plotEMF(makeEMF(X))"
   ]
  },
  {
   "cell_type": "markdown",
   "id": "76f2f4ed",
   "metadata": {},
   "source": [
    "## For a continuous random variable\n",
    "\n",
    "For a continuous random variable we cannot really use the pmf, instead we consider something like a histogram"
   ]
  },
  {
   "cell_type": "code",
   "execution_count": 5,
   "id": "ab79b27a",
   "metadata": {
    "scrolled": false
   },
   "outputs": [
    {
     "data": {
      "image/png": "[encoded data removed]",
      "text/plain": [
       "<Figure size 432x288 with 1 Axes>"
      ]
     },
     "metadata": {
      "needs_background": "light"
     },
     "output_type": "display_data"
    }
   ],
   "source": [
    "import matplotlib.pyplot as plt\n",
    "Y = np.random.normal(size=1000)\n",
    "freq,bins,_ = plt.hist(Y,density=True,bins=50)"
   ]
  },
  {
   "cell_type": "code",
   "execution_count": 6,
   "id": "61567b9f",
   "metadata": {},
   "outputs": [
    {
     "name": "stdout",
     "output_type": "stream",
     "text": [
      "     Bin \t Freq\n",
      "[-3.08,-2.96] \t 0.01\n",
      "[-2.96,-2.84] \t 0.00\n",
      "[-2.84,-2.72] \t 0.01\n",
      "[-2.72,-2.59] \t 0.04\n",
      "[-2.59,-2.47] \t 0.02\n",
      "[-2.47,-2.35] \t 0.01\n",
      "[-2.35,-2.22] \t 0.01\n",
      "[-2.22,-2.10] \t 0.02\n",
      "[-2.10,-1.98] \t 0.04\n",
      "[-1.98,-1.86] \t 0.07\n",
      "[-1.86,-1.73] \t 0.07\n",
      "[-1.73,-1.61] \t 0.10\n",
      "[-1.61,-1.49] \t 0.11\n",
      "[-1.49,-1.36] \t 0.17\n",
      "[-1.36,-1.24] \t 0.15\n",
      "[-1.24,-1.12] \t 0.20\n",
      "[-1.12,-1.00] \t 0.20\n",
      "[-1.00,-0.87] \t 0.27\n",
      "[-0.87,-0.75] \t 0.33\n",
      "[-0.75,-0.63] \t 0.28\n",
      "[-0.63,-0.50] \t 0.30\n",
      "[-0.50,-0.38] \t 0.46\n",
      "[-0.38,-0.26] \t 0.33\n",
      "[-0.26,-0.14] \t 0.33\n",
      "[-0.14,-0.01] \t 0.41\n",
      "[-0.01,0.11] \t 0.39\n",
      "[0.11,0.23] \t 0.46\n",
      "[0.23,0.36] \t 0.28\n",
      "[0.36,0.48] \t 0.33\n",
      "[0.48,0.60] \t 0.37\n",
      "[0.60,0.72] \t 0.37\n",
      "[0.72,0.85] \t 0.27\n",
      "[0.85,0.97] \t 0.26\n",
      "[0.97,1.09] \t 0.20\n",
      "[1.09,1.22] \t 0.24\n",
      "[1.22,1.34] \t 0.21\n",
      "[1.34,1.46] \t 0.16\n",
      "[1.46,1.58] \t 0.19\n",
      "[1.58,1.71] \t 0.08\n",
      "[1.71,1.83] \t 0.11\n",
      "[1.83,1.95] \t 0.07\n",
      "[1.95,2.08] \t 0.06\n",
      "[2.08,2.20] \t 0.05\n",
      "[2.20,2.32] \t 0.02\n",
      "[2.32,2.44] \t 0.02\n",
      "[2.44,2.57] \t 0.01\n",
      "[2.57,2.69] \t 0.02\n",
      "[2.69,2.81] \t 0.03\n",
      "[2.81,2.94] \t 0.02\n",
      "[2.94,3.06] \t 0.02\n"
     ]
    }
   ],
   "source": [
    "print(\"     Bin \\t Freq\")\n",
    "for frq,l_edge,r_edge in zip(freq,bins,bins[1:]):\n",
    "    print(\"[%.2f,%.2f] \\t %.2f\" % (l_edge,r_edge,frq))"
   ]
  },
  {
   "cell_type": "markdown",
   "id": "8bb3b33d",
   "metadata": {},
   "source": [
    "Whenever we want to use a histogram estimator, we need to decide how many bins we are going to need. This is a topic for another day."
   ]
  },
  {
   "cell_type": "markdown",
   "id": "5771c832",
   "metadata": {},
   "source": [
    "# Regression example of risk minimization\n",
    "\n",
    "Consider the following house price data"
   ]
  },
  {
   "cell_type": "code",
   "execution_count": 7,
   "id": "b5c50568",
   "metadata": {},
   "outputs": [],
   "source": [
    "import csv\n",
    "data = []\n",
    "header = []\n",
    "with open('data/portland.csv', mode='r') as f:\n",
    "    reader = csv.reader(f)\n",
    "    header = tuple(next(reader))\n",
    "    for row in reader:\n",
    "        try:\n",
    "            data.append((int(row[0]),int(row[1]),int(row[2])))\n",
    "        except e:\n",
    "            print(e)"
   ]
  },
  {
   "cell_type": "code",
   "execution_count": 8,
   "id": "ca9f60b9",
   "metadata": {},
   "outputs": [
    {
     "name": "stdout",
     "output_type": "stream",
     "text": [
      "('Size of the house (in square feet)', 'Number of bedrooms', 'Price of the house')\n",
      "[(2104, 3, 399900)]\n"
     ]
    }
   ],
   "source": [
    "print(header)\n",
    "print(data[:1])"
   ]
  },
  {
   "cell_type": "markdown",
   "id": "bf12c5e3",
   "metadata": {},
   "source": [
    "Lets think that the data generator $X$ is here the size of the house and the $Y$ is the price of the house."
   ]
  },
  {
   "cell_type": "code",
   "execution_count": 9,
   "id": "563673e8",
   "metadata": {},
   "outputs": [],
   "source": [
    "import numpy as np\n",
    "D = np.array(data)\n",
    "X = D[:,0]\n",
    "Y = D[:,2]"
   ]
  },
  {
   "cell_type": "code",
   "execution_count": 10,
   "id": "b24feb88",
   "metadata": {},
   "outputs": [
    {
     "data": {
      "text/plain": [
       "<matplotlib.collections.PathCollection at 0x1422b2893d0>"
      ]
     },
     "execution_count": 10,
     "metadata": {},
     "output_type": "execute_result"
    },
    {
     "data": {
      "image/png": "[encoded data removed]",
      "text/plain": [
       "<Figure size 432x288 with 1 Axes>"
      ]
     },
     "metadata": {
      "needs_background": "light"
     },
     "output_type": "display_data"
    }
   ],
   "source": [
    "import matplotlib.pyplot as plt\n",
    "plt.scatter(X,Y)"
   ]
  },
  {
   "cell_type": "markdown",
   "id": "71c02274",
   "metadata": {},
   "source": [
    "## Linear regression\n",
    "\n",
    "An example of a learning machine is linear regression with quadratic loss. What we have is essentially\n",
    "\n",
    "* The loss is the quadratic function\n",
    "* We are searching among linear functions, $g_{k,m}(x) = kx+m$.\n",
    "\n",
    "$$\n",
    "    k^\\ast, m^\\ast = \\text{argmin}_{k,m}\\frac{1}{n} \\sum_{i=1}^n (k X_i + m - Y_i)^2\n",
    "$$"
   ]
  },
  {
   "cell_type": "code",
   "execution_count": 11,
   "id": "57743e01",
   "metadata": {},
   "outputs": [],
   "source": [
    "R = lambda a: np.mean(np.power((a[0]*X+a[1]-Y),2)) "
   ]
  },
  {
   "cell_type": "code",
   "execution_count": 12,
   "id": "0eef5416",
   "metadata": {},
   "outputs": [],
   "source": [
    "import scipy.optimize as so"
   ]
  },
  {
   "cell_type": "markdown",
   "id": "75a14d28",
   "metadata": {},
   "source": [
    "We can use scipy to minimize the total loss $L$ above. "
   ]
  },
  {
   "cell_type": "code",
   "execution_count": 13,
   "id": "c1aba668",
   "metadata": {},
   "outputs": [
    {
     "data": {
      "text/plain": [
       " final_simplex: (array([[  134.52528792, 71270.49196559],\n",
       "       [  134.52528791, 71270.49200697],\n",
       "       [  134.52528792, 71270.49201691]]), array([4.11626548e+09, 4.11626548e+09, 4.11626548e+09]))\n",
       "           fun: 4116265480.866082\n",
       "       message: 'Optimization terminated successfully.'\n",
       "          nfev: 330\n",
       "           nit: 174\n",
       "        status: 0\n",
       "       success: True\n",
       "             x: array([  134.52528792, 71270.49196559])"
      ]
     },
     "execution_count": 13,
     "metadata": {},
     "output_type": "execute_result"
    }
   ],
   "source": [
    "result = so.minimize(R,(0,0),method = 'Nelder-Mead')\n",
    "result"
   ]
  },
  {
   "cell_type": "markdown",
   "id": "02a4ab9e",
   "metadata": {},
   "source": [
    "This gives us that the found $k \\approx 135$ and the found $m \\approx 70000$, we can also plot this together with data to see"
   ]
  },
  {
   "cell_type": "code",
   "execution_count": 14,
   "id": "6e00d1be",
   "metadata": {},
   "outputs": [
    {
     "data": {
      "text/plain": [
       "[<matplotlib.lines.Line2D at 0x1422d50b8e0>]"
      ]
     },
     "execution_count": 14,
     "metadata": {},
     "output_type": "execute_result"
    },
    {
     "data": {
      "image/png": "[encoded data removed]",
      "text/plain": [
       "<Figure size 432x288 with 1 Axes>"
      ]
     },
     "metadata": {
      "needs_background": "light"
     },
     "output_type": "display_data"
    }
   ],
   "source": [
    "x_pred = np.linspace(np.min(X),np.max(X),2)\n",
    "y_pred = x_pred*result['x'][0]+result['x'][1]\n",
    "plt.scatter(X,Y)\n",
    "plt.plot(x_pred,y_pred,color='green')"
   ]
  },
  {
   "cell_type": "code",
   "execution_count": null,
   "id": "ab740d63",
   "metadata": {},
   "outputs": [],
   "source": []
  }
 ],
 "metadata": {
  "kernelspec": {
   "display_name": "Python 3 (ipykernel)",
   "language": "python",
   "name": "python3"
  },
  "language_info": {
   "codemirror_mode": {
    "name": "ipython",
    "version": 3
   },
   "file_extension": ".py",
   "mimetype": "text/x-python",
   "name": "python",
   "nbconvert_exporter": "python",
   "pygments_lexer": "ipython3",
   "version": "3.9.12"
  },
  "lx_course_instance": "2022",
  "lx_course_name": "Introduction to Data Science",
  "lx_course_number": "1MS041"
 },
 "nbformat": 4,
 "nbformat_minor": 5
}
