{
 "cells": [
  {
   "cell_type": "markdown",
   "metadata": {
    "deletable": false
   },
   "source": [
    "# Assignment 4 for Course 1MS041\n",
    "Make         sure you pass the `# ... Test` cells and\n",
    " submit your solution notebook in the corresponding assignment on the course website. You can submit multiple times before the deadline         and your highest score will be used."
   ]
  },
  {
   "cell_type": "markdown",
   "metadata": {
    "deletable": false,
    "lx_assignment_number": "4",
    "lx_assignment_type": "ASSIGNMENT",
    "lx_assignment_type2print": "Assignment",
    "lx_problem_cell_type": "PROBLEM",
    "lx_problem_number": "1",
    "lx_problem_points": "24"
   },
   "source": [
    "---\n",
    "## Assignment 4, PROBLEM 1\n",
    "Maximum Points = 24"
   ]
  },
  {
   "cell_type": "markdown",
   "metadata": {
    "deletable": false,
    "lx_assignment_number": "4",
    "lx_assignment_type": "ASSIGNMENT",
    "lx_assignment_type2print": "Assignment",
    "lx_problem_cell_type": "PROBLEM",
    "lx_problem_number": "1",
    "lx_problem_points": "24"
   },
   "source": [
    "\n",
    "This time the assignment only consists of one problem, but we will do a more comprehensive analysis instead.\n",
    "\n",
    "Consider the dataset `mammography.mat` that you can download from [http://odds.cs.stonybrook.edu/mammography-dataset/](http://odds.cs.stonybrook.edu/mammography-dataset/). Below you can find the code to load this file into `X` and `Y`, you just need to put the file in your `data` folder. During mammography the doctor would be looking for something called `calcification`, which is calcium deposits in the breast tissue and is used as an indicator of cancer. In this dataset the `X` corresponds to some measurements, there are 6 features. The `Y` is a 0-1 label where 1 represents calcification and 0 does not.\n",
    "\n",
    "1. [3p] Split the data into three parts, train/test/validation where train is 60% of the data, test is 15% and validation is 25% of the data. Do not do this randomly, I have prepared a shuffling with a fixed seed, this way I can make sure that we all did the same splits. That is [train,test,validation] is the splitting layout.\n",
    "2. [4p] Train a machine learning model on the training data (you are free to choose it yourself). Hint: you could always try `LogisticRegression`, but for it to work well you would need `StandardScaler` and put everything in a `Pipeline`.\n",
    "3. [3p] Use the classification report from `Utils` and compute the intervals for precision-recall etc on the test set with `union_bound correction` with 95% confidence.\n",
    "4. [3p] You are interested in minimizing the average cost of your classifier, but first we must define it:\n",
    "    * If someone is calcified but classified as not, we say it costs 30 **(this is the worst scenario)** \n",
    "    * If someone is not calcified but classified as calcified, we say it costs 5 **(this probably only costs extra investigation)**\n",
    "    * If someone is calcified but classified as calcified, costs 0 **(We did the right thing, no cost)**\n",
    "    * If someone is not calcified but classified as not, costs 0 **(We did the right thing, no cost)**.\n",
    "\n",
    "complete filling the function `cost` to compute the cost of a prediction model under a certain prediction threshold (recall our precision recall lecture and the `predict_proba` function from trained models). What would be the cost of having a model that always classifies someone as not calcified on the test set?\n",
    "\n",
    "5. [4p] Now, we wish to select the threshold of our classifier that minimizes the cost, we do that by checking say 100 evenly spaced proposal thresholds between 0 and 1, and use our testing data to compute the cost.\n",
    "6. [4p] With your newly computed threshold value, compute the cost of putting this model in production by computing the cost using the validation data. Also provide a confidence interval of the cost using Hoeffdings inequality with a 95% confidence.\n",
    "7. [3p] Let $t$ be the threshold you found and $f$ the model you fitted, if we define the random variable\n",
    "$$\n",
    "    C = 30(1-1_{f(X)\\geq t})Y+5(1-Y)1_{f(X) \\geq t}\n",
    "$$\n",
    "then $C$ denotes the cost of a randomly chosen patient. In the above we are estimating $\\mathbb{E}[C]$ using the empirical mean. However, since the number of calcifications in the population is fairly small and our classifier probably has a fairly high precision for the $0$ class, then $C$ should have fairly small variance. Compute the empirical variance of $C$ on the validation set. What would be the confidence interval if we used Bennett's inequality instead of Hoeffding in point 6 but with the computed empirical variance as our guess for the variance?"
   ]
  },
  {
   "cell_type": "code",
   "execution_count": 1,
   "metadata": {
    "deletable": false,
    "lx_assignment_number": "4",
    "lx_assignment_type": "ASSIGNMENT",
    "lx_assignment_type2print": "Assignment",
    "lx_problem_cell_type": "PROBLEM",
    "lx_problem_number": "1",
    "lx_problem_points": "24"
   },
   "outputs": [],
   "source": [
    "import scipy.io as so\n",
    "import numpy as np\n",
    "from sklearn.model_selection import train_test_split\n",
    "data = so.loadmat('data/mammography.mat')\n",
    "\n",
    "np.random.seed(0)\n",
    "shuffle_index = np.arange(0,len(data['X']))\n",
    "np.random.shuffle(shuffle_index)\n",
    "\n",
    "X = data['X'][shuffle_index,:]\n",
    "Y = data['y'][shuffle_index,:].flatten()"
   ]
  },
  {
   "cell_type": "code",
   "execution_count": 2,
   "metadata": {
    "deletable": false,
    "lx_assignment_number": "4",
    "lx_assignment_type": "ASSIGNMENT",
    "lx_assignment_type2print": "Assignment",
    "lx_problem_cell_type": "PROBLEM",
    "lx_problem_number": "1",
    "lx_problem_points": "24"
   },
   "outputs": [],
   "source": [
    "\n",
    "# Part 1\n",
    "\n",
    "# Split the X,Y into three parts, make sure that the sizes are\n",
    "# (6709, 6), (1677, 6), (2797, 6), (6709,), (1677,), (2797,)\n",
    "\n",
    "X_train, X_te, Y_train, Y_te = train_test_split(X,Y, shuffle=False, test_size=0.4)\n",
    "X_test, X_valid, Y_test, Y_valid = train_test_split(X_te, Y_te, shuffle=False, test_size=0.625)"
   ]
  },
  {
   "cell_type": "code",
   "execution_count": 3,
   "metadata": {
    "deletable": false,
    "lx_assignment_number": "4",
    "lx_assignment_type": "ASSIGNMENT",
    "lx_assignment_type2print": "Assignment",
    "lx_problem_cell_type": "PROBLEM",
    "lx_problem_number": "1",
    "lx_problem_points": "24"
   },
   "outputs": [
    {
     "data": {
      "text/plain": [
       "DecisionTreeClassifier(max_depth=3)"
      ]
     },
     "execution_count": 3,
     "metadata": {},
     "output_type": "execute_result"
    }
   ],
   "source": [
    "\n",
    "# Part 2\n",
    "# Use X_train,Y_train to train a model from sklearn. Make sure it has the predict_proba function\n",
    "# for instance LogisticRegression\n",
    "import sklearn.discriminant_analysis as skl_da\n",
    "import sklearn.linear_model as skl_lm\n",
    "from sklearn import tree\n",
    "\n",
    "#model = skl_da.QuadraticDiscriminantAnalysis()\n",
    "#model = skl_lm.LogisticRegression(solver='liblinear')\n",
    "model = tree.DecisionTreeClassifier(max_depth=3)\n",
    "\n",
    "model.fit(X_train, Y_train)"
   ]
  },
  {
   "cell_type": "code",
   "execution_count": 4,
   "metadata": {
    "deletable": false,
    "lx_assignment_number": "4",
    "lx_assignment_type": "ASSIGNMENT",
    "lx_assignment_type2print": "Assignment",
    "lx_problem_cell_type": "PROBLEM",
    "lx_problem_number": "1",
    "lx_problem_points": "24"
   },
   "outputs": [
    {
     "name": "stdout",
     "output_type": "stream",
     "text": [
      "            labels           precision             recall\n",
      "\n",
      "                 0  0.98 : [0.94,1.00] 1.00 : [0.96,1.00]\n",
      "                 1  0.80 : [0.37,1.00] 0.31 : [0.04,0.57]\n",
      "\n",
      "          accuracy                                        0.98 : [0.94,1.00]\n",
      "\n"
     ]
    }
   ],
   "source": [
    "from sklearn.metrics import precision_recall_fscore_support\n",
    "\n",
    "def precision_recall(y_true,\n",
    "    y_pred,\n",
    "    labels=None,alpha=0.01, correction=1):\n",
    "    p = []\n",
    "    r = []\n",
    "    f1 = []\n",
    "    support = []\n",
    "    for label in labels:\n",
    "        y_true_pred_label = y_true[y_pred == label]\n",
    "        precision = np.mean(y_true_pred_label == label)\n",
    "        delta = (1/np.sqrt(len(y_true_pred_label)))*np.sqrt((1/2)*np.log(2*correction/alpha))\n",
    "        p.append(\"%.2f : [%.2f,%.2f]\" % (precision, np.maximum(precision-delta,0),np.minimum(precision+delta,1)))\n",
    "        \n",
    "        y_pred_true_label = y_pred[y_true == label]\n",
    "        recall = np.mean(y_pred_true_label == label)\n",
    "        delta = (1/np.sqrt(len(y_pred_true_label)))*np.sqrt((1/2)*np.log(2*correction/alpha))\n",
    "        r.append(\"%.2f : [%.2f,%.2f]\" % (recall, np.maximum(recall-delta,0),np.minimum(recall+delta,1)))\n",
    "        \n",
    "    return (p,r)\n",
    "\n",
    "def accuracy_interval(y_true,y_pred,alpha=0.01,correction=1):\n",
    "    acc = np.mean(y_true == y_pred)\n",
    "    delta = (1/np.sqrt(len(y_true)))*np.sqrt((1/2)*np.log(2*correction/alpha))\n",
    "    return \"%.2f : [%.2f,%.2f]\" % (acc, np.maximum(acc-delta,0),np.minimum(acc+delta,1))\n",
    "\n",
    "def classification_report_interval(\n",
    "    y_true,\n",
    "    y_pred,\n",
    "    labels=None,\n",
    "    alpha = 0.01,\n",
    "    union_bound_correction=True\n",
    "):\n",
    "    digits = 18\n",
    "    target_names = None\n",
    "    if labels is None:\n",
    "        labels = list(set(y_true).union(set(y_pred)))\n",
    "        labels_given = False\n",
    "    else:\n",
    "        labels = np.asarray(labels)\n",
    "        labels_given = True\n",
    "\n",
    "    target_names = [\"%s\" % l for l in labels]\n",
    "\n",
    "    headers = [\"precision\", \"recall\"]\n",
    "    # compute per-class results without averaging\n",
    "    # Simple correction using the union bound\n",
    "    # We are computing 2 intervals for each label for precision and recall\n",
    "    # In addition we are computing 2 intervals for accuracy\n",
    "    # This is in total 2*n_labels+2\n",
    "    if (union_bound_correction):\n",
    "        correction = 2*len(labels)+2\n",
    "    else:\n",
    "        correction=1\n",
    "    p, r = precision_recall(\n",
    "        y_true,\n",
    "        y_pred,\n",
    "        labels=labels,\n",
    "        alpha=alpha,\n",
    "        correction=correction\n",
    "    )\n",
    "\n",
    "    rows = zip(target_names, p, r)\n",
    "\n",
    "    name_width = max(len(cn) for cn in target_names)\n",
    "    width = max(name_width, digits)\n",
    "    head_fmt = \"{:>{width}s} \" + \" {:>{digits}}\" * len(headers)\n",
    "    report = head_fmt.format(\"labels\", *headers, width=width,digits=digits)\n",
    "    report += \"\\n\\n\"\n",
    "    row_fmt = \"{:>{width}s} \" + \" {:>{digits}s}\" * 2 + \"\\n\"\n",
    "    for row in rows:\n",
    "        report += row_fmt.format(*row, width=width, digits=digits)\n",
    "    row_fmt_acc = \"{:>{width}s} \" + \" {:>{digits}s}\" * 2 + \" {:>{digits}s}\"\"\\n\"\n",
    "    report += \"\\n\"\n",
    "    accuracy = accuracy_interval(y_true,y_pred,alpha=alpha,correction=correction)\n",
    "    report+=row_fmt_acc.format(*(\"accuracy\",\"\",\"\",accuracy),width=width,digits=digits)\n",
    "\n",
    "    return report\n",
    "\n",
    "\n",
    "# Part 3\n",
    "\n",
    "# Each precision and recall should be a tuple, for instance you can write\n",
    "# precision0 = (0.9,0.95)\n",
    "\n",
    "predictions = model.predict(X_test)\n",
    "\n",
    "print(classification_report_interval(Y_test, predictions,union_bound_correction=True, alpha=0.05))\n",
    "\n",
    "precision0 = (0.94,1.00)\n",
    "recall0 = (0.96,1.00)\n",
    "precision1 = (0.37, 1.00)\n",
    "recall1 = (0.04,0.57)\n",
    "\n",
    "# The code below will check that you supply the proper type\n",
    "assert(type(precision0) == tuple)\n",
    "assert(len(precision0) == 2)\n",
    "assert(type(recall0) == tuple)\n",
    "assert(len(recall0) == 2)\n",
    "assert(type(precision1) == tuple)\n",
    "assert(len(precision1) == 2)\n",
    "assert(type(recall1) == tuple)\n",
    "assert(len(recall1) == 2)"
   ]
  },
  {
   "cell_type": "code",
   "execution_count": 5,
   "metadata": {
    "deletable": false,
    "lx_assignment_number": "4",
    "lx_assignment_type": "ASSIGNMENT",
    "lx_assignment_type2print": "Assignment",
    "lx_problem_cell_type": "PROBLEM",
    "lx_problem_number": "1",
    "lx_problem_points": "24"
   },
   "outputs": [],
   "source": [
    "\n",
    "# Part 4\n",
    "\n",
    "def cost(model,threshold,X,Y):\n",
    "    pred_proba = model.predict_proba(X)[:,1]\n",
    "    predictions = (pred_proba >= threshold)*1\n",
    "    \n",
    "    cost = 0\n",
    "    \n",
    "    for i in range(len(Y)):\n",
    "        if (predictions[i] == Y[i]):\n",
    "            cost = cost + 0\n",
    "        elif (predictions[i] == 0):\n",
    "            cost = cost + 30\n",
    "        elif (predictions[i] == 1):\n",
    "            cost = cost + 5\n",
    "            \n",
    "    cost = cost/len(Y)\n",
    "    \n",
    "    # Fill in what is missing to compute the cost and return it\n",
    "    # Note that we are interested in average cost (cost per person)\n",
    "    \n",
    "    return cost"
   ]
  },
  {
   "cell_type": "code",
   "execution_count": 6,
   "metadata": {
    "deletable": false,
    "lx_assignment_number": "4",
    "lx_assignment_type": "ASSIGNMENT",
    "lx_assignment_type2print": "Assignment",
    "lx_problem_cell_type": "PROBLEM",
    "lx_problem_number": "1",
    "lx_problem_points": "24"
   },
   "outputs": [
    {
     "data": {
      "text/plain": [
       "0.6976744186046512"
      ]
     },
     "execution_count": 6,
     "metadata": {},
     "output_type": "execute_result"
    }
   ],
   "source": [
    "\n",
    "# Part 4\n",
    "\n",
    "# Fill in the naive cost of the model that would classify all as non-calcified on the test set\n",
    "\n",
    "naive_cost = cost(model, 1, X_test, Y_test)\n",
    "naive_cost"
   ]
  },
  {
   "cell_type": "code",
   "execution_count": 7,
   "metadata": {
    "deletable": false,
    "lx_assignment_number": "4",
    "lx_assignment_type": "ASSIGNMENT",
    "lx_assignment_type2print": "Assignment",
    "lx_problem_cell_type": "PROBLEM",
    "lx_problem_number": "1",
    "lx_problem_points": "24"
   },
   "outputs": [
    {
     "name": "stdout",
     "output_type": "stream",
     "text": [
      "0.15151515151515152\n",
      "0.4502087060226595\n"
     ]
    }
   ],
   "source": [
    "import math\n",
    "# Part 5\n",
    "\n",
    "thresholds = np.linspace(0,1,num=100)\n",
    "\n",
    "optimal_threshold = math.inf\n",
    "cost_at_optimal_threshold = math.inf\n",
    "\n",
    "for i in range(len(thresholds)):\n",
    "    cost_val = cost(model, thresholds[i], X_test, Y_test)\n",
    "    if (cost_val < cost_at_optimal_threshold):\n",
    "        cost_at_optimal_threshold = cost_val\n",
    "        optimal_threshold = thresholds[i]\n",
    "        \n",
    "print(optimal_threshold)\n",
    "print(cost_at_optimal_threshold)"
   ]
  },
  {
   "cell_type": "code",
   "execution_count": 8,
   "metadata": {
    "deletable": false,
    "lx_assignment_number": "4",
    "lx_assignment_type": "ASSIGNMENT",
    "lx_assignment_type2print": "Assignment",
    "lx_problem_cell_type": "PROBLEM",
    "lx_problem_number": "1",
    "lx_problem_points": "24"
   },
   "outputs": [
    {
     "name": "stdout",
     "output_type": "stream",
     "text": [
      "0.3503754022166607\n",
      "0.3877961555654895\n",
      "0.0331639080701232\n"
     ]
    }
   ],
   "source": [
    "\n",
    "# Part 6\n",
    "\n",
    "cost_at_optimal_threshold_validation = cost(model, 0.15151515151515152 , X_valid , Y_valid)\n",
    "\n",
    "print(cost_at_optimal_threshold_validation)\n",
    "\n",
    "cost_at_optimal_threshold_validation_2 = cost(model, 0.15151515151515152 , X_te , Y_te)\n",
    "print(cost_at_optimal_threshold_validation_2)\n",
    "\n",
    "alpha = 0.05\n",
    "delta = (1/np.sqrt(len(Y_test)))*np.sqrt((1/2)*np.log(2/alpha))\n",
    "print(delta)\n",
    "\n",
    " \n",
    "# Report the cost interval as a tuple cost_interval = (a,b)\n",
    "\n",
    "cost_interval = (0.00,1.12)\n",
    "# The code below will tell you if you filled in the intervals correctly\n",
    "assert(type(cost_interval) == tuple)\n",
    "assert(len(cost_interval) == 2)"
   ]
  },
  {
   "cell_type": "code",
   "execution_count": 9,
   "metadata": {
    "deletable": false,
    "lx_assignment_number": "4",
    "lx_assignment_type": "ASSIGNMENT",
    "lx_assignment_type2print": "Assignment",
    "lx_problem_cell_type": "PROBLEM",
    "lx_problem_number": "1",
    "lx_problem_points": "24"
   },
   "outputs": [
    {
     "name": "stdout",
     "output_type": "stream",
     "text": [
      "9.941591743234143\n"
     ]
    }
   ],
   "source": [
    "def cost(model,threshold,X,Y):\n",
    "    pred_proba = model.predict_proba(X)[:,1]\n",
    "    predictions = (pred_proba >= threshold)*1\n",
    "    \n",
    "    cost = 0\n",
    "    validation_mean = 0.3503754022166607\n",
    "    var =0\n",
    "    \n",
    "    for i in range(len(Y)):\n",
    "        if (predictions[i] == Y[i]):\n",
    "            cost = cost + 0\n",
    "            var = var + math.pow(validation_mean - 0, 2)\n",
    "        elif (predictions[i] == 0):\n",
    "            cost = cost + 30\n",
    "            var = var + math.pow(validation_mean - 30, 2)\n",
    "        elif (predictions[i] == 1):\n",
    "            cost = cost + 5\n",
    "            var = var + math.pow(validation_mean - 5, 2)\n",
    "            \n",
    "    cost = cost/len(Y)\n",
    "    var = var/len(Y)\n",
    "    \n",
    "    print(var)\n",
    "    \n",
    "    # Fill in what is missing to compute the cost and return it\n",
    "    # Note that we are interested in average cost (cost per person)\n",
    "    \n",
    "    return cost\n",
    "# Part 7\n",
    "\n",
    "cost(model, 0.15151515151515152 , X_valid , Y_valid)\n",
    "\n",
    "variance_of_C = 9.941591743234143"
   ]
  },
  {
   "cell_type": "code",
   "execution_count": 10,
   "metadata": {
    "deletable": false,
    "lx_assignment_number": "4",
    "lx_assignment_type": "ASSIGNMENT",
    "lx_assignment_type2print": "Assignment",
    "lx_problem_cell_type": "PROBLEM",
    "lx_problem_number": "1",
    "lx_problem_points": "24"
   },
   "outputs": [
    {
     "name": "stdout",
     "output_type": "stream",
     "text": [
      "Numerical error -1.0651202142497596e-15\n",
      "(0.1757278095265725, 0.5250229949067489)\n"
     ]
    }
   ],
   "source": [
    "import sys\n",
    "sys.path.append(\"..\")\n",
    "\n",
    "from Utils import epsilon_bounded, print_confidence_interval, bennett_epsilon\n",
    "\n",
    "# Part 7\n",
    "\n",
    "b = 30 - 0\n",
    "sigma=np.sqrt(variance_of_C)\n",
    "\n",
    "eb = epsilon_bounded(len(Y_valid), b, 0.05)\n",
    "be = bennett_epsilon(len(Y_valid), b, sigma, 0.05)\n",
    "\n",
    "# A 95% confidence interval of the random variable C using Bennett's inequality\n",
    "# epsilon = bennett_epsilon(len(Y_valid), 5, variance_of_C, 0.05)\n",
    "# interval_of_C = get_confidence_interval(len(Y_valid), epsilon, 0.05)\n",
    "\n",
    "interval_of_C = (0.3503754022166607 - be, 0.3503754022166607 + be)\n",
    "\n",
    "print(interval_of_C)\n",
    "\n",
    "\n",
    "assert(type(interval_of_C) == tuple)\n",
    "assert(len(interval_of_C) == 2)"
   ]
  }
 ],
 "metadata": {
  "kernelspec": {
   "display_name": "Python 3 (ipykernel)",
   "language": "python",
   "name": "python3"
  },
  "language_info": {
   "codemirror_mode": {
    "name": "ipython",
    "version": 3
   },
   "file_extension": ".py",
   "mimetype": "text/x-python",
   "name": "python",
   "nbconvert_exporter": "python",
   "pygments_lexer": "ipython3",
   "version": "3.9.12"
  },
  "lx_assignment_number": 4,
  "lx_course_instance": "2022",
  "lx_course_name": "Introduction to Data Science",
  "lx_course_number": "1MS041"
 },
 "nbformat": 4,
 "nbformat_minor": 4
}
