{
 "cells": [
  {
   "cell_type": "markdown",
   "id": "0ec93b82",
   "metadata": {
    "deletable": false
   },
   "source": [
    "# ReExam 24th of August 2022, 8.00-13.00 for the course 1MS041 (Introduction to Data Science / Introduktion till dataanalys)\n",
    "\n",
    "## Instructions:\n",
    "1. Complete the problems by following instructions.\n",
    "2. When done, submit this file with your solutions saved, following the instruction sheet.\n",
    "\n",
    "This exam has 5 problems each worth 8 points for a total of 40 points, to pass you need\n",
    "15 points.\n",
    "\n",
    "## Some general hints and information:\n",
    "* Some problems are similar to the exam in January but changed.\n",
    "* Try to answer all questions even if you are uncertain.\n",
    "* Comment your code, so that if you get the wrong answer I can understand how you thought\n",
    "this can give you some points even though the code does not run.\n",
    "* Follow the instruction sheet rigorously.\n",
    "* This exam has no anonymous exam ID due to a technical issue, however this does not mean\n",
    "that the exam is not anonymous. The grading system will automatically download all the exams from Studium\n",
    "and it is at this stage that they are anonymized by a randomized ID.\n",
    "* If there are any questions, please ask the exam guards, they will escalate it to me if necessary.\n",
    "* I (Benny) will visit the exam room at around 10:30 to see if there are any questions.\n",
    "\n",
    "## Finally some rules:\n",
    "* You may not communicate with others during the exam, for example:\n",
    "    * You cannot ask for help in Stack-Overflow or other such help forums during the Exam.\n",
    "    * You may not use encrypted communications\n",
    "    * Your on-line and off-line activity is being monitored according to the examination rules.\n",
    "\n",
    "## Good luck!\n"
   ]
  },
  {
   "cell_type": "markdown",
   "id": "d0eb64bc",
   "metadata": {
    "deletable": false,
    "lx_assignment_number": "vB",
    "lx_assignment_type": "EXAM",
    "lx_assignment_type2print": "Exam",
    "lx_problem_cell_type": "PROBLEM",
    "lx_problem_number": "1",
    "lx_problem_points": "8"
   },
   "source": [
    "---\n",
    "## Exam vB, PROBLEM 1\n",
    "Maximum Points = 8"
   ]
  },
  {
   "cell_type": "markdown",
   "id": "7aec718c",
   "metadata": {
    "deletable": false,
    "lx_assignment_number": "vB",
    "lx_assignment_type": "EXAM",
    "lx_assignment_type2print": "Exam",
    "lx_problem_cell_type": "PROBLEM",
    "lx_problem_number": "1",
    "lx_problem_points": "8"
   },
   "source": [
    "\n",
    "## Probability warmup\n",
    "Let's say we have an exam question which consists of $50$ yes/no questions. \n",
    "From past performance of similar students, a randomly chosen student will know the correct answer to $N \\sim \\text{binom}(50,0.8)$ questions. Furthermore, we assume that the student will guess the answer with equal probability to each question they don't know the answer to, i.e. given $N$ we define $Z \\sim \\text{binom}(50-N,1/2)$ as the number of correctly guessed answers. Define $Y = N + Z$, i.e., $Y$ represents the number of total correct answers.\n",
    "\n",
    "We are interested in setting a deterministic threshold $T$, i.e., we would pass a student at threshold $T$ if $Y \\geq T$. Here $T \\in \\{0,1,2,\\ldots,50\\}$.\n",
    "\n",
    "1. [3p] Produce a simulation of $1000$ students. Hint: Simulate $N$ first then simulate $Y \\mid N$ and add the results. Numpy has `numpy.random.binomial` which you can simulate from.\n",
    "2. [3p] For each threshold $T$, produce a simulation as above and estimate the probability that the student *knows* less than $40$ correct answers given that the student passed, i.e., $N < 40$. Put the answer in `problem11_probabilities` as a list.\n",
    "3. [2p] What is the smallest value of $T$ such that if $Y \\geq T$ then we are 90\\% certain that $N \\geq 40$?"
   ]
  },
  {
   "cell_type": "code",
   "execution_count": 192,
   "id": "872084e8",
   "metadata": {
    "deletable": false,
    "lx_assignment_number": "vB",
    "lx_assignment_type": "EXAM",
    "lx_assignment_type2print": "Exam",
    "lx_problem_cell_type": "PROBLEM",
    "lx_problem_number": "1",
    "lx_problem_points": "8"
   },
   "outputs": [
    {
     "data": {
      "text/plain": [
       "array([46, 45, 48, 47, 44, 45, 48, 45, 46, 46, 47, 46, 47, 43, 47, 45, 46,\n",
       "       43, 44, 43, 43, 46, 44, 46, 44, 45, 48, 47, 45, 46, 46, 47, 41, 45,\n",
       "       40, 45, 45, 41, 44, 47, 46, 47, 45, 44, 48, 45, 44, 46, 45, 45, 45,\n",
       "       46, 48, 43, 38, 43, 44, 44, 45, 44, 47, 45, 48, 38, 42, 45, 44, 46,\n",
       "       45, 45, 48, 43, 47, 46, 49, 44, 45, 46, 44, 45, 46, 44, 46, 44, 44,\n",
       "       43, 44, 45, 44, 41, 47, 45, 43, 47, 45, 43, 44, 45, 46, 47, 46, 46,\n",
       "       45, 46, 43, 43, 43, 47, 43, 45, 44, 45, 46, 43, 44, 43, 46, 44, 48,\n",
       "       44, 45, 47, 46, 42, 46, 45, 41, 42, 48, 44, 43, 46, 44, 44, 49, 45,\n",
       "       43, 46, 45, 48, 46, 46, 45, 43, 41, 46, 43, 47, 50, 46, 47, 42, 46,\n",
       "       46, 46, 43, 43, 46, 43, 44, 46, 46, 44, 45, 46, 45, 45, 47, 43, 42,\n",
       "       44, 46, 42, 40, 43, 46, 47, 41, 43, 46, 45, 43, 43, 47, 45, 42, 46,\n",
       "       42, 46, 43, 45, 47, 46, 46, 38, 46, 47, 44, 45, 40, 44, 42, 43, 44,\n",
       "       47, 45, 45, 44, 48, 44, 48, 46, 45, 46, 43, 46, 43, 46, 46, 44, 43,\n",
       "       44, 46, 49, 43, 46, 49, 43, 44, 45, 47, 45, 45, 48, 46, 45, 41, 46,\n",
       "       42, 43, 45, 41, 45, 44, 42, 42, 43, 47, 39, 46, 44, 44, 46, 44, 45,\n",
       "       48, 43, 46, 45, 48, 45, 45, 46, 46, 43, 47, 49, 47, 45, 43, 47, 44,\n",
       "       44, 47, 44, 42, 49, 46, 46, 47, 47, 46, 49, 48, 46, 47, 45, 44, 47,\n",
       "       46, 43, 44, 44, 47, 47, 42, 45, 42, 41, 45, 46, 43, 47, 43, 42, 43,\n",
       "       45, 44, 44, 47, 49, 47, 48, 47, 45, 45, 45, 43, 44, 47, 47, 44, 47,\n",
       "       44, 46, 45, 45, 42, 46, 44, 43, 44, 44, 47, 45, 43, 45, 48, 50, 46,\n",
       "       44, 47, 46, 46, 43, 46, 45, 46, 45, 44, 47, 44, 46, 41, 42, 46, 44,\n",
       "       46, 46, 45, 48, 48, 45, 44, 46, 45, 47, 48, 40, 46, 47, 45, 43, 48,\n",
       "       43, 43, 44, 43, 43, 45, 44, 46, 48, 46, 46, 44, 43, 43, 43, 41, 46,\n",
       "       44, 47, 47, 43, 46, 47, 39, 45, 44, 45, 44, 46, 41, 43, 44, 44, 46,\n",
       "       46, 46, 44, 45, 47, 41, 46, 42, 42, 47, 46, 40, 46, 41, 48, 48, 48,\n",
       "       44, 45, 42, 45, 47, 43, 42, 46, 41, 49, 46, 47, 47, 40, 48, 46, 46,\n",
       "       45, 43, 44, 45, 47, 40, 44, 46, 48, 44, 45, 48, 40, 48, 46, 40, 45,\n",
       "       46, 45, 46, 46, 46, 43, 48, 46, 46, 46, 43, 46, 46, 46, 43, 47, 46,\n",
       "       46, 47, 47, 47, 44, 45, 47, 47, 47, 44, 44, 44, 45, 48, 47, 45, 45,\n",
       "       46, 44, 48, 47, 46, 45, 47, 46, 45, 49, 43, 45, 45, 46, 43, 45, 45,\n",
       "       44, 45, 46, 43, 46, 43, 46, 45, 42, 45, 43, 43, 44, 45, 45, 47, 44,\n",
       "       44, 42, 43, 45, 45, 44, 45, 44, 44, 46, 43, 45, 42, 42, 41, 45, 45,\n",
       "       45, 45, 47, 45, 45, 43, 44, 45, 48, 45, 48, 45, 47, 45, 43, 45, 45,\n",
       "       41, 43, 46, 41, 42, 48, 40, 46, 48, 42, 45, 45, 45, 43, 46, 45, 41,\n",
       "       44, 47, 47, 47, 45, 47, 46, 45, 44, 45, 45, 44, 45, 47, 47, 49, 45,\n",
       "       45, 44, 46, 42, 46, 42, 43, 46, 43, 45, 41, 47, 47, 46, 42, 42, 43,\n",
       "       43, 46, 45, 46, 46, 45, 44, 45, 46, 44, 46, 45, 45, 44, 42, 44, 45,\n",
       "       44, 43, 45, 42, 42, 45, 46, 46, 47, 46, 42, 42, 44, 45, 44, 45, 49,\n",
       "       47, 42, 48, 47, 46, 49, 47, 47, 46, 43, 49, 43, 44, 46, 45, 47, 43,\n",
       "       46, 47, 46, 46, 42, 46, 43, 49, 45, 43, 44, 48, 44, 49, 44, 46, 42,\n",
       "       41, 43, 45, 48, 44, 45, 49, 43, 47, 47, 46, 48, 46, 43, 46, 48, 42,\n",
       "       45, 46, 44, 46, 47, 45, 42, 46, 46, 49, 43, 44, 47, 42, 47, 46, 43,\n",
       "       44, 46, 46, 44, 44, 41, 44, 46, 44, 42, 45, 46, 45, 44, 48, 45, 46,\n",
       "       45, 46, 43, 47, 48, 42, 42, 48, 44, 46, 45, 44, 43, 42, 45, 46, 43,\n",
       "       47, 44, 43, 44, 41, 45, 46, 49, 48, 49, 46, 46, 46, 49, 44, 46, 49,\n",
       "       48, 42, 44, 46, 47, 44, 44, 42, 45, 45, 45, 46, 44, 45, 45, 45, 48,\n",
       "       43, 43, 45, 46, 48, 45, 47, 46, 48, 49, 46, 46, 44, 45, 47, 43, 43,\n",
       "       44, 44, 48, 42, 43, 44, 46, 45, 46, 43, 45, 45, 47, 45, 44, 44, 47,\n",
       "       47, 44, 46, 49, 43, 45, 41, 44, 45, 45, 48, 42, 45, 44, 42, 48, 45,\n",
       "       46, 46, 45, 40, 45, 48, 44, 43, 49, 44, 48, 45, 47, 48, 46, 44, 46,\n",
       "       46, 48, 48, 45, 44, 41, 46, 46, 45, 46, 50, 46, 46, 45, 44, 47, 42,\n",
       "       45, 45, 43, 46, 42, 44, 45, 46, 45, 42, 49, 44, 45, 40, 40, 43, 48,\n",
       "       46, 46, 45, 45, 44, 40, 43, 48, 45, 49, 46, 47, 48, 47, 46, 48, 40,\n",
       "       41, 48, 43, 42, 47, 45, 47, 48, 47, 46, 43, 44, 48, 48, 43, 43, 48,\n",
       "       44, 46, 47, 47, 46, 49, 47, 47, 44, 46, 43, 49, 44, 46, 44, 45, 41,\n",
       "       42, 46, 47, 49, 46, 41, 47, 47, 47, 42, 48, 46, 49, 45, 42, 44, 48,\n",
       "       44, 42, 41, 43, 45, 44, 46, 47, 41, 43, 45, 44, 43, 47, 48, 46, 47,\n",
       "       46, 47, 44, 45, 46, 44, 47, 45, 46, 44, 44, 49, 44, 42, 42, 48, 42,\n",
       "       47, 45, 46, 47, 46, 44, 43, 47, 43, 42, 47, 47, 46, 42])"
      ]
     },
     "execution_count": 192,
     "metadata": {},
     "output_type": "execute_result"
    }
   ],
   "source": [
    "import numpy as np\n",
    "import math\n",
    "# Part 1:\n",
    "N = np.random.binomial(50, 0.8, 1000)\n",
    "Z = np.random.binomial(50 - N, 0.5, 1000)\n",
    "Y = N + Z\n",
    "# Z = np.array([np.random.binomial(50 - n, 0.5, 1)[0] for n in N])\n",
    "problem1_1000_samples = N + Z\n",
    "problem1_1000_samples"
   ]
  },
  {
   "cell_type": "code",
   "execution_count": 199,
   "id": "83fc1ba0",
   "metadata": {
    "deletable": false,
    "lx_assignment_number": "vB",
    "lx_assignment_type": "EXAM",
    "lx_assignment_type2print": "Exam",
    "lx_problem_cell_type": "PROBLEM",
    "lx_problem_number": "1",
    "lx_problem_points": "8"
   },
   "outputs": [
    {
     "data": {
      "text/plain": [
       "[0.424,\n",
       " 0.424,\n",
       " 0.424,\n",
       " 0.424,\n",
       " 0.424,\n",
       " 0.424,\n",
       " 0.424,\n",
       " 0.424,\n",
       " 0.424,\n",
       " 0.424,\n",
       " 0.424,\n",
       " 0.424,\n",
       " 0.424,\n",
       " 0.424,\n",
       " 0.424,\n",
       " 0.424,\n",
       " 0.424,\n",
       " 0.424,\n",
       " 0.424,\n",
       " 0.424,\n",
       " 0.424,\n",
       " 0.424,\n",
       " 0.424,\n",
       " 0.424,\n",
       " 0.424,\n",
       " 0.424,\n",
       " 0.424,\n",
       " 0.424,\n",
       " 0.424,\n",
       " 0.424,\n",
       " 0.424,\n",
       " 0.424,\n",
       " 0.424,\n",
       " 0.424,\n",
       " 0.424,\n",
       " 0.424,\n",
       " 0.424,\n",
       " 0.424,\n",
       " 0.424,\n",
       " 0.4222668004012036,\n",
       " 0.421105527638191,\n",
       " 0.4122448979591837,\n",
       " 0.39473684210526316,\n",
       " 0.36045197740112994,\n",
       " 0.3064935064935065,\n",
       " 0.23424878836833601,\n",
       " 0.18329466357308585,\n",
       " 0.14035087719298245,\n",
       " 0.09433962264150944,\n",
       " 0.11428571428571428,\n",
       " 0.0]"
      ]
     },
     "execution_count": 199,
     "metadata": {},
     "output_type": "execute_result"
    }
   ],
   "source": [
    "\n",
    "# Part 2: \n",
    "# replace XXX to represent P(N < 40) for T = [0,1,2,...,50], i.e. your answer should be a list\n",
    "# of length 51.\n",
    "\n",
    "probs = []\n",
    "for T in range(51):\n",
    "    Y_gte_T = [1 if y >= T else 0 for y in Y]\n",
    "    N_lt_40_GT_Y_gte_T = [1 if n < 40 else 0 for (n,y) in zip(N,Y) if y >= T]\n",
    "    probs.append(np.mean(N_lt_40_GT_Y_gte_T))\n",
    "\n",
    "problem1_probabilities = probs\n",
    "problem1_probabilities"
   ]
  },
  {
   "cell_type": "code",
   "execution_count": 200,
   "id": "c6714d88",
   "metadata": {},
   "outputs": [
    {
     "data": {
      "text/plain": [
       "[0.424,\n",
       " 0.424,\n",
       " 0.424,\n",
       " 0.424,\n",
       " 0.424,\n",
       " 0.424,\n",
       " 0.424,\n",
       " 0.424,\n",
       " 0.424,\n",
       " 0.424,\n",
       " 0.424,\n",
       " 0.424,\n",
       " 0.424,\n",
       " 0.424,\n",
       " 0.424,\n",
       " 0.424,\n",
       " 0.424,\n",
       " 0.424,\n",
       " 0.424,\n",
       " 0.424,\n",
       " 0.424,\n",
       " 0.424,\n",
       " 0.424,\n",
       " 0.424,\n",
       " 0.424,\n",
       " 0.424,\n",
       " 0.424,\n",
       " 0.424,\n",
       " 0.424,\n",
       " 0.424,\n",
       " 0.424,\n",
       " 0.424,\n",
       " 0.424,\n",
       " 0.424,\n",
       " 0.424,\n",
       " 0.424,\n",
       " 0.424,\n",
       " 0.424,\n",
       " 0.424,\n",
       " 0.4222668004012036,\n",
       " 0.4211055276381909,\n",
       " 0.41224489795918373,\n",
       " 0.39473684210526316,\n",
       " 0.36045197740112994,\n",
       " 0.3064935064935065,\n",
       " 0.23424878836833601,\n",
       " 0.18329466357308585,\n",
       " 0.14035087719298245,\n",
       " 0.09433962264150944,\n",
       " 0.11428571428571428,\n",
       " 0.0]"
      ]
     },
     "execution_count": 200,
     "metadata": {},
     "output_type": "execute_result"
    }
   ],
   "source": [
    "probs = []\n",
    "for T in range(51):\n",
    "    Y_gte_T = [1 if y >= T else 0 for y in Y]\n",
    "    N_lt_40 = [1 if n < 40 else 0 for (n,y) in zip(N,Y)]\n",
    "    Y_gte_T_INT_N_lt_40 = [a*b for (a,b) in zip(N_lt_40,Y_gte_T)]\n",
    "    probs.append(np.mean(Y_gte_T_INT_N_lt_40)/np.mean(Y_gte_T))\n",
    "\n",
    "problem1_probabilities = probs\n",
    "problem1_probabilities"
   ]
  },
  {
   "cell_type": "code",
   "execution_count": null,
   "id": "bbd49def",
   "metadata": {
    "deletable": false,
    "lx_assignment_number": "vB",
    "lx_assignment_type": "EXAM",
    "lx_assignment_type2print": "Exam",
    "lx_problem_cell_type": "PROBLEM",
    "lx_problem_number": "1",
    "lx_problem_points": "8"
   },
   "outputs": [],
   "source": [
    "\n",
    "# Part 3: Give an integer between 0 and 50 which is the answer to 2.\n",
    "problem1_T = XXX"
   ]
  },
  {
   "cell_type": "markdown",
   "id": "259626d8",
   "metadata": {
    "deletable": false,
    "lx_assignment_number": "vB",
    "lx_assignment_type": "EXAM",
    "lx_assignment_type2print": "Exam",
    "lx_problem_cell_type": "PROBLEM",
    "lx_problem_number": "2",
    "lx_problem_points": "8"
   },
   "source": [
    "---\n",
    "## Exam vB, PROBLEM 2\n",
    "Maximum Points = 8"
   ]
  },
  {
   "cell_type": "markdown",
   "id": "a642f6a6",
   "metadata": {
    "deletable": false,
    "lx_assignment_number": "vB",
    "lx_assignment_type": "EXAM",
    "lx_assignment_type2print": "Exam",
    "lx_problem_cell_type": "PROBLEM",
    "lx_problem_number": "2",
    "lx_problem_points": "8"
   },
   "source": [
    "\n",
    "In many areas of data science and machine learning we need to produce random samples in different ways. This can be done to compute difficult integrals or validate algorithms. \n",
    "\n",
    "1. [2p] Produce 1000 samples from the distribution below using inversion sampling\n",
    "$$\n",
    "    F[x] = \n",
    "    \\begin{cases}\n",
    "        0, & x \\leq 0 \\\\\n",
    "        \\sin(x), & 0 < x < \\pi/2 \\\\\n",
    "        1, & x \\geq \\pi/2\n",
    "    \\end{cases}\n",
    "$$\n",
    "and show your result with a histogram \"You can use sagemath function `histogram`, or `matplotlib.pyplot` `hist`\". Also what is the true density? Provide a plot of the true density between 0 and $\\pi/2$.\n",
    "2. [3p] Consider a random variable $X \\sim F$ sampled from distribution $F$. Your goal is to estimate $E[X]$. Do this by producing 1000 different experiments, each sampling 1000 samples from $X$ and compute the empirical mean. Provide the $0.025$ and the $0.975$ quantile of the experiments.\n",
    "3. [3p] Use Hoeffdings inequality to produce a 95% confidence interval for the estimated mean above?"
   ]
  },
  {
   "cell_type": "code",
   "execution_count": 133,
   "id": "ed289d6c",
   "metadata": {
    "deletable": false,
    "lx_assignment_number": "vB",
    "lx_assignment_type": "EXAM",
    "lx_assignment_type2print": "Exam",
    "lx_problem_cell_type": "PROBLEM",
    "lx_problem_number": "2",
    "lx_problem_points": "8"
   },
   "outputs": [],
   "source": [
    "import math\n",
    "import matplotlib.pyplot as plt\n",
    "from Utils import makeEMF, plotEMF, makeEDF, plotEDF\n",
    "# put your samples in the variable samples\n",
    "\n",
    "def generator(size = 1000):\n",
    "    uniform = np.random.uniform(0,1, size = size)\n",
    "    samples = [math.asin(u) for u in uniform]\n",
    "    return samples\n",
    "\n",
    "samples = generator(1000)\n"
   ]
  },
  {
   "cell_type": "code",
   "execution_count": 158,
   "id": "254c79f4",
   "metadata": {},
   "outputs": [
    {
     "data": {
      "image/png": "[encoded data removed]",
      "text/plain": [
       "<Figure size 640x480 with 1 Axes>"
      ]
     },
     "metadata": {},
     "output_type": "display_data"
    }
   ],
   "source": [
    "plt.hist(samples)\n",
    "plt.show()"
   ]
  },
  {
   "cell_type": "code",
   "execution_count": 163,
   "id": "73b004ab",
   "metadata": {},
   "outputs": [
    {
     "data": {
      "image/png": "[encoded data removed]",
      "text/plain": [
       "<Figure size 640x480 with 1 Axes>"
      ]
     },
     "metadata": {},
     "output_type": "display_data"
    }
   ],
   "source": [
    "def draw_true_mass():\n",
    "    X = np.linspace(0, np.pi/2, 1000)\n",
    "    Y = [math.sin(x) for x in X]\n",
    "    \n",
    "    plt.scatter(X, Y)\n",
    "#     plt.hist(Y)\n",
    "    plt.show()\n",
    "    \n",
    "draw_true_mass()"
   ]
  },
  {
   "cell_type": "code",
   "execution_count": 151,
   "id": "474d50da",
   "metadata": {
    "deletable": false,
    "lx_assignment_number": "vB",
    "lx_assignment_type": "EXAM",
    "lx_assignment_type2print": "Exam",
    "lx_problem_cell_type": "PROBLEM",
    "lx_problem_number": "2",
    "lx_problem_points": "8"
   },
   "outputs": [],
   "source": [
    "# Produce 1000 experiments, in which each experiment you draw\n",
    "# 1000 samples from F. Store the value of the empirical mean of each\n",
    "# experiment and compute the 0.025 and the 0.975 quantiles\n",
    "means = [np.mean([generator(1000)]) for i in range(1000)] # the computed empirical means, should be a list of length 1000\n",
    "means.sort()\n",
    "quantile_0025 = means[24] # the 0.025 quantile\n",
    "quantile_0975 = means[974] # the 0.975 quantile"
   ]
  },
  {
   "cell_type": "code",
   "execution_count": 157,
   "id": "38f061fa",
   "metadata": {
    "deletable": false,
    "lx_assignment_number": "vB",
    "lx_assignment_type": "EXAM",
    "lx_assignment_type2print": "Exam",
    "lx_problem_cell_type": "PROBLEM",
    "lx_problem_number": "2",
    "lx_problem_points": "8"
   },
   "outputs": [
    {
     "name": "stdout",
     "output_type": "stream",
     "text": [
      "Confidence interval around the mean is [0.53,0.61]\n"
     ]
    }
   ],
   "source": [
    "# Put your interval in the form\n",
    "eps = np.sqrt((1/(2*1000))*np.log(2/0.05))\n",
    "\n",
    "l_edge = np.mean(means) - eps # The left edge of the interval\n",
    "r_edge = np.mean(means) + eps # The right edge of the interval\n",
    "print(\"Confidence interval around the mean is [%.2f,%.2f]\" % (l_edge,r_edge))\n"
   ]
  },
  {
   "cell_type": "markdown",
   "id": "d7a07409",
   "metadata": {
    "deletable": false,
    "lx_assignment_number": "vB",
    "lx_assignment_type": "EXAM",
    "lx_assignment_type2print": "Exam",
    "lx_problem_cell_type": "PROBLEM",
    "lx_problem_number": "3",
    "lx_problem_points": "8"
   },
   "source": [
    "---\n",
    "## Exam vB, PROBLEM 3\n",
    "Maximum Points = 8"
   ]
  },
  {
   "cell_type": "markdown",
   "id": "5bad853a",
   "metadata": {
    "deletable": false,
    "lx_assignment_number": "vB",
    "lx_assignment_type": "EXAM",
    "lx_assignment_type2print": "Exam",
    "lx_problem_cell_type": "PROBLEM",
    "lx_problem_number": "3",
    "lx_problem_points": "8"
   },
   "source": [
    "\n",
    "## Concentration of measure\n",
    "\n",
    "As you recall, we said that concentration of measure was simply the phenomenon where we expect that the probability of a large deviation of some quantity becoming smaller as we observe more samples: [8/22 points per correct answer]\n",
    "\n",
    "1. Which of the following will exponentially concentrate, i.e. for some $C_1,C_2,C_3,C_4 $ \n",
    "$$\n",
    "    P(Z - \\mathbb{E}[Z] \\geq \\epsilon) \\leq C_1 e^{-C_2 n \\epsilon^2} \\wedge C_3 e^{-C_4 n (\\epsilon+1)} \\enspace .\n",
    "$$\n",
    "\n",
    "    1. The empirical mean of i.i.d. sub-Gaussian random variables?\n",
    "    2. The empirical mean of i.i.d. sub-Exponential random variables?\n",
    "    3. The empirical mean of i.i.d. bounded random variables?\n",
    "    4. The empirical variance of i.i.d. bounded random variables?\n",
    "    5. The empirical mean of i.i.d. random variables with finite variance?\n",
    "    6. The empirical variance of i.i.d. random variables with finite variance?\n",
    "    7. The empirical variance of i.i.d. sub-Gaussian random variables?\n",
    "    8. The empirical third moment of i.i.d. bounded random variables?\n",
    "    9. The empirical fourth moment of i.i.d. sub-Gaussian random variables?\n",
    "    10. The empirical mean of i.i.d. deterministic random variables?\n",
    "    11. The empirical tenth moment of i.i.d. Bernoulli random variables?\n",
    "\n",
    "2. Which of the above will concentrate in the weaker sense, that for some $C_1$\n",
    "$$\n",
    "    P(Z - \\mathbb{E}[Z] \\geq \\epsilon) \\leq \\frac{C_1}{n \\epsilon^2}?\n",
    "$$"
   ]
  },
  {
   "cell_type": "code",
   "execution_count": null,
   "id": "fc4d7066",
   "metadata": {
    "deletable": false,
    "lx_assignment_number": "vB",
    "lx_assignment_type": "EXAM",
    "lx_assignment_type2print": "Exam",
    "lx_problem_cell_type": "PROBLEM",
    "lx_problem_number": "3",
    "lx_problem_points": "8"
   },
   "outputs": [],
   "source": [
    "\n",
    "# Answers to part 1, which of the alternatives exponentially concentrate, answer as a list\n",
    "# i.e. [1,4,5] that is example 1, 4, and 5 concentrate\n",
    "problem3_answer_1 = [XXX]"
   ]
  },
  {
   "cell_type": "code",
   "execution_count": null,
   "id": "a7ba25d1",
   "metadata": {
    "deletable": false,
    "lx_assignment_number": "vB",
    "lx_assignment_type": "EXAM",
    "lx_assignment_type2print": "Exam",
    "lx_problem_cell_type": "PROBLEM",
    "lx_problem_number": "3",
    "lx_problem_points": "8"
   },
   "outputs": [],
   "source": [
    "\n",
    "# Answers to part 2, which of the alternatives concentrate in the weaker sense, answer as a list\n",
    "# i.e. [1,4,5] that is example 1, 4, and 5 concentrate\n",
    "problem3_answer_2 = [XXX]"
   ]
  },
  {
   "cell_type": "markdown",
   "id": "3bd58e84",
   "metadata": {
    "deletable": false,
    "lx_assignment_number": "vB",
    "lx_assignment_type": "EXAM",
    "lx_assignment_type2print": "Exam",
    "lx_problem_cell_type": "PROBLEM",
    "lx_problem_number": "4",
    "lx_problem_points": "8"
   },
   "source": [
    "---\n",
    "## Exam vB, PROBLEM 4\n",
    "Maximum Points = 8"
   ]
  },
  {
   "cell_type": "markdown",
   "id": "395b774f",
   "metadata": {
    "deletable": false,
    "lx_assignment_number": "vB",
    "lx_assignment_type": "EXAM",
    "lx_assignment_type2print": "Exam",
    "lx_problem_cell_type": "PROBLEM",
    "lx_problem_number": "4",
    "lx_problem_points": "8"
   },
   "source": [
    "\n",
    "In this problem you will be working with a text file `a_sequence.txt`, found in the `data` folder. This contains a sequence of numbers that are observations of a Markov chain. The goal of this exercise is to analyze this sequence in different ways.\n",
    "\n",
    "1. [2p] Take the file `a_sequence.txt` and load it as a list of integers. Use bash or something to figure out how to parse the file.\n",
    "2. [2p] Define a Markov chain from this list of integers\n",
    "    1. What are the states?\n",
    "    2. How many states are there?\n",
    "3. [2p] Estimate the transition probability of going from state 42 to state 16?\n",
    "4. [2p] Find the transition matrix $P$ and compute the matrix power $P^{10} v$ where $v = (1,0,\\ldots,0)$."
   ]
  },
  {
   "cell_type": "code",
   "execution_count": 2,
   "id": "6153c828",
   "metadata": {
    "deletable": false,
    "lx_assignment_number": "vB",
    "lx_assignment_type": "EXAM",
    "lx_assignment_type2print": "Exam",
    "lx_problem_cell_type": "PROBLEM",
    "lx_problem_number": "4",
    "lx_problem_points": "8"
   },
   "outputs": [],
   "source": [
    "with open('data/a_sequence.txt') as f:\n",
    "    contents = f.read()\n",
    "    # print(contents)\n",
    "# Read the file a_sequence.txt and load it as a list of integers. \n",
    "# Put your result in the variable \"numbers\"\n",
    "\n",
    "numbers = [int(text) for text in contents.split(' ')]"
   ]
  },
  {
   "cell_type": "code",
   "execution_count": 87,
   "id": "df7724d4",
   "metadata": {
    "deletable": false,
    "lx_assignment_number": "vB",
    "lx_assignment_type": "EXAM",
    "lx_assignment_type2print": "Exam",
    "lx_problem_cell_type": "PROBLEM",
    "lx_problem_number": "4",
    "lx_problem_points": "8"
   },
   "outputs": [],
   "source": [
    "\n",
    "# Construct a Markov chain of this list of integers, that is. \n",
    "# EXPLAIN in text what are the states are and what \n",
    "# the transition probabilities mean.\n",
    "\n",
    "#---------Put your explanation between the lines-------------\n",
    "\n",
    "#------------------------------------------------------------"
   ]
  },
  {
   "cell_type": "code",
   "execution_count": 3,
   "id": "4c06adc8",
   "metadata": {
    "deletable": false,
    "lx_assignment_number": "vB",
    "lx_assignment_type": "EXAM",
    "lx_assignment_type2print": "Exam",
    "lx_problem_cell_type": "PROBLEM",
    "lx_problem_number": "4",
    "lx_problem_points": "8"
   },
   "outputs": [],
   "source": [
    "# put the number of states in the variable n_states\n",
    "\n",
    "n_states = len(set(numbers))\n",
    "\n",
    "# Now fill in the states, stored as a sorted list of integers\n",
    "states = [number for number in set(numbers)]"
   ]
  },
  {
   "cell_type": "code",
   "execution_count": null,
   "id": "bdff38d7",
   "metadata": {
    "deletable": false,
    "lx_assignment_number": "vB",
    "lx_assignment_type": "EXAM",
    "lx_assignment_type2print": "Exam",
    "lx_problem_cell_type": "PROBLEM",
    "lx_problem_number": "4",
    "lx_problem_points": "8"
   },
   "outputs": [],
   "source": [
    "# Estimate the transition probability of going from $42$ to $16$. \n",
    "# You can use the below function if you want"
   ]
  },
  {
   "cell_type": "code",
   "execution_count": 4,
   "id": "cb2729a1",
   "metadata": {
    "deletable": false,
    "lx_assignment_number": "vB",
    "lx_assignment_type": "EXAM",
    "lx_assignment_type2print": "Exam",
    "lx_problem_cell_type": "PROBLEM",
    "lx_problem_number": "4",
    "lx_problem_points": "8"
   },
   "outputs": [],
   "source": [
    "def makeFreqDict(myDataSeq, one = int(1)):\n",
    "    '''Make a frequency mapping out of a sequence of data - list, array, str.\n",
    "\n",
    "    Param myDataList, a list of data.\n",
    "    Return a dictionary mapping each unique data value to its frequency count.'''\n",
    "\n",
    "    freqDict = {} # start with an empty dictionary\n",
    "\n",
    "    for res in myDataSeq:\n",
    "\n",
    "        if res in freqDict: # the data value already exists as a key\n",
    "                freqDict[res] = freqDict[res] + one #int(1) # add 1 to the count\n",
    "        else: # the data value does not exist as a key value\n",
    "            # add a new key-value pair for this new data value, frequency 1\n",
    "            freqDict[res] = one\n",
    "\n",
    "    return freqDict # return the dictionary created"
   ]
  },
  {
   "cell_type": "code",
   "execution_count": 6,
   "id": "f16b876f",
   "metadata": {
    "deletable": false,
    "lx_assignment_number": "vB",
    "lx_assignment_type": "EXAM",
    "lx_assignment_type2print": "Exam",
    "lx_problem_cell_type": "PROBLEM",
    "lx_problem_number": "4",
    "lx_problem_points": "8"
   },
   "outputs": [],
   "source": [
    "import numpy as np\n",
    "# Put your answer here for the transition probability\n",
    "transition_pairs = [(numbers[i], numbers[i+1]) for i in range(len(numbers)-1)]\n",
    "\n",
    "# transition_frequencies\n",
    "transition_frequencies = makeFreqDict(transition_pairs)\n",
    "# count of total transitions from 42\n",
    "transitions_from_42 = np.sum([count for (key, count) in transition_frequencies.items() if key[0] == 42]) # Output = 100\n",
    "\n",
    "transition_probability = transition_frequencies[(42, 16)] / transitions_from_42 # Output = 0.04"
   ]
  },
  {
   "cell_type": "code",
   "execution_count": 8,
   "id": "8e025a19",
   "metadata": {
    "deletable": false,
    "lx_assignment_number": "vB",
    "lx_assignment_type": "EXAM",
    "lx_assignment_type2print": "Exam",
    "lx_problem_cell_type": "PROBLEM",
    "lx_problem_number": "4",
    "lx_problem_points": "8",
    "scrolled": true
   },
   "outputs": [
    {
     "data": {
      "text/plain": [
       "array([0.01090219, 0.00870086, 0.01130398, 0.01150096, 0.01040217,\n",
       "       0.01020238, 0.01080124, 0.00890122, 0.01230396, 0.00869959,\n",
       "       0.00999907, 0.00980222, 0.01030231, 0.01020024, 0.01050064,\n",
       "       0.01010134, 0.00950096, 0.00990065, 0.01029914, 0.01050102,\n",
       "       0.01060217, 0.01090071, 0.01010325, 0.00850094, 0.0101012 ,\n",
       "       0.01330594, 0.00910326, 0.00820096, 0.00910028, 0.01070475,\n",
       "       0.01060126, 0.00920087, 0.01079943, 0.01000256, 0.00980092,\n",
       "       0.00909809, 0.00989842, 0.00870104, 0.01000019, 0.01180224,\n",
       "       0.0108012 , 0.01189942, 0.01000119, 0.00780204, 0.00970036,\n",
       "       0.00970096, 0.01049837, 0.00990153, 0.00980096, 0.01130186,\n",
       "       0.00940092, 0.00910093, 0.01050136, 0.0108013 , 0.00929915,\n",
       "       0.01010007, 0.00999742, 0.01089994, 0.008802  , 0.01060105,\n",
       "       0.0077992 , 0.00870081, 0.00899938, 0.0090972 , 0.01090139,\n",
       "       0.00850175, 0.01059822, 0.00970002, 0.00990037, 0.00970123,\n",
       "       0.01080122, 0.00909941, 0.01010061, 0.01030441, 0.01230005,\n",
       "       0.01050202, 0.00900209, 0.00949951, 0.01039649, 0.00840112,\n",
       "       0.00879992, 0.00990228, 0.01010568, 0.01020178, 0.00820208,\n",
       "       0.01030141, 0.01120148, 0.00869906, 0.0096009 , 0.00990213,\n",
       "       0.01069926, 0.01040011, 0.01050108, 0.01119992, 0.00980005,\n",
       "       0.01200435, 0.00810111, 0.01040493, 0.01139833, 0.008001  ])"
      ]
     },
     "execution_count": 8,
     "metadata": {},
     "output_type": "execute_result"
    }
   ],
   "source": [
    "# Fill in the transition matrix P as a numpy array of \n",
    "# shape (n_states x n_states)\n",
    "# Make sure it is a transition matrix by checking the column sum\n",
    "P = np.zeros([n_states, n_states])\n",
    "\n",
    "for i in range(n_states):\n",
    "    for j in range(n_states):\n",
    "        try:\n",
    "            P[i,j] = transition_frequencies[(i, j)] / np.sum([count for (key, count) in transition_frequencies.items() if key[0] == i])\n",
    "        except KeyError:\n",
    "            P[i,j] = 0\n",
    "            \n",
    "# If our initial vector is\n",
    "v = np.zeros(n_states)\n",
    "v[0] = 1\n",
    "\n",
    "# What is P^10 v\n",
    "P_10 = P\n",
    "for power in range(2,11):\n",
    "    P_10 = np.matmul(P_10,P)\n",
    "    \n",
    "steady_state_v = np.matmul(v, P_10)\n",
    "steady_state_v"
   ]
  },
  {
   "cell_type": "markdown",
   "id": "ac798d80",
   "metadata": {
    "deletable": false,
    "lx_assignment_number": "vB",
    "lx_assignment_type": "EXAM",
    "lx_assignment_type2print": "Exam",
    "lx_problem_cell_type": "PROBLEM",
    "lx_problem_number": "5",
    "lx_problem_points": "8"
   },
   "source": [
    "---\n",
    "## Exam vB, PROBLEM 5\n",
    "Maximum Points = 8"
   ]
  },
  {
   "cell_type": "markdown",
   "id": "15411b17",
   "metadata": {
    "deletable": false,
    "lx_assignment_number": "vB",
    "lx_assignment_type": "EXAM",
    "lx_assignment_type2print": "Exam",
    "lx_problem_cell_type": "PROBLEM",
    "lx_problem_number": "5",
    "lx_problem_points": "8"
   },
   "source": [
    "\n",
    "## SMS spam filtering [8p]\n",
    "\n",
    "In the following problem we will explore SMS spam texts. The dataset is the `SMS Spam Collection Dataset` and we have provided for you a way to load the data. If you run the appropriate cell below, the result will be in the `spam_no_spam` variable. The result is a `list` of `tuples` with the first position in the tuple being the SMS text and the second being a flag `0 = not spam` and `1 = spam`.\n",
    "\n",
    "1. [3p] Let $X$ be the random variable that represents each SMS text (an entry in the list), and let $Y$ represent whether text is spam or not i.e. $Y \\in \\{0,1\\}$. Thus $\\mathbb{P}(Y = 1)$ is the probability that we get a spam. The goal is to estimate:\n",
    "$$\n",
    "    \\mathbb{P}(Y = 1 | \\text{\"free\" or \"prize\" is in } X) \\enspace .\n",
    "$$\n",
    "That is, the probability that the SMS is spam given that \"free\" or \"prize\" occurs in the SMS. (This is precision)\n",
    "Hint: it is good to remove the upper/lower case of words so that we can also find \"Free\" and \"Prize\"; this can be done with `text.lower()` if `text` a string.\n",
    "2. [3p] Estimate the probability that the word \"free\" or \"prize\" is in the text given that it is spam. (This is recall) I.e. estimate\n",
    "$$\n",
    "    \\mathbb{P}(\\text{\"free\" or \"prize\" is in } X \\mid Y = 1) \\enspace .\n",
    "$$\n",
    "3. [2p] Provide a \"90\\%\" interval of confidence around the true probability from **part 1**. I.e. use the Hoeffding inequality to obtain for your estimate $\\hat P$. Find $l > 0$ such that the following holds:\n",
    "$$\n",
    "    \\mathbb{P}(\\hat P - l \\leq \\mathbb{E}[\\hat P] \\leq \\hat P + l) \\geq 0.9 \\enspace .\n",
    "$$"
   ]
  },
  {
   "cell_type": "code",
   "execution_count": 15,
   "id": "3ad16ee3",
   "metadata": {
    "deletable": false,
    "lx_assignment_number": "vB",
    "lx_assignment_type": "EXAM",
    "lx_assignment_type2print": "Exam",
    "lx_problem_cell_type": "PROBLEM",
    "lx_problem_number": "5",
    "lx_problem_points": "8"
   },
   "outputs": [],
   "source": [
    "\n",
    "# Run this cell to get the SMS text data\n",
    "import numpy as np\n",
    "from exam_extras import load_sms\n",
    "spam_no_spam = load_sms()"
   ]
  },
  {
   "cell_type": "code",
   "execution_count": 16,
   "id": "25454a40",
   "metadata": {
    "deletable": false,
    "lx_assignment_number": "vB",
    "lx_assignment_type": "EXAM",
    "lx_assignment_type2print": "Exam",
    "lx_problem_cell_type": "PROBLEM",
    "lx_problem_number": "5",
    "lx_problem_points": "8"
   },
   "outputs": [
    {
     "data": {
      "text/plain": [
       "0.812"
      ]
     },
     "execution_count": 16,
     "metadata": {},
     "output_type": "execute_result"
    }
   ],
   "source": [
    "Y_obs = [y for (x,y) in spam_no_spam]\n",
    "\n",
    "interesting_words=set(['free','prize'])\n",
    "TF10 = {True: 1, False: 0}\n",
    "Z_obs = [TF10[not interesting_words.isdisjoint([word.lower() for word in line[0].split(' ')])] for line in spam_no_spam]\n",
    "\n",
    "# fill in the estimate for part 1 here (should be a number between 0 and 1)\n",
    "problem5_hatP = np.mean([y for (y,z) in zip(Y_obs, Z_obs) if z == 1])\n",
    "problem5_hatP"
   ]
  },
  {
   "cell_type": "code",
   "execution_count": 17,
   "id": "e9b2aa45",
   "metadata": {
    "deletable": false,
    "lx_assignment_number": "vB",
    "lx_assignment_type": "EXAM",
    "lx_assignment_type2print": "Exam",
    "lx_problem_cell_type": "PROBLEM",
    "lx_problem_number": "5",
    "lx_problem_points": "8"
   },
   "outputs": [
    {
     "data": {
      "text/plain": [
       "0.2717536813922356"
      ]
     },
     "execution_count": 17,
     "metadata": {},
     "output_type": "execute_result"
    }
   ],
   "source": [
    "# ℙ(\"free\" or \"prize\" is in 𝑋∣𝑌=1)\n",
    "# fill in the estimate for hatP for the double free question in part 2 here (should be a number between 0 and 1)\n",
    "problem5_hatP2 = np.mean([z for (y,z) in zip(Y_obs, Z_obs) if y == 1])\n",
    "problem5_hatP2"
   ]
  },
  {
   "cell_type": "code",
   "execution_count": 18,
   "id": "7b097607",
   "metadata": {
    "deletable": false,
    "lx_assignment_number": "vB",
    "lx_assignment_type": "EXAM",
    "lx_assignment_type2print": "Exam",
    "lx_problem_cell_type": "PROBLEM",
    "lx_problem_number": "5",
    "lx_problem_points": "8"
   },
   "outputs": [
    {
     "data": {
      "text/plain": [
       "0.07740455120409899"
      ]
     },
     "execution_count": 18,
     "metadata": {},
     "output_type": "execute_result"
    }
   ],
   "source": [
    "# fill in the calculated l from part 3 here\n",
    "problem5_l = np.sqrt((1/(2*np.sum(Z_obs)))*np.log(2/0.1))\n",
    "problem5_l"
   ]
  }
 ],
 "metadata": {
  "kernelspec": {
   "display_name": "Python 3 (ipykernel)",
   "language": "python",
   "name": "python3"
  },
  "language_info": {
   "codemirror_mode": {
    "name": "ipython",
    "version": 3
   },
   "file_extension": ".py",
   "mimetype": "text/x-python",
   "name": "python",
   "nbconvert_exporter": "python",
   "pygments_lexer": "ipython3",
   "version": "3.9.12"
  },
  "lx_assignment_number": "vB",
  "lx_course_instance": "2021",
  "lx_course_name": "Introduction to Data Science: A Comp-Math-Stat Approach",
  "lx_course_number": "1MS041",
  "vscode": {
   "interpreter": {
    "hash": "7c15b10ab1573516f5b110d1ec5a6cdd301921bf6293fc77ccc4498a93ca5d7e"
   }
  }
 },
 "nbformat": 4,
 "nbformat_minor": 5
}
